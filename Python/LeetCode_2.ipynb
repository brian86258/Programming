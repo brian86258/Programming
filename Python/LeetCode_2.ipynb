{
 "cells": [
  {
   "cell_type": "markdown",
   "id": "mexican-insert",
   "metadata": {},
   "source": [
    "# 169. Majority Element\n",
    "Given an array nums of size n, return the majority element."
   ]
  },
  {
   "cell_type": "code",
   "execution_count": 35,
   "id": "married-family",
   "metadata": {},
   "outputs": [],
   "source": [
    "def majorityElement(nums):\n",
    "    from collections import defaultdict\n",
    "    count_dict = defaultdict(int)\n",
    "    for n in nums:\n",
    "        count_dict[n] +=1\n",
    "#     return max(count_dict, key= count_dict.get)\n",
    "        \n",
    "#     return count_dict\n",
    "    \n",
    "    "
   ]
  },
  {
   "cell_type": "code",
   "execution_count": 48,
   "id": "contemporary-picking",
   "metadata": {},
   "outputs": [],
   "source": [
    "def majorityElement_Moore(nums):\n",
    "    candidate = nums[0]\n",
    "    counter = 0\n",
    "    \n",
    "    for n in nums:\n",
    "        if counter ==0:\n",
    "            candidate = n\n",
    "        \n",
    "        if n == candidate:\n",
    "            counter +=1\n",
    "        else:\n",
    "            counter -=1\n",
    "    return candidate\n"
   ]
  },
  {
   "cell_type": "code",
   "execution_count": 49,
   "id": "rough-lawyer",
   "metadata": {},
   "outputs": [
    {
     "data": {
      "text/plain": [
       "2"
      ]
     },
     "execution_count": 49,
     "metadata": {},
     "output_type": "execute_result"
    }
   ],
   "source": [
    "nums = [2,2,3,3,3,2,2]\n",
    "# di = majorityElement(nums)\n",
    "majorityElement_Moore(nums)"
   ]
  },
  {
   "cell_type": "code",
   "execution_count": 41,
   "id": "possible-entity",
   "metadata": {},
   "outputs": [
    {
     "name": "stdout",
     "output_type": "stream",
     "text": [
      "3\n",
      "2\n"
     ]
    }
   ],
   "source": [
    "# only use max, only compare the index value\n",
    "print(max(di))\n",
    "# When using key, are comparing the \"key indicated\"\n",
    "print(max(di, key=di.get))"
   ]
  },
  {
   "cell_type": "markdown",
   "id": "imported-chamber",
   "metadata": {},
   "source": [
    "# 229. Majority Element II\n",
    "Given an integer array of size n, find all elements that appear more than ⌊ n/3 ⌋ times.\n"
   ]
  },
  {
   "cell_type": "code",
   "execution_count": 57,
   "id": "assisted-factor",
   "metadata": {},
   "outputs": [],
   "source": [
    "def majorityElement(nums):\n",
    "    from collections import defaultdict\n",
    "    count_dict = defaultdict(int)\n",
    "    for n in nums:\n",
    "        count_dict[n] +=1\n",
    "        \n",
    "    return [key for key,val in count_dict.items() if val>len(nums)/3]\n",
    "    "
   ]
  },
  {
   "cell_type": "code",
   "execution_count": 55,
   "id": "convenient-paris",
   "metadata": {},
   "outputs": [],
   "source": [
    "def majorityElement_moore(nums):\n",
    "    from collections import defaultdict\n",
    "    \n",
    "    count_dict = defaultdict(int)\n",
    "    \n",
    "    for n in nums:\n",
    "        count_dict[n] +=1\n",
    "#         print(count_dict)\n",
    "        if len(count_dict) == 3:\n",
    "            tmp_dict = defaultdict(int)\n",
    "            for key, val in count_dict.items():\n",
    "                if val >1:\n",
    "                    tmp_dict[key] = val-1\n",
    "            count_dict = tmp_dict\n",
    "    return [key for key,val in count_dict.items() if nums.count(key) > len(nums)/3]"
   ]
  },
  {
   "cell_type": "code",
   "execution_count": 58,
   "id": "functional-ministry",
   "metadata": {},
   "outputs": [
    {
     "data": {
      "text/plain": [
       "[2]"
      ]
     },
     "execution_count": 58,
     "metadata": {},
     "output_type": "execute_result"
    }
   ],
   "source": [
    "nums = [2,4,3,3,5,5,2,2]\n",
    "\n",
    "majorityElement(nums)"
   ]
  },
  {
   "cell_type": "code",
   "execution_count": 54,
   "id": "popular-junior",
   "metadata": {},
   "outputs": [
    {
     "data": {
      "text/plain": [
       "2.6666666666666665"
      ]
     },
     "execution_count": 54,
     "metadata": {},
     "output_type": "execute_result"
    }
   ],
   "source": [
    "len(nums)/3\n"
   ]
  },
  {
   "cell_type": "code",
   "execution_count": 60,
   "id": "residential-payment",
   "metadata": {},
   "outputs": [
    {
     "data": {
      "text/plain": [
       "3"
      ]
     },
     "execution_count": 60,
     "metadata": {},
     "output_type": "execute_result"
    }
   ],
   "source": [
    "nums = [2,4,3,3,5,5,2,2]\n",
    "nums.count(2)"
   ]
  },
  {
   "cell_type": "markdown",
   "id": "preceding-thursday",
   "metadata": {},
   "source": [
    "# 274. H-Index\n",
    "A scientist has an index h if **h of their n papers have at least h citations each, and the other n − h papers have no more than h citations each.**  \n",
    "If there are several possible values for h, the maximum one is taken as the h-index.  \n",
    "\n",
    "citations = [3,0,6,1,5]  \n",
    "    \n",
    "    [3,0,6,1,5] means the researcher has 5 papers in total and each of them had received 3, 0, 6, 1, 5 citations respectively.  \n",
    "    Since the researcher has 3 papers with at least 3 citations each and the remaining two with no more than 3 citations each, their h-index is 3.\n",
    "    \n",
    "看一個人的n份 paper, 其中有h 份, 至少超過h個citation, while 其他 n-h中, 沒有超過 h citation的paper"
   ]
  },
  {
   "cell_type": "markdown",
   "id": "caroline-verification",
   "metadata": {},
   "source": [
    "[3,0,6,1,5], if all 5 books larger than 5, hIndex is 5\n",
    "highest is the len(citations)\n",
    "\n"
   ]
  },
  {
   "cell_type": "code",
   "execution_count": 116,
   "id": "tracked-water",
   "metadata": {},
   "outputs": [],
   "source": [
    "def hIndex(citations):\n",
    "    citations = sorted(citations, reverse=True)\n",
    "    if citations[-1] >= len(citations):\n",
    "        return len(citations)\n",
    "    hindex = 0\n",
    "    # KEY, if i > 第 i 大的值, 則滿足hindex定義\n",
    "    # Without sorted is O(n)\n",
    "    for i in range(len(citations)):\n",
    "        if i >= citations[i]:\n",
    "            hindex = i\n",
    "            break\n",
    "    return hindex\n"
   ]
  },
  {
   "cell_type": "code",
   "execution_count": 87,
   "id": "developed-measurement",
   "metadata": {},
   "outputs": [],
   "source": [
    "#  NO sorted\n",
    "def hIndex(citations):\n",
    "    # The highest h-index for is len(citation)\n",
    "    hindex = len(citations)\n",
    "    if min(citations) >= hindex:\n",
    "        return hindex\n",
    "    # Try hindex candidate\n",
    "#     hindex = max([c for c in citations if c < hindex])\n",
    "    hindex-=1\n",
    "    print(hindex)\n",
    "    \n",
    "    # 如果citation超過 hindx的paper 數量, 沒有>= hindex 則要進loop, 每次將hindex -1\n",
    "    while len([c for c in citations if c >= hindex]) < hindex:\n",
    "        print('hindex:',hindex)\n",
    "        print([c for c in citations if c >= hindex], len([c for c in citations if c >= hindex]))\n",
    "        hindex-=1\n",
    "    \n",
    "    return hindex"
   ]
  },
  {
   "cell_type": "code",
   "execution_count": 92,
   "id": "equipped-wesley",
   "metadata": {},
   "outputs": [
    {
     "data": {
      "text/plain": [
       "2"
      ]
     },
     "execution_count": 92,
     "metadata": {},
     "output_type": "execute_result"
    }
   ],
   "source": [
    "citations = [4,7,0,0]\n",
    "hIndex(citations)"
   ]
  },
  {
   "cell_type": "code",
   "execution_count": 89,
   "id": "early-experiment",
   "metadata": {},
   "outputs": [
    {
     "data": {
      "text/plain": [
       "[7, 4, 0, 0]"
      ]
     },
     "execution_count": 89,
     "metadata": {},
     "output_type": "execute_result"
    }
   ],
   "source": [
    "sorted(citations, reverse=True)"
   ]
  },
  {
   "cell_type": "markdown",
   "id": "dried-denmark",
   "metadata": {},
   "source": [
    "## 275. H-Index II\n",
    "Given an array of integers citations where citations[i] is the number of citations a researcher received for their ith paper and citations is sorted in an **ascending** order, return compute the researcher's h-index \n",
    "<br>\n",
    "\n",
    "You must write an algorithm that runs in logarithmic time.\n"
   ]
  },
  {
   "cell_type": "code",
   "execution_count": 160,
   "id": "revolutionary-killing",
   "metadata": {},
   "outputs": [],
   "source": [
    "# Binary Search can reduce it to log(n)\n",
    "def hindex(citations):\n",
    "    n = len(citations)\n",
    "    l, r = 0, n-1\n",
    "    while l <= r:\n",
    "        mid = (l + r) //2\n",
    "        print(l, r,mid, ' ', citations[mid])\n",
    "        # 如果 citations 數量 剛剛好等於 比這個值 還大的 papers的數量, \n",
    "        # 則成功找到 hindex\n",
    "        if citations[mid] == (n - mid):\n",
    "            return n -mid\n",
    "        # citation 數量大於 多少篇paper滿足條件\n",
    "        if citations[mid] > (n - mid):\n",
    "            r = mid -1\n",
    "        else:\n",
    "            # KEY最後個 l 的 mid+1 是關鍵, 表示這個index 的值, 不夠比剩餘的大\n",
    "            l = mid +1\n",
    "\n",
    "    # KEY, 最後break 這個while 的時候, l 會 >= r\n",
    "    # 這時候的 l 是大於這個index 的數量, 所有值都大於 剩餘數量\n",
    "    print(l, r, ' ', citations[mid])\n",
    "    \n",
    "    return n - l\n",
    "\n",
    "            \n",
    "    \n",
    "            \n",
    "            \n"
   ]
  },
  {
   "cell_type": "code",
   "execution_count": 161,
   "id": "wooden-fever",
   "metadata": {
    "code_folding": [
     1
    ]
   },
   "outputs": [],
   "source": [
    "# Following is O(n)\n",
    "def hindex_N(citations):\n",
    "    if min(citations)>=len(citations):\n",
    "        return len(citations)\n",
    "    \n",
    "#     print(citations)\n",
    "    res = 0\n",
    "    for i in range(1,len(citations)):\n",
    "        # 第 i 大的>\n",
    "#         print(i, citations[-i])\n",
    "        if citations[-i] >= i:\n",
    "            res = i\n",
    "            \n",
    "    return res\n",
    "    "
   ]
  },
  {
   "cell_type": "code",
   "execution_count": 163,
   "id": "planned-circus",
   "metadata": {},
   "outputs": [
    {
     "name": "stdout",
     "output_type": "stream",
     "text": [
      "0 4 2   5\n",
      "0 1 0   1\n",
      "1 1 1   3\n",
      "2 1   3\n"
     ]
    },
    {
     "data": {
      "text/plain": [
       "3"
      ]
     },
     "execution_count": 163,
     "metadata": {},
     "output_type": "execute_result"
    }
   ],
   "source": [
    "citations = [1,3,5,6,9]\n",
    "hindex(citations)"
   ]
  },
  {
   "cell_type": "code",
   "execution_count": 122,
   "id": "marine-performance",
   "metadata": {},
   "outputs": [
    {
     "data": {
      "text/plain": [
       "2"
      ]
     },
     "execution_count": 122,
     "metadata": {},
     "output_type": "execute_result"
    }
   ],
   "source": [
    "5//2"
   ]
  },
  {
   "cell_type": "markdown",
   "id": "severe-participant",
   "metadata": {},
   "source": [
    "# 217 Contains Duplicate\n",
    "Given an integer array nums, return true if any value appears at least twice in the array, and return false if every element is distinct."
   ]
  },
  {
   "cell_type": "code",
   "execution_count": 17,
   "id": "separate-border",
   "metadata": {},
   "outputs": [],
   "source": [
    "# Bad proficiency\n",
    "def containsDuplicate(nums):\n",
    "    from collections import defaultdict\n",
    "    n_dict = defaultdict(int)\n",
    "    for n in nums:\n",
    "        n_dict[n]+=1\n",
    "    \n",
    "    return max(n_dict.values())>1\n",
    "    \n"
   ]
  },
  {
   "cell_type": "code",
   "execution_count": 24,
   "id": "atomic-bridges",
   "metadata": {},
   "outputs": [],
   "source": [
    "def containsDuplicate(nums):\n",
    "    return len(nums) != len(set(nums))"
   ]
  },
  {
   "cell_type": "code",
   "execution_count": 25,
   "id": "working-treasurer",
   "metadata": {},
   "outputs": [
    {
     "data": {
      "text/plain": [
       "True"
      ]
     },
     "execution_count": 25,
     "metadata": {},
     "output_type": "execute_result"
    }
   ],
   "source": [
    "nums = [1,2,3,1]\n",
    "containsDuplicate(nums)"
   ]
  },
  {
   "cell_type": "markdown",
   "id": "forty-maldives",
   "metadata": {},
   "source": [
    "## 219. Contains Duplicate II\n",
    "Given an integer array nums and an integer k, return true if there are two distinct indices i and j in the array such that   \n",
    "nums[i] == nums[j] and **abs(i - j) <= k.**  \n",
    "也就是 自己前k 跟 後k裡面有沒有 duplicate\n"
   ]
  },
  {
   "cell_type": "code",
   "execution_count": 52,
   "id": "committed-merchandise",
   "metadata": {},
   "outputs": [],
   "source": [
    "# Time Exceed\n",
    "def containsNearbyDuplicate(nums, k):\n",
    "    for i,n in enumerate(nums):\n",
    "        left = 0 if i-k<0 else i-k\n",
    "        right = len(nums) if i+k>=len(nums) else i+k\n",
    "#         print(i, left, right)\n",
    "        for idx in range(left, right):\n",
    "#             print(nums[idx], n)\n",
    "            if nums[idx] == n and idx!=i:\n",
    "                return True\n",
    "\n",
    "                \n",
    "    return False\n",
    "            \n",
    "    "
   ]
  },
  {
   "cell_type": "code",
   "execution_count": 84,
   "id": "extended-montgomery",
   "metadata": {},
   "outputs": [],
   "source": [
    "def containsNearbyDuplicate(nums, k):\n",
    "    n_dic = {}\n",
    "    # key, n_dic 是存這個植在第幾個位置\n",
    "    for i, v in enumerate(nums):\n",
    "        if v in n_dic and i - n_dic[v] <=k:\n",
    "            return True\n",
    "        n_dic[v] = i\n",
    "    return False\n",
    "        \n"
   ]
  },
  {
   "cell_type": "code",
   "execution_count": 85,
   "id": "comprehensive-circular",
   "metadata": {},
   "outputs": [
    {
     "data": {
      "text/plain": [
       "True"
      ]
     },
     "execution_count": 85,
     "metadata": {},
     "output_type": "execute_result"
    }
   ],
   "source": [
    "nums = [1,2,3,1]; k = 3\n",
    "# nums = [1,0,1,1]; k = 1\n",
    "# nums = [1,2,3,1,2,3]; k = 2\n",
    "containsNearbyDuplicate(nums,k)"
   ]
  },
  {
   "cell_type": "markdown",
   "id": "sharing-stranger",
   "metadata": {},
   "source": [
    "## <a href='https://leetcode.com/problems/contains-duplicate-iii/discuss/828127/PythonGo-O(n)-by-sliding-window-and-bucket-w-Comment'> 220. Contains Duplicate III</a>\n",
    "Given an integer array nums and two integers k and t, return true if there are two distinct indices i and j in the array such that  \n",
    "**abs(nums[i] - nums[j]) <= t**  \n",
    "**and abs(i - j) <= k.**\n",
    "<br>\n",
    " \n",
    "NOTE: 以除法來想, 每個數值 除以 t, 會落在不同區間"
   ]
  },
  {
   "cell_type": "code",
   "execution_count": 122,
   "id": "generous-bones",
   "metadata": {},
   "outputs": [],
   "source": [
    "# Bad Efficiency\n",
    "def containsNearbyAlmostDuplicate(nums, k, t):\n",
    "    if t == 0:\n",
    "        n_dic = {}\n",
    "        # key, n_dic 是存這個植在第幾個位置\n",
    "        for i, v in enumerate(nums):\n",
    "            if v in n_dic and i - n_dic[v] <=k:\n",
    "                return True\n",
    "            n_dic[v] = i\n",
    "        return False\n",
    "\n",
    "    \n",
    "    # With Large K, will exceed Time limit\n",
    "    window_list = []\n",
    "    for n in nums:\n",
    "        if len(window_list) >= k+1:\n",
    "            window_list.pop(0)\n",
    "        if window_list:\n",
    "            for win_n in window_list:\n",
    "                if abs(win_n - n) <=t:\n",
    "                    return True\n",
    "        window_list.append(n)\n",
    "    return False\n",
    "        \n"
   ]
  },
  {
   "cell_type": "code",
   "execution_count": 129,
   "id": "silver-strip",
   "metadata": {},
   "outputs": [],
   "source": [
    "# 以除法來想, 如果\n",
    "def containsNearbyAlmostDuplicate(nums, k, t):\n",
    "    if t == 0 and len(nums) == len(set(nums)):\n",
    "        # Quick response for t = 0\n",
    "        # t = 0 requires at least one pair of repeated element\n",
    "        return False\n",
    "    \n",
    "    size = len(nums)\n",
    "    bucket = {}\n",
    "    #KEY width = t +1,  prevent t==0, and following abs(..) < width not <=\n",
    "    width = t+1\n",
    "    \n",
    "    for idx,num in enumerate(nums):\n",
    "        bucket_idx = num // width\n",
    "        if bucket_idx in bucket:\n",
    "            # two numbers in the same bucket, gap must be smaller than width\n",
    "            return True\n",
    "        elif bucket_idx+1 in bucket and abs(num - bucket[bucket_idx+1]) <width:\n",
    "            return True\n",
    "        elif bucket_idx-1 in bucket and abs(num - bucket[bucket_idx-1]) <width:\n",
    "            return True\n",
    "        \n",
    "        bucket[bucket_idx] = num\n",
    "        \n",
    "        if idx>=k:\n",
    "            # delete old number whose index distance larger than k\n",
    "            del bucket[ nums[idx-k] // width]\n",
    "    return False\n",
    "        \n",
    "            \n"
   ]
  },
  {
   "cell_type": "code",
   "execution_count": 130,
   "id": "exempt-blank",
   "metadata": {},
   "outputs": [
    {
     "data": {
      "text/plain": [
       "True"
      ]
     },
     "execution_count": 130,
     "metadata": {},
     "output_type": "execute_result"
    }
   ],
   "source": [
    "# nums = [1,0,1,1];k = 1; t = 2\n",
    "# nums = [1,5,9,1,5,9]; k = 2; t = 3\n",
    "nums = [1,2,3,1]; k = 3; t = 0\n",
    "# nums = [4,1,6,3]; k = 100; t = 1\n",
    "\n",
    "containsNearbyAlmostDuplicate(nums,k,t)"
   ]
  },
  {
   "cell_type": "markdown",
   "id": "prescription-acquisition",
   "metadata": {},
   "source": [
    "# 55. Jump Game\n",
    "Given an array of non-negative integers nums, you are initially positioned at the first index of the array.  \n",
    "\n",
    "Each element in the array represents your maximum jump length at that position.  \n",
    "\n",
    "Determine if you are able to reach the last index.  \n"
   ]
  },
  {
   "cell_type": "code",
   "execution_count": 264,
   "id": "attempted-office",
   "metadata": {},
   "outputs": [],
   "source": [
    "# Exceed Time limit\n",
    "def canJump(nums):\n",
    "    reach_list = [False for i in range(len(nums))]\n",
    "    reach_list[0] = True\n",
    "#     print(reach_list)\n",
    "    for i in range(len(nums)):\n",
    "        if reach_list[-1] == True:\n",
    "            return True\n",
    "        \n",
    "        if reach_list[i] is True:\n",
    "            upper = i + nums[i] +1\n",
    "            upper = len(nums) if upper >= len(nums) else upper\n",
    "            reach_list[i:upper] = [True for i in range(upper-i)]\n",
    "#             print(reach_list)\n",
    "        \n",
    "    return False\n",
    "        \n"
   ]
  },
  {
   "cell_type": "code",
   "execution_count": 266,
   "id": "graduate-validity",
   "metadata": {},
   "outputs": [],
   "source": [
    "def canJump(nums):\n",
    "    m = 0\n",
    "    # Going forwards. m tells the maximum index we can reach so far.\n",
    "    for i, n in enumerate(nums):\n",
    "        if i > m:  # 也就是來到了 到不了的地方\n",
    "            return False\n",
    "        m = max(m, i+n)\n",
    "    return True\n"
   ]
  },
  {
   "cell_type": "code",
   "execution_count": 267,
   "id": "consistent-complement",
   "metadata": {},
   "outputs": [
    {
     "data": {
      "text/plain": [
       "False"
      ]
     },
     "execution_count": 267,
     "metadata": {},
     "output_type": "execute_result"
    }
   ],
   "source": [
    "nums = [3,2,1,0,4]\n",
    "# nums = [2,3,1,1,4]\n",
    "canJump(nums)"
   ]
  },
  {
   "cell_type": "markdown",
   "id": "progressive-bennett",
   "metadata": {},
   "source": [
    "## <a href='https://leetcode.com/problems/jump-game-ii/discuss/485780/Python-O(-n-)-sol.-based-on-greedy-of-coverage.-90%2B-With-explanation'>45. Jump Game II</a>\n",
    "Given an array of non-negative integers nums, you are initially positioned at the first index of the array.  \n",
    "\n",
    "Each element in the array represents your maximum jump length at that position.  \n",
    "\n",
    "**Your goal is to reach the last index in the minimum number of jumps.**\n",
    "\n",
    "**You can assume that you can always reach the last index.**"
   ]
  },
  {
   "cell_type": "code",
   "execution_count": 296,
   "id": "later-female",
   "metadata": {},
   "outputs": [],
   "source": [
    "# Time O(N^2), SPACE O(N)\n",
    "def jump(nums):\n",
    "#     dp[i], 表示到第i 最少需要多少步\n",
    "#     這是 top down的想法\n",
    "#     dp[i] = min(dp[i-1]+1, .....)\n",
    "#    以buttom up 來寫, 就是每次看這個地方能走到的地方, 在去更新dp裡的值\n",
    "    \n",
    "    dp = [float('inf') for _ in range(len(nums))]\n",
    "    dp[0] = 0\n",
    "    print(dp)\n",
    "    for i, n in enumerate(nums):\n",
    "#         print('---',i)\n",
    "        if dp[-1] != float('inf'):\n",
    "                return dp[-1]\n",
    "            \n",
    "        upper = i + nums[i] +1\n",
    "        upper = len(nums) if upper >= len(nums) else upper\n",
    "        for j in range(i, upper):\n",
    "            # 比較從上一步走過來 比較小\n",
    "            dp[j] = min(dp[i]+1, dp[j])\n",
    "#             print(j)\n",
    "#         print(dp)\n",
    "    return dp\n",
    "        \n",
    "        \n",
    "        \n",
    "        "
   ]
  },
  {
   "cell_type": "code",
   "execution_count": 300,
   "id": "extensive-beatles",
   "metadata": {},
   "outputs": [],
   "source": [
    "# TIME O(N), SPACE O(1)\n",
    "def jump(nums):\n",
    "    size = len(nums)\n",
    "    # destination is last index\n",
    "    destination = size - 1\n",
    "    # record of current coverage, record of last jump index\n",
    "    cur_coverage, last_jump_index = 0, 0\n",
    "    # counter for jump\n",
    "    times_of_jump = 0\n",
    "     # Quick response if start index == destination index == 0\n",
    "    if size == 1:\n",
    "        return 0\n",
    "    \n",
    "    # Greedy strategy: extend coverage as long as possible with lazy jump\n",
    "    for i in range(0, size):\n",
    "        # Extend the current coverate as further as possible\n",
    "        cur_coverage = max(i + nums[i], cur_coverage)\n",
    "        \n",
    "        # 跳到最遠的地方了, forced to jump (by lazy jump) to extend coverage\n",
    "        if i == last_jump_index:\n",
    "            # update last jump index\n",
    "            last_jump_index = cur_coverage\n",
    "\n",
    "            # update counter of jump by +1\n",
    "            times_of_jump += 1\n",
    "\n",
    "            # check if reached destination already\n",
    "            if cur_coverage >= destination:\n",
    "                    return times_of_jump\n",
    "            \n",
    "    return times_of_jump\n",
    "    "
   ]
  },
  {
   "cell_type": "code",
   "execution_count": 301,
   "id": "external-knife",
   "metadata": {},
   "outputs": [
    {
     "data": {
      "text/plain": [
       "2"
      ]
     },
     "execution_count": 301,
     "metadata": {},
     "output_type": "execute_result"
    }
   ],
   "source": [
    "nums = [2,3,1,1,4]\n",
    "nums = [2,3,0,1,4]\n",
    "nums = [2,13,1,4]\n",
    "\n",
    "jump(nums)"
   ]
  },
  {
   "attachments": {
    "image.png": {
     "image/png": "[encoded data removed]"
    }
   },
   "cell_type": "markdown",
   "id": "uniform-advertising",
   "metadata": {},
   "source": [
    "# 11. Container With Most Water\n",
    "Given n non-negative integers a1, a2, ..., an , where each represents a point at coordinate (i, ai). n vertical lines are drawn such that the two endpoints of the line i is at (i, ai) and (i, 0).  \n",
    "Find two lines, which, together with the x-axis forms a container, such that the container contains the most water.\n",
    "![image.png](attachment:image.png)"
   ]
  },
  {
   "cell_type": "code",
   "execution_count": 16,
   "id": "injured-range",
   "metadata": {},
   "outputs": [],
   "source": [
    "def maxArea(height):\n",
    "    # Brute Force -- Exceed Time limitation\n",
    "    maxarea = float('-inf')\n",
    "    pre_min = 0\n",
    "    for i in range(len(height)):\n",
    "        if height[i] < pre_min:\n",
    "            continue\n",
    "        for j in range(len(height)-1, i , -1):\n",
    "            if height[j] < pre_min:\n",
    "                continue \n",
    "            area = (j - i) * min(height[i], height[j])\n",
    "            if area > maxarea:\n",
    "                pre_min =  min(height[i], height[j])\n",
    "                maxarea = area\n",
    "    return maxarea\n",
    "            \n"
   ]
  },
  {
   "cell_type": "code",
   "execution_count": 28,
   "id": "acting-defense",
   "metadata": {},
   "outputs": [],
   "source": [
    "def maxArea(height):\n",
    "    # O(n) Solution\n",
    "    max_area = area = 0\n",
    "    left, right = 0, len(height) -1\n",
    "    while left < right:\n",
    "        l, r = height[left], height[right]\n",
    "        \n",
    "        #left is shorter \n",
    "        if l < r:\n",
    "            area = (right - left) * l\n",
    "            # loop to find next l higher than current one\n",
    "            while height[left] <=l:\n",
    "                left+=1\n",
    "        else:\n",
    "            area = (right - left) * r\n",
    "            # KEY, right may be inifinite loop to negative, so need to control it \n",
    "            while height[right] <= r and right:\n",
    "                right -=1\n",
    "        max_area = max(area, max_area)\n",
    "    return max_area\n",
    "            \n",
    "                      "
   ]
  },
  {
   "cell_type": "code",
   "execution_count": 29,
   "id": "owned-brown",
   "metadata": {},
   "outputs": [
    {
     "data": {
      "text/plain": [
       "49"
      ]
     },
     "execution_count": 29,
     "metadata": {},
     "output_type": "execute_result"
    }
   ],
   "source": [
    "height = [1,8,6,2,5,4,8,3,7]\n",
    "\n",
    "# height = [4,3,2,1,4]\n",
    "# height = [1,2,3,4,5,6,7,8,9,10,9,8,7,6,5,4,3,2,1]\n",
    "\n",
    "maxArea(height)"
   ]
  },
  {
   "cell_type": "markdown",
   "id": "statistical-cambridge",
   "metadata": {},
   "source": [
    "# [334. Increasing Triplet Subsequence](https://leetcode.com/problems/increasing-triplet-subsequence/discuss/78995/Python-Easy-O(n)-Solution)\n",
    "Given an integer array nums, return true if there exists a triple of indices (i, j, k) such that i < j < k and nums[i] < nums[j] < nums[k]. If no such indices exists, return false.\n",
    "\n",
    "3 8 4 6  \n"
   ]
  },
  {
   "cell_type": "code",
   "execution_count": 40,
   "id": "spare-manitoba",
   "metadata": {},
   "outputs": [],
   "source": [
    "def increasingTriplet(nums):\n",
    "    # Brute Force, O(N^2)\n",
    "    for left in range(len(nums)-2):\n",
    "        left_v = nums[left]\n",
    "        for mid in range(left+1, len(nums)-1):\n",
    "            mid_v = nums[mid]\n",
    "            if mid_v <= left_v:\n",
    "                continue\n",
    "                \n",
    "            rest_max = max(nums[mid+1:])\n",
    "            if rest_max > mid_v:\n",
    "                return left_v,mid_v,rest_max\n",
    "    return False\n",
    "            \n",
    "            \n",
    "        \n"
   ]
  },
  {
   "cell_type": "code",
   "execution_count": 44,
   "id": "adjacent-pacific",
   "metadata": {},
   "outputs": [],
   "source": [
    "def increasingTriplet(nums):\n",
    "    # we can use two thresholds to divide the subsquence length\n",
    "    # everything between threshold1 and threshold2 will form doublets\n",
    "    # everything above threshold2 will form a triplet\n",
    "    # dynamically change these two thresholds\n",
    "\n",
    "    threshold1 = threshold2 = float(\"inf\")\n",
    "    for num in nums:\n",
    "        # If num < threshold, then lower threshold1\n",
    "        if num <= threshold1:\n",
    "            threshold1 = num\n",
    "        ## NOTE: 'elif' will be test only after fail pass 'if'\n",
    "        ## This means, num > threshold1 but <= threshold2, then lower threshold2\n",
    "        elif num <= threshold2:\n",
    "            threshold2 = num\n",
    "        # if greater than both thresholds (note equal doesn't count)\n",
    "        else:\n",
    "            return True\n",
    "        print(threshold1, threshold2)\n",
    "    return False"
   ]
  },
  {
   "cell_type": "code",
   "execution_count": 47,
   "id": "suspected-programmer",
   "metadata": {},
   "outputs": [
    {
     "name": "stdout",
     "output_type": "stream",
     "text": [
      "3 inf\n",
      "2 inf\n",
      "2 8\n",
      "2 4\n"
     ]
    },
    {
     "data": {
      "text/plain": [
       "True"
      ]
     },
     "execution_count": 47,
     "metadata": {},
     "output_type": "execute_result"
    }
   ],
   "source": [
    "nums = [3,2,8,4,6]\n",
    "# nums = [1,2,3,4,5]\n",
    "# nums = [5,4,3,2,1]\n",
    "increasingTriplet(nums)"
   ]
  },
  {
   "cell_type": "code",
   "execution_count": 34,
   "id": "affected-thunder",
   "metadata": {},
   "outputs": [
    {
     "data": {
      "text/plain": [
       "4"
      ]
     },
     "execution_count": 34,
     "metadata": {},
     "output_type": "execute_result"
    }
   ],
   "source": [
    "min([n for n in nums if n>3])\n"
   ]
  },
  {
   "attachments": {
    "image.png": {
     "image/png": "[encoded data removed]"
    }
   },
   "cell_type": "markdown",
   "id": "polar-pizza",
   "metadata": {},
   "source": [
    "# 42. [Trapping Rain Water](https://leetcode.com/problems/trapping-rain-water/discuss/17554/Share-my-one-pass-Python-solution-with-explaination)\n",
    "![image.png](attachment:image.png)\n"
   ]
  },
  {
   "cell_type": "code",
   "execution_count": 61,
   "id": "sixth-cooler",
   "metadata": {},
   "outputs": [],
   "source": [
    "def trap(height):\n",
    "    # Brute Force\n",
    "    if not height or len(height)<3:\n",
    "        return 0\n",
    "    \n",
    "    volume = 0\n",
    "    left, right = 0, len(height) -1\n",
    "    l_max, r_max = height[left], height[right]\n",
    "    while left < right:\n",
    "        l_max, r_max = max(height[left], l_max), max(height[right], r_max)\n",
    "        # KEY, 只要抓住 左邊 跟 右邊 的最高點, 每次加的水, 一定就是比較小的 - 目前高度\n",
    "        if l_max <= r_max:\n",
    "            volume += l_max - height[left]\n",
    "            left +=1\n",
    "        else:\n",
    "            volume += r_max - height[right]\n",
    "            right -= 1\n",
    "        print(left, right, l_max, r_max, volume)\n",
    "    return volume\n",
    "            \n",
    "                                 \n",
    "    \n",
    "    \n",
    "    "
   ]
  },
  {
   "cell_type": "markdown",
   "id": "applicable-selling",
   "metadata": {},
   "source": [
    "[DP solution](https://leetcode.com/problems/trapping-rain-water/discuss/346640/Pythonically-trapping-rain-water-with-common-sense-%22dynamically%22)\n",
    "**The idea is to know what the max height is, to the left and right of every index.**  \n",
    "Think about it- at any given index, there can only be trapped rain water above it if the min(max_height_to_the_left, max_height_to_the_right) is bigger than the height at this particular index.  \n",
    "So there are 3 things to do.  \n",
    "<br>\n",
    "For every index, find max_height_to_the_left. Store in a \"maxleft\" array.  \n",
    "For every index, find max_height_to_the_right. Store in a \"maxright\" array.  \n",
    "Add min(max_height_to_the_left, max_height_to_the_right) - height(idx) for every idx to a sum. Return this sum.  "
   ]
  },
  {
   "cell_type": "code",
   "execution_count": 65,
   "id": "eastern-bacteria",
   "metadata": {},
   "outputs": [],
   "source": [
    "def trap(height):\n",
    "    size = len(height)\n",
    "    \n",
    "    left = 0\n",
    "    maxleft = height[:]\n",
    "    for i in range(size):\n",
    "        # record the max height of the left\n",
    "        maxleft[i] = left\n",
    "        if height[i] > left:\n",
    "            left = height[i]\n",
    "            \n",
    "    right = 0\n",
    "    maxright = height[:]\n",
    "    for i in range(size-1,-1,-1):\n",
    "        # record the max height of the right\n",
    "        maxright[i] = right\n",
    "        if height[i] > right:\n",
    "            right = height[i]\n",
    "        \n",
    "    res = 0\n",
    "    for idx in range(size):\n",
    "        if min(maxleft[idx], maxright[idx]) > height[idx]:\n",
    "            res += min(maxleft[idx], maxright[idx]) - height[idx]\n",
    "            \n",
    "    return res"
   ]
  },
  {
   "cell_type": "code",
   "execution_count": 66,
   "id": "shaped-reminder",
   "metadata": {},
   "outputs": [
    {
     "data": {
      "text/plain": [
       "6"
      ]
     },
     "execution_count": 66,
     "metadata": {},
     "output_type": "execute_result"
    }
   ],
   "source": [
    "height = [0,1,0,2,1,0,1,3,2,1,2,1]\n",
    "trap(height)"
   ]
  },
  {
   "cell_type": "markdown",
   "id": "quarterly-assault",
   "metadata": {},
   "source": [
    "# 128. Longest Consecutive Sequence\n",
    "Given an unsorted array of integers nums, return the length of the longest consecutive elements sequence.\n"
   ]
  },
  {
   "cell_type": "code",
   "execution_count": 30,
   "id": "universal-release",
   "metadata": {},
   "outputs": [],
   "source": [
    "def longestConsecutive(nums):\n",
    "    nums = set(nums)\n",
    "    best = 0\n",
    "    for x in nums:\n",
    "#         means x is the streak start\n",
    "        if x -1 not in nums:\n",
    "            y = x+1\n",
    "            while y in nums:\n",
    "                y +=1\n",
    "            \n",
    "            best = max(best, y - x)\n",
    "    return best\n"
   ]
  },
  {
   "cell_type": "code",
   "execution_count": 31,
   "id": "internal-purpose",
   "metadata": {},
   "outputs": [
    {
     "name": "stdout",
     "output_type": "stream",
     "text": [
      "1\n",
      "2\n",
      "3\n",
      "100\n",
      "4\n",
      "200\n"
     ]
    }
   ],
   "source": [
    "# nums = [0,3,7,2,5,8,4,6,0,1]\n",
    "nums = [100,4,200,1,3,2]\n",
    "# nums = [1,2,3,3,3,4,5,6,7,8,9,10]\n",
    "\n",
    "longestConsecutive(nums)"
   ]
  },
  {
   "cell_type": "markdown",
   "id": "ordinary-clothing",
   "metadata": {},
   "source": [
    "# [164. Maximum Gap](https://leetcode.com/problems/maximum-gap/discuss/692005/Python-Very-Detailed-explanation-using-buckets)\n",
    "Given an integer array nums, return the maximum difference between two successive elements in its sorted form. If the array contains less than two elements, return 0.  \n",
    "<br>\n",
    "You must write an algorithm that runs in linear time and uses linear extra space.  "
   ]
  },
  {
   "cell_type": "code",
   "execution_count": 49,
   "id": "flush-position",
   "metadata": {},
   "outputs": [],
   "source": [
    "def maximumGap(nums):\n",
    "    # O(N^2), exceed time limit\n",
    "    nums = set(nums) \n",
    "    \n",
    "    if len(nums) <2:\n",
    "        return 0\n",
    "    \n",
    "    max_element = max(nums)\n",
    "    gap = 0\n",
    "    for x in nums:\n",
    "        y = x + 1\n",
    "        while y <= max_element:\n",
    "            if y in nums:\n",
    "                break\n",
    "            y +=1\n",
    "        gap = max(gap, y -x)\n",
    "    return gap\n"
   ]
  },
  {
   "cell_type": "code",
   "execution_count": 65,
   "id": "sustained-association",
   "metadata": {},
   "outputs": [],
   "source": [
    "def maximumGap(nums):\n",
    "    if len(nums) < 2 or min(nums) == max(nums):\n",
    "        return 0\n",
    "    minimum, maximum = min(nums), max(nums)\n",
    "    size = (maximum - minimum) // (len(nums) -1 ) or 1\n",
    "    buckets = [[None, None] for _ in range(( maximum - minimum )//size+1)]\n",
    "    for num in nums:\n",
    "        # getting the bucket number in which it falls into\n",
    "        bucket = buckets[ ( num - minimum )//size ]\n",
    "        bucket[0] = num if bucket[0] is None else min(bucket[0], num)\n",
    "        bucket[1] = num if bucket[1] is None else max(bucket[1], num)\n",
    "    # discard first bucket\n",
    "    buckets = [bucket for bucket in buckets if bucket[0] is not None]\n",
    "    print(buckets)\n",
    "    gap = 0\n",
    "    for i in range(1, len(buckets)):\n",
    "        diff = buckets[i][0] - buckets[i-1][1]\n",
    "        gap = max(gap,diff)\n",
    "    return  gap"
   ]
  },
  {
   "cell_type": "code",
   "execution_count": 67,
   "id": "electrical-cooler",
   "metadata": {},
   "outputs": [
    {
     "name": "stdout",
     "output_type": "stream",
     "text": [
      "[[1, 9], [100, 100]]\n"
     ]
    },
    {
     "data": {
      "text/plain": [
       "91"
      ]
     },
     "execution_count": 67,
     "metadata": {},
     "output_type": "execute_result"
    }
   ],
   "source": [
    "nums = [1,3,6,9,100]\n",
    "# nums = [9,1]\n",
    "# nums = [1,1,1,1]\n",
    "\n",
    "\n",
    "maximumGap(nums)"
   ]
  },
  {
   "cell_type": "code",
   "execution_count": 68,
   "id": "natural-march",
   "metadata": {},
   "outputs": [
    {
     "data": {
      "text/plain": [
       "1"
      ]
     },
     "execution_count": 68,
     "metadata": {},
     "output_type": "execute_result"
    }
   ],
   "source": [
    "5//4"
   ]
  },
  {
   "cell_type": "markdown",
   "id": "gross-colombia",
   "metadata": {},
   "source": [
    "# [287. Find the Duplicate Number](https://leetcode.com/problems/find-the-duplicate-number/discuss/72852/Python-same-solution-as-142-Linked-List-Cycle-II)\n",
    "Given an array of integers nums containing n + 1 integers where each integer is in the range [1, n] inclusive.  \n",
    "\n",
    "There is **only one repeated number in nums, return this repeated number.**\n",
    "\n",
    "\n",
    "**You must solve the problem without modifying the array nums and uses only constant extra space.**"
   ]
  },
  {
   "cell_type": "code",
   "execution_count": 77,
   "id": "matched-frank",
   "metadata": {},
   "outputs": [],
   "source": [
    "def findDuplicate(nums):\n",
    "    # exceed time\n",
    "    for i in range(len(nums)):\n",
    "        num = nums[i]\n",
    "        if num in nums[i+1:]:\n",
    "            return num\n"
   ]
  },
  {
   "cell_type": "code",
   "execution_count": 81,
   "id": "numerical-depth",
   "metadata": {},
   "outputs": [],
   "source": [
    "def findDuplicate(nums):\n",
    "    # KEY, since it only contian n+1 integers in range [1,n]\n",
    "    # nums[a]= b can be seen as a.next = b. Then the queation is reduced\n",
    "    # to find cycle in linked list II\n",
    "    # 重點在於要轉換成 linked list 找cycle來想\n",
    "    slow = fast = finder = 0\n",
    "    while True:\n",
    "        print(\"idx:\", slow,\"value:\", nums[slow])\n",
    "        slow = nums[slow] # slow= slow.next\n",
    "        print(\"idx:\", fast,\"value:\", nums[nums[fast]])\n",
    "        \n",
    "        fast = nums[nums[fast]] # fast = fast.next.next\n",
    "        \n",
    "        if slow == fast:\n",
    "            # 這時slow, fast是在 loop 開始的起點\n",
    "            # finder 在剛開始\n",
    "            while finder != slow:\n",
    "                finder = nums[finder]\n",
    "                slow = nums[slow]\n",
    "            return finder\n",
    "            \n",
    "    "
   ]
  },
  {
   "cell_type": "code",
   "execution_count": 82,
   "id": "controlled-verification",
   "metadata": {},
   "outputs": [
    {
     "name": "stdout",
     "output_type": "stream",
     "text": [
      "idx: 0 value: 1\n",
      "idx: 0 value: 3\n",
      "idx: 1 value: 3\n",
      "idx: 3 value: 4\n",
      "idx: 3 value: 2\n",
      "idx: 4 value: 2\n"
     ]
    },
    {
     "data": {
      "text/plain": [
       "3"
      ]
     },
     "execution_count": 82,
     "metadata": {},
     "output_type": "execute_result"
    }
   ],
   "source": [
    "\n",
    "nums = [1,3,4,2,3]\n",
    "\n",
    "# nums = [1,1]\n",
    "findDuplicate(nums)"
   ]
  },
  {
   "cell_type": "markdown",
   "id": "scenic-norway",
   "metadata": {},
   "source": [
    "# 142. Linked List Cycle II\n",
    "Given a linked list, return the node where the cycle begins. If there is no cycle, return null."
   ]
  },
  {
   "cell_type": "code",
   "execution_count": null,
   "id": "informative-flower",
   "metadata": {},
   "outputs": [],
   "source": [
    "def detectCycle(head):\n",
    "    \n",
    "    slow = fast = head\n",
    "\n",
    "    while fast is not None and fast.next:\n",
    "        slow = slow.next\n",
    "        fast = fast.next.next\n",
    "\n",
    "        if slow == fast:\n",
    "            break\n",
    "\n",
    "    if fast is None or fast.next is None:\n",
    "        return None\n",
    "\n",
    "\n",
    "    fast = head\n",
    "    # KEY 如果code run到這裡 代表 fast 跟 fast.next不是Null\n",
    "    # 而且現在 fast 跟 slow 都是在於兩個指針相遇的點\n",
    "    # 這時將 fast 拉回原點\n",
    "    # 當slow 跟 fast meet的時候就會是 loop起點\n",
    "    # https://www.youtube.com/watch?v=UkKBPGt5Nok&ab_channel=%E7%BD%97%E7%BF%94%E8%80%81%E5%B8%88\n",
    "    while fast != slow:\n",
    "        slow = slow.next\n",
    "        fast = fast.next\n",
    "\n",
    "    return slow\n"
   ]
  },
  {
   "cell_type": "markdown",
   "id": "confused-skirt",
   "metadata": {},
   "source": [
    "# 125. Valid Palindrome"
   ]
  },
  {
   "cell_type": "code",
   "execution_count": 107,
   "id": "double-palace",
   "metadata": {},
   "outputs": [],
   "source": [
    "def isPalindrome(s):\n",
    "    import string \n",
    "    \n",
    "    \n",
    "    specialChars = string.punctuation\n",
    "    for specialChar in specialChars:\n",
    "        s = s.replace(specialChar, '')\n",
    "    s = s.replace(' ','')\n",
    "    s = s.lower()\n",
    "    \n",
    "    for i in range(len(s)//2):\n",
    "        print(i, s[i],s[-i-1])\n",
    "        if s[i] != s[-i-1]:\n",
    "            return False\n",
    "    return True\n",
    "                  \n",
    "\n",
    "    "
   ]
  },
  {
   "cell_type": "code",
   "execution_count": 109,
   "id": "hazardous-study",
   "metadata": {},
   "outputs": [
    {
     "data": {
      "text/plain": [
       "True"
      ]
     },
     "execution_count": 109,
     "metadata": {},
     "output_type": "execute_result"
    }
   ],
   "source": [
    "s = \"A man, a plan, a canal: Panama\"\n",
    "s = \"race a car\"\n",
    "s = 'a.@'\n",
    "isPalindrome(s)"
   ]
  },
  {
   "cell_type": "code",
   "execution_count": 111,
   "id": "corporate-disclaimer",
   "metadata": {},
   "outputs": [
    {
     "name": "stdout",
     "output_type": "stream",
     "text": [
      "!\"#$%&'()*+,-./:;<=>?@[\\]^_`{|}~\n",
      "abcdefghijklmnopqrstuvwxyz\n",
      "ABCDEFGHIJKLMNOPQRSTUVWXYZ\n"
     ]
    }
   ],
   "source": [
    "import string \n",
    "\n",
    "print(string.punctuation)\n",
    "print(string.ascii_lowercase)\n",
    "print(string.ascii_uppercase)"
   ]
  },
  {
   "cell_type": "code",
   "execution_count": null,
   "id": "incredible-corporation",
   "metadata": {},
   "outputs": [],
   "source": []
  }
 ],
 "metadata": {
  "kernelspec": {
   "display_name": "Python 3",
   "language": "python",
   "name": "python3"
  },
  "language_info": {
   "codemirror_mode": {
    "name": "ipython",
    "version": 3
   },
   "file_extension": ".py",
   "mimetype": "text/x-python",
   "name": "python",
   "nbconvert_exporter": "python",
   "pygments_lexer": "ipython3",
   "version": "3.8.5"
  },
  "toc": {
   "base_numbering": 1,
   "nav_menu": {},
   "number_sections": true,
   "sideBar": true,
   "skip_h1_title": false,
   "title_cell": "Table of Contents",
   "title_sidebar": "Contents",
   "toc_cell": false,
   "toc_position": {},
   "toc_section_display": true,
   "toc_window_display": false
  },
  "varInspector": {
   "cols": {
    "lenName": 16,
    "lenType": 16,
    "lenVar": 40
   },
   "kernels_config": {
    "python": {
     "delete_cmd_postfix": "",
     "delete_cmd_prefix": "del ",
     "library": "var_list.py",
     "varRefreshCmd": "print(var_dic_list())"
    },
    "r": {
     "delete_cmd_postfix": ") ",
     "delete_cmd_prefix": "rm(",
     "library": "var_list.r",
     "varRefreshCmd": "cat(var_dic_list()) "
    }
   },
   "types_to_exclude": [
    "module",
    "function",
    "builtin_function_or_method",
    "instance",
    "_Feature"
   ],
   "window_display": false
  }
 },
 "nbformat": 4,
 "nbformat_minor": 5
}
