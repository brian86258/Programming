{
 "cells": [
  {
   "cell_type": "markdown",
   "source": [
    "# Dynamic Programming Guid\n",
    "1. First, we need some function or array that represents the answer to the problem from a given state.\n",
    "2. Second, we need a way to transition between states, such as dp[5] and dp[7]. This is called a recurrence relation and can sometimes be tricky to figure out.\n",
    "3. The third component is the simplest: we need a base case. \n",
    "\n",
    "\n",
    "# 300. Longest Increasing Subsequence\n",
    "Medium\n",
    "Given an integer array nums, return the length of the longest strictly increasing subsequence.\n",
    "\n",
    "A subsequence is a sequence that can be derived from an array by deleting some or no elements without changing the order of the remaining elements. For example, [3,6,2,7] is a subsequence of the array [0,3,1,6,2,2,7].\n",
    "\n",
    "## In this question\n",
    "1, why dp, because it try to get the \"longest\" value, dp is good at solving these extreme values\n",
    "2, why dp[] represent? Can directly relate to the answer\n",
    "dp[i] represent : the longest increasing subsequence ends with i'th element\n",
    "3, base case: just put one\n",
    "\n",
    "transistion function: dp[i] = max(dp[j] + 1) for all j where nums[j] < nums[i] and j < i."
   ],
   "metadata": {}
  },
  {
   "cell_type": "markdown",
   "source": [],
   "metadata": {}
  },
  {
   "cell_type": "code",
   "execution_count": 16,
   "source": [
    "# O(N^2), O(N)\n",
    "def lengthOfLIS(nums) -> int:\n",
    "    dp = [1 for _ in range(len(nums))]\n",
    "    # dp stores the length of continous sequenc end with ith element\n",
    "\n",
    "    # for each i in range(len(nums))\n",
    "    # check former element in dp, \n",
    "    # if nums[j] < nums[i], and j < i\n",
    "    # dp[i] = max(dp[j] +1, dp[i])\n",
    "\n",
    "    for i in range(len(nums)):\n",
    "        for j in range(i):\n",
    "            if nums[j] < nums[i]:\n",
    "                dp[i] = max(dp[j] +1 , dp[i])\n",
    "    print(dp)\n",
    "    return max(dp)\n"
   ],
   "outputs": [],
   "metadata": {}
  },
  {
   "cell_type": "code",
   "execution_count": 37,
   "source": [
    "def lengthOfLIS(nums):\n",
    "    # Inint the sub array \n",
    "    # 2, iterate through nums\n",
    "    #   * If the num > sub[-1], append it to sub\n",
    "    #   * if the num < sub[-1], check whether there is any element in sub is > than num\n",
    "    sub = [nums[0]]\n",
    "\n",
    "    for num in nums[1:]:\n",
    "        if num > sub[-1]:\n",
    "            sub.append(num)\n",
    "        else:\n",
    "            # Find the first element in sub that is greater than or equal to num\n",
    "            for i in range(len(sub)):\n",
    "                if sub[i] >= num:\n",
    "                    sub[i] = num\n",
    "                    break\n",
    " \n",
    "    print(sub)\n",
    "    return len(sub)\n"
   ],
   "outputs": [],
   "metadata": {}
  },
  {
   "cell_type": "code",
   "execution_count": 39,
   "source": [
    "import bisect\n",
    "def lengthOfLIS(nums):\n",
    "    # bisect_left(array, num) will use binary search to find the position that num > array[i]\n",
    "    sub = []\n",
    "    for n in nums:\n",
    "        i = bisect.bisect_left(sub, n)\n",
    "\n",
    "        if i == len(sub): # n larger than any element in sub\n",
    "            sub.append(n)\n",
    "        else:\n",
    "            sub[i] = n\n",
    "    print(sub)\n",
    "    return len(sub)\n",
    "\n",
    "\n"
   ],
   "outputs": [],
   "metadata": {}
  },
  {
   "cell_type": "code",
   "execution_count": 40,
   "source": [
    "nums = [4,10,4,3,8,9]\n",
    "lengthOfLIS(nums)"
   ],
   "outputs": [
    {
     "output_type": "stream",
     "name": "stdout",
     "text": [
      "[3, 8, 9]\n"
     ]
    },
    {
     "output_type": "execute_result",
     "data": {
      "text/plain": [
       "3"
      ]
     },
     "metadata": {},
     "execution_count": 40
    }
   ],
   "metadata": {}
  },
  {
   "cell_type": "markdown",
   "source": [
    "# 128. Longest Consecutive Sequence\n",
    "Medium\n",
    "Given an unsorted array of integers nums, return the length of the longest consecutive elements sequence.\n",
    "\n",
    "You must write an algorithm that runs in O(n) time."
   ],
   "metadata": {}
  },
  {
   "cell_type": "code",
   "execution_count": 22,
   "source": [
    "def longestConsecutive(nums) -> int:\n",
    "    # Brute force, \n",
    "    # 1, iterate through the nums\n",
    "    #   * current_num whether it has next ele in nums\n",
    "    # 2, record longest streak and current, and update the maxima \n",
    "    max_streak = 0\n",
    "\n",
    "    for num in nums: #O(N)\n",
    "        current_streak = 1\n",
    "        next_num = num + 1\n",
    "        while next_num in nums: # \"in\" is another iteartion, O(N)\n",
    "            # while will go through another O(N)\n",
    "            current_streak +=1\n",
    "            next_num +=1\n",
    "        max_streak = max(max_streak, current_streak)\n",
    "    return max_streak\n",
    "    # The time: O(N^3), space: O(1)\n",
    "\n",
    "\n",
    "    \n"
   ],
   "outputs": [],
   "metadata": {}
  },
  {
   "cell_type": "code",
   "execution_count": 29,
   "source": [
    "def longestConsecutive(nums) -> int:\n",
    "    # Sorted method\n",
    "    # After the sort, we just need to check, whether the sequemce is continous\n",
    "    # If not, just reset the current streak, don't have to look it up again.\n",
    "    # Note: Need to pay attention to repetitive number\n",
    "\n",
    "    # KEY: sorted is O(NlogN), for loop is O(N). Overall is still O(NlogN)\n",
    "    if not nums:\n",
    "        return 0\n",
    "    \n",
    "    max_streak = 1\n",
    "    current_streak = 1\n",
    "    nums = sorted(nums)\n",
    "    for i in range(1, len(nums)):\n",
    "        if nums[i] != nums[i-1]: # make sure not repetitive, select the final one\n",
    "            if nums[i] == (nums[i-1]+1): # continous\n",
    "                current_streak +=1\n",
    "            else: # break the streak\n",
    "                max_streak = max(max_streak, current_streak)\n",
    "                current_streak = 1\n",
    "    # KEY, such method, will lose the last streak. So need to compare one last time\n",
    "    return max(max_streak, current_streak)\n",
    "\n",
    "\n",
    "\n",
    "\n"
   ],
   "outputs": [],
   "metadata": {}
  },
  {
   "cell_type": "code",
   "execution_count": 33,
   "source": [
    "def longestConsecutive(nums) -> int:\n",
    "    # Using HashSet\n",
    "    nums_set = set(nums) # set will take care of repetitive num\n",
    "    longest_streak = 1\n",
    "    for n in nums_set:\n",
    "        if n-1 not in nums_set: # n is the begining of the streak\n",
    "            current_streak = 1\n",
    "            next_n = n +1\n",
    "            while next_n in nums_set:\n",
    "                current_streak +=1\n",
    "                next_n += 1\n",
    "            longest_streak = max(longest_streak, current_streak)\n",
    "\n",
    "    return longest_streak\n",
    "\n",
    "\n",
    "\n"
   ],
   "outputs": [],
   "metadata": {}
  },
  {
   "cell_type": "code",
   "execution_count": 34,
   "source": [
    "nums = [0,3,7,2,5,8,4,6,0,1]\n",
    "longestConsecutive(nums)"
   ],
   "outputs": [
    {
     "output_type": "execute_result",
     "data": {
      "text/plain": [
       "9"
      ]
     },
     "metadata": {},
     "execution_count": 34
    }
   ],
   "metadata": {}
  },
  {
   "cell_type": "code",
   "execution_count": 20,
   "source": [
    "s = set([9,9,8,7,0,0,1,3,4])"
   ],
   "outputs": [],
   "metadata": {}
  },
  {
   "cell_type": "code",
   "execution_count": 21,
   "source": [
    "s"
   ],
   "outputs": [
    {
     "output_type": "execute_result",
     "data": {
      "text/plain": [
       "{0, 1, 3, 4, 7, 8, 9}"
      ]
     },
     "metadata": {},
     "execution_count": 21
    }
   ],
   "metadata": {}
  },
  {
   "cell_type": "code",
   "execution_count": null,
   "source": [],
   "outputs": [],
   "metadata": {}
  }
 ],
 "metadata": {
  "orig_nbformat": 4,
  "language_info": {
   "name": "python",
   "version": "3.8.5",
   "mimetype": "text/x-python",
   "codemirror_mode": {
    "name": "ipython",
    "version": 3
   },
   "pygments_lexer": "ipython3",
   "nbconvert_exporter": "python",
   "file_extension": ".py"
  },
  "kernelspec": {
   "name": "python3",
   "display_name": "Python 3.8.5 64-bit ('base': conda)"
  },
  "interpreter": {
   "hash": "38d61402e3d8411fb0c3e7094d5ffdb923be3d218d13c3ac762fa769b2ec6624"
  }
 },
 "nbformat": 4,
 "nbformat_minor": 2
}