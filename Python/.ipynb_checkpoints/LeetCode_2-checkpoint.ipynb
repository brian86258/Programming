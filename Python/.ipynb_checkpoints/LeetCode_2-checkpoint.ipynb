{
 "cells": [
  {
   "cell_type": "markdown",
   "id": "mexican-insert",
   "metadata": {},
   "source": [
    "# 169. Majority Element\n",
    "Given an array nums of size n, return the majority element."
   ]
  },
  {
   "cell_type": "code",
   "execution_count": 35,
   "id": "married-family",
   "metadata": {},
   "outputs": [],
   "source": [
    "def majorityElement(nums):\n",
    "    from collections import defaultdict\n",
    "    count_dict = defaultdict(int)\n",
    "    for n in nums:\n",
    "        count_dict[n] +=1\n",
    "#     return max(count_dict, key= count_dict.get)\n",
    "        \n",
    "#     return count_dict\n",
    "    \n",
    "    "
   ]
  },
  {
   "cell_type": "code",
   "execution_count": 48,
   "id": "contemporary-picking",
   "metadata": {},
   "outputs": [],
   "source": [
    "def majorityElement_Moore(nums):\n",
    "    candidate = nums[0]\n",
    "    counter = 0\n",
    "    \n",
    "    for n in nums:\n",
    "        if counter ==0:\n",
    "            candidate = n\n",
    "        \n",
    "        if n == candidate:\n",
    "            counter +=1\n",
    "        else:\n",
    "            counter -=1\n",
    "    return candidate\n"
   ]
  },
  {
   "cell_type": "code",
   "execution_count": 49,
   "id": "rough-lawyer",
   "metadata": {},
   "outputs": [
    {
     "data": {
      "text/plain": [
       "2"
      ]
     },
     "execution_count": 49,
     "metadata": {},
     "output_type": "execute_result"
    }
   ],
   "source": [
    "nums = [2,2,3,3,3,2,2]\n",
    "# di = majorityElement(nums)\n",
    "majorityElement_Moore(nums)"
   ]
  },
  {
   "cell_type": "code",
   "execution_count": 41,
   "id": "possible-entity",
   "metadata": {},
   "outputs": [
    {
     "name": "stdout",
     "output_type": "stream",
     "text": [
      "3\n",
      "2\n"
     ]
    }
   ],
   "source": [
    "# only use max, only compare the index value\n",
    "print(max(di))\n",
    "# When using key, are comparing the \"key indicated\"\n",
    "print(max(di, key=di.get))"
   ]
  },
  {
   "cell_type": "markdown",
   "id": "imported-chamber",
   "metadata": {},
   "source": [
    "# 229. Majority Element II\n",
    "Given an integer array of size n, find all elements that appear more than ⌊ n/3 ⌋ times.\n"
   ]
  },
  {
   "cell_type": "code",
   "execution_count": 57,
   "id": "assisted-factor",
   "metadata": {},
   "outputs": [],
   "source": [
    "def majorityElement(nums):\n",
    "    from collections import defaultdict\n",
    "    count_dict = defaultdict(int)\n",
    "    for n in nums:\n",
    "        count_dict[n] +=1\n",
    "        \n",
    "    return [key for key,val in count_dict.items() if val>len(nums)/3]\n",
    "    "
   ]
  },
  {
   "cell_type": "code",
   "execution_count": 55,
   "id": "convenient-paris",
   "metadata": {},
   "outputs": [],
   "source": [
    "def majorityElement_moore(nums):\n",
    "    from collections import defaultdict\n",
    "    \n",
    "    count_dict = defaultdict(int)\n",
    "    \n",
    "    for n in nums:\n",
    "        count_dict[n] +=1\n",
    "#         print(count_dict)\n",
    "        if len(count_dict) == 3:\n",
    "            tmp_dict = defaultdict(int)\n",
    "            for key, val in count_dict.items():\n",
    "                if val >1:\n",
    "                    tmp_dict[key] = val-1\n",
    "            count_dict = tmp_dict\n",
    "    return [key for key,val in count_dict.items() if nums.count(key) > len(nums)/3]"
   ]
  },
  {
   "cell_type": "code",
   "execution_count": 58,
   "id": "functional-ministry",
   "metadata": {},
   "outputs": [
    {
     "data": {
      "text/plain": [
       "[2]"
      ]
     },
     "execution_count": 58,
     "metadata": {},
     "output_type": "execute_result"
    }
   ],
   "source": [
    "nums = [2,4,3,3,5,5,2,2]\n",
    "\n",
    "majorityElement(nums)"
   ]
  },
  {
   "cell_type": "code",
   "execution_count": 54,
   "id": "popular-junior",
   "metadata": {},
   "outputs": [
    {
     "data": {
      "text/plain": [
       "2.6666666666666665"
      ]
     },
     "execution_count": 54,
     "metadata": {},
     "output_type": "execute_result"
    }
   ],
   "source": [
    "len(nums)/3\n"
   ]
  },
  {
   "cell_type": "code",
   "execution_count": 60,
   "id": "residential-payment",
   "metadata": {},
   "outputs": [
    {
     "data": {
      "text/plain": [
       "3"
      ]
     },
     "execution_count": 60,
     "metadata": {},
     "output_type": "execute_result"
    }
   ],
   "source": [
    "nums = [2,4,3,3,5,5,2,2]\n",
    "nums.count(2)"
   ]
  },
  {
   "cell_type": "markdown",
   "id": "preceding-thursday",
   "metadata": {},
   "source": [
    "# 274. H-Index\n",
    "A scientist has an index h if **h of their n papers have at least h citations each, and the other n − h papers have no more than h citations each.**  \n",
    "If there are several possible values for h, the maximum one is taken as the h-index.  \n",
    "\n",
    "citations = [3,0,6,1,5]  \n",
    "    \n",
    "    [3,0,6,1,5] means the researcher has 5 papers in total and each of them had received 3, 0, 6, 1, 5 citations respectively.  \n",
    "    Since the researcher has 3 papers with at least 3 citations each and the remaining two with no more than 3 citations each, their h-index is 3.\n",
    "    \n",
    "看一個人的n份 paper, 其中有h 份, 至少超過h個citation, while 其他 n-h中, 沒有超過 h citation的paper"
   ]
  },
  {
   "cell_type": "markdown",
   "id": "caroline-verification",
   "metadata": {},
   "source": [
    "[3,0,6,1,5], if all 5 books larger than 5, hIndex is 5\n",
    "highest is the len(citations)\n",
    "\n"
   ]
  },
  {
   "cell_type": "code",
   "execution_count": 116,
   "id": "tracked-water",
   "metadata": {},
   "outputs": [],
   "source": [
    "def hIndex(citations):\n",
    "    citations = sorted(citations, reverse=True)\n",
    "    if citations[-1] >= len(citations):\n",
    "        return len(citations)\n",
    "    hindex = 0\n",
    "    # KEY, if i > 第 i 大的值, 則滿足hindex定義\n",
    "    # Without sorted is O(n)\n",
    "    for i in range(len(citations)):\n",
    "        if i >= citations[i]:\n",
    "            hindex = i\n",
    "            break\n",
    "    return hindex\n"
   ]
  },
  {
   "cell_type": "code",
   "execution_count": 87,
   "id": "developed-measurement",
   "metadata": {},
   "outputs": [],
   "source": [
    "#  NO sorted\n",
    "def hIndex(citations):\n",
    "    # The highest h-index for is len(citation)\n",
    "    hindex = len(citations)\n",
    "    if min(citations) >= hindex:\n",
    "        return hindex\n",
    "    # Try hindex candidate\n",
    "#     hindex = max([c for c in citations if c < hindex])\n",
    "    hindex-=1\n",
    "    print(hindex)\n",
    "    \n",
    "    # 如果citation超過 hindx的paper 數量, 沒有>= hindex 則要進loop, 每次將hindex -1\n",
    "    while len([c for c in citations if c >= hindex]) < hindex:\n",
    "        print('hindex:',hindex)\n",
    "        print([c for c in citations if c >= hindex], len([c for c in citations if c >= hindex]))\n",
    "        hindex-=1\n",
    "    \n",
    "    return hindex"
   ]
  },
  {
   "cell_type": "code",
   "execution_count": 92,
   "id": "equipped-wesley",
   "metadata": {},
   "outputs": [
    {
     "data": {
      "text/plain": [
       "2"
      ]
     },
     "execution_count": 92,
     "metadata": {},
     "output_type": "execute_result"
    }
   ],
   "source": [
    "citations = [4,7,0,0]\n",
    "hIndex(citations)"
   ]
  },
  {
   "cell_type": "code",
   "execution_count": 89,
   "id": "early-experiment",
   "metadata": {},
   "outputs": [
    {
     "data": {
      "text/plain": [
       "[7, 4, 0, 0]"
      ]
     },
     "execution_count": 89,
     "metadata": {},
     "output_type": "execute_result"
    }
   ],
   "source": [
    "sorted(citations, reverse=True)"
   ]
  },
  {
   "cell_type": "markdown",
   "id": "dried-denmark",
   "metadata": {},
   "source": [
    "## 275. H-Index II\n",
    "Given an array of integers citations where citations[i] is the number of citations a researcher received for their ith paper and citations is sorted in an **ascending** order, return compute the researcher's h-index \n",
    "<br>\n",
    "\n",
    "You must write an algorithm that runs in logarithmic time.\n"
   ]
  },
  {
   "cell_type": "code",
   "execution_count": 160,
   "id": "revolutionary-killing",
   "metadata": {},
   "outputs": [],
   "source": [
    "# Binary Search can reduce it to log(n)\n",
    "def hindex(citations):\n",
    "    n = len(citations)\n",
    "    l, r = 0, n-1\n",
    "    while l <= r:\n",
    "        mid = (l + r) //2\n",
    "        print(l, r,mid, ' ', citations[mid])\n",
    "        # 如果 citations 數量 剛剛好等於 比這個值 還大的 papers的數量, \n",
    "        # 則成功找到 hindex\n",
    "        if citations[mid] == (n - mid):\n",
    "            return n -mid\n",
    "        # citation 數量大於 多少篇paper滿足條件\n",
    "        if citations[mid] > (n - mid):\n",
    "            r = mid -1\n",
    "        else:\n",
    "            # KEY最後個 l 的 mid+1 是關鍵, 表示這個index 的值, 不夠比剩餘的大\n",
    "            l = mid +1\n",
    "\n",
    "    # KEY, 最後break 這個while 的時候, l 會 >= r\n",
    "    # 這時候的 l 是大於這個index 的數量, 所有值都大於 剩餘數量\n",
    "    print(l, r, ' ', citations[mid])\n",
    "    \n",
    "    return n - l\n",
    "\n",
    "            \n",
    "    \n",
    "            \n",
    "            \n"
   ]
  },
  {
   "cell_type": "code",
   "execution_count": 161,
   "id": "wooden-fever",
   "metadata": {
    "code_folding": [
     1
    ]
   },
   "outputs": [],
   "source": [
    "# Following is O(n)\n",
    "def hindex_N(citations):\n",
    "    if min(citations)>=len(citations):\n",
    "        return len(citations)\n",
    "    \n",
    "#     print(citations)\n",
    "    res = 0\n",
    "    for i in range(1,len(citations)):\n",
    "        # 第 i 大的>\n",
    "#         print(i, citations[-i])\n",
    "        if citations[-i] >= i:\n",
    "            res = i\n",
    "            \n",
    "    return res\n",
    "    "
   ]
  },
  {
   "cell_type": "code",
   "execution_count": 163,
   "id": "planned-circus",
   "metadata": {},
   "outputs": [
    {
     "name": "stdout",
     "output_type": "stream",
     "text": [
      "0 4 2   5\n",
      "0 1 0   1\n",
      "1 1 1   3\n",
      "2 1   3\n"
     ]
    },
    {
     "data": {
      "text/plain": [
       "3"
      ]
     },
     "execution_count": 163,
     "metadata": {},
     "output_type": "execute_result"
    }
   ],
   "source": [
    "citations = [1,3,5,6,9]\n",
    "hindex(citations)"
   ]
  },
  {
   "cell_type": "code",
   "execution_count": 122,
   "id": "marine-performance",
   "metadata": {},
   "outputs": [
    {
     "data": {
      "text/plain": [
       "2"
      ]
     },
     "execution_count": 122,
     "metadata": {},
     "output_type": "execute_result"
    }
   ],
   "source": [
    "5//2"
   ]
  },
  {
   "cell_type": "markdown",
   "id": "severe-participant",
   "metadata": {},
   "source": [
    "# 217 Contains Duplicate\n",
    "Given an integer array nums, return true if any value appears at least twice in the array, and return false if every element is distinct."
   ]
  },
  {
   "cell_type": "code",
   "execution_count": 17,
   "id": "separate-border",
   "metadata": {},
   "outputs": [],
   "source": [
    "# Bad proficiency\n",
    "def containsDuplicate(nums):\n",
    "    from collections import defaultdict\n",
    "    n_dict = defaultdict(int)\n",
    "    for n in nums:\n",
    "        n_dict[n]+=1\n",
    "    \n",
    "    return max(n_dict.values())>1\n",
    "    \n"
   ]
  },
  {
   "cell_type": "code",
   "execution_count": 24,
   "id": "atomic-bridges",
   "metadata": {},
   "outputs": [],
   "source": [
    "def containsDuplicate(nums):\n",
    "    return len(nums) != len(set(nums))"
   ]
  },
  {
   "cell_type": "code",
   "execution_count": 25,
   "id": "working-treasurer",
   "metadata": {},
   "outputs": [
    {
     "data": {
      "text/plain": [
       "True"
      ]
     },
     "execution_count": 25,
     "metadata": {},
     "output_type": "execute_result"
    }
   ],
   "source": [
    "nums = [1,2,3,1]\n",
    "containsDuplicate(nums)"
   ]
  },
  {
   "cell_type": "markdown",
   "id": "forty-maldives",
   "metadata": {},
   "source": [
    "## 219. Contains Duplicate II\n",
    "Given an integer array nums and an integer k, return true if there are two distinct indices i and j in the array such that   \n",
    "nums[i] == nums[j] and **abs(i - j) <= k.**  \n",
    "也就是 自己前k 跟 後k裡面有沒有 duplicate\n"
   ]
  },
  {
   "cell_type": "code",
   "execution_count": 52,
   "id": "committed-merchandise",
   "metadata": {},
   "outputs": [],
   "source": [
    "# Time Exceed\n",
    "def containsNearbyDuplicate(nums, k):\n",
    "    for i,n in enumerate(nums):\n",
    "        left = 0 if i-k<0 else i-k\n",
    "        right = len(nums) if i+k>=len(nums) else i+k\n",
    "#         print(i, left, right)\n",
    "        for idx in range(left, right):\n",
    "#             print(nums[idx], n)\n",
    "            if nums[idx] == n and idx!=i:\n",
    "                return True\n",
    "\n",
    "                \n",
    "    return False\n",
    "            \n",
    "    "
   ]
  },
  {
   "cell_type": "code",
   "execution_count": 84,
   "id": "extended-montgomery",
   "metadata": {},
   "outputs": [],
   "source": [
    "def containsNearbyDuplicate(nums, k):\n",
    "    n_dic = {}\n",
    "    # key, n_dic 是存這個植在第幾個位置\n",
    "    for i, v in enumerate(nums):\n",
    "        if v in n_dic and i - n_dic[v] <=k:\n",
    "            return True\n",
    "        n_dic[v] = i\n",
    "    return False\n",
    "        \n"
   ]
  },
  {
   "cell_type": "code",
   "execution_count": 85,
   "id": "comprehensive-circular",
   "metadata": {},
   "outputs": [
    {
     "data": {
      "text/plain": [
       "True"
      ]
     },
     "execution_count": 85,
     "metadata": {},
     "output_type": "execute_result"
    }
   ],
   "source": [
    "nums = [1,2,3,1]; k = 3\n",
    "# nums = [1,0,1,1]; k = 1\n",
    "# nums = [1,2,3,1,2,3]; k = 2\n",
    "containsNearbyDuplicate(nums,k)"
   ]
  },
  {
   "cell_type": "markdown",
   "id": "sharing-stranger",
   "metadata": {},
   "source": [
    "## <a href='https://leetcode.com/problems/contains-duplicate-iii/discuss/828127/PythonGo-O(n)-by-sliding-window-and-bucket-w-Comment'> 220. Contains Duplicate III</a>\n",
    "Given an integer array nums and two integers k and t, return true if there are two distinct indices i and j in the array such that  \n",
    "**abs(nums[i] - nums[j]) <= t**  \n",
    "**and abs(i - j) <= k.**\n",
    "<br>\n",
    " \n",
    "NOTE: 以除法來想, 每個數值 除以 t, 會落在不同區間"
   ]
  },
  {
   "cell_type": "code",
   "execution_count": 122,
   "id": "generous-bones",
   "metadata": {},
   "outputs": [],
   "source": [
    "# Bad Efficiency\n",
    "def containsNearbyAlmostDuplicate(nums, k, t):\n",
    "    if t == 0:\n",
    "        n_dic = {}\n",
    "        # key, n_dic 是存這個植在第幾個位置\n",
    "        for i, v in enumerate(nums):\n",
    "            if v in n_dic and i - n_dic[v] <=k:\n",
    "                return True\n",
    "            n_dic[v] = i\n",
    "        return False\n",
    "\n",
    "    \n",
    "    # With Large K, will exceed Time limit\n",
    "    window_list = []\n",
    "    for n in nums:\n",
    "        if len(window_list) >= k+1:\n",
    "            window_list.pop(0)\n",
    "        if window_list:\n",
    "            for win_n in window_list:\n",
    "                if abs(win_n - n) <=t:\n",
    "                    return True\n",
    "        window_list.append(n)\n",
    "    return False\n",
    "        \n"
   ]
  },
  {
   "cell_type": "code",
   "execution_count": 129,
   "id": "silver-strip",
   "metadata": {},
   "outputs": [],
   "source": [
    "# 以除法來想, 如果\n",
    "def containsNearbyAlmostDuplicate(nums, k, t):\n",
    "    if t == 0 and len(nums) == len(set(nums)):\n",
    "        # Quick response for t = 0\n",
    "        # t = 0 requires at least one pair of repeated element\n",
    "        return False\n",
    "    \n",
    "    size = len(nums)\n",
    "    bucket = {}\n",
    "    #KEY width = t +1,  prevent t==0, and following abs(..) < width not <=\n",
    "    width = t+1\n",
    "    \n",
    "    for idx,num in enumerate(nums):\n",
    "        bucket_idx = num // width\n",
    "        if bucket_idx in bucket:\n",
    "            # two numbers in the same bucket, gap must be smaller than width\n",
    "            return True\n",
    "        elif bucket_idx+1 in bucket and abs(num - bucket[bucket_idx+1]) <width:\n",
    "            return True\n",
    "        elif bucket_idx-1 in bucket and abs(num - bucket[bucket_idx-1]) <width:\n",
    "            return True\n",
    "        \n",
    "        bucket[bucket_idx] = num\n",
    "        \n",
    "        if idx>=k:\n",
    "            # delete old number whose index distance larger than k\n",
    "            del bucket[ nums[idx-k] // width]\n",
    "    return False\n",
    "        \n",
    "            \n"
   ]
  },
  {
   "cell_type": "code",
   "execution_count": 130,
   "id": "exempt-blank",
   "metadata": {},
   "outputs": [
    {
     "data": {
      "text/plain": [
       "True"
      ]
     },
     "execution_count": 130,
     "metadata": {},
     "output_type": "execute_result"
    }
   ],
   "source": [
    "# nums = [1,0,1,1];k = 1; t = 2\n",
    "# nums = [1,5,9,1,5,9]; k = 2; t = 3\n",
    "nums = [1,2,3,1]; k = 3; t = 0\n",
    "# nums = [4,1,6,3]; k = 100; t = 1\n",
    "\n",
    "containsNearbyAlmostDuplicate(nums,k,t)"
   ]
  },
  {
   "cell_type": "markdown",
   "id": "prescription-acquisition",
   "metadata": {},
   "source": [
    "# 55. Jump Game\n",
    "Given an array of non-negative integers nums, you are initially positioned at the first index of the array.  \n",
    "\n",
    "Each element in the array represents your maximum jump length at that position.  \n",
    "\n",
    "Determine if you are able to reach the last index.  \n"
   ]
  },
  {
   "cell_type": "code",
   "execution_count": 264,
   "id": "attempted-office",
   "metadata": {},
   "outputs": [],
   "source": [
    "# Exceed Time limit\n",
    "def canJump(nums):\n",
    "    reach_list = [False for i in range(len(nums))]\n",
    "    reach_list[0] = True\n",
    "#     print(reach_list)\n",
    "    for i in range(len(nums)):\n",
    "        if reach_list[-1] == True:\n",
    "            return True\n",
    "        \n",
    "        if reach_list[i] is True:\n",
    "            upper = i + nums[i] +1\n",
    "            upper = len(nums) if upper >= len(nums) else upper\n",
    "            reach_list[i:upper] = [True for i in range(upper-i)]\n",
    "#             print(reach_list)\n",
    "        \n",
    "    return False\n",
    "        \n"
   ]
  },
  {
   "cell_type": "code",
   "execution_count": 266,
   "id": "graduate-validity",
   "metadata": {},
   "outputs": [],
   "source": [
    "def canJump(nums):\n",
    "    m = 0\n",
    "    # Going forwards. m tells the maximum index we can reach so far.\n",
    "    for i, n in enumerate(nums):\n",
    "        if i > m:  # 也就是來到了 到不了的地方\n",
    "            return False\n",
    "        m = max(m, i+n)\n",
    "    return True\n"
   ]
  },
  {
   "cell_type": "code",
   "execution_count": 267,
   "id": "consistent-complement",
   "metadata": {},
   "outputs": [
    {
     "data": {
      "text/plain": [
       "False"
      ]
     },
     "execution_count": 267,
     "metadata": {},
     "output_type": "execute_result"
    }
   ],
   "source": [
    "nums = [3,2,1,0,4]\n",
    "# nums = [2,3,1,1,4]\n",
    "canJump(nums)"
   ]
  },
  {
   "cell_type": "markdown",
   "id": "progressive-bennett",
   "metadata": {},
   "source": [
    "## <a href='https://leetcode.com/problems/jump-game-ii/discuss/485780/Python-O(-n-)-sol.-based-on-greedy-of-coverage.-90%2B-With-explanation'>45. Jump Game II</a>\n",
    "Given an array of non-negative integers nums, you are initially positioned at the first index of the array.  \n",
    "\n",
    "Each element in the array represents your maximum jump length at that position.  \n",
    "\n",
    "**Your goal is to reach the last index in the minimum number of jumps.**\n",
    "\n",
    "**You can assume that you can always reach the last index.**"
   ]
  },
  {
   "cell_type": "code",
   "execution_count": 296,
   "id": "later-female",
   "metadata": {},
   "outputs": [],
   "source": [
    "# Time O(N^2), SPACE O(N)\n",
    "def jump(nums):\n",
    "#     dp[i], 表示到第i 最少需要多少步\n",
    "#     這是 top down的想法\n",
    "#     dp[i] = min(dp[i-1]+1, .....)\n",
    "#    以buttom up 來寫, 就是每次看這個地方能走到的地方, 在去更新dp裡的值\n",
    "    \n",
    "    dp = [float('inf') for _ in range(len(nums))]\n",
    "    dp[0] = 0\n",
    "    print(dp)\n",
    "    for i, n in enumerate(nums):\n",
    "#         print('---',i)\n",
    "        if dp[-1] != float('inf'):\n",
    "                return dp[-1]\n",
    "            \n",
    "        upper = i + nums[i] +1\n",
    "        upper = len(nums) if upper >= len(nums) else upper\n",
    "        for j in range(i, upper):\n",
    "            # 比較從上一步走過來 比較小\n",
    "            dp[j] = min(dp[i]+1, dp[j])\n",
    "#             print(j)\n",
    "#         print(dp)\n",
    "    return dp\n",
    "        \n",
    "        \n",
    "        \n",
    "        "
   ]
  },
  {
   "cell_type": "code",
   "execution_count": 300,
   "id": "extensive-beatles",
   "metadata": {},
   "outputs": [],
   "source": [
    "# TIME O(N), SPACE O(1)\n",
    "def jump(nums):\n",
    "    size = len(nums)\n",
    "    # destination is last index\n",
    "    destination = size - 1\n",
    "    # record of current coverage, record of last jump index\n",
    "    cur_coverage, last_jump_index = 0, 0\n",
    "    # counter for jump\n",
    "    times_of_jump = 0\n",
    "     # Quick response if start index == destination index == 0\n",
    "    if size == 1:\n",
    "        return 0\n",
    "    \n",
    "    # Greedy strategy: extend coverage as long as possible with lazy jump\n",
    "    for i in range(0, size):\n",
    "        # Extend the current coverate as further as possible\n",
    "        cur_coverage = max(i + nums[i], cur_coverage)\n",
    "        \n",
    "        # 跳到最遠的地方了, forced to jump (by lazy jump) to extend coverage\n",
    "        if i == last_jump_index:\n",
    "            # update last jump index\n",
    "            last_jump_index = cur_coverage\n",
    "\n",
    "            # update counter of jump by +1\n",
    "            times_of_jump += 1\n",
    "\n",
    "            # check if reached destination already\n",
    "            if cur_coverage >= destination:\n",
    "                    return times_of_jump\n",
    "            \n",
    "    return times_of_jump\n",
    "    "
   ]
  },
  {
   "cell_type": "code",
   "execution_count": 301,
   "id": "external-knife",
   "metadata": {},
   "outputs": [
    {
     "data": {
      "text/plain": [
       "2"
      ]
     },
     "execution_count": 301,
     "metadata": {},
     "output_type": "execute_result"
    }
   ],
   "source": [
    "nums = [2,3,1,1,4]\n",
    "nums = [2,3,0,1,4]\n",
    "nums = [2,13,1,4]\n",
    "\n",
    "jump(nums)"
   ]
  },
  {
   "cell_type": "markdown",
   "id": "uniform-advertising",
   "metadata": {},
   "source": [
    "## This is TEST for GITHUB"
   ]
  },
  {
   "cell_type": "code",
   "execution_count": null,
   "id": "injured-range",
   "metadata": {},
   "outputs": [],
   "source": []
  }
 ],
 "metadata": {
  "kernelspec": {
   "display_name": "Python 3",
   "language": "python",
   "name": "python3"
  },
  "language_info": {
   "codemirror_mode": {
    "name": "ipython",
    "version": 3
   },
   "file_extension": ".py",
   "mimetype": "text/x-python",
   "name": "python",
   "nbconvert_exporter": "python",
   "pygments_lexer": "ipython3",
   "version": "3.8.5"
  },
  "toc": {
   "base_numbering": 1,
   "nav_menu": {},
   "number_sections": true,
   "sideBar": true,
   "skip_h1_title": false,
   "title_cell": "Table of Contents",
   "title_sidebar": "Contents",
   "toc_cell": false,
   "toc_position": {},
   "toc_section_display": true,
   "toc_window_display": false
  },
  "varInspector": {
   "cols": {
    "lenName": 16,
    "lenType": 16,
    "lenVar": 40
   },
   "kernels_config": {
    "python": {
     "delete_cmd_postfix": "",
     "delete_cmd_prefix": "del ",
     "library": "var_list.py",
     "varRefreshCmd": "print(var_dic_list())"
    },
    "r": {
     "delete_cmd_postfix": ") ",
     "delete_cmd_prefix": "rm(",
     "library": "var_list.r",
     "varRefreshCmd": "cat(var_dic_list()) "
    }
   },
   "types_to_exclude": [
    "module",
    "function",
    "builtin_function_or_method",
    "instance",
    "_Feature"
   ],
   "window_display": false
  }
 },
 "nbformat": 4,
 "nbformat_minor": 5
}
