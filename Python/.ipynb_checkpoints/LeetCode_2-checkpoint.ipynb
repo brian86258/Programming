{
 "cells": [
  {
   "cell_type": "markdown",
   "id": "mexican-insert",
   "metadata": {},
   "source": [
    "# 169. Majority Element\n",
    "Given an array nums of size n, return the majority element."
   ]
  },
  {
   "cell_type": "code",
   "execution_count": 35,
   "id": "married-family",
   "metadata": {},
   "outputs": [],
   "source": [
    "def majorityElement(nums):\n",
    "    from collections import defaultdict\n",
    "    count_dict = defaultdict(int)\n",
    "    for n in nums:\n",
    "        count_dict[n] +=1\n",
    "#     return max(count_dict, key= count_dict.get)\n",
    "        \n",
    "#     return count_dict\n",
    "    \n",
    "    "
   ]
  },
  {
   "cell_type": "code",
   "execution_count": 48,
   "id": "contemporary-picking",
   "metadata": {},
   "outputs": [],
   "source": [
    "def majorityElement_Moore(nums):\n",
    "    candidate = nums[0]\n",
    "    counter = 0\n",
    "    \n",
    "    for n in nums:\n",
    "        if counter ==0:\n",
    "            candidate = n\n",
    "        \n",
    "        if n == candidate:\n",
    "            counter +=1\n",
    "        else:\n",
    "            counter -=1\n",
    "    return candidate\n"
   ]
  },
  {
   "cell_type": "code",
   "execution_count": 49,
   "id": "rough-lawyer",
   "metadata": {},
   "outputs": [
    {
     "data": {
      "text/plain": [
       "2"
      ]
     },
     "execution_count": 49,
     "metadata": {},
     "output_type": "execute_result"
    }
   ],
   "source": [
    "nums = [2,2,3,3,3,2,2]\n",
    "# di = majorityElement(nums)\n",
    "majorityElement_Moore(nums)"
   ]
  },
  {
   "cell_type": "code",
   "execution_count": 41,
   "id": "possible-entity",
   "metadata": {},
   "outputs": [
    {
     "name": "stdout",
     "output_type": "stream",
     "text": [
      "3\n",
      "2\n"
     ]
    }
   ],
   "source": [
    "# only use max, only compare the index value\n",
    "print(max(di))\n",
    "# When using key, are comparing the \"key indicated\"\n",
    "print(max(di, key=di.get))"
   ]
  },
  {
   "cell_type": "markdown",
   "id": "imported-chamber",
   "metadata": {},
   "source": [
    "# 229. Majority Element II\n",
    "Given an integer array of size n, find all elements that appear more than ⌊ n/3 ⌋ times.\n"
   ]
  },
  {
   "cell_type": "code",
   "execution_count": 57,
   "id": "assisted-factor",
   "metadata": {},
   "outputs": [],
   "source": [
    "def majorityElement(nums):\n",
    "    from collections import defaultdict\n",
    "    count_dict = defaultdict(int)\n",
    "    for n in nums:\n",
    "        count_dict[n] +=1\n",
    "        \n",
    "    return [key for key,val in count_dict.items() if val>len(nums)/3]\n",
    "    "
   ]
  },
  {
   "cell_type": "code",
   "execution_count": 55,
   "id": "convenient-paris",
   "metadata": {},
   "outputs": [],
   "source": [
    "def majorityElement_moore(nums):\n",
    "    from collections import defaultdict\n",
    "    \n",
    "    count_dict = defaultdict(int)\n",
    "    \n",
    "    for n in nums:\n",
    "        count_dict[n] +=1\n",
    "#         print(count_dict)\n",
    "        if len(count_dict) == 3:\n",
    "            tmp_dict = defaultdict(int)\n",
    "            for key, val in count_dict.items():\n",
    "                if val >1:\n",
    "                    tmp_dict[key] = val-1\n",
    "            count_dict = tmp_dict\n",
    "    return [key for key,val in count_dict.items() if nums.count(key) > len(nums)/3]"
   ]
  },
  {
   "cell_type": "code",
   "execution_count": 58,
   "id": "functional-ministry",
   "metadata": {},
   "outputs": [
    {
     "data": {
      "text/plain": [
       "[2]"
      ]
     },
     "execution_count": 58,
     "metadata": {},
     "output_type": "execute_result"
    }
   ],
   "source": [
    "nums = [2,4,3,3,5,5,2,2]\n",
    "\n",
    "majorityElement(nums)"
   ]
  },
  {
   "cell_type": "code",
   "execution_count": 54,
   "id": "popular-junior",
   "metadata": {},
   "outputs": [
    {
     "data": {
      "text/plain": [
       "2.6666666666666665"
      ]
     },
     "execution_count": 54,
     "metadata": {},
     "output_type": "execute_result"
    }
   ],
   "source": [
    "len(nums)/3\n"
   ]
  },
  {
   "cell_type": "code",
   "execution_count": 60,
   "id": "residential-payment",
   "metadata": {},
   "outputs": [
    {
     "data": {
      "text/plain": [
       "3"
      ]
     },
     "execution_count": 60,
     "metadata": {},
     "output_type": "execute_result"
    }
   ],
   "source": [
    "nums = [2,4,3,3,5,5,2,2]\n",
    "nums.count(2)"
   ]
  },
  {
   "cell_type": "markdown",
   "id": "preceding-thursday",
   "metadata": {},
   "source": [
    "# 274. H-Index\n",
    "A scientist has an index h if **h of their n papers have at least h citations each, and the other n − h papers have no more than h citations each.**  \n",
    "If there are several possible values for h, the maximum one is taken as the h-index.  \n",
    "\n",
    "citations = [3,0,6,1,5]  \n",
    "    \n",
    "    [3,0,6,1,5] means the researcher has 5 papers in total and each of them had received 3, 0, 6, 1, 5 citations respectively.  \n",
    "    Since the researcher has 3 papers with at least 3 citations each and the remaining two with no more than 3 citations each, their h-index is 3.\n",
    "    \n",
    "看一個人的n份 paper, 其中有h 份, 至少超過h個citation, while 其他 n-h中, 沒有超過 h citation的paper"
   ]
  },
  {
   "cell_type": "markdown",
   "id": "caroline-verification",
   "metadata": {},
   "source": [
    "[3,0,6,1,5], if all 5 books larger than 5, hIndex is 5\n",
    "highest is the len(citations)\n",
    "\n"
   ]
  },
  {
   "cell_type": "code",
   "execution_count": 116,
   "id": "tracked-water",
   "metadata": {},
   "outputs": [],
   "source": [
    "def hIndex(citations):\n",
    "    citations = sorted(citations, reverse=True)\n",
    "    if citations[-1] >= len(citations):\n",
    "        return len(citations)\n",
    "    hindex = 0\n",
    "    # KEY, if i > 第 i 大的值, 則滿足hindex定義\n",
    "    # Without sorted is O(n)\n",
    "    for i in range(len(citations)):\n",
    "        if i >= citations[i]:\n",
    "            hindex = i\n",
    "            break\n",
    "    return hindex\n"
   ]
  },
  {
   "cell_type": "code",
   "execution_count": 87,
   "id": "developed-measurement",
   "metadata": {},
   "outputs": [],
   "source": [
    "#  NO sorted\n",
    "def hIndex(citations):\n",
    "    # The highest h-index for is len(citation)\n",
    "    hindex = len(citations)\n",
    "    if min(citations) >= hindex:\n",
    "        return hindex\n",
    "    # Try hindex candidate\n",
    "#     hindex = max([c for c in citations if c < hindex])\n",
    "    hindex-=1\n",
    "    print(hindex)\n",
    "    \n",
    "    # 如果citation超過 hindx的paper 數量, 沒有>= hindex 則要進loop, 每次將hindex -1\n",
    "    while len([c for c in citations if c >= hindex]) < hindex:\n",
    "        print('hindex:',hindex)\n",
    "        print([c for c in citations if c >= hindex], len([c for c in citations if c >= hindex]))\n",
    "        hindex-=1\n",
    "    \n",
    "    return hindex"
   ]
  },
  {
   "cell_type": "code",
   "execution_count": 92,
   "id": "equipped-wesley",
   "metadata": {},
   "outputs": [
    {
     "data": {
      "text/plain": [
       "2"
      ]
     },
     "execution_count": 92,
     "metadata": {},
     "output_type": "execute_result"
    }
   ],
   "source": [
    "citations = [4,7,0,0]\n",
    "hIndex(citations)"
   ]
  },
  {
   "cell_type": "code",
   "execution_count": 89,
   "id": "early-experiment",
   "metadata": {},
   "outputs": [
    {
     "data": {
      "text/plain": [
       "[7, 4, 0, 0]"
      ]
     },
     "execution_count": 89,
     "metadata": {},
     "output_type": "execute_result"
    }
   ],
   "source": [
    "sorted(citations, reverse=True)"
   ]
  },
  {
   "cell_type": "markdown",
   "id": "dried-denmark",
   "metadata": {},
   "source": [
    "## 275. H-Index II\n",
    "Given an array of integers citations where citations[i] is the number of citations a researcher received for their ith paper and citations is sorted in an **ascending** order, return compute the researcher's h-index \n",
    "<br>\n",
    "\n",
    "You must write an algorithm that runs in logarithmic time.\n"
   ]
  },
  {
   "cell_type": "code",
   "execution_count": 160,
   "id": "revolutionary-killing",
   "metadata": {},
   "outputs": [],
   "source": [
    "# Binary Search can reduce it to log(n)\n",
    "def hindex(citations):\n",
    "    n = len(citations)\n",
    "    l, r = 0, n-1\n",
    "    while l <= r:\n",
    "        mid = (l + r) //2\n",
    "        print(l, r,mid, ' ', citations[mid])\n",
    "        # 如果 citations 數量 剛剛好等於 比這個值 還大的 papers的數量, \n",
    "        # 則成功找到 hindex\n",
    "        if citations[mid] == (n - mid):\n",
    "            return n -mid\n",
    "        # citation 數量大於 多少篇paper滿足條件\n",
    "        if citations[mid] > (n - mid):\n",
    "            r = mid -1\n",
    "        else:\n",
    "            # KEY最後個 l 的 mid+1 是關鍵, 表示這個index 的值, 不夠比剩餘的大\n",
    "            l = mid +1\n",
    "\n",
    "    # KEY, 最後break 這個while 的時候, l 會 >= r\n",
    "    # 這時候的 l 是大於這個index 的數量, 所有值都大於 剩餘數量\n",
    "    print(l, r, ' ', citations[mid])\n",
    "    \n",
    "    return n - l\n",
    "\n",
    "            \n",
    "    \n",
    "            \n",
    "            \n"
   ]
  },
  {
   "cell_type": "code",
   "execution_count": 161,
   "id": "wooden-fever",
   "metadata": {
    "code_folding": [
     1
    ]
   },
   "outputs": [],
   "source": [
    "# Following is O(n)\n",
    "def hindex_N(citations):\n",
    "    if min(citations)>=len(citations):\n",
    "        return len(citations)\n",
    "    \n",
    "#     print(citations)\n",
    "    res = 0\n",
    "    for i in range(1,len(citations)):\n",
    "        # 第 i 大的>\n",
    "#         print(i, citations[-i])\n",
    "        if citations[-i] >= i:\n",
    "            res = i\n",
    "            \n",
    "    return res\n",
    "    "
   ]
  },
  {
   "cell_type": "code",
   "execution_count": 163,
   "id": "planned-circus",
   "metadata": {},
   "outputs": [
    {
     "name": "stdout",
     "output_type": "stream",
     "text": [
      "0 4 2   5\n",
      "0 1 0   1\n",
      "1 1 1   3\n",
      "2 1   3\n"
     ]
    },
    {
     "data": {
      "text/plain": [
       "3"
      ]
     },
     "execution_count": 163,
     "metadata": {},
     "output_type": "execute_result"
    }
   ],
   "source": [
    "citations = [1,3,5,6,9]\n",
    "hindex(citations)"
   ]
  },
  {
   "cell_type": "code",
   "execution_count": 122,
   "id": "marine-performance",
   "metadata": {},
   "outputs": [
    {
     "data": {
      "text/plain": [
       "2"
      ]
     },
     "execution_count": 122,
     "metadata": {},
     "output_type": "execute_result"
    }
   ],
   "source": [
    "5//2"
   ]
  },
  {
   "cell_type": "markdown",
   "id": "severe-participant",
   "metadata": {},
   "source": [
    "# 217 Contains Duplicate\n",
    "Given an integer array nums, return true if any value appears at least twice in the array, and return false if every element is distinct."
   ]
  },
  {
   "cell_type": "code",
   "execution_count": 17,
   "id": "separate-border",
   "metadata": {},
   "outputs": [],
   "source": [
    "# Bad proficiency\n",
    "def containsDuplicate(nums):\n",
    "    from collections import defaultdict\n",
    "    n_dict = defaultdict(int)\n",
    "    for n in nums:\n",
    "        n_dict[n]+=1\n",
    "    \n",
    "    return max(n_dict.values())>1\n",
    "    \n"
   ]
  },
  {
   "cell_type": "code",
   "execution_count": 24,
   "id": "atomic-bridges",
   "metadata": {},
   "outputs": [],
   "source": [
    "def containsDuplicate(nums):\n",
    "    return len(nums) != len(set(nums))"
   ]
  },
  {
   "cell_type": "code",
   "execution_count": 25,
   "id": "working-treasurer",
   "metadata": {},
   "outputs": [
    {
     "data": {
      "text/plain": [
       "True"
      ]
     },
     "execution_count": 25,
     "metadata": {},
     "output_type": "execute_result"
    }
   ],
   "source": [
    "nums = [1,2,3,1]\n",
    "containsDuplicate(nums)"
   ]
  },
  {
   "cell_type": "markdown",
   "id": "forty-maldives",
   "metadata": {},
   "source": [
    "## 219. Contains Duplicate II\n",
    "Given an integer array nums and an integer k, return true if there are two distinct indices i and j in the array such that   \n",
    "nums[i] == nums[j] and **abs(i - j) <= k.**  \n",
    "也就是 自己前k 跟 後k裡面有沒有 duplicate\n"
   ]
  },
  {
   "cell_type": "code",
   "execution_count": 52,
   "id": "committed-merchandise",
   "metadata": {},
   "outputs": [],
   "source": [
    "# Time Exceed\n",
    "def containsNearbyDuplicate(nums, k):\n",
    "    for i,n in enumerate(nums):\n",
    "        left = 0 if i-k<0 else i-k\n",
    "        right = len(nums) if i+k>=len(nums) else i+k\n",
    "#         print(i, left, right)\n",
    "        for idx in range(left, right):\n",
    "#             print(nums[idx], n)\n",
    "            if nums[idx] == n and idx!=i:\n",
    "                return True\n",
    "\n",
    "                \n",
    "    return False\n",
    "            \n",
    "    "
   ]
  },
  {
   "cell_type": "code",
   "execution_count": 84,
   "id": "extended-montgomery",
   "metadata": {},
   "outputs": [],
   "source": [
    "def containsNearbyDuplicate(nums, k):\n",
    "    n_dic = {}\n",
    "    # key, n_dic 是存這個植在第幾個位置\n",
    "    for i, v in enumerate(nums):\n",
    "        if v in n_dic and i - n_dic[v] <=k:\n",
    "            return True\n",
    "        n_dic[v] = i\n",
    "    return False\n",
    "        \n"
   ]
  },
  {
   "cell_type": "code",
   "execution_count": 85,
   "id": "comprehensive-circular",
   "metadata": {},
   "outputs": [
    {
     "data": {
      "text/plain": [
       "True"
      ]
     },
     "execution_count": 85,
     "metadata": {},
     "output_type": "execute_result"
    }
   ],
   "source": [
    "nums = [1,2,3,1]; k = 3\n",
    "# nums = [1,0,1,1]; k = 1\n",
    "# nums = [1,2,3,1,2,3]; k = 2\n",
    "containsNearbyDuplicate(nums,k)"
   ]
  },
  {
   "cell_type": "markdown",
   "id": "sharing-stranger",
   "metadata": {},
   "source": [
    "## <a href='https://leetcode.com/problems/contains-duplicate-iii/discuss/828127/PythonGo-O(n)-by-sliding-window-and-bucket-w-Comment'> 220. Contains Duplicate III</a>\n",
    "Given an integer array nums and two integers k and t, return true if there are two distinct indices i and j in the array such that  \n",
    "**abs(nums[i] - nums[j]) <= t**  \n",
    "**and abs(i - j) <= k.**\n",
    "<br>\n",
    " \n",
    "NOTE: 以除法來想, 每個數值 除以 t, 會落在不同區間"
   ]
  },
  {
   "cell_type": "code",
   "execution_count": 122,
   "id": "generous-bones",
   "metadata": {},
   "outputs": [],
   "source": [
    "# Bad Efficiency\n",
    "def containsNearbyAlmostDuplicate(nums, k, t):\n",
    "    if t == 0:\n",
    "        n_dic = {}\n",
    "        # key, n_dic 是存這個植在第幾個位置\n",
    "        for i, v in enumerate(nums):\n",
    "            if v in n_dic and i - n_dic[v] <=k:\n",
    "                return True\n",
    "            n_dic[v] = i\n",
    "        return False\n",
    "\n",
    "    \n",
    "    # With Large K, will exceed Time limit\n",
    "    window_list = []\n",
    "    for n in nums:\n",
    "        if len(window_list) >= k+1:\n",
    "            window_list.pop(0)\n",
    "        if window_list:\n",
    "            for win_n in window_list:\n",
    "                if abs(win_n - n) <=t:\n",
    "                    return True\n",
    "        window_list.append(n)\n",
    "    return False\n",
    "        \n"
   ]
  },
  {
   "cell_type": "code",
   "execution_count": 129,
   "id": "silver-strip",
   "metadata": {},
   "outputs": [],
   "source": [
    "# 以除法來想, 如果\n",
    "def containsNearbyAlmostDuplicate(nums, k, t):\n",
    "    if t == 0 and len(nums) == len(set(nums)):\n",
    "        # Quick response for t = 0\n",
    "        # t = 0 requires at least one pair of repeated element\n",
    "        return False\n",
    "    \n",
    "    size = len(nums)\n",
    "    bucket = {}\n",
    "    #KEY width = t +1,  prevent t==0, and following abs(..) < width not <=\n",
    "    width = t+1\n",
    "    \n",
    "    for idx,num in enumerate(nums):\n",
    "        bucket_idx = num // width\n",
    "        if bucket_idx in bucket:\n",
    "            # two numbers in the same bucket, gap must be smaller than width\n",
    "            return True\n",
    "        elif bucket_idx+1 in bucket and abs(num - bucket[bucket_idx+1]) <width:\n",
    "            return True\n",
    "        elif bucket_idx-1 in bucket and abs(num - bucket[bucket_idx-1]) <width:\n",
    "            return True\n",
    "        \n",
    "        bucket[bucket_idx] = num\n",
    "        \n",
    "        if idx>=k:\n",
    "            # delete old number whose index distance larger than k\n",
    "            del bucket[ nums[idx-k] // width]\n",
    "    return False\n",
    "        \n",
    "            \n"
   ]
  },
  {
   "cell_type": "code",
   "execution_count": 130,
   "id": "exempt-blank",
   "metadata": {},
   "outputs": [
    {
     "data": {
      "text/plain": [
       "True"
      ]
     },
     "execution_count": 130,
     "metadata": {},
     "output_type": "execute_result"
    }
   ],
   "source": [
    "# nums = [1,0,1,1];k = 1; t = 2\n",
    "# nums = [1,5,9,1,5,9]; k = 2; t = 3\n",
    "nums = [1,2,3,1]; k = 3; t = 0\n",
    "# nums = [4,1,6,3]; k = 100; t = 1\n",
    "\n",
    "containsNearbyAlmostDuplicate(nums,k,t)"
   ]
  },
  {
   "cell_type": "markdown",
   "id": "prescription-acquisition",
   "metadata": {},
   "source": [
    "# 55. Jump Game\n",
    "Given an array of non-negative integers nums, you are initially positioned at the first index of the array.  \n",
    "\n",
    "Each element in the array represents your maximum jump length at that position.  \n",
    "\n",
    "Determine if you are able to reach the last index.  \n"
   ]
  },
  {
   "cell_type": "code",
   "execution_count": 264,
   "id": "attempted-office",
   "metadata": {},
   "outputs": [],
   "source": [
    "# Exceed Time limit\n",
    "def canJump(nums):\n",
    "    reach_list = [False for i in range(len(nums))]\n",
    "    reach_list[0] = True\n",
    "#     print(reach_list)\n",
    "    for i in range(len(nums)):\n",
    "        if reach_list[-1] == True:\n",
    "            return True\n",
    "        \n",
    "        if reach_list[i] is True:\n",
    "            upper = i + nums[i] +1\n",
    "            upper = len(nums) if upper >= len(nums) else upper\n",
    "            reach_list[i:upper] = [True for i in range(upper-i)]\n",
    "#             print(reach_list)\n",
    "        \n",
    "    return False\n",
    "        \n"
   ]
  },
  {
   "cell_type": "code",
   "execution_count": 266,
   "id": "graduate-validity",
   "metadata": {},
   "outputs": [],
   "source": [
    "def canJump(nums):\n",
    "    m = 0\n",
    "    # Going forwards. m tells the maximum index we can reach so far.\n",
    "    for i, n in enumerate(nums):\n",
    "        if i > m:  # 也就是來到了 到不了的地方\n",
    "            return False\n",
    "        m = max(m, i+n)\n",
    "    return True\n"
   ]
  },
  {
   "cell_type": "code",
   "execution_count": 267,
   "id": "consistent-complement",
   "metadata": {},
   "outputs": [
    {
     "data": {
      "text/plain": [
       "False"
      ]
     },
     "execution_count": 267,
     "metadata": {},
     "output_type": "execute_result"
    }
   ],
   "source": [
    "nums = [3,2,1,0,4]\n",
    "# nums = [2,3,1,1,4]\n",
    "canJump(nums)"
   ]
  },
  {
   "cell_type": "markdown",
   "id": "progressive-bennett",
   "metadata": {},
   "source": [
    "## <a href='https://leetcode.com/problems/jump-game-ii/discuss/485780/Python-O(-n-)-sol.-based-on-greedy-of-coverage.-90%2B-With-explanation'>45. Jump Game II</a>\n",
    "Given an array of non-negative integers nums, you are initially positioned at the first index of the array.  \n",
    "\n",
    "Each element in the array represents your maximum jump length at that position.  \n",
    "\n",
    "**Your goal is to reach the last index in the minimum number of jumps.**\n",
    "\n",
    "**You can assume that you can always reach the last index.**"
   ]
  },
  {
   "cell_type": "code",
   "execution_count": 296,
   "id": "later-female",
   "metadata": {},
   "outputs": [],
   "source": [
    "# Time O(N^2), SPACE O(N)\n",
    "def jump(nums):\n",
    "#     dp[i], 表示到第i 最少需要多少步\n",
    "#     這是 top down的想法\n",
    "#     dp[i] = min(dp[i-1]+1, .....)\n",
    "#    以buttom up 來寫, 就是每次看這個地方能走到的地方, 在去更新dp裡的值\n",
    "    \n",
    "    dp = [float('inf') for _ in range(len(nums))]\n",
    "    dp[0] = 0\n",
    "    print(dp)\n",
    "    for i, n in enumerate(nums):\n",
    "#         print('---',i)\n",
    "        if dp[-1] != float('inf'):\n",
    "                return dp[-1]\n",
    "            \n",
    "        upper = i + nums[i] +1\n",
    "        upper = len(nums) if upper >= len(nums) else upper\n",
    "        for j in range(i, upper):\n",
    "            # 比較從上一步走過來 比較小\n",
    "            dp[j] = min(dp[i]+1, dp[j])\n",
    "#             print(j)\n",
    "#         print(dp)\n",
    "    return dp\n",
    "        \n",
    "        \n",
    "        \n",
    "        "
   ]
  },
  {
   "cell_type": "code",
   "execution_count": 300,
   "id": "extensive-beatles",
   "metadata": {},
   "outputs": [],
   "source": [
    "# TIME O(N), SPACE O(1)\n",
    "def jump(nums):\n",
    "    size = len(nums)\n",
    "    # destination is last index\n",
    "    destination = size - 1\n",
    "    # record of current coverage, record of last jump index\n",
    "    cur_coverage, last_jump_index = 0, 0\n",
    "    # counter for jump\n",
    "    times_of_jump = 0\n",
    "     # Quick response if start index == destination index == 0\n",
    "    if size == 1:\n",
    "        return 0\n",
    "    \n",
    "    # Greedy strategy: extend coverage as long as possible with lazy jump\n",
    "    for i in range(0, size):\n",
    "        # Extend the current coverate as further as possible\n",
    "        cur_coverage = max(i + nums[i], cur_coverage)\n",
    "        \n",
    "        # 跳到最遠的地方了, forced to jump (by lazy jump) to extend coverage\n",
    "        if i == last_jump_index:\n",
    "            # update last jump index\n",
    "            last_jump_index = cur_coverage\n",
    "\n",
    "            # update counter of jump by +1\n",
    "            times_of_jump += 1\n",
    "\n",
    "            # check if reached destination already\n",
    "            if cur_coverage >= destination:\n",
    "                    return times_of_jump\n",
    "            \n",
    "    return times_of_jump\n",
    "    "
   ]
  },
  {
   "cell_type": "code",
   "execution_count": 301,
   "id": "external-knife",
   "metadata": {},
   "outputs": [
    {
     "data": {
      "text/plain": [
       "2"
      ]
     },
     "execution_count": 301,
     "metadata": {},
     "output_type": "execute_result"
    }
   ],
   "source": [
    "nums = [2,3,1,1,4]\n",
    "nums = [2,3,0,1,4]\n",
    "nums = [2,13,1,4]\n",
    "\n",
    "jump(nums)"
   ]
  },
  {
   "attachments": {
    "image.png": {
     "image/png": "[encoded data removed]"
    }
   },
   "cell_type": "markdown",
   "id": "uniform-advertising",
   "metadata": {},
   "source": [
    "# 11. Container With Most Water\n",
    "Given n non-negative integers a1, a2, ..., an , where each represents a point at coordinate (i, ai). n vertical lines are drawn such that the two endpoints of the line i is at (i, ai) and (i, 0).  \n",
    "Find two lines, which, together with the x-axis forms a container, such that the container contains the most water.\n",
    "![image.png](attachment:image.png)"
   ]
  },
  {
   "cell_type": "code",
   "execution_count": 16,
   "id": "injured-range",
   "metadata": {},
   "outputs": [],
   "source": [
    "def maxArea(height):\n",
    "    # Brute Force -- Exceed Time limitation\n",
    "    maxarea = float('-inf')\n",
    "    pre_min = 0\n",
    "    for i in range(len(height)):\n",
    "        if height[i] < pre_min:\n",
    "            continue\n",
    "        for j in range(len(height)-1, i , -1):\n",
    "            if height[j] < pre_min:\n",
    "                continue \n",
    "            area = (j - i) * min(height[i], height[j])\n",
    "            if area > maxarea:\n",
    "                pre_min =  min(height[i], height[j])\n",
    "                maxarea = area\n",
    "    return maxarea\n",
    "            \n"
   ]
  },
  {
   "cell_type": "code",
   "execution_count": 28,
   "id": "acting-defense",
   "metadata": {},
   "outputs": [],
   "source": [
    "def maxArea(height):\n",
    "    # O(n) Solution\n",
    "    max_area = area = 0\n",
    "    left, right = 0, len(height) -1\n",
    "    while left < right:\n",
    "        l, r = height[left], height[right]\n",
    "        \n",
    "        #left is shorter \n",
    "        if l < r:\n",
    "            area = (right - left) * l\n",
    "            # loop to find next l higher than current one\n",
    "            while height[left] <=l:\n",
    "                left+=1\n",
    "        else:\n",
    "            area = (right - left) * r\n",
    "            # KEY, right may be inifinite loop to negative, so need to control it \n",
    "            while height[right] <= r and right:\n",
    "                right -=1\n",
    "        max_area = max(area, max_area)\n",
    "    return max_area\n",
    "            \n",
    "                      "
   ]
  },
  {
   "cell_type": "code",
   "execution_count": 29,
   "id": "owned-brown",
   "metadata": {},
   "outputs": [
    {
     "data": {
      "text/plain": [
       "49"
      ]
     },
     "execution_count": 29,
     "metadata": {},
     "output_type": "execute_result"
    }
   ],
   "source": [
    "height = [1,8,6,2,5,4,8,3,7]\n",
    "\n",
    "# height = [4,3,2,1,4]\n",
    "# height = [1,2,3,4,5,6,7,8,9,10,9,8,7,6,5,4,3,2,1]\n",
    "\n",
    "maxArea(height)"
   ]
  },
  {
   "cell_type": "markdown",
   "id": "statistical-cambridge",
   "metadata": {},
   "source": [
    "# [334. Increasing Triplet Subsequence](https://leetcode.com/problems/increasing-triplet-subsequence/discuss/78995/Python-Easy-O(n)-Solution)\n",
    "Given an integer array nums, return true if there exists a triple of indices (i, j, k) such that i < j < k and nums[i] < nums[j] < nums[k]. If no such indices exists, return false.\n",
    "\n",
    "3 8 4 6  \n"
   ]
  },
  {
   "cell_type": "code",
   "execution_count": 40,
   "id": "spare-manitoba",
   "metadata": {},
   "outputs": [],
   "source": [
    "def increasingTriplet(nums):\n",
    "    # Brute Force, O(N^2)\n",
    "    for left in range(len(nums)-2):\n",
    "        left_v = nums[left]\n",
    "        for mid in range(left+1, len(nums)-1):\n",
    "            mid_v = nums[mid]\n",
    "            if mid_v <= left_v:\n",
    "                continue\n",
    "                \n",
    "            rest_max = max(nums[mid+1:])\n",
    "            if rest_max > mid_v:\n",
    "                return left_v,mid_v,rest_max\n",
    "    return False\n",
    "            \n",
    "            \n",
    "        \n"
   ]
  },
  {
   "cell_type": "code",
   "execution_count": 44,
   "id": "adjacent-pacific",
   "metadata": {},
   "outputs": [],
   "source": [
    "def increasingTriplet(nums):\n",
    "    # we can use two thresholds to divide the subsquence length\n",
    "    # everything between threshold1 and threshold2 will form doublets\n",
    "    # everything above threshold2 will form a triplet\n",
    "    # dynamically change these two thresholds\n",
    "\n",
    "    threshold1 = threshold2 = float(\"inf\")\n",
    "    for num in nums:\n",
    "        # If num < threshold, then lower threshold1\n",
    "        if num <= threshold1:\n",
    "            threshold1 = num\n",
    "        ## NOTE: 'elif' will be test only after fail pass 'if'\n",
    "        ## This means, num > threshold1 but <= threshold2, then lower threshold2\n",
    "        elif num <= threshold2:\n",
    "            threshold2 = num\n",
    "        # if greater than both thresholds (note equal doesn't count)\n",
    "        else:\n",
    "            return True\n",
    "        print(threshold1, threshold2)\n",
    "    return False"
   ]
  },
  {
   "cell_type": "code",
   "execution_count": 47,
   "id": "suspected-programmer",
   "metadata": {},
   "outputs": [
    {
     "name": "stdout",
     "output_type": "stream",
     "text": [
      "3 inf\n",
      "2 inf\n",
      "2 8\n",
      "2 4\n"
     ]
    },
    {
     "data": {
      "text/plain": [
       "True"
      ]
     },
     "execution_count": 47,
     "metadata": {},
     "output_type": "execute_result"
    }
   ],
   "source": [
    "nums = [3,2,8,4,6]\n",
    "# nums = [1,2,3,4,5]\n",
    "# nums = [5,4,3,2,1]\n",
    "increasingTriplet(nums)"
   ]
  },
  {
   "cell_type": "code",
   "execution_count": 34,
   "id": "affected-thunder",
   "metadata": {},
   "outputs": [
    {
     "data": {
      "text/plain": [
       "4"
      ]
     },
     "execution_count": 34,
     "metadata": {},
     "output_type": "execute_result"
    }
   ],
   "source": [
    "min([n for n in nums if n>3])\n"
   ]
  },
  {
   "attachments": {
    "image.png": {
     "image/png": "[encoded data removed]"
    }
   },
   "cell_type": "markdown",
   "id": "polar-pizza",
   "metadata": {},
   "source": [
    "# 42. [Trapping Rain Water](https://leetcode.com/problems/trapping-rain-water/discuss/17554/Share-my-one-pass-Python-solution-with-explaination)\n",
    "![image.png](attachment:image.png)\n"
   ]
  },
  {
   "cell_type": "code",
   "execution_count": 61,
   "id": "sixth-cooler",
   "metadata": {},
   "outputs": [],
   "source": [
    "def trap(height):\n",
    "    # Brute Force\n",
    "    if not height or len(height)<3:\n",
    "        return 0\n",
    "    \n",
    "    volume = 0\n",
    "    left, right = 0, len(height) -1\n",
    "    l_max, r_max = height[left], height[right]\n",
    "    while left < right:\n",
    "        l_max, r_max = max(height[left], l_max), max(height[right], r_max)\n",
    "        # KEY, 只要抓住 左邊 跟 右邊 的最高點, 每次加的水, 一定就是比較小的 - 目前高度\n",
    "        if l_max <= r_max:\n",
    "            volume += l_max - height[left]\n",
    "            left +=1\n",
    "        else:\n",
    "            volume += r_max - height[right]\n",
    "            right -= 1\n",
    "        print(left, right, l_max, r_max, volume)\n",
    "    return volume\n",
    "            \n",
    "                                 \n",
    "    \n",
    "    \n",
    "    "
   ]
  },
  {
   "cell_type": "markdown",
   "id": "applicable-selling",
   "metadata": {},
   "source": [
    "[DP solution](https://leetcode.com/problems/trapping-rain-water/discuss/346640/Pythonically-trapping-rain-water-with-common-sense-%22dynamically%22)\n",
    "**The idea is to know what the max height is, to the left and right of every index.**  \n",
    "Think about it- at any given index, there can only be trapped rain water above it if the min(max_height_to_the_left, max_height_to_the_right) is bigger than the height at this particular index.  \n",
    "So there are 3 things to do.  \n",
    "<br>\n",
    "For every index, find max_height_to_the_left. Store in a \"maxleft\" array.  \n",
    "For every index, find max_height_to_the_right. Store in a \"maxright\" array.  \n",
    "Add min(max_height_to_the_left, max_height_to_the_right) - height(idx) for every idx to a sum. Return this sum.  "
   ]
  },
  {
   "cell_type": "code",
   "execution_count": 65,
   "id": "eastern-bacteria",
   "metadata": {},
   "outputs": [],
   "source": [
    "def trap(height):\n",
    "    size = len(height)\n",
    "    \n",
    "    left = 0\n",
    "    maxleft = height[:]\n",
    "    for i in range(size):\n",
    "        # record the max height of the left\n",
    "        maxleft[i] = left\n",
    "        if height[i] > left:\n",
    "            left = height[i]\n",
    "            \n",
    "    right = 0\n",
    "    maxright = height[:]\n",
    "    for i in range(size-1,-1,-1):\n",
    "        # record the max height of the right\n",
    "        maxright[i] = right\n",
    "        if height[i] > right:\n",
    "            right = height[i]\n",
    "        \n",
    "    res = 0\n",
    "    for idx in range(size):\n",
    "        if min(maxleft[idx], maxright[idx]) > height[idx]:\n",
    "            res += min(maxleft[idx], maxright[idx]) - height[idx]\n",
    "            \n",
    "    return res"
   ]
  },
  {
   "cell_type": "code",
   "execution_count": 66,
   "id": "shaped-reminder",
   "metadata": {},
   "outputs": [
    {
     "data": {
      "text/plain": [
       "6"
      ]
     },
     "execution_count": 66,
     "metadata": {},
     "output_type": "execute_result"
    }
   ],
   "source": [
    "height = [0,1,0,2,1,0,1,3,2,1,2,1]\n",
    "trap(height)"
   ]
  },
  {
   "cell_type": "markdown",
   "id": "quarterly-assault",
   "metadata": {},
   "source": [
    "# 128. Longest Consecutive Sequence\n",
    "Given an unsorted array of integers nums, return the length of the longest consecutive elements sequence.\n"
   ]
  },
  {
   "cell_type": "code",
   "execution_count": 30,
   "id": "universal-release",
   "metadata": {},
   "outputs": [],
   "source": [
    "def longestConsecutive(nums):\n",
    "    nums = set(nums)\n",
    "    best = 0\n",
    "    for x in nums:\n",
    "#         means x is the streak start\n",
    "        if x -1 not in nums:\n",
    "            y = x+1\n",
    "            while y in nums:\n",
    "                y +=1\n",
    "            \n",
    "            best = max(best, y - x)\n",
    "    return best\n"
   ]
  },
  {
   "cell_type": "code",
   "execution_count": 31,
   "id": "internal-purpose",
   "metadata": {},
   "outputs": [
    {
     "name": "stdout",
     "output_type": "stream",
     "text": [
      "1\n",
      "2\n",
      "3\n",
      "100\n",
      "4\n",
      "200\n"
     ]
    }
   ],
   "source": [
    "# nums = [0,3,7,2,5,8,4,6,0,1]\n",
    "nums = [100,4,200,1,3,2]\n",
    "# nums = [1,2,3,3,3,4,5,6,7,8,9,10]\n",
    "\n",
    "longestConsecutive(nums)"
   ]
  },
  {
   "cell_type": "markdown",
   "id": "ordinary-clothing",
   "metadata": {},
   "source": [
    "# [164. Maximum Gap](https://leetcode.com/problems/maximum-gap/discuss/692005/Python-Very-Detailed-explanation-using-buckets)\n",
    "Given an integer array nums, return the maximum difference between two successive elements in its sorted form. If the array contains less than two elements, return 0.  \n",
    "<br>\n",
    "You must write an algorithm that runs in linear time and uses linear extra space.  "
   ]
  },
  {
   "cell_type": "code",
   "execution_count": 49,
   "id": "flush-position",
   "metadata": {},
   "outputs": [],
   "source": [
    "def maximumGap(nums):\n",
    "    # O(N^2), exceed time limit\n",
    "    nums = set(nums) \n",
    "    \n",
    "    if len(nums) <2:\n",
    "        return 0\n",
    "    \n",
    "    max_element = max(nums)\n",
    "    gap = 0\n",
    "    for x in nums:\n",
    "        y = x + 1\n",
    "        while y <= max_element:\n",
    "            if y in nums:\n",
    "                break\n",
    "            y +=1\n",
    "        gap = max(gap, y -x)\n",
    "    return gap\n"
   ]
  },
  {
   "cell_type": "code",
   "execution_count": 65,
   "id": "sustained-association",
   "metadata": {},
   "outputs": [],
   "source": [
    "def maximumGap(nums):\n",
    "    if len(nums) < 2 or min(nums) == max(nums):\n",
    "        return 0\n",
    "    minimum, maximum = min(nums), max(nums)\n",
    "    size = (maximum - minimum) // (len(nums) -1 ) or 1\n",
    "    buckets = [[None, None] for _ in range(( maximum - minimum )//size+1)]\n",
    "    for num in nums:\n",
    "        # getting the bucket number in which it falls into\n",
    "        bucket = buckets[ ( num - minimum )//size ]\n",
    "        bucket[0] = num if bucket[0] is None else min(bucket[0], num)\n",
    "        bucket[1] = num if bucket[1] is None else max(bucket[1], num)\n",
    "    # discard first bucket\n",
    "    buckets = [bucket for bucket in buckets if bucket[0] is not None]\n",
    "    print(buckets)\n",
    "    gap = 0\n",
    "    for i in range(1, len(buckets)):\n",
    "        diff = buckets[i][0] - buckets[i-1][1]\n",
    "        gap = max(gap,diff)\n",
    "    return  gap"
   ]
  },
  {
   "cell_type": "code",
   "execution_count": 67,
   "id": "electrical-cooler",
   "metadata": {},
   "outputs": [
    {
     "name": "stdout",
     "output_type": "stream",
     "text": [
      "[[1, 9], [100, 100]]\n"
     ]
    },
    {
     "data": {
      "text/plain": [
       "91"
      ]
     },
     "execution_count": 67,
     "metadata": {},
     "output_type": "execute_result"
    }
   ],
   "source": [
    "nums = [1,3,6,9,100]\n",
    "# nums = [9,1]\n",
    "# nums = [1,1,1,1]\n",
    "\n",
    "\n",
    "maximumGap(nums)"
   ]
  },
  {
   "cell_type": "code",
   "execution_count": 68,
   "id": "natural-march",
   "metadata": {},
   "outputs": [
    {
     "data": {
      "text/plain": [
       "1"
      ]
     },
     "execution_count": 68,
     "metadata": {},
     "output_type": "execute_result"
    }
   ],
   "source": [
    "5//4"
   ]
  },
  {
   "cell_type": "markdown",
   "id": "gross-colombia",
   "metadata": {},
   "source": [
    "# [287. Find the Duplicate Number](https://leetcode.com/problems/find-the-duplicate-number/discuss/72852/Python-same-solution-as-142-Linked-List-Cycle-II)\n",
    "Given an array of integers nums containing n + 1 integers where each integer is in the range [1, n] inclusive.  \n",
    "\n",
    "There is **only one repeated number in nums, return this repeated number.**\n",
    "\n",
    "\n",
    "**You must solve the problem without modifying the array nums and uses only constant extra space.**"
   ]
  },
  {
   "cell_type": "code",
   "execution_count": 77,
   "id": "matched-frank",
   "metadata": {},
   "outputs": [],
   "source": [
    "def findDuplicate(nums):\n",
    "    # exceed time\n",
    "    for i in range(len(nums)):\n",
    "        num = nums[i]\n",
    "        if num in nums[i+1:]:\n",
    "            return num\n"
   ]
  },
  {
   "cell_type": "code",
   "execution_count": 81,
   "id": "numerical-depth",
   "metadata": {},
   "outputs": [],
   "source": [
    "def findDuplicate(nums):\n",
    "    # KEY, since it only contian n+1 integers in range [1,n]\n",
    "    # nums[a]= b can be seen as a.next = b. Then the queation is reduced\n",
    "    # to find cycle in linked list II\n",
    "    # 重點在於要轉換成 linked list 找cycle來想\n",
    "    slow = fast = finder = 0\n",
    "    while True:\n",
    "        print(\"idx:\", slow,\"value:\", nums[slow])\n",
    "        slow = nums[slow] # slow= slow.next\n",
    "        print(\"idx:\", fast,\"value:\", nums[nums[fast]])\n",
    "        \n",
    "        fast = nums[nums[fast]] # fast = fast.next.next\n",
    "        \n",
    "        if slow == fast:\n",
    "            # 這時slow, fast是在 loop 開始的起點\n",
    "            # finder 在剛開始\n",
    "            while finder != slow:\n",
    "                finder = nums[finder]\n",
    "                slow = nums[slow]\n",
    "            return finder\n",
    "            \n",
    "    "
   ]
  },
  {
   "cell_type": "code",
   "execution_count": 82,
   "id": "controlled-verification",
   "metadata": {},
   "outputs": [
    {
     "name": "stdout",
     "output_type": "stream",
     "text": [
      "idx: 0 value: 1\n",
      "idx: 0 value: 3\n",
      "idx: 1 value: 3\n",
      "idx: 3 value: 4\n",
      "idx: 3 value: 2\n",
      "idx: 4 value: 2\n"
     ]
    },
    {
     "data": {
      "text/plain": [
       "3"
      ]
     },
     "execution_count": 82,
     "metadata": {},
     "output_type": "execute_result"
    }
   ],
   "source": [
    "\n",
    "nums = [1,3,4,2,3]\n",
    "\n",
    "# nums = [1,1]\n",
    "findDuplicate(nums)"
   ]
  },
  {
   "cell_type": "markdown",
   "id": "scenic-norway",
   "metadata": {},
   "source": [
    "# 142. Linked List Cycle II\n",
    "Given a linked list, return the node where the cycle begins. If there is no cycle, return null."
   ]
  },
  {
   "cell_type": "code",
   "execution_count": null,
   "id": "informative-flower",
   "metadata": {},
   "outputs": [],
   "source": [
    "def detectCycle(head):\n",
    "    \n",
    "    slow = fast = head\n",
    "\n",
    "    while fast is not None and fast.next:\n",
    "        slow = slow.next\n",
    "        fast = fast.next.next\n",
    "\n",
    "        if slow == fast:\n",
    "            break\n",
    "\n",
    "    if fast is None or fast.next is None:\n",
    "        return None\n",
    "\n",
    "\n",
    "    fast = head\n",
    "    # KEY 如果code run到這裡 代表 fast 跟 fast.next不是Null\n",
    "    # 而且現在 fast 跟 slow 都是在於兩個指針相遇的點\n",
    "    # 這時將 fast 拉回原點\n",
    "    # 當slow 跟 fast meet的時候就會是 loop起點\n",
    "    # https://www.youtube.com/watch?v=UkKBPGt5Nok&ab_channel=%E7%BD%97%E7%BF%94%E8%80%81%E5%B8%88\n",
    "    while fast != slow:\n",
    "        slow = slow.next\n",
    "        fast = fast.next\n",
    "\n",
    "    return slow\n"
   ]
  },
  {
   "cell_type": "markdown",
   "id": "confused-skirt",
   "metadata": {},
   "source": [
    "# 125. Valid Palindrome"
   ]
  },
  {
   "cell_type": "code",
   "execution_count": 107,
   "id": "double-palace",
   "metadata": {},
   "outputs": [],
   "source": [
    "def isPalindrome(s):\n",
    "    import string \n",
    "    \n",
    "    \n",
    "    specialChars = string.punctuation\n",
    "    for specialChar in specialChars:\n",
    "        s = s.replace(specialChar, '')\n",
    "    s = s.replace(' ','')\n",
    "    s = s.lower()\n",
    "    \n",
    "    for i in range(len(s)//2):\n",
    "        print(i, s[i],s[-i-1])\n",
    "        if s[i] != s[-i-1]:\n",
    "            return False\n",
    "    return True\n",
    "                  \n",
    "\n",
    "    "
   ]
  },
  {
   "cell_type": "code",
   "execution_count": 109,
   "id": "hazardous-study",
   "metadata": {},
   "outputs": [
    {
     "data": {
      "text/plain": [
       "True"
      ]
     },
     "execution_count": 109,
     "metadata": {},
     "output_type": "execute_result"
    }
   ],
   "source": [
    "s = \"A man, a plan, a canal: Panama\"\n",
    "s = \"race a car\"\n",
    "s = 'a.@'\n",
    "isPalindrome(s)"
   ]
  },
  {
   "cell_type": "code",
   "execution_count": 111,
   "id": "corporate-disclaimer",
   "metadata": {},
   "outputs": [
    {
     "name": "stdout",
     "output_type": "stream",
     "text": [
      "!\"#$%&'()*+,-./:;<=>?@[\\]^_`{|}~\n",
      "abcdefghijklmnopqrstuvwxyz\n",
      "ABCDEFGHIJKLMNOPQRSTUVWXYZ\n"
     ]
    }
   ],
   "source": [
    "import string \n",
    "\n",
    "print(string.punctuation)\n",
    "print(string.ascii_lowercase)\n",
    "print(string.ascii_uppercase)"
   ]
  },
  {
   "cell_type": "markdown",
   "id": "comparable-arctic",
   "metadata": {},
   "source": [
    "# [135 Candy](https://leetcode.com/problems/candy/discuss/42881/Python-two-pass-solution-(left-to-right-then-right-to-left).)\n",
    "There are n children standing in a line. Each child is assigned a rating value given in the integer array ratings.\n",
    "\n",
    "You are giving candies to these children subjected to the following requirements:\n",
    "\n",
    "Each child must have at least one candy.\n",
    "Children with a higher rating get more candies than their neighbors.\n",
    "Return the minimum number of candies you need to have to distribute the candies to the children."
   ]
  },
  {
   "cell_type": "markdown",
   "id": "maritime-franklin",
   "metadata": {},
   "source": [
    "        # Concept - Just do what the problem is saying, we can \n",
    "        # fill our result array with one, now the first requirement\n",
    "        # is fulfilled and for 2nd requirement, there will be 2 cases\n",
    "        # 1 - Rating at i is greater than at i-1 --> Forward Pass\n",
    "        # 2 - Rating at i is greater than i + 1 --> Backward Pass\n",
    "        \n",
    "        "
   ]
  },
  {
   "cell_type": "code",
   "execution_count": 22,
   "id": "stone-suite",
   "metadata": {},
   "outputs": [],
   "source": [
    "def candy(ratings):\n",
    "    candies = [1 for _ in range(len(ratings))]\n",
    "    \n",
    "    # Calculate the candies needed to fulfill left condition     \n",
    "    # We drop the 0th element as nothing is located left to it\n",
    "    for i in range(1,len(ratings)):\n",
    "        if ratings[i] > ratings[i-1]:\n",
    "            candies[i] = candies[i-1] +1 \n",
    "            \n",
    "    # Calculate the candies needed to fulfill right condition  \n",
    "    # We drop the last element as nothing is located right to it\n",
    "    for i in range(len(ratings)-2, -1, -1):\n",
    "        if ratings[i] > ratings[i+1]:\n",
    "            candies[i] = max(candies[i], candies[i+1]+1)\n",
    "            \n",
    "    return sum(candies)\n",
    "        \n",
    "    \n",
    "\n",
    "        \n",
    "\n",
    "    \n",
    "    \n"
   ]
  },
  {
   "cell_type": "code",
   "execution_count": 23,
   "id": "difficult-training",
   "metadata": {},
   "outputs": [
    {
     "data": {
      "text/plain": [
       "4"
      ]
     },
     "execution_count": 23,
     "metadata": {},
     "output_type": "execute_result"
    }
   ],
   "source": [
    "ratings = [1,0,2]\n",
    "ratings = [1,2,2]\n",
    "candy(ratings)"
   ]
  },
  {
   "attachments": {
    "image.png": {
     "image/png": "[encoded data removed]"
    }
   },
   "cell_type": "markdown",
   "id": "statewide-venice",
   "metadata": {},
   "source": [
    "# [330. Patching Array](https://leetcode.com/problems/patching-array/discuss/78488/Solution-%2B-explanation)\n",
    "Given a sorted integer array nums and an integer n, add/patch elements to the array such that any number in the range [1, n] inclusive can be formed by the sum of some elements in the array.\n",
    "\n",
    "Return the minimum number of patches required.\n",
    "![image.png](attachment:image.png)\n",
    "有夠難想, 解答比較清楚"
   ]
  },
  {
   "cell_type": "code",
   "execution_count": 43,
   "id": "pursuant-cookie",
   "metadata": {},
   "outputs": [],
   "source": [
    "def minPatches(nums, n):\n",
    "    miss = 1; added = 0; i = 0\n",
    "    \n",
    "    while miss <= n:\n",
    "        print(i,miss)\n",
    "        if i < len(nums) and nums[i] <= miss:\n",
    "            miss += nums[i]\n",
    "            i +=1\n",
    "            \n",
    "        else:\n",
    "            miss += miss\n",
    "            added +=1\n",
    "    return added"
   ]
  },
  {
   "cell_type": "code",
   "execution_count": 45,
   "id": "latin-count",
   "metadata": {},
   "outputs": [
    {
     "name": "stdout",
     "output_type": "stream",
     "text": [
      "0 1\n",
      "1 2\n",
      "2 4\n",
      "3 8\n",
      "3 16\n",
      "4 29\n",
      "4 58\n"
     ]
    },
    {
     "data": {
      "text/plain": [
       "2"
      ]
     },
     "execution_count": 45,
     "metadata": {},
     "output_type": "execute_result"
    }
   ],
   "source": [
    "nums = [1,5,10]; n = 20\n",
    "nums = [1, 2, 4, 13, 43]; n = 100\n",
    "minPatches(nums, n)"
   ]
  },
  {
   "cell_type": "markdown",
   "id": "armed-chassis",
   "metadata": {},
   "source": [
    "# 4. Median of Two Sorted Arrays\n",
    "\n",
    "**The overall run time complexity should be O(log (m+n)).**\n",
    "\n"
   ]
  },
  {
   "cell_type": "code",
   "execution_count": 56,
   "id": "quarterly-objective",
   "metadata": {},
   "outputs": [],
   "source": [
    "def findMedianSortedArrays(nums1, nums2):\n",
    "    # O(N)\n",
    "    merge_list = []\n",
    "    while nums1 and nums2:\n",
    "        if nums1[0] < nums2[0]:\n",
    "            merge_list.append(nums1.pop(0))\n",
    "        else:\n",
    "            merge_list.append(nums2.pop(0))\n",
    "    merge_list.extend(nums1 or nums2)\n",
    "    size = len(merge_list)\n",
    "    if size % 2 == 0:\n",
    "        return (merge_list[size//2] + merge_list[(size//2) -1]) /2\n",
    "    else:\n",
    "        return merge_list[size//2]\n"
   ]
  },
  {
   "cell_type": "markdown",
   "id": "joined-cooking",
   "metadata": {},
   "source": [
    "[O(log(m,n)) SOlution](https://www.youtube.com/watch?v=LPFhl65R7ww&ab_channel=TusharRoy-CodingMadeSimple)"
   ]
  },
  {
   "cell_type": "code",
   "execution_count": 91,
   "id": "relative-airport",
   "metadata": {},
   "outputs": [],
   "source": [
    "def findMedianSortedArrays(nums1, nums2):\n",
    "    if len(nums1) > len(nums2): \n",
    "        nums1, nums2 = nums2, nums1\n",
    "        \n",
    "    n1 = len(nums1)\n",
    "    n2 = len(nums2)\n",
    "    \n",
    "    lo, hi = 0, n1\n",
    "    while lo <= hi:\n",
    "        cut1 = (lo + hi)//2\n",
    "        cut2 = (n1 + n2)//2 - cut1\n",
    "        \n",
    "        l1 = float('-inf') if cut1 ==0 else nums1[cut1-1]\n",
    "        l2 = float('-inf') if cut2 ==0 else nums2[cut2-1]\n",
    "        r1 = float('inf') if cut1 == n1 else nums1[cut1]\n",
    "        r2 = float('inf') if cut2 == n2 else nums2[cut2]\n",
    "        \n",
    "        print(l1,l2,r1,r2)\n",
    "        if l1 > r2:\n",
    "            hi = cut1 -1\n",
    "        elif l2 > r1:\n",
    "            lo = cut1 +1\n",
    "        else:\n",
    "            return min(r1,r2) if (n1+n2)%2 ==1 else (max(l1,l2) + min(r1,r2))/2\n",
    "        \n",
    "        \n",
    "    \n",
    "\n",
    "        \n",
    "    \n"
   ]
  },
  {
   "cell_type": "code",
   "execution_count": 92,
   "id": "metallic-admission",
   "metadata": {},
   "outputs": [
    {
     "name": "stdout",
     "output_type": "stream",
     "text": [
      "-inf 2 1 inf\n",
      "1 -inf inf 2\n"
     ]
    },
    {
     "data": {
      "text/plain": [
       "1.5"
      ]
     },
     "execution_count": 92,
     "metadata": {},
     "output_type": "execute_result"
    }
   ],
   "source": [
    "\n",
    "# nums1 = [1,2]; nums2 = [3,4]\n",
    "# nums1 = [1,3]; nums2 = [2]\n",
    "nums1 = [1]; nums2 = [2]\n",
    "\n",
    "findMedianSortedArrays(nums1, nums2)"
   ]
  },
  {
   "cell_type": "markdown",
   "id": "checked-barrel",
   "metadata": {},
   "source": [
    "# 704. Binary Search\n",
    "Given an array of integers nums which is sorted in ascending order, and an integer target, write a function to search target in nums. If target exists, then return its index. Otherwise, return -1.\n"
   ]
  },
  {
   "cell_type": "code",
   "execution_count": 105,
   "id": "ultimate-estate",
   "metadata": {},
   "outputs": [],
   "source": [
    "def search(nums, target):\n",
    "    lo, hi = 0, len(nums)-1\n",
    "    \n",
    "    while lo <= hi:\n",
    "        print(lo, hi)\n",
    "        mid = (lo+hi) //2\n",
    "        if nums[mid] > target:\n",
    "            hi = mid -1\n",
    "        elif nums[mid] < target:\n",
    "            lo = mid +1\n",
    "        else:\n",
    "            return mid\n",
    "    return -1\n"
   ]
  },
  {
   "cell_type": "code",
   "execution_count": 107,
   "id": "noted-attack",
   "metadata": {},
   "outputs": [
    {
     "name": "stdout",
     "output_type": "stream",
     "text": [
      "0 0\n"
     ]
    },
    {
     "data": {
      "text/plain": [
       "0"
      ]
     },
     "execution_count": 107,
     "metadata": {},
     "output_type": "execute_result"
    }
   ],
   "source": [
    "nums = [-1,0,3,5,9,12]; target = 4\n",
    "nums = [4]; target = 4\n",
    "\n",
    "    \n",
    "search(nums, target)"
   ]
  },
  {
   "cell_type": "markdown",
   "id": "proved-mirror",
   "metadata": {},
   "source": [
    "# 1023 Camelcase Matching\n",
    "A query word matches a given pattern if we can insert lowercase letters to the pattern word so that it equals the query. (We may insert each character at any position, and may insert 0 characters.)\n",
    "<br>\n",
    "<br>\n",
    "Given a list of queries, and a pattern, return an answer list of booleans, where answer[i] is true if and only if queries[i] matches the pattern.\n",
    "\n",
    " "
   ]
  },
  {
   "attachments": {
    "image.png": {
     "image/png": "[encoded data removed]"
    }
   },
   "cell_type": "markdown",
   "id": "mineral-selection",
   "metadata": {},
   "source": [
    "![image.png](attachment:image.png)"
   ]
  },
  {
   "cell_type": "code",
   "execution_count": 148,
   "id": "banner-bridges",
   "metadata": {},
   "outputs": [],
   "source": [
    "import re\n",
    "\n",
    "def camelMatch(queries, pattern):\n",
    "    re_pattern = '[a-z]*{}[a-z]*$'.format(\"[a-z]*\".join(c for c in pattern))\n",
    "    print(re_pattern)\n",
    "    res = []\n",
    "    for q in queries:\n",
    "#         print(re.match(re_pattern, q))\n",
    "#         print(bool(re.match(re_pattern, q)))\n",
    "        res.append(bool(re.match(re_pattern,q)))\n",
    "\n",
    "    return res\n",
    "        \n"
   ]
  },
  {
   "cell_type": "code",
   "execution_count": 156,
   "id": "genuine-premium",
   "metadata": {},
   "outputs": [],
   "source": [
    "from re import compile\n",
    "def camelMatch(queries, pattern):\n",
    "    re_pattern = compile('[a-z]*{}[a-z]*$'.format(\"[a-z]*\".join(c for c in pattern)))\n",
    "    res = []\n",
    "    for q in queries:\n",
    "        res.append(bool(re_pattern.match(q)))\n",
    "                   \n",
    "    return res\n",
    "    \n",
    "\n"
   ]
  },
  {
   "cell_type": "code",
   "execution_count": 157,
   "id": "compliant-powder",
   "metadata": {},
   "outputs": [
    {
     "data": {
      "text/plain": [
       "[True, False, True, True, False]"
      ]
     },
     "execution_count": 157,
     "metadata": {},
     "output_type": "execute_result"
    }
   ],
   "source": [
    "queries = [\"FooBar\",\"FooBarTest\",\"FootBall\",\"FrameBuffer\",\"ForceFeedBack\"]; pattern = \"FB\"\n",
    "camelMatch(queries, pattern)\n"
   ]
  },
  {
   "cell_type": "code",
   "execution_count": 136,
   "id": "dense-recognition",
   "metadata": {},
   "outputs": [
    {
     "data": {
      "text/plain": [
       "'F[a-z]*B'"
      ]
     },
     "execution_count": 136,
     "metadata": {},
     "output_type": "execute_result"
    }
   ],
   "source": [
    "# st = 'ForceFeedBack'\n",
    "\"[a-z]*\".join(c for c in pattern)"
   ]
  },
  {
   "cell_type": "code",
   "execution_count": 130,
   "id": "fourth-wells",
   "metadata": {},
   "outputs": [
    {
     "data": {
      "text/plain": [
       "['F', 'B']"
      ]
     },
     "execution_count": 130,
     "metadata": {},
     "output_type": "execute_result"
    }
   ],
   "source": [
    "pattern = '[A-Z][a-z]*'\n",
    "re.findall(pattern, st)"
   ]
  },
  {
   "cell_type": "markdown",
   "id": "polish-sharp",
   "metadata": {},
   "source": [
    "# 1 Two Sum\n",
    "Given an array of integers nums and an integer target, return indices of the **two numbers** such that they add up to target."
   ]
  },
  {
   "cell_type": "code",
   "execution_count": 14,
   "id": "corrected-grain",
   "metadata": {},
   "outputs": [],
   "source": [
    "def twoSum(nums, target):\n",
    "    res = []\n",
    "    for i in range(len(nums)):\n",
    "        diff = target - nums[i]\n",
    "        idx = i+1\n",
    "        if diff in nums[i+1:]:\n",
    "            res.extend([i, nums[i+1:].index(diff)+idx])\n",
    "    return res\n",
    "\n"
   ]
  },
  {
   "cell_type": "code",
   "execution_count": 28,
   "id": "civil-trout",
   "metadata": {},
   "outputs": [],
   "source": [
    "def twoSum(nums, target):\n",
    "    d = {}\n",
    "    \n",
    "    for i, n in enumerate(nums):\n",
    "        m = target - n\n",
    "        if m in d:\n",
    "            return [d[m], i]\n",
    "        else:\n",
    "            d[n] = i\n",
    "    "
   ]
  },
  {
   "cell_type": "code",
   "execution_count": 30,
   "id": "wicked-table",
   "metadata": {},
   "outputs": [
    {
     "data": {
      "text/plain": [
       "[0, 3]"
      ]
     },
     "execution_count": 30,
     "metadata": {},
     "output_type": "execute_result"
    }
   ],
   "source": [
    "nums = [2,7,11,15]; target = 9\n",
    "nums = [3,2,4]; target = 6\n",
    "nums = [3,0,0,3]; target = 6\n",
    "\n",
    "\n",
    "twoSum(nums,target)"
   ]
  },
  {
   "cell_type": "markdown",
   "id": "prerequisite-shadow",
   "metadata": {},
   "source": [
    "# 3 Longest Substring Without Repeating Characters  \n",
    "    Input: s = \"pwwkew\"\n",
    "    Output: 3\n",
    "    Explanation: The answer is \"wke\", with the length of 3.\n",
    "    Notice that the answer must be a substring, \"pwke\" is a subsequence and not a substring."
   ]
  },
  {
   "cell_type": "code",
   "execution_count": 80,
   "id": "appreciated-institution",
   "metadata": {},
   "outputs": [],
   "source": [
    "def lengthOfLongestSubstring(s):\n",
    "    # O(N^2), get the length of all start point\n",
    "    if not s:\n",
    "        return 0\n",
    "    max_length = 1\n",
    "    d = {}\n",
    "    cont_length = 0\n",
    "    \n",
    "    for j in range(len(s)-1):\n",
    "        cont_length = 1\n",
    "        d = {s[j]:j}\n",
    "        for i,char in enumerate(s[j+1:]):\n",
    "            if char in d:\n",
    "                break\n",
    "            d[char] = i+j+1\n",
    "            cont_length += 1\n",
    "            max_length = max(cont_length, max_length)\n",
    "\n",
    "    return max_length\n",
    "        \n"
   ]
  },
  {
   "cell_type": "code",
   "execution_count": 82,
   "id": "embedded-interstate",
   "metadata": {},
   "outputs": [],
   "source": [
    "def lengthOfLongestSubstring(s):\n",
    "    used = {}\n",
    "    max_length = start = 0\n",
    "    \n",
    "    # O(N)\n",
    "    for i, c in enumerate(s):\n",
    "        if c in used and start <= used[c]:\n",
    "            # if the c is used in the past, check whether \n",
    "            # the start position is <= than last c, if so, update start pos\n",
    "            start = used[c]+1\n",
    "        else:\n",
    "            max_length = max(max_length, i - start +1)\n",
    "            \n",
    "        used[c] = i\n",
    "    return max_length\n",
    "            \n",
    "            \n",
    "            "
   ]
  },
  {
   "cell_type": "code",
   "execution_count": 83,
   "id": "geographic-incentive",
   "metadata": {},
   "outputs": [
    {
     "data": {
      "text/plain": [
       "3"
      ]
     },
     "execution_count": 83,
     "metadata": {},
     "output_type": "execute_result"
    }
   ],
   "source": [
    "s = 'pwwkew'\n",
    "s = 'bbbb'\n",
    "# s = ''\n",
    "# s = \"abcabcbb\"\n",
    "s = \"dvdf\"\n",
    "\n",
    "lengthOfLongestSubstring(s)"
   ]
  },
  {
   "cell_type": "markdown",
   "id": "extensive-humanity",
   "metadata": {},
   "source": [
    "# 321. Create Maximum Number\n",
    "You are given two integer arrays nums1 and nums2 of lengths m and n respectively. nums1 and nums2 represent the digits of two numbers. You are also given an integer k. \n",
    "  \n",
    "Create the maximum number of length k <= m + n from digits of the two numbers. The relative order of the digits from the same array must be preserved.  \n",
    "\n",
    "Return an array of the k digits representing the answer."
   ]
  },
  {
   "attachments": {
    "image.png": {
     "image/png": "[encoded data removed]"
    }
   },
   "cell_type": "markdown",
   "id": "daily-operation",
   "metadata": {},
   "source": [
    "## [SOL:](https://www.youtube.com/watch?v=YYduNJfzWaA)\n",
    "[code](https://leetcode.com/problems/create-maximum-number/discuss/77286/Short-Python-Ruby-C%2B%2B)\n",
    "![image.png](attachment:image.png)"
   ]
  },
  {
   "cell_type": "code",
   "execution_count": 136,
   "id": "compound-compact",
   "metadata": {},
   "outputs": [],
   "source": [
    "def maxNumber(nums1, nums2, k):\n",
    "    # first has to find the maximum num from one array, then merge them\n",
    "    def prep(nums,k):\n",
    "        # KEY, 這裡的drop 表示可以drop的數量, 如果今天 len(nums) = 5, k = 4\n",
    "        # 代表只能drop 一個數字, 不然max(nums) 是在最後的話永遠只會, 回傳 ans[nums[-1]]\n",
    "        drop = len(nums) - k\n",
    "        ans = []\n",
    "        for num in nums:\n",
    "            # if ans not empty and num > last element in ans, keep poping()\n",
    "            while drop and ans and num>ans[-1]: #kepp pop the ans array, until find the proper pos\n",
    "                ans.pop()\n",
    "                drop-=1\n",
    "            ans.append(num)\n",
    "\n",
    "        return ans[:k]\n",
    "\n",
    "    def merge_max(nums1, nums2):\n",
    "        # KEY, max(list1,list2) 是會比較兩個list裡面的 加起來的值\n",
    "        # EX, [5,6,7,8] vs [7,6,3]  ==> max('5678','763')  ,然後是 **bit-wise compare** (第一ronud 會是 763 因為7>5)\n",
    "        #且會選到那個** list **\n",
    "        # 這裡的 for _ 是控制比較次數\n",
    "        return [max(nums1,nums2).pop(0) for _ in nums1+nums2]\n",
    "    \n",
    "#     print([(i, k-i) for i in range(k+1) if i<= len(nums1) and k-i<=len(nums2)])\n",
    "    max_list = [merge_max(prep(nums1,i), prep(nums2, k-i)) for i in range(k+1) if i<= len(nums1) and k-i<=len(nums2) ]                              \n",
    "    print(max_list)\n",
    "    return max(max_list)"
   ]
  },
  {
   "cell_type": "code",
   "execution_count": 124,
   "id": "regional-filter",
   "metadata": {},
   "outputs": [
    {
     "name": "stdout",
     "output_type": "stream",
     "text": [
      "[(1, 2), (2, 1)]\n",
      "[[9, 8, 9], [9, 3, 9]]\n"
     ]
    },
    {
     "data": {
      "text/plain": [
       "[9, 8, 9]"
      ]
     },
     "execution_count": 124,
     "metadata": {},
     "output_type": "execute_result"
    }
   ],
   "source": [
    "nums1 = [3,9]; nums2 = [8,9]; k = 3\n",
    "# nums1 = [3,4,6,5]; nums2 = [9,1,2,5,8,3]; k = 5\n",
    "maxNumber(nums1,nums2,k)"
   ]
  },
  {
   "cell_type": "code",
   "execution_count": 125,
   "id": "further-fever",
   "metadata": {},
   "outputs": [],
   "source": [
    "def prep(nums,k):\n",
    "    # KEY, 這裡的drop 表示可以drop的數量, 如果今天 len(nums) = 5, k = 4\n",
    "    # 代表只能drop 一個數字, 不然max(nums) 是在最後的話永遠只會, 回傳 ans[nums[-1]]\n",
    "    drop = len(nums) - k\n",
    "    ans = []\n",
    "    for num in nums:\n",
    "        # if ans not empty and num > last element in ans, keep poping()\n",
    "        while drop and ans and num>ans[-1]: #kepp pop the ans array, until find the proper pos\n",
    "            ans.pop()\n",
    "            drop-=1\n",
    "        ans.append(num)\n",
    "\n",
    "    return ans[:k]\n"
   ]
  },
  {
   "cell_type": "code",
   "execution_count": 139,
   "id": "rational-bhutan",
   "metadata": {},
   "outputs": [],
   "source": [
    "def merge(a,b):\n",
    "    ans = []\n",
    "    for _ in a+b:\n",
    "        print(\"**\",a,b)\n",
    "        print(max(a,b))\n",
    "        ans.append(max(a,b).pop(0))\n",
    "        \n",
    "    return ans"
   ]
  },
  {
   "cell_type": "code",
   "execution_count": 140,
   "id": "balanced-stuff",
   "metadata": {},
   "outputs": [
    {
     "name": "stdout",
     "output_type": "stream",
     "text": [
      "** [5, 6, 7, 8] [7, 8, 9]\n",
      "[7, 8, 9]\n",
      "** [5, 6, 7, 8] [8, 9]\n",
      "[8, 9]\n",
      "** [5, 6, 7, 8] [9]\n",
      "[9]\n",
      "** [5, 6, 7, 8] []\n",
      "[5, 6, 7, 8]\n",
      "** [6, 7, 8] []\n",
      "[6, 7, 8]\n",
      "** [7, 8] []\n",
      "[7, 8]\n",
      "** [8] []\n",
      "[8]\n"
     ]
    },
    {
     "data": {
      "text/plain": [
       "[7, 8, 9, 5, 6, 7, 8]"
      ]
     },
     "execution_count": 140,
     "metadata": {},
     "output_type": "execute_result"
    }
   ],
   "source": [
    "nums1 = [5,6,7,8]; nums2=[7,8,9]\n",
    "merge(nums1,nums2)"
   ]
  },
  {
   "cell_type": "code",
   "execution_count": 128,
   "id": "structured-handle",
   "metadata": {},
   "outputs": [
    {
     "data": {
      "text/plain": [
       "[6, 3, 5]"
      ]
     },
     "execution_count": 128,
     "metadata": {},
     "output_type": "execute_result"
    }
   ],
   "source": [
    "nums = [4,3,6,2,3,5]; k =3\n",
    "prep(nums,k)"
   ]
  },
  {
   "cell_type": "markdown",
   "id": "sensitive-metallic",
   "metadata": {},
   "source": [
    "# [56 Merge Intervals](https://leetcode.com/problems/merge-intervals/discuss/21227/7-lines-easy-Python)\n",
    "Given an array of intervals where intervals[i] = [starti, endi], merge all overlapping intervals, and return an array of the non-overlapping intervals that cover all the intervals in the input.\n",
    "\n",
    " "
   ]
  },
  {
   "cell_type": "code",
   "execution_count": 220,
   "id": "greenhouse-heater",
   "metadata": {},
   "outputs": [],
   "source": [
    "def merge(intervals):\n",
    "    res = []\n",
    "    \n",
    "    # KEY, 先以lower bound 來做sort, 表示每一個在後面出現的, lower_bound 都部會比前面的小\n",
    "    # 所以只需要handle upper bound\n",
    "    for interval in sorted(intervals, key= lambda i: i[0]):\n",
    "        # 且KEY, 因已用 lower bound做過sort, 只要去看res中的上一個\n",
    "        if res and interval[0] <= res[-1][1]:\n",
    "            res[-1][1] = max(res[-1][1], interval[1])\n",
    "        else:\n",
    "            res += interval,\n",
    "            # The interv, is a tuple **(because of the comma)**, and you can += a tuple to a list.\n",
    "            # 等於 res.append(interval)\n",
    "\n",
    "            print(res)\n",
    "    return res\n",
    "    \n",
    "\n",
    "            \n",
    "            \n",
    "            \n",
    "        "
   ]
  },
  {
   "cell_type": "code",
   "execution_count": 222,
   "id": "contained-mechanism",
   "metadata": {},
   "outputs": [
    {
     "name": "stdout",
     "output_type": "stream",
     "text": [
      "[[1, 3]]\n",
      "[[1, 6]]\n",
      "[[1, 7]]\n",
      "[[1, 7], [8, 10]]\n",
      "[[1, 7], [8, 18]]\n"
     ]
    },
    {
     "data": {
      "text/plain": [
       "[[1, 7], [8, 18]]"
      ]
     },
     "execution_count": 222,
     "metadata": {},
     "output_type": "execute_result"
    }
   ],
   "source": [
    "intervals = [[1,3],[2,6],[8,10],[9,18], [6,7]]\n",
    "# intervals = [[1,4],[4,5]]\n",
    "# intervals = [[1,4],[0,5]]\n",
    "# intervals = [[1,4],[0,0]]\n",
    "# intervals = [[2,3],[4,5],[6,7],[8,9],[1,10]]\n",
    "\n",
    "merge(intervals)"
   ]
  },
  {
   "cell_type": "code",
   "execution_count": 201,
   "id": "practical-partner",
   "metadata": {},
   "outputs": [],
   "source": [
    "d = [1,3,4]"
   ]
  },
  {
   "cell_type": "code",
   "execution_count": 211,
   "id": "impaired-charity",
   "metadata": {},
   "outputs": [
    {
     "data": {
      "text/plain": [
       "[[1, 10], [2, 3], [4, 5], [6, 7], [8, 9]]"
      ]
     },
     "execution_count": 211,
     "metadata": {},
     "output_type": "execute_result"
    }
   ],
   "source": [
    "intervals = [[2,3],[4,5],[6,7],[8,9],[1,10]]\n",
    "sorted(intervals, key=lambda i: i[0])"
   ]
  },
  {
   "cell_type": "code",
   "execution_count": 205,
   "id": "complicated-handle",
   "metadata": {},
   "outputs": [
    {
     "data": {
      "text/plain": [
       "[1, 4]"
      ]
     },
     "execution_count": 205,
     "metadata": {},
     "output_type": "execute_result"
    }
   ],
   "source": [
    "d"
   ]
  },
  {
   "cell_type": "markdown",
   "id": "norwegian-science",
   "metadata": {},
   "source": [
    "# 695. Max Area of Island\n",
    "You are given an m x n binary matrix grid. An island is a group of 1's (representing land) connected 4-directionally (horizontal or vertical.) You may assume all four edges of the grid are surrounded by water.\n"
   ]
  },
  {
   "cell_type": "code",
   "execution_count": 93,
   "id": "confident-kansas",
   "metadata": {},
   "outputs": [],
   "source": [
    "def maxAreaOfIsland(grid):\n",
    "    max_area = 0\n",
    "    if not grid:\n",
    "        return 0\n",
    "    \n",
    "    def dfs(i,j):\n",
    "        if  i<0 or j<0 or j>=len(grid[0]) or i >=len(grid) or grid[i][j] ==0 :\n",
    "            return 0\n",
    "\n",
    "        grid[i][j] = 0\n",
    "        up = dfs(i-1, j)\n",
    "        down = dfs(i+1, j)\n",
    "        left = dfs(i, j-1)\n",
    "        right = dfs(i, j+1)\n",
    "        \n",
    "        return up + down + left + right + 1\n",
    "        \n",
    "\n",
    "    \n",
    "    for i in range(len(grid)):\n",
    "        for j in range(len(grid[i])):\n",
    "            if grid[i][j] == 1:\n",
    "                max_area = max(dfs(i,j), max_area)\n",
    "#                 print(i,j,tmp)\n",
    "    return max_area\n",
    "            \n",
    "            \n",
    "            \n",
    "    \n",
    "    \n",
    "        "
   ]
  },
  {
   "cell_type": "code",
   "execution_count": 94,
   "id": "falling-techno",
   "metadata": {},
   "outputs": [
    {
     "name": "stdout",
     "output_type": "stream",
     "text": [
      "0 2 1\n",
      "0 7 4\n",
      "2 1 4\n",
      "2 4 5\n",
      "3 8 6\n",
      "6 7 5\n"
     ]
    },
    {
     "data": {
      "text/plain": [
       "6"
      ]
     },
     "execution_count": 94,
     "metadata": {},
     "output_type": "execute_result"
    }
   ],
   "source": [
    "grid = [[0,0,1,0,0,0,0,1,0,0,0,0,0],\n",
    "        [0,0,0,0,0,0,0,1,1,1,0,0,0],\n",
    "        [0,1,1,0,1,0,0,0,0,0,0,0,0],\n",
    "        [0,1,0,0,1,1,0,0,1,0,1,0,0],\n",
    "        [0,1,0,0,1,1,0,0,1,1,1,0,0],\n",
    "        [0,0,0,0,0,0,0,0,0,0,1,0,0],\n",
    "        [0,0,0,0,0,0,0,1,1,1,0,0,0],\n",
    "        [0,0,0,0,0,0,0,1,1,0,0,0,0]]\n",
    "grid = [[1,1,0,1,1],\n",
    "        [1,0,0,0,0],\n",
    "        [0,0,0,0,1],\n",
    "        [1,1,0,1,1]]\n",
    "maxAreaOfIsland(grid)"
   ]
  },
  {
   "cell_type": "code",
   "execution_count": 40,
   "id": "aboriginal-humanity",
   "metadata": {},
   "outputs": [],
   "source": [
    "def dfs(i,j,area):\n",
    "    if  i<0 or j<0 or j>=len(grid) or i >=len(grid) or grid[i][j] !=1 :\n",
    "        return 0\n",
    "\n",
    "    grid[i][j] = -1\n",
    "    print(i,j, area)\n",
    "\n",
    "    directions = [(0,-1),(1,0),(0,1),(-1,0)]\n",
    "    for direction in directions:\n",
    "        x = direction[0]\n",
    "        y = direction[1]\n",
    "        area += dfs(i+x, j+y,area)\n",
    "    return area+1\n",
    "        \n"
   ]
  },
  {
   "cell_type": "code",
   "execution_count": 44,
   "id": "stuffed-encyclopedia",
   "metadata": {},
   "outputs": [
    {
     "name": "stdout",
     "output_type": "stream",
     "text": [
      "2 1 0\n",
      "2 2 0\n",
      "1 2 0\n",
      "1 1 0\n"
     ]
    },
    {
     "data": {
      "text/plain": [
       "4"
      ]
     },
     "execution_count": 44,
     "metadata": {},
     "output_type": "execute_result"
    }
   ],
   "source": [
    "grid =[[0,0,0],[0,1,1],[0,1,1]]\n",
    "\n",
    "dfs(2,1,0)"
   ]
  },
  {
   "cell_type": "markdown",
   "id": "neural-posting",
   "metadata": {},
   "source": [
    "# 57 Insert Interval\n",
    "Given a set of non-overlapping intervals, insert a new interval into the intervals (merge if necessary).  \n",
    "\n",
    "You may assume that the intervals were initially sorted according to their start times."
   ]
  },
  {
   "cell_type": "markdown",
   "id": "female-yahoo",
   "metadata": {},
   "source": [
    "**Collect the intervals strictly left or right of the new interval, then merge the new one with the middle ones (if any) before inserting it between left and right ones.**  \n",
    "[Solution](https://leetcode.com/problems/insert-interval/discuss/21622/7%2B-lines-3-easy-solutions)"
   ]
  },
  {
   "cell_type": "code",
   "execution_count": 135,
   "id": "aboriginal-princess",
   "metadata": {},
   "outputs": [],
   "source": [
    "def insert(intervals, newInterval):\n",
    "    s, e = newInterval\n",
    "    left = [i for i in intervals if i[1] < s]\n",
    "    right = [i for i in intervals if i[0] > e]\n",
    "    print(left, '**',right)\n",
    "    if left + right != intervals:\n",
    "        s = min(s, intervals[len(left)][0])\n",
    "        e = max(e, intervals[-len(right)-1][1])\n",
    "    return left + [[s,e]] +right\n",
    "        \n"
   ]
  },
  {
   "cell_type": "code",
   "execution_count": 136,
   "id": "contained-colors",
   "metadata": {},
   "outputs": [
    {
     "name": "stdout",
     "output_type": "stream",
     "text": [
      "[] ** [[6, 9]]\n"
     ]
    },
    {
     "data": {
      "text/plain": [
       "[[1, 5], [6, 9]]"
      ]
     },
     "execution_count": 136,
     "metadata": {},
     "output_type": "execute_result"
    }
   ],
   "source": [
    "# intervals = [[1,2],[3,5],[6,7],[8,10],[12,16]]; newInterval = [4,8]\n",
    "intervals = [[1,3],[6,9]]; newInterval = [2,5]\n",
    "# intervals = [[1,5]]; newInterval = [3,8]\n",
    "# intervals = [[1,5]]; newInterval = [0,0]\n",
    "# intervals = [[1,5]]; newInterval = [0,0]\n",
    "# intervals = [[1,2],[8,10],[12,16]]; newInterval = [7,7]\n",
    "\n",
    "# intervals = []; newInterval = [5,7]\n",
    "insert(intervals, newInterval)"
   ]
  },
  {
   "cell_type": "code",
   "execution_count": 118,
   "id": "affiliated-soldier",
   "metadata": {},
   "outputs": [],
   "source": [
    "s,e = newInterval"
   ]
  },
  {
   "cell_type": "markdown",
   "id": "japanese-internet",
   "metadata": {},
   "source": [
    "# 209. Minimum Size Subarray Sum\n",
    "Given an array of positive integers nums and a positive integer target, return the minimal **length of a contiguous subarray [numsl, numsl+1, ..., numsr-1, numsr] of which the sum is greater than or equal to target.** If there is no such subarray, return 0 instead."
   ]
  },
  {
   "cell_type": "code",
   "execution_count": 35,
   "id": "industrial-significance",
   "metadata": {},
   "outputs": [],
   "source": [
    "def minSubArrayLen(target, nums):\n",
    "    # brute force\n",
    "    # Idea is correct but will expire time\n",
    "    if target > sum(nums):\n",
    "        return 0\n",
    "    min_length = float('inf')\n",
    "    \n",
    "    for i, num in enumerate(nums):\n",
    "        if num >= target:\n",
    "            min_length = min(1, min_length)\n",
    "            break\n",
    "        tmp_sum = 0\n",
    "        tmp_sum += num\n",
    "        for j in range(i+1, len(nums)):\n",
    "            tmp_sum += nums[j]\n",
    "            if tmp_sum >= target:\n",
    "                print(j, i)\n",
    "                min_length = min(j-i+1, min_length)\n",
    "                break\n",
    "                \n",
    "    return min_length if min_length!= float('inf') else 0\n",
    "                \n",
    "    \n",
    "    "
   ]
  },
  {
   "cell_type": "markdown",
   "id": "finnish-estimate",
   "metadata": {},
   "source": [
    "NOTE: [Solution](https://leetcode.com/problems/minimum-size-subarray-sum/discuss/277445/Python-Sliding-Window-Approach-(with-comments))\n",
    "IDEA 是以 sliding window,"
   ]
  },
  {
   "cell_type": "code",
   "execution_count": 124,
   "id": "level-forge",
   "metadata": {},
   "outputs": [],
   "source": [
    "# dp store the cumulation value, up the current index\n",
    "# Next loop, for each in dp, check the target difference with itself\n",
    "def minSubArrayLen(target, nums):\n",
    "    summation, window_start = 0,0\n",
    "    min_length = float('inf')\n",
    "    \n",
    "    for window_end, num in enumerate(nums):\n",
    "        summation += num\n",
    "        while summation >= target:\n",
    "            min_length = min(min_length, window_end - window_start +1)\n",
    "            summation -= nums[window_start]\n",
    "            window_start +=1\n",
    "#         print(window_start, window_end)\n",
    "        \n",
    "    return min_length if min_length != float('inf') else 0\n",
    "\n"
   ]
  },
  {
   "cell_type": "code",
   "execution_count": 125,
   "id": "empty-section",
   "metadata": {},
   "outputs": [
    {
     "data": {
      "text/plain": [
       "2"
      ]
     },
     "execution_count": 125,
     "metadata": {},
     "output_type": "execute_result"
    }
   ],
   "source": [
    "target = 7; nums = [2,3,1,2,4,3]\n",
    "# target = 5; nums = [3,4,2]\n",
    "# target = 4; nums = [4,4]\n",
    "# target = 11; nums = [1,1,1,1,1,1,1,1]\n",
    "# target = 15; nums = [1,2,3,4,5]\n",
    "# target = 18; nums = [10,1,1,1,1,9,9]\n",
    "# target = 5; nums = [2,3,1,1,1,1]\n",
    "\n",
    "minSubArrayLen(target, nums)"
   ]
  },
  {
   "attachments": {
    "image.png": {
     "image/png": "[encoded data removed]"
    }
   },
   "cell_type": "markdown",
   "id": "introductory-shaft",
   "metadata": {},
   "source": [
    "# 239. Sliding Window Maximum\n",
    "You are given an array of integers nums, there is a sliding window of size k which is moving from the very left of the array to the very right. You can only see the k numbers in the window. Each time the sliding window moves right by one position.\n",
    "\n",
    "Return the max sliding window.\n",
    "![image.png](attachment:image.png)\n",
    "\n",
    "**[Solution](https://leetcode.com/problems/sliding-window-maximum/discuss/871317/Clear-thinking-process-with-PICTURE-brute-force-to-mono-deque-pythonjavajavascript)**\n"
   ]
  },
  {
   "cell_type": "code",
   "execution_count": 131,
   "id": "atomic-track",
   "metadata": {},
   "outputs": [],
   "source": [
    "def maxSlidingWindow(nums, k):\n",
    "    # Brute force will expire\n",
    "    ans = [max(nums[i:i+k]) for i in range(len(nums)-k+1)]\n",
    "    return ans\n"
   ]
  },
  {
   "cell_type": "code",
   "execution_count": null,
   "id": "lesbian-advancement",
   "metadata": {},
   "outputs": [],
   "source": []
  },
  {
   "cell_type": "code",
   "execution_count": 132,
   "id": "informal-virtue",
   "metadata": {},
   "outputs": [
    {
     "data": {
      "text/plain": [
       "[3, 3, 5, 5, 6, 7]"
      ]
     },
     "execution_count": 132,
     "metadata": {},
     "output_type": "execute_result"
    }
   ],
   "source": [
    "nums = [1,3,-1,-3,5,3,6,7]; k = 3\n",
    "maxSlidingWindow(nums,k)"
   ]
  },
  {
   "cell_type": "markdown",
   "id": "academic-martial",
   "metadata": {},
   "source": [
    "# 238. Product of Array Except Self\n",
    "Given an integer array nums, return an **array answer such that answer[i] is equal to the product of all the elements of nums except nums[i].**\n",
    "\n",
    "The product of any prefix or suffix of nums is guaranteed to fit in a 32-bit integer.\n",
    "\n",
    "You must write an algorithm that runs in O(n) time and without using the division operation."
   ]
  },
  {
   "attachments": {
    "image.png": {
     "image/png": "[encoded data removed]"
    }
   },
   "cell_type": "markdown",
   "id": "loving-longitude",
   "metadata": {},
   "source": [
    "![image.png](attachment:image.png)"
   ]
  },
  {
   "cell_type": "code",
   "execution_count": 146,
   "id": "persistent-forge",
   "metadata": {},
   "outputs": [],
   "source": [
    "def productExceptSelf(nums):\n",
    "    output= [1 for _ in range(len(nums))]\n",
    "    n = len(nums)\n",
    "    \n",
    "    prod  = 1\n",
    "    for i in range(1, n):\n",
    "        # multiply left part of any num\n",
    "        prod *= nums[i-1]\n",
    "        output[i] *= prod\n",
    "        print(prod, output)\n",
    "    print('***')\n",
    "    prod = 1\n",
    "    for i in range(n-2, -1 ,-1):\n",
    "        # multiply right part of any num\n",
    "        prod *= nums[i+1]\n",
    "        output[i] *= prod\n",
    "        print(prod, output)\n",
    "        \n",
    "    return output"
   ]
  },
  {
   "cell_type": "code",
   "execution_count": 147,
   "id": "binding-thriller",
   "metadata": {},
   "outputs": [
    {
     "name": "stdout",
     "output_type": "stream",
     "text": [
      "1 [1, 1, 1, 1]\n",
      "2 [1, 1, 2, 1]\n",
      "6 [1, 1, 2, 6]\n",
      "***\n",
      "4 [1, 1, 8, 6]\n",
      "12 [1, 12, 8, 6]\n",
      "24 [24, 12, 8, 6]\n"
     ]
    },
    {
     "data": {
      "text/plain": [
       "[24, 12, 8, 6]"
      ]
     },
     "execution_count": 147,
     "metadata": {},
     "output_type": "execute_result"
    }
   ],
   "source": [
    "nums = [1,2,3,4]\n",
    "productExceptSelf(nums)\n",
    "       "
   ]
  },
  {
   "cell_type": "markdown",
   "id": "faced-future",
   "metadata": {},
   "source": [
    "# 5. Longest Palindromic Substring\n",
    "Given a string s, return the longest palindromic substring in s.  \n",
    "## [Solution](https://leetcode.com/problems/longest-palindromic-substring/discuss/2954/Python-easy-to-understand-solution-with-comments-(from-middle-to-two-ends).)\n"
   ]
  },
  {
   "cell_type": "code",
   "execution_count": 169,
   "id": "mighty-amazon",
   "metadata": {},
   "outputs": [],
   "source": [
    "def longestPalindrome(s):\n",
    "    # starting at l,r expand outwards to find the biggest palindrome\n",
    "    def palindromeAt( s, l, r):    \n",
    "        while l >= 0 and r < len(s) and s[l] == s[r]:\n",
    "            l -= 1\n",
    "            r += 1\n",
    "        #  KEY: s[1:3] 1包含, 3不包含\n",
    "        # 所以當跳出while後, 其實l,r 已經是錯的index了\n",
    "        # 因為l 包含, 所以要另外調整, r 本身就不包含 所以沒差\n",
    "        return s[l+1:r]\n",
    "    \n",
    "    res= \"\"\n",
    "    for i in range(len(s)):\n",
    "        # For odd case, it will converge to the same character.\n",
    "        # So from other perspective, it expand from the same index\n",
    "        odd = palindromeAt(s,i,i)\n",
    "        # As for even case, it will converge to two characters.\n",
    "        # So index has to be given +1\n",
    "        even = palindromeAt(s,i,i+1)\n",
    "        res = max(res, odd, even, key =len)\n",
    "    return res\n",
    "    \n"
   ]
  },
  {
   "cell_type": "code",
   "execution_count": 171,
   "id": "expanded-possible",
   "metadata": {},
   "outputs": [
    {
     "data": {
      "text/plain": [
       "'bab'"
      ]
     },
     "execution_count": 171,
     "metadata": {},
     "output_type": "execute_result"
    }
   ],
   "source": [
    "s = \"cbbd\"\n",
    "s = \"babad\"\n",
    "longestPalindrome(s)"
   ]
  },
  {
   "cell_type": "code",
   "execution_count": 173,
   "id": "north-compiler",
   "metadata": {},
   "outputs": [
    {
     "data": {
      "text/plain": [
       "'sadfghjhgfd'"
      ]
     },
     "execution_count": 173,
     "metadata": {},
     "output_type": "execute_result"
    }
   ],
   "source": [
    "s = \"zsasdf\"\n",
    "s2 = \"sadfghjhgfd\"\n",
    "# max(s,s2)\n",
    "max(s,s2, key=len)"
   ]
  },
  {
   "cell_type": "markdown",
   "id": "published-pennsylvania",
   "metadata": {},
   "source": [
    "# 152. Maximum Product Subarray\n",
    "Given an integer array nums, find a **contiguous non-empty subarray** within the array that has the **largest product, and return the product.**"
   ]
  },
  {
   "cell_type": "code",
   "execution_count": 45,
   "id": "connected-louisville",
   "metadata": {},
   "outputs": [],
   "source": [
    "def maxProduct(nums):\n",
    "    ## Brute Force, time O(N^2), time expire\n",
    "    if not nums:\n",
    "        return 0\n",
    "    \n",
    "    ans = float('-inf')\n",
    "    for i in range(len(nums)):\n",
    "        curr = 1\n",
    "        for j in range(i, len(nums)):\n",
    "            curr *= nums[j]\n",
    "            ans = max(ans, curr)\n",
    "    return ans \n"
   ]
  },
  {
   "cell_type": "code",
   "execution_count": 54,
   "id": "saved-forth",
   "metadata": {},
   "outputs": [],
   "source": [
    "def maxProduct(nums):\n",
    "    # DP solution\n",
    "    # Time O(N), SPACE O(1)\n",
    "    dp = [[0,0] for _ in range(len(nums))]\n",
    "    # 0th postion for min value, 1st position for max value\n",
    "    dp[0][0] = nums[0]\n",
    "    dp[0][1] = nums[0]    \n",
    "    \n",
    "    # KEY IDEA is that, maxima can only be derived \n",
    "    # 1, positive * largest positive \n",
    "    # 2, negative * smallest negative, \n",
    "    # So, need extra space to store for the minimum in case there are multiple negative\n",
    "    # Last, only need to select the maximum from all \n",
    "    for i in range(1, len(nums)):\n",
    "        dp[i][0] = min(nums[i], nums[i]* dp[i-1][0], nums[i]*dp[i-1][1])\n",
    "        dp[i][1] = max(nums[i], nums[i]* dp[i-1][0], nums[i]*dp[i-1][1])\n",
    "    print(dp)        \n",
    "    ans = max([element[1] for element in dp])\n",
    "    return ans"
   ]
  },
  {
   "cell_type": "code",
   "execution_count": 58,
   "id": "approved-russell",
   "metadata": {},
   "outputs": [],
   "source": [
    "def maxProduct(nums):\n",
    "    # Time O(N), SPACE O(1)\n",
    "    \n",
    "    currMax = nums[0]\n",
    "    currMin = nums[0]\n",
    "    ans = currMax\n",
    "    for i in range(1, len(nums)):\n",
    "        tmp = currMax\n",
    "        currMax = max(nums[i], nums[i]* tmp , nums[i]*currMin)\n",
    "        currMin = min(nums[i], nums[i]* tmp , nums[i]*currMin)\n",
    "        \n",
    "        ans = max(ans, currMax)\n",
    "        \n",
    "    return ans\n",
    "    \n",
    "    \n"
   ]
  },
  {
   "cell_type": "code",
   "execution_count": 60,
   "id": "dedicated-citizenship",
   "metadata": {},
   "outputs": [
    {
     "data": {
      "text/plain": [
       "0"
      ]
     },
     "execution_count": 60,
     "metadata": {},
     "output_type": "execute_result"
    }
   ],
   "source": [
    "# nums = [2,3,-2,4]\n",
    "# nums = []\n",
    "# nums = [-2,3,-4]\n",
    "nums = [-2,0,-1]\n",
    "maxProduct(nums)"
   ]
  },
  {
   "cell_type": "markdown",
   "id": "expected-payday",
   "metadata": {},
   "source": [
    "# 228. Summary Ranges\n",
    "ou are given a sorted unique integer array nums.\n",
    "\n",
    "Return the smallest sorted list of ranges that **cover all the numbers in the array exactly.** And there is no integer x such that x is in one of the ranges but not in nums. For example:  \n",
    "Input: nums = [0,1,2,4,5,7]  \n",
    "Output: [\"0->2\",\"4->5\",\"7\"]  \n",
    "**3 not in nums, so the output range cannot cover 3**"
   ]
  },
  {
   "cell_type": "code",
   "execution_count": 104,
   "id": "previous-prophet",
   "metadata": {},
   "outputs": [],
   "source": [
    "def summaryRanges(nums):\n",
    "    if not nums:\n",
    "        return []\n",
    "    elif len(nums) == 1:\n",
    "        return ['{}'.format(nums[0])]\n",
    "    \n",
    "        \n",
    "    \n",
    "    front = nums[0]\n",
    "    pre = nums[0]\n",
    "    \n",
    "    ans = []\n",
    "    for i in range(1, len(nums)):\n",
    "        if nums[i] -pre ==1:\n",
    "            pre +=1\n",
    "        else:\n",
    "            if front == pre:\n",
    "                ans.append('{}'.format(front))\n",
    "            else:\n",
    "                ans.append('{}->{}'.format(front,pre))\n",
    "            front = pre = nums[i]\n",
    "        \n",
    "        if i == len(nums) -1 :\n",
    "            if front == pre:\n",
    "                ans.append('{}'.format(front))\n",
    "            else:\n",
    "                ans.append('{}->{}'.format(front,pre))\n",
    "            \n",
    "#         print(front, pre,i)\n",
    "    print(ans)\n",
    "    return ans\n",
    "        \n"
   ]
  },
  {
   "cell_type": "code",
   "execution_count": 106,
   "id": "known-express",
   "metadata": {},
   "outputs": [
    {
     "name": "stdout",
     "output_type": "stream",
     "text": [
      "['1', '3']\n"
     ]
    },
    {
     "data": {
      "text/plain": [
       "['1', '3']"
      ]
     },
     "execution_count": 106,
     "metadata": {},
     "output_type": "execute_result"
    }
   ],
   "source": [
    "# nums = [0,2,3,4,6,8,9]\n",
    "nums = [0,1,2,4,5,7]\n",
    "nums = [1,3]\n",
    "\n",
    "summaryRanges(nums)"
   ]
  },
  {
   "cell_type": "markdown",
   "id": "paperback-luxembourg",
   "metadata": {},
   "source": [
    "# 88. Merge Sorted Array\n",
    "You are given two integer arrays nums1 and nums2, sorted in non-decreasing order, and two integers m and n, representing the number of elements in nums1 and nums2 respectively.  \n",
    "\n",
    "Merge nums1 and nums2 into a single array sorted in non-decreasing order.  \n",
    "\n",
    "To accommodate this, nums1 has a length of m + n, where the first m elements denote the elements that should be merged, and the last n elements are set to 0 and should be ignored. nums2 has a length of n."
   ]
  },
  {
   "cell_type": "code",
   "execution_count": 115,
   "id": "prescription-single",
   "metadata": {},
   "outputs": [],
   "source": [
    "def merge(nums1, m, nums2, n):\n",
    "    # 從大的開始往回放\n",
    "    while m > 0 and n > 0:\n",
    "        if nums1[m - 1] > nums2[n - 1]:\n",
    "            nums1[m + n - 1] = nums1[m - 1]\n",
    "            m -= 1\n",
    "        else:\n",
    "            nums1[m + n - 1] = nums2[n - 1]\n",
    "            n -= 1\n",
    "    print(m,n)\n",
    "    # 因為是從大的開始排序, if n ==0 代表nums2 排完了, 但nums1裡面原本的m就已經排好了\n",
    "    # 如果m ==0 , n!=0 代表nums1前面的值已經有被放到後面了 只要把nums2剩下的值補上就好\n",
    "    \n",
    "    nums1[:n] = nums2[:n]\n",
    "    return nums1"
   ]
  },
  {
   "cell_type": "code",
   "execution_count": 116,
   "id": "vocational-detective",
   "metadata": {},
   "outputs": [
    {
     "name": "stdout",
     "output_type": "stream",
     "text": [
      "3 0\n"
     ]
    },
    {
     "data": {
      "text/plain": [
       "[-1, 0, 0, 1, 2, 2, 3, 3, 3]"
      ]
     },
     "execution_count": 116,
     "metadata": {},
     "output_type": "execute_result"
    }
   ],
   "source": [
    "# nums1 = [1,2,3,0,0,0]; m = 3; nums2 = [2,5,6]; n = 3\n",
    "# nums1 = [1]; m = 1; nums2 = []; n =0\n",
    "# nums1 = [0]; m = 0; nums2 = [1]; n = 1\n",
    "nums1 = [-1,0,0,3,3,3,0,0,0]; m = 6; nums2 = [1,2,2]; n =3\n",
    "# nums1 = [-12,0,0,0,0,0,0,0,0,0,0,0,0,0,0,0,0,0,0,0,0,0,0,0,0,0,0,0,0,0,0,0,0,0,0,0,0,0,0,0,0,0,0,0,0,0,0,0,0,0,0,0,0,0,0,0,0,0,0,0,0,0,0,0,0,0,0,0,0,0,0,0,0,0,0,0,0,0,0,0,0,0,0,0,0,0,0,0,0,0,0]\n",
    "# m = 1\n",
    "# nums2 =[-49,-45,-42,-41,-40,-39,-39,-39,-38,-36,-34,-34,-33,-33,-32,-31,-29,-28,-26,-26,-24,-21,-20,-20,-18,-16,-16,-14,-11,-7,-6,-5,-4,-4,-3,-3,-2,-2,-1,0,0,0,2,2,6,7,7,8,10,10,13,13,15,15,16,17,17,19,19,20,20,20,21,21,22,22,24,24,25,26,27,29,30,30,30,35,36,36,36,37,39,40,41,42,45,46,46,46,47,48]\n",
    "# n =90\n",
    "merge(nums1, m, nums2, n)"
   ]
  },
  {
   "cell_type": "markdown",
   "id": "affiliated-sarah",
   "metadata": {},
   "source": [
    "# 75 Sort Colors\n",
    "Given an array nums with n objects colored red, white, or blue, sort them in-place so that objects of the same color are adjacent, with the colors in the order red, white, and blue.\n",
    "\n",
    "We will use the integers 0, 1, and 2 to represent the color red, white, and blue, respectively.  \n",
    "[Sort algo](https://totoroliu.medium.com/%E6%8E%92%E5%BA%8F%E6%BC%94%E7%AE%97%E6%B3%95-sorting-algorithm-dfd8af673f3a)\n"
   ]
  },
  {
   "cell_type": "code",
   "execution_count": 131,
   "id": "checked-horse",
   "metadata": {},
   "outputs": [],
   "source": [
    "def sortColors(nums):\n",
    "    ans = []\n",
    "    for i in range(len(nums)):\n",
    "        min_value = min(nums)\n",
    "        idx = nums.index(min_value)\n",
    "        ans.append(min_value)\n",
    "        del nums[idx]\n",
    "        \n",
    "#         print(nums)\n",
    "#         print(ans)\n",
    "    nums[:] = ans[:]\n",
    "    print(nums)\n",
    "    "
   ]
  },
  {
   "cell_type": "code",
   "execution_count": 133,
   "id": "downtown-stream",
   "metadata": {},
   "outputs": [
    {
     "name": "stdout",
     "output_type": "stream",
     "text": [
      "[0, 1, 2]\n"
     ]
    }
   ],
   "source": [
    "nums = [2,0,2,1,1,0]\n",
    "nums = [2,0,1]\n",
    "sortColors(nums)"
   ]
  },
  {
   "cell_type": "markdown",
   "id": "comparable-mercy",
   "metadata": {},
   "source": [
    "# 283 Move zeros"
   ]
  },
  {
   "cell_type": "code",
   "execution_count": 146,
   "id": "innovative-lodge",
   "metadata": {},
   "outputs": [],
   "source": [
    "def moveZeroes(nums):\n",
    "    l = len(nums)\n",
    "    i=0\n",
    "    while l >0:\n",
    "        if nums[i] == 0:\n",
    "            nums.append(0)\n",
    "            del nums[i]\n",
    "        else:\n",
    "            i+=1\n",
    "        l-=1\n",
    "    \n",
    "    return nums"
   ]
  },
  {
   "cell_type": "code",
   "execution_count": 148,
   "id": "corporate-quebec",
   "metadata": {},
   "outputs": [
    {
     "data": {
      "text/plain": [
       "[1, 3, 12, 0, 0]"
      ]
     },
     "execution_count": 148,
     "metadata": {},
     "output_type": "execute_result"
    }
   ],
   "source": [
    "nums = [0,1,0,3,12]\n",
    "# nums = [0,0,1]\n",
    "\n",
    "moveZeroes(nums)"
   ]
  },
  {
   "attachments": {
    "image.png": {
     "image/png": "[encoded data removed]"
    }
   },
   "cell_type": "markdown",
   "id": "average-county",
   "metadata": {},
   "source": [
    "# 376. Wiggle Subsequence\n",
    "![image.png](attachment:image.png)"
   ]
  },
  {
   "cell_type": "code",
   "execution_count": 204,
   "id": "scenic-brick",
   "metadata": {},
   "outputs": [],
   "source": [
    "def wiggleMaxLength(nums):\n",
    "    if len(nums) <=1 :\n",
    "        return len(nums)\n",
    "\n",
    "    prev_diff  = nums[1] - nums[0] # 1 means larger, 0 means smaller\n",
    "    count = 1 if nums[1] == nums[0] else 2\n",
    "    for i in range(2,len(nums)):\n",
    "        curr_diff = nums[i] - nums[i-1]\n",
    "        if (curr_diff > 0 and prev_diff<=0) or (curr_diff<0 and prev_diff >=0):\n",
    "            prev_diff = curr_diff\n",
    "            count+=1\n",
    "    return count\n",
    "\n",
    "    \n"
   ]
  },
  {
   "cell_type": "code",
   "execution_count": 206,
   "id": "natural-ambassador",
   "metadata": {},
   "outputs": [
    {
     "data": {
      "text/plain": [
       "3"
      ]
     },
     "execution_count": 206,
     "metadata": {},
     "output_type": "execute_result"
    }
   ],
   "source": [
    "# nums = [1,7,4,9,2,5]\n",
    "nums = [1,17,5,10,13,15,10,5,16,8]\n",
    "# nums = [1,2,3,4,5,6,7,8,9]\n",
    "# 1,17,5,10,5,16,8\n",
    "nums = [3,3,3,2,5]\n",
    "wiggleMaxLength(nums)"
   ]
  },
  {
   "cell_type": "code",
   "execution_count": 160,
   "id": "assigned-establishment",
   "metadata": {},
   "outputs": [
    {
     "name": "stdout",
     "output_type": "stream",
     "text": [
      "False\n"
     ]
    }
   ],
   "source": [
    "wiggleMaxLength(1)"
   ]
  },
  {
   "attachments": {
    "image-2.png": {
     "image/png": "[encoded data removed]"
    },
    "image.png": {
     "image/png": "[encoded data removed]"
    }
   },
   "cell_type": "markdown",
   "id": "prerequisite-banking",
   "metadata": {},
   "source": [
    "#  324. Wiggle Sort II\n",
    "Given an integer array nums, reorder it such that nums[0] < nums[1] > nums[2] < nums[3]....\n",
    "\n",
    "You may assume the input array always has a valid answer.\n",
    "![image.png](attachment:image.png)  \n",
    "[Solution](https://leetcode.com/problems/wiggle-sort-ii/discuss/77678/3-lines-Python-with-Explanation-Proof)\n",
    "![image-2.png](attachment:image-2.png)"
   ]
  },
  {
   "cell_type": "code",
   "execution_count": 66,
   "id": "spread-tracker",
   "metadata": {},
   "outputs": [],
   "source": [
    "def wiggleSort(nums):\n",
    "    nums.sort()\n",
    "    half_index = len(nums[::2])-1\n",
    "    print(nums)\n",
    "    print(nums[half_index:])\n",
    "    print(nums[half_index::-1]) # from half_index backward to the rest\n",
    "    print(nums[half_index:0:-1]) # from hal\n",
    "    print('****')\n",
    "    print(nums[:half_index])\n",
    "    print(nums[:half_index:-1]) # from the last backward to the half index\n",
    "    print(nums[-1:half_index:-1]) \n",
    "    \n",
    "    \n",
    "    nums[::2], nums[1::2] = nums[half_index::-1], nums[:half_index:-1]\n",
    "    print(nums)\n",
    "\n",
    "    \n",
    "\n",
    "        \n"
   ]
  },
  {
   "cell_type": "code",
   "execution_count": 67,
   "id": "adapted-ozone",
   "metadata": {},
   "outputs": [
    {
     "name": "stdout",
     "output_type": "stream",
     "text": [
      "[1, 1, 1, 1, 2, 2, 2]\n",
      "[1, 2, 2, 2]\n",
      "[1, 1, 1, 1]\n",
      "[1, 1, 1]\n",
      "****\n",
      "[1, 1, 1]\n",
      "[2, 2, 2]\n",
      "[2, 2, 2]\n",
      "[1, 2, 1, 2, 1, 2, 1]\n"
     ]
    }
   ],
   "source": [
    "nums = [1,3,2,2,3,1]\n",
    "# nums = [1,5,1,5,1,6,4]\n",
    "nums = [1,1,2,1,2,2,1]\n",
    "wiggleSort(nums)"
   ]
  },
  {
   "cell_type": "markdown",
   "id": "compressed-keeping",
   "metadata": {},
   "source": [
    "# 2Sum - Input array is sorted"
   ]
  },
  {
   "cell_type": "code",
   "execution_count": 76,
   "id": "consecutive-standing",
   "metadata": {},
   "outputs": [],
   "source": [
    "def twoSum(numbers, target):\n",
    "    d = {}\n",
    "    for i,n in enumerate(numbers):\n",
    "        m = target - n\n",
    "        if m in d:\n",
    "            return[d[m],i+1]\n",
    "        else:\n",
    "            d[n] = i+1\n",
    "    \n"
   ]
  },
  {
   "cell_type": "code",
   "execution_count": 122,
   "id": "inside-flour",
   "metadata": {},
   "outputs": [],
   "source": [
    "# Two pointer version\n",
    "def twoSum(numbers, target):\n",
    "    numbers.sort()\n",
    "    for i in range(len(numbers)):\n",
    "        l,r =i, len(numbers)-1\n",
    "        # print(l,r)\n",
    "        while l < r:\n",
    "            s = numbers[l] + numbers[r]\n",
    "            # print(s)\n",
    "            if s < target:\n",
    "                l += 1\n",
    "            elif s > target:\n",
    "                r -=1\n",
    "            else:\n",
    "                return [l,r]\n"
   ]
  },
  {
   "cell_type": "code",
   "execution_count": 123,
   "id": "experimental-consumer",
   "metadata": {},
   "outputs": [
    {
     "data": {
      "text/plain": [
       "[0, 2]"
      ]
     },
     "execution_count": 123,
     "metadata": {},
     "output_type": "execute_result"
    }
   ],
   "source": [
    "# numbers = [2,7,11,15]; target = 9\n",
    "# numbers = [-1,0]; target = -1\n",
    "numbers = [2,3,4]; target = 6\n",
    "twoSum(numbers,target)"
   ]
  },
  {
   "cell_type": "markdown",
   "id": "rental-vanilla",
   "metadata": {},
   "source": [
    "#  15. 3Sum\n",
    "Given an integer array nums, return all the triplets [nums[i], nums[j], nums[k]] such that  \n",
    "\n",
    "\n",
    "i != j, i != k, and j != k, and nums[i] + nums[j] + nums[k] == 0."
   ]
  },
  {
   "cell_type": "code",
   "execution_count": 80,
   "id": "alike-reasoning",
   "metadata": {},
   "outputs": [],
   "source": [
    "def threeSum(nums):\n",
    "    res = []\n",
    "    nums = sorted(nums)\n",
    "\n",
    "    # 3 sum, need to make room for at least other 2 elements\n",
    "    for i in range(len(nums)-2):\n",
    "        if i > 0 and nums[i] == nums[i-1]:\n",
    "            continue\n",
    "\n",
    "        l, r = i+1, len(nums)-1\n",
    "\n",
    "        while l < r:\n",
    "            s = nums[i] + nums[l] + nums[r]\n",
    "\n",
    "            if s < 0:\n",
    "                l+=1\n",
    "            elif s>0:\n",
    "                r-=1\n",
    "            else:\n",
    "                res.append((nums[i],nums[l],nums[r]))\n",
    "                    \n",
    "                # Skipping all the repetitive number\n",
    "                while l < r and nums[l] == nums[l+1]:\n",
    "                    l+=1\n",
    "                while l < r and nums[r] == nums[r-1]:\n",
    "                    r-=1\n",
    "                # need final step to reach different value(Still can be another set)\n",
    "                l+=1\n",
    "                r-=1\n",
    "    return res\n"
   ]
  },
  {
   "cell_type": "code",
   "execution_count": 81,
   "id": "honey-aquarium",
   "metadata": {},
   "outputs": [
    {
     "data": {
      "text/plain": [
       "[(-1, -1, 2), (-1, 0, 1)]"
      ]
     },
     "execution_count": 81,
     "metadata": {},
     "output_type": "execute_result"
    }
   ],
   "source": [
    "nums = [-1,0,1,2,-1,-4]\n",
    "threeSum(nums)"
   ]
  },
  {
   "cell_type": "markdown",
   "id": "registered-sunglasses",
   "metadata": {},
   "source": [
    "# 16. 3Sum Closest\n",
    "Given an array nums of n integers and an integer target, find **three integers in nums such that the sum is closest to target.**  \n",
    "\n",
    "\n",
    "**Return the sum of the three integers.** You may assume that each input would have exactly one solution.\n",
    "\n",
    "[Solution](https://leetcode.com/problems/3sum-closest/discuss/451359/Python-easy-approach-beats-100-memory)"
   ]
  },
  {
   "cell_type": "code",
   "execution_count": 89,
   "id": "desperate-sterling",
   "metadata": {},
   "outputs": [],
   "source": [
    "def threeSumClosest(nums,target):\n",
    "    if not nums:\n",
    "        return None\n",
    "    \n",
    "    nums = sorted(nums)\n",
    "    diff = float('inf')\n",
    "    res = 0\n",
    "    # KEY, 3 sum need to leave two extra room\n",
    "    for i in range(len(nums)-2):\n",
    "        l, r = i+1, len(nums)-1\n",
    "        \n",
    "        while l< r:\n",
    "            s = nums[i] + nums[l] + nums[r]\n",
    "            if abs(s-target) < diff:\n",
    "                res = s\n",
    "                diff = abs(s-target)\n",
    "            \n",
    "            if s < target:\n",
    "                l += 1\n",
    "            elif s > target:\n",
    "                r -= 1\n",
    "            else: # sum equal \n",
    "                return target\n",
    "    return res\n",
    "                "
   ]
  },
  {
   "cell_type": "code",
   "execution_count": 90,
   "id": "round-recycling",
   "metadata": {},
   "outputs": [
    {
     "data": {
      "text/plain": [
       "2"
      ]
     },
     "execution_count": 90,
     "metadata": {},
     "output_type": "execute_result"
    }
   ],
   "source": [
    "nums = [-1,2,1,-4]; target = 1\n",
    "threeSumClosest(nums,target)"
   ]
  },
  {
   "cell_type": "markdown",
   "id": "damaged-wilson",
   "metadata": {},
   "source": [
    "# 259. [3Sum Smaller ](https://www.cnblogs.com/grandyang/p/5235086.html)\n",
    "Given an array of n integers nums and a target, find the number of index triplets i, j, k with 0 <= i < j < k < n that  \n",
    "\n",
    "satisfy the condition nums[i] + nums[j] + nums[k] < target.   \n",
    "<br>\n",
    "Input: nums = [-2,0,1,3], and target = 2  \n",
    "Output: 2   \n",
    "Explanation: Because there are two triplets which sums are less than 2:  \n",
    "             [-2,0,1]\n",
    "             [-2,0,3]"
   ]
  },
  {
   "cell_type": "code",
   "execution_count": 95,
   "id": "nasty-programmer",
   "metadata": {},
   "outputs": [],
   "source": [
    "def threeSumSmaller(nums, target):\n",
    "    nums = sorted(nums)\n",
    "    res = 0\n",
    "    \n",
    "    for i in range(len(nums)-2):\n",
    "        l , r = i+1, len(nums) -1 \n",
    "        while l<r:\n",
    "            s= nums[i] + nums[l] + nums[r]\n",
    "            if s < target:\n",
    "                ## KEY: 如果說 + nums[r] 仍小於target,\n",
    "                ## 那代表 再加nums[l+1] ~ nums[r]的值仍會小於 target\n",
    "                ## 因此res 的數量可以直接加 r - l\n",
    "                res += r - l\n",
    "                l+=1\n",
    "            else:\n",
    "                r-=1\n",
    "    return res\n",
    "    "
   ]
  },
  {
   "cell_type": "code",
   "execution_count": 96,
   "id": "amateur-audit",
   "metadata": {},
   "outputs": [
    {
     "data": {
      "text/plain": [
       "2"
      ]
     },
     "execution_count": 96,
     "metadata": {},
     "output_type": "execute_result"
    }
   ],
   "source": [
    "nums = [-2,0,1,3];  target = 2\n",
    "threeSumSmaller(nums, target)"
   ]
  },
  {
   "cell_type": "markdown",
   "id": "terminal-technical",
   "metadata": {},
   "source": [
    "# 18. 4Sum\n",
    "Given an array nums of n integers, return an array of all the unique quadruplets [nums[a], nums[b], nums[c], nums[d]] such that:  \n",
    "  \n",
    "  \n",
    "0 <= a, b, c, d < n    \n",
    "a, b, c, and d are distinct.  \n",
    "nums[a] + nums[b] + nums[c] + nums[d] == target  \n",
    "You may return the answer in any order.  \n",
    "[Solutions](https://leetcode.com/problems/4sum/discuss/8545/Python-140ms-beats-100-and-works-for-N-sum-(Ngreater2))  \n",
    "The core is to implement a fast 2-pointer to solve 2-sum, and recursion to reduce the N-sum to 2-sum. Some optimization was be made knowing the list is sorted."
   ]
  },
  {
   "cell_type": "code",
   "execution_count": 105,
   "id": "resistant-cincinnati",
   "metadata": {},
   "outputs": [],
   "source": [
    "def fourSum(nums, target):\n",
    "    def findNsum(l, r,target ,N, result, results):\n",
    "        if r-l +1 < N or N <2 or target < nums[l]*N or target > nums[r]*N:\n",
    "            return\n",
    "\n",
    "        if N ==2 : # Use two pointer to solve sorted 2-sum problem\n",
    "            while l < r:\n",
    "                s = nums[l] + nums[r]\n",
    "                if s< target:\n",
    "                    l +=1\n",
    "                elif s> target:\n",
    "                    r -=1\n",
    "                else:\n",
    "                    results.append(result + [nums[l], nums[r]]) # KEY, result is passed in. process beforehand\n",
    "                    l+=1\n",
    "                    while l < r and nums[l] == nums[l-1]: # Skip duplicate num\n",
    "                        l+=1\n",
    "        else: # Recursively reduce N\n",
    "            for i in range(l, r+1):\n",
    "                if i ==l or (i > l and nums[i-1] != nums[i]): #KEY, Prevent from repetitively result\n",
    "                    findNsum(i+1, r, target - nums[i], N-1, result+[nums[i]], results)\n",
    "            \n",
    "    \n",
    "    nums.sort()\n",
    "    results= []\n",
    "    findNsum(0, len(nums)-1, target, 4, [],results)\n",
    "    return results"
   ]
  },
  {
   "cell_type": "code",
   "execution_count": 126,
   "id": "usual-server",
   "metadata": {},
   "outputs": [
    {
     "data": {
      "text/plain": [
       "[[2, 2, 2, 2]]"
      ]
     },
     "execution_count": 126,
     "metadata": {},
     "output_type": "execute_result"
    }
   ],
   "source": [
    "nums = [1,0,-1,0,-2,2]; target = 0\n",
    "nums = [2,2,2,2,2]; target = 8\n",
    "fourSum(nums, target)"
   ]
  },
  {
   "cell_type": "code",
   "execution_count": 125,
   "id": "dried-hierarchy",
   "metadata": {},
   "outputs": [
    {
     "data": {
      "text/plain": [
       "[1, 2]"
      ]
     },
     "execution_count": 125,
     "metadata": {},
     "output_type": "execute_result"
    }
   ],
   "source": [
    "l = [1]\n",
    "l2 = [2]\n",
    "l + l2"
   ]
  },
  {
   "cell_type": "code",
   "execution_count": null,
   "id": "voluntary-abuse",
   "metadata": {},
   "outputs": [],
   "source": []
  }
 ],
 "metadata": {
  "kernelspec": {
   "display_name": "Python 3",
   "language": "python",
   "name": "python3"
  },
  "language_info": {
   "codemirror_mode": {
    "name": "ipython",
    "version": 3
   },
   "file_extension": ".py",
   "mimetype": "text/x-python",
   "name": "python",
   "nbconvert_exporter": "python",
   "pygments_lexer": "ipython3",
   "version": "3.8.5"
  },
  "toc": {
   "base_numbering": 1,
   "nav_menu": {},
   "number_sections": true,
   "sideBar": true,
   "skip_h1_title": false,
   "title_cell": "Table of Contents",
   "title_sidebar": "Contents",
   "toc_cell": false,
   "toc_position": {},
   "toc_section_display": true,
   "toc_window_display": true
  },
  "varInspector": {
   "cols": {
    "lenName": 16,
    "lenType": 16,
    "lenVar": 40
   },
   "kernels_config": {
    "python": {
     "delete_cmd_postfix": "",
     "delete_cmd_prefix": "del ",
     "library": "var_list.py",
     "varRefreshCmd": "print(var_dic_list())"
    },
    "r": {
     "delete_cmd_postfix": ") ",
     "delete_cmd_prefix": "rm(",
     "library": "var_list.r",
     "varRefreshCmd": "cat(var_dic_list()) "
    }
   },
   "types_to_exclude": [
    "module",
    "function",
    "builtin_function_or_method",
    "instance",
    "_Feature"
   ],
   "window_display": false
  }
 },
 "nbformat": 4,
 "nbformat_minor": 5
}
