{
 "cells": [
  {
   "cell_type": "code",
   "execution_count": 2,
   "source": [
    "class TreeNode:\n",
    "    def __init__(self, val=0, left=None, right=None):\n",
    "        self.val = val\n",
    "        self.left = left\n",
    "        self.right = right"
   ],
   "outputs": [],
   "metadata": {}
  },
  {
   "cell_type": "markdown",
   "source": [
    "# 110. Balanced Binary Tree\n"
   ],
   "metadata": {}
  },
  {
   "cell_type": "code",
   "execution_count": null,
   "source": [
    "def isBalanced(root):\n",
    "    if not root:\n",
    "        return True\n",
    "\n",
    "    def find_height(node):\n",
    "        if not node:\n",
    "            return 0\n",
    "\n",
    "        left = find_height(node.left)\n",
    "        right = find_height(node.right)\n",
    "\n",
    "        if left == -1 or right == -1 or abs(left -right)>1:\n",
    "            return -1\n",
    "\n",
    "        return max(right,left)+1\n",
    "\n",
    "    return find_height(root)!=-1"
   ],
   "outputs": [],
   "metadata": {}
  },
  {
   "cell_type": "markdown",
   "source": [
    "# 124. Binary Tree Maximum Path Sum\n",
    "A path in a binary tree is a sequence of nodes where each pair of adjacent nodes in the sequence has an edge connecting them. A node can only appear in the sequence at most once. Note that the path does not need to pass through the root.\n",
    "\n",
    "The path sum of a path is the sum of the node's values in the path.\n",
    "\n",
    "Given the root of a binary tree, return the maximum path sum of any path."
   ],
   "metadata": {}
  },
  {
   "cell_type": "code",
   "execution_count": 3,
   "source": [
    "def maxPathSum(root) -> int:\n",
    "    # Find the most adjacent positive value nodes,\n",
    "    # Once encounter negative node, refresh maximum path sum\n",
    "    def max_gain(node):\n",
    "        # KEY: if root=[3], when it visit childre will simply return 0\n",
    "        if not node:\n",
    "            return 0\n",
    "        \n",
    "        # find the left_gain and right_gain for current node\n",
    "        # make sure only add positive number   \n",
    "        # KEY: this max is important. prevent add on negative num          \n",
    "        left_gain = max(max_gain(node.left), 0)\n",
    "        right_gain = max(max_gain(node.right), 0)\n",
    "        \n",
    "        # if it's better to start a new root             \n",
    "        nonlocal max_path\n",
    "        max_path = max(max_path, node.val + left_gain + right_gain)\n",
    "        \n",
    "        # For each node, still need to return the gain this node can contribute,\n",
    "        # So Only can choose one side\n",
    "        return node.val + max(left_gain, right_gain)\n",
    "        \n",
    "        kami.chin@accenture.com\n",
    "        \n",
    "    max_path = float('-inf')\n",
    "    max_gain(root)\n",
    "    return max_path\n",
    "\n",
    "        "
   ],
   "outputs": [],
   "metadata": {}
  },
  {
   "cell_type": "markdown",
   "source": [],
   "metadata": {}
  }
 ],
 "metadata": {
  "kernelspec": {
   "name": "python3",
   "display_name": "Python 3.8.5 64-bit ('base': conda)"
  },
  "language_info": {
   "codemirror_mode": {
    "name": "ipython",
    "version": 3
   },
   "file_extension": ".py",
   "mimetype": "text/x-python",
   "name": "python",
   "nbconvert_exporter": "python",
   "pygments_lexer": "ipython3",
   "version": "3.8.5"
  },
  "toc": {
   "base_numbering": 1,
   "nav_menu": {},
   "number_sections": true,
   "sideBar": true,
   "skip_h1_title": false,
   "title_cell": "Table of Contents",
   "title_sidebar": "Contents",
   "toc_cell": false,
   "toc_position": {},
   "toc_section_display": true,
   "toc_window_display": false
  },
  "varInspector": {
   "cols": {
    "lenName": 16,
    "lenType": 16,
    "lenVar": 40
   },
   "kernels_config": {
    "python": {
     "delete_cmd_postfix": "",
     "delete_cmd_prefix": "del ",
     "library": "var_list.py",
     "varRefreshCmd": "print(var_dic_list())"
    },
    "r": {
     "delete_cmd_postfix": ") ",
     "delete_cmd_prefix": "rm(",
     "library": "var_list.r",
     "varRefreshCmd": "cat(var_dic_list()) "
    }
   },
   "types_to_exclude": [
    "module",
    "function",
    "builtin_function_or_method",
    "instance",
    "_Feature"
   ],
   "window_display": false
  },
  "interpreter": {
   "hash": "38d61402e3d8411fb0c3e7094d5ffdb923be3d218d13c3ac762fa769b2ec6624"
  }
 },
 "nbformat": 4,
 "nbformat_minor": 5
}