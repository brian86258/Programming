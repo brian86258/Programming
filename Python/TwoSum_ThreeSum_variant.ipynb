{
 "cells": [
  {
   "cell_type": "markdown",
   "source": [
    "# Two Sum\n",
    "Given an array of integers nums and an integer target, return indices of the two numbers such that they add up to target.\n",
    "\n",
    "You may assume that each input would have exactly one solution, and you may not use the same element twice.\n",
    "\n",
    "You can return the answer in any order."
   ],
   "metadata": {}
  },
  {
   "cell_type": "code",
   "execution_count": 6,
   "source": [
    "def twoSum(nums: [int], target: int) -> [int]:\n",
    "    # n1 + n2 = target\n",
    "    # target - n1 = n2         \n",
    "    d = {}\n",
    "    for i in range(len(nums)):\n",
    "        if (target - nums[i]) in d:\n",
    "            return [i, d[target - nums[i]]]\n",
    "        d[nums[i]] = i\n",
    "        "
   ],
   "outputs": [],
   "metadata": {}
  },
  {
   "cell_type": "markdown",
   "source": [
    "# 3 Sum\n",
    "Given an integer array nums, return all the triplets [nums[i], nums[j], nums[k]] such that i != j, i != k, and j != k, and nums[i] + nums[j] + nums[k] == 0.\n",
    "\n",
    "**Notice that the solution set must not contain duplicate triplets.** This Notice is important\n",
    "\n",
    "Break this 3 Sum question into 2 Sum\n",
    "\n"
   ],
   "metadata": {}
  },
  {
   "cell_type": "code",
   "execution_count": 4,
   "source": [
    "def threeSum(nums: [int]) -> [[int]]:\n",
    "    nums = sorted(nums)\n",
    "    res = []\n",
    "    # print(nums)\n",
    "    def two_sum(i):\n",
    "        target = nums[i]\n",
    "        seen = set()\n",
    "        # print(i, nums[i])\n",
    "        j = i+1\n",
    "        while j < len(nums):\n",
    "            complement = -target - nums[j]\n",
    "            if complement in seen:\n",
    "                while j+1 < len(nums) and nums[j] == nums[j+1]: \n",
    "                    # KEY, if [-2,-1,3,3,3,3] repetitive 3, will all be valid, so need to select the last one 3\n",
    "                    j+=1\n",
    "                res.append([target, nums[j], -target - nums[j]])\n",
    "            seen.add(nums[j])\n",
    "            j+=1 # move on to next number\n",
    "            \n",
    "    for i in range(len(nums)):\n",
    "        if nums[i] > 0:\n",
    "            break\n",
    "        if i == 0 or nums[i] != nums[i-1]: \n",
    "            # KEY: if [0,0,0] Still need to run first time, \n",
    "            # KEY: IF nums[i] != nums[i+1] will not work, this means select the last same num,\n",
    "            # but [-1,-1,2] is valid, only can select the first one\n",
    "            two_sum(i)\n",
    "\n",
    "    return res                  \n",
    "                "
   ],
   "outputs": [],
   "metadata": {}
  },
  {
   "cell_type": "markdown",
   "source": [],
   "metadata": {}
  }
 ],
 "metadata": {
  "orig_nbformat": 4,
  "language_info": {
   "name": "python",
   "version": "3.8.5",
   "mimetype": "text/x-python",
   "codemirror_mode": {
    "name": "ipython",
    "version": 3
   },
   "pygments_lexer": "ipython3",
   "nbconvert_exporter": "python",
   "file_extension": ".py"
  },
  "kernelspec": {
   "name": "python3",
   "display_name": "Python 3.8.5 64-bit ('base': conda)"
  },
  "interpreter": {
   "hash": "38d61402e3d8411fb0c3e7094d5ffdb923be3d218d13c3ac762fa769b2ec6624"
  }
 },
 "nbformat": 4,
 "nbformat_minor": 2
}