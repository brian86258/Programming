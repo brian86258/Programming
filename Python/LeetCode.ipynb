{
 "cells": [
  {
   "cell_type": "markdown",
   "id": "simplified-sword",
   "metadata": {},
   "source": [
    "# <a href=\"https://www.youtube.com/watch?v=J56ggSnbyKY&ab_channel=BackToBackSWE\">TIME, SPACE </a>"
   ]
  },
  {
   "cell_type": "markdown",
   "id": "fuzzy-helen",
   "metadata": {},
   "source": [
    "# 282. Expression Add Operators\n"
   ]
  },
  {
   "cell_type": "code",
   "execution_count": 9,
   "id": "infinite-marathon",
   "metadata": {},
   "outputs": [],
   "source": [
    "def addOperators(num: str, target: int):\n",
    "    res = []\n",
    "\n",
    "    def dfs(idx = 0, path='', value=0, prev = None):\n",
    "        # base case\n",
    "        if value == target and idx == len(num):\n",
    "            res.append(path)\n",
    "            return\n",
    "\n",
    "        # idx+1 跟 len +1 因為range 不取後面, 所以要加一才可以取道idx 真正的位置\n",
    "        # 要用 idx 的原因是為了 target ex, 232 --> 取 2 +32 =35\n",
    "        for i in range(idx+1, len(num)+1):\n",
    "#             print(i)\n",
    "            tmp = int(num[idx: i])\n",
    "            if i == idx +1 or (i >idx +1 and num[idx]!=\"0\"): # prevent \"05\" as 5\n",
    "                if prev is None:\n",
    "                    dfs(i, num[idx:i], tmp, tmp)\n",
    "                else:\n",
    "                    dfs(i, path+'+'+num[idx: i], value + tmp, tmp)\n",
    "                    dfs(i, path+'-'+num[idx: i], value - tmp, -tmp)\n",
    "                    dfs(i, path+'*'+num[idx: i], value - prev + prev*tmp, prev*tmp)\n",
    "#             print(' ')\n",
    "    dfs()\n",
    "    return res\n"
   ]
  },
  {
   "cell_type": "code",
   "execution_count": 10,
   "id": "patent-battle",
   "metadata": {},
   "outputs": [
    {
     "data": {
      "text/plain": [
       "['1*0+5', '10-5']"
      ]
     },
     "execution_count": 10,
     "metadata": {},
     "output_type": "execute_result"
    }
   ],
   "source": [
    "num = \"105\"\n",
    "target = 5\n",
    "addOperators(num,target)"
   ]
  },
  {
   "cell_type": "markdown",
   "id": "average-occasion",
   "metadata": {},
   "source": [
    "# 139 WordBreak"
   ]
  },
  {
   "cell_type": "code",
   "execution_count": 24,
   "id": "spectacular-texture",
   "metadata": {},
   "outputs": [],
   "source": [
    "s = \"aaaaaaa\"\n",
    "wordDict = [\"aaa\",\"aaaa\"]"
   ]
  },
  {
   "cell_type": "code",
   "execution_count": 38,
   "id": "compatible-blues",
   "metadata": {},
   "outputs": [],
   "source": [
    "def wordBreak(s, word_dict):\n",
    "    n = len(s)\n",
    "    f = [False for i in range(n+1)]\n",
    "    # KEY, f會多放一個 是因為在f[0]的位置要放一個起始條件, 但其實沒有mathc 任何word\n",
    "    f[0] = True\n",
    "    for i in range(n):\n",
    "        if f[i]:\n",
    "            for j in range(i, n):\n",
    "                if s[i: j+1] in word_dict:\n",
    "                    f[j+1] = True\n",
    "                    print(i,j,\":\",f)\n",
    "\n",
    "    return f[n]\n",
    "        "
   ]
  },
  {
   "cell_type": "code",
   "execution_count": 39,
   "id": "hearing-wound",
   "metadata": {},
   "outputs": [
    {
     "name": "stdout",
     "output_type": "stream",
     "text": [
      "0 2 : [True, False, False, True, False, False, False, False]\n",
      "0 3 : [True, False, False, True, True, False, False, False]\n",
      "3 5 : [True, False, False, True, True, False, True, False]\n",
      "3 6 : [True, False, False, True, True, False, True, True]\n",
      "4 6 : [True, False, False, True, True, False, True, True]\n"
     ]
    },
    {
     "data": {
      "text/plain": [
       "True"
      ]
     },
     "execution_count": 39,
     "metadata": {},
     "output_type": "execute_result"
    }
   ],
   "source": [
    "wordBreak(s,wordDict)"
   ]
  },
  {
   "cell_type": "markdown",
   "id": "demonstrated-magnet",
   "metadata": {},
   "source": [
    "# 140 WordBreak 2"
   ]
  },
  {
   "cell_type": "code",
   "execution_count": 25,
   "id": "bigger-forty",
   "metadata": {},
   "outputs": [],
   "source": [
    "def wordBreak2(s ,wordDict):\n",
    "    # https://www.youtube.com/watch?v=uR3RElKnrkU&ab_channel=anotherdigitalnomad\n",
    "\n",
    "    def helper(s, wordDict, memo):\n",
    "        # memo are used to store, when the rest string, how many combination can\n",
    "        # be used, so don't have to calculate again\n",
    "        if s in memo: return memo[s]\n",
    "        if not s: return []\n",
    "#         print(s)\n",
    "        res = []\n",
    "        for word in wordDict:\n",
    "#             print('*',word)\n",
    "            if not s.startswith(word):\n",
    "                continue\n",
    "            if len(word) == len(s):\n",
    "                res.append(word)\n",
    "#                 print(\"--res\", res)\n",
    "            else:\n",
    "                resultOfTheRest = helper(s[len(word):], wordDict, memo)\n",
    "#                 print('***',resultOfTheRest)\n",
    "                for item in resultOfTheRest:\n",
    "                    item = word + ' ' + item\n",
    "                    res.append(item)\n",
    "        memo[s] = res\n",
    "        return res\n",
    "    return helper(s, wordDict, {})\n",
    "    "
   ]
  },
  {
   "cell_type": "code",
   "execution_count": 37,
   "id": "sixth-truth",
   "metadata": {},
   "outputs": [],
   "source": [
    "s = \"pineapplepenapple\"\n",
    "wordDict = [\"apple\",\"pen\",\"applepen\",\"pine\",\"pineapple\"]\n",
    "# s = \"catsanddog\"\n",
    "# wordDict = [\"cat\",\"cats\",\"and\",\"sand\",\"dog\"]"
   ]
  },
  {
   "cell_type": "code",
   "execution_count": 38,
   "id": "private-mitchell",
   "metadata": {},
   "outputs": [
    {
     "name": "stdout",
     "output_type": "stream",
     "text": [
      "pineapplepenapple\n",
      "* apple\n",
      "* pen\n",
      "* applepen\n",
      "* pine\n",
      "applepenapple\n",
      "* apple\n",
      "penapple\n",
      "* apple\n",
      "* pen\n",
      "apple\n",
      "* apple\n",
      "--res ['apple']\n",
      "* pen\n",
      "* applepen\n",
      "* pine\n",
      "* pineapple\n",
      "*** ['apple']\n",
      "* applepen\n",
      "* pine\n",
      "* pineapple\n",
      "*** ['pen apple']\n",
      "* pen\n",
      "* applepen\n",
      "*** ['apple']\n",
      "* pine\n",
      "* pineapple\n",
      "*** ['apple pen apple', 'applepen apple']\n",
      "* pineapple\n",
      "*** ['pen apple']\n"
     ]
    },
    {
     "data": {
      "text/plain": [
       "['pine apple pen apple', 'pine applepen apple', 'pineapple pen apple']"
      ]
     },
     "execution_count": 38,
     "metadata": {},
     "output_type": "execute_result"
    }
   ],
   "source": [
    "wordBreak2(s, wordDict)"
   ]
  },
  {
   "cell_type": "code",
   "execution_count": 32,
   "id": "historic-sally",
   "metadata": {},
   "outputs": [
    {
     "name": "stdout",
     "output_type": "stream",
     "text": [
      "['** 0', '** 1', '** 2', '** 3', '** 4', '** 5', '** 6', '** 7', '** 8', '** 9']\n"
     ]
    }
   ],
   "source": [
    "word = \"**\"\n",
    "items = [i for i in range(10)]\n",
    "res =[]\n",
    "for item in items:\n",
    "    item = word + ' ' + str(item)\n",
    "    res.append(item)\n",
    "    \n",
    "print(res)"
   ]
  },
  {
   "cell_type": "markdown",
   "id": "purple-talent",
   "metadata": {},
   "source": [
    "# 212. Word search"
   ]
  },
  {
   "cell_type": "code",
   "execution_count": 6,
   "id": "interesting-specialist",
   "metadata": {},
   "outputs": [],
   "source": [
    "from collections import defaultdict\n",
    "\n",
    "## Build the Trie Class\n",
    "class TrieNode:\n",
    "    def __init__(self):\n",
    "        self.children = defaultdict(TrieNode)\n",
    "        self.isWord = False\n",
    "        \n",
    "class Trie:\n",
    "    def __init__(self):\n",
    "        self.root = TrieNode()\n",
    "    \n",
    "    def insertWord(self, word):\n",
    "        node = self.root\n",
    "        for w in word:\n",
    "            node = node.children[w]\n",
    "        node.isWord = True\n",
    "    \n",
    "    def getRootNode(self):\n",
    "        return self.root\n",
    "    "
   ]
  },
  {
   "cell_type": "code",
   "execution_count": 10,
   "id": "incorrect-vinyl",
   "metadata": {},
   "outputs": [],
   "source": [
    "def findWords(board, words):\n",
    "    trie = Trie()\n",
    "    [trie.insertWord(w) for w in words]\n",
    "    trie_root = trie.getRootNode()\n",
    "    \n",
    "    m = len(board)\n",
    "    n = len(board[0])\n",
    "    res = set()\n",
    "    directions = [(0,1) , (0,-1), (1,0), (-1,0)]\n",
    "\n",
    "    def dfs(i, j ,curr_word, curr_node):\n",
    "        ch = board[i][j]\n",
    "        if ch not in curr_node.children or (i,j) in visited:\n",
    "            return\n",
    "        if curr_node.children[ch].isWord:\n",
    "            res.add(curr_word)\n",
    "        \n",
    "        visited.add((i,j))\n",
    "        for x,y in directions:\n",
    "            # KEY 要防止超出board的範圍, KEY 這邊要注意 x,y的range有包含0 不然會少找一個row\n",
    "            if 0 <= x+i < m and 0 <= y+j <n:\n",
    "                dfs(i+x, j+y, curr_word+board[i+x][j+y], curr_node.children[ch])\n",
    "        visited.remove((i,j))\n",
    "    for i in range(m):\n",
    "        for j in range(n):\n",
    "            visited = set()\n",
    "            dfs(i,j,board[i][j], trie_root)\n",
    "    return res\n",
    "        "
   ]
  },
  {
   "cell_type": "code",
   "execution_count": 11,
   "id": "infectious-dance",
   "metadata": {},
   "outputs": [],
   "source": [
    "board = [[\"o\",\"a\",\"a\",\"n\"],[\"e\",\"t\",\"a\",\"e\"],[\"i\",\"h\",\"k\",\"r\"],[\"i\",\"f\",\"l\",\"v\"]]\n",
    "words = [\"oath\",\"pea\",\"eat\",\"rain\"]"
   ]
  },
  {
   "cell_type": "code",
   "execution_count": 12,
   "id": "sitting-renewal",
   "metadata": {},
   "outputs": [
    {
     "data": {
      "text/plain": [
       "{'eat', 'oath'}"
      ]
     },
     "execution_count": 12,
     "metadata": {},
     "output_type": "execute_result"
    }
   ],
   "source": [
    "findWords(board, words)"
   ]
  },
  {
   "cell_type": "markdown",
   "id": "assumed-scene",
   "metadata": {},
   "source": [
    "# 200 Island\n",
    "*        KEY IDEA:\n",
    "         單純就是 從每個island 去做DFS, 把周遭所有的island都吃掉, 並讓counter +1\n",
    "         這個方法匯兌的關鍵在於, recursive, 是會在這一層的上下左右都是完,才會往上層回去\n",
    "         所以不會有路斷掉德問題"
   ]
  },
  {
   "cell_type": "code",
   "execution_count": 13,
   "id": "sacred-firmware",
   "metadata": {},
   "outputs": [],
   "source": [
    "def numIslands(grid):\n",
    "    ## KEY IDEA:\n",
    "    # 單純就是 從每個island 去做DFS, 把周遭所有的island都吃掉, 並讓counter +1\n",
    "    # 這個方法匯兌的關鍵在於, recursive, 是會在這一層的上下左右都是完,才會往上層回去\n",
    "    # 所以不會有路斷掉德問題\n",
    "    if not grid:\n",
    "        return 0\n",
    "    count = 0\n",
    "\n",
    "    def dfs(i, j):\n",
    "        if i<0 or j <0 or i>=len(grid) or j>=len(grid[0]) or grid[i][j]!= '1':\n",
    "            return\n",
    "\n",
    "        grid[i][j]='#'\n",
    "        dfs(i+1,j)\n",
    "        dfs(i-1,j)            \n",
    "        dfs(i,j+1)            \n",
    "        dfs(i,j-1)\n",
    "\n",
    "    for i in range(len(grid)):\n",
    "        for j in range(len(grid[0])):\n",
    "            if grid[i][j] == '1':\n",
    "                dfs(i,j)\n",
    "                count +=1\n",
    "    return count\n",
    "\n"
   ]
  },
  {
   "cell_type": "code",
   "execution_count": 14,
   "id": "illegal-doubt",
   "metadata": {},
   "outputs": [],
   "source": [
    "grid = [\n",
    "  [\"1\",\"1\",\"0\",\"0\",\"0\"],\n",
    "  [\"1\",\"1\",\"0\",\"0\",\"0\"],\n",
    "  [\"0\",\"0\",\"1\",\"0\",\"0\"],\n",
    "  [\"0\",\"0\",\"0\",\"1\",\"1\"]\n",
    "]"
   ]
  },
  {
   "cell_type": "code",
   "execution_count": 15,
   "id": "stupid-malawi",
   "metadata": {},
   "outputs": [
    {
     "data": {
      "text/plain": [
       "3"
      ]
     },
     "execution_count": 15,
     "metadata": {},
     "output_type": "execute_result"
    }
   ],
   "source": [
    "numIslands(grid)"
   ]
  },
  {
   "cell_type": "markdown",
   "id": "institutional-jungle",
   "metadata": {},
   "source": [
    "# <a href=\"https://www.youtube.com/watch?v=IV1Yx6vQSos&ab_channel=RenZhang\">286 wall and gate</a>\n",
    "<a href=\"https://github.com/ryancheunggit/leetcode\"> Uesful leetcode repo</a>\n",
    "\n",
    "0 -> gate\n",
    "1 -> wall\n",
    "INF -> room, fill room with nearest distance to the gate\n",
    "\n",
    "---\n",
    "邏輯是以BFS來解題, 首先找到 gate的位置(0), 所以gate的四周會是 距離他為1, 更改其rooms相對應的值, 並且將這些coordinates, 存在gates裡面(key, 只有在第一輪才會是存gate), 之後就只要去找位置存1的點, 其周遭再+1, 以此類推\n"
   ]
  },
  {
   "cell_type": "code",
   "execution_count": 41,
   "id": "willing-ordinary",
   "metadata": {},
   "outputs": [],
   "source": [
    "rooms = [\n",
    "    [\"INF\",\"-1\",\"0\",\"INF\"],\n",
    "    [\"INF\",\"INF\",\"INF\",\"-1\"],\n",
    "    [\"INF\",\"-1\",\"INF\",\"-1\"],\n",
    "    [\"0\",\"-1\",\"INF\",\"INF\"],\n",
    "]"
   ]
  },
  {
   "cell_type": "code",
   "execution_count": 42,
   "id": "comprehensive-tiger",
   "metadata": {
    "code_folding": [
     0
    ]
   },
   "outputs": [],
   "source": [
    "def wallAndGates(rooms):\n",
    "    if not rooms or not rooms[0]:\n",
    "        return\n",
    "    m, n = len(rooms),len(rooms[0])\n",
    "    gates = []\n",
    "    \n",
    "    for r in range(m):\n",
    "        for c in range(n):\n",
    "            if rooms[r][c] == '0':\n",
    "                gates.append((r,c))\n",
    "    print(gates)\n",
    "    def neighbors(r,c):\n",
    "        for nr,nc in [(r-1,c), (r+1,c), (r,c-1),(r,c+1)]:\n",
    "            if 0 <= nr < m and 0 <= nc < n and rooms[nr][nc] == 'INF':\n",
    "                # KEY, 因為這裡是用yield, 會回傳一個generator\n",
    "                # 所以在下面可以直接用 for nr,nc in neighbors(r,c\n",
    "                yield(nr,nc)\n",
    "\n",
    "\n",
    "    while gates:\n",
    "        r, c = gates.pop(0)\n",
    "        for nr,nc in neighbors(r,c):\n",
    "            rooms[nr][nc] = str(int(rooms[r][c]) +1)\n",
    "            print(nr,nc)\n",
    "            gates.append((nr,nc))\n",
    "    return rooms\n",
    "        \n",
    "    \n",
    "        "
   ]
  },
  {
   "cell_type": "code",
   "execution_count": 39,
   "id": "static-trinidad",
   "metadata": {},
   "outputs": [],
   "source": [
    "def wallAndGates_test(rooms):\n",
    "    if not rooms:\n",
    "        return\n",
    "    \n",
    "    m, n = len(rooms), len(rooms[0])\n",
    "    gates = []\n",
    "    # find the gate location\n",
    "    for r in range(m):\n",
    "        for c in range(n):\n",
    "            if rooms[r][c] == '0':\n",
    "                gates.append((r,c))\n",
    "    \n",
    "    def neighbor(r,c):\n",
    "        for nr, nc in [(r+1,c), (r-1, c), (r,c+1),(r,c-1)]:\n",
    "            if 0 <= nr < m and 0 <= nc < n and rooms[nr][nc] == \"INF\":\n",
    "                yield (nr,nc)\n",
    "        \n",
    "    \n",
    "    # BFS\n",
    "    while gates:\n",
    "        r, c = gates.pop(0)\n",
    "        # neighbor needs to filter the valid nr,nc coordinate\n",
    "        for nr,nc in neighbor(r,c):\n",
    "            rooms[nr][nc] = str(int(rooms[r][c]) +1)\n",
    "            # append nr,nc to the rightend of the queue\n",
    "            gates.append((nr,nc))\n",
    "    return rooms\n",
    "    \n",
    "            \n",
    "                "
   ]
  },
  {
   "cell_type": "code",
   "execution_count": 40,
   "id": "dated-newport",
   "metadata": {},
   "outputs": [
    {
     "data": {
      "text/plain": [
       "[['3', '-1', '0', '1'],\n",
       " ['2', '2', '1', '-1'],\n",
       " ['1', '-1', '2', '-1'],\n",
       " ['0', '-1', '3', '4']]"
      ]
     },
     "execution_count": 40,
     "metadata": {},
     "output_type": "execute_result"
    }
   ],
   "source": [
    "# wallAndGates(rooms)\n",
    "wallAndGates_test(rooms)"
   ]
  },
  {
   "cell_type": "code",
   "execution_count": 30,
   "id": "heard-parliament",
   "metadata": {},
   "outputs": [
    {
     "data": {
      "text/plain": [
       "[['3', '-1', '0', '1'],\n",
       " ['2', '2', '1', '-1'],\n",
       " ['1', '-1', '2', '-1'],\n",
       " ['0', '-1', '3', '4']]"
      ]
     },
     "execution_count": 30,
     "metadata": {},
     "output_type": "execute_result"
    }
   ],
   "source": [
    "rooms"
   ]
  },
  {
   "cell_type": "markdown",
   "id": "dietary-qualification",
   "metadata": {},
   "source": [
    "# 130 Surround Regions"
   ]
  },
  {
   "cell_type": "markdown",
   "id": "duplicate-romance",
   "metadata": {},
   "source": [
    "    Time complexity : O(MXN)\n",
    "    Space complexity : O(1)\n",
    "\n",
    "    First, check the four border of the matrix. If there is a element is\n",
    "    'O', alter it and all its neighbor 'O' elements to 'N'.\n",
    "\n",
    "    Then ,alter all the 'O' to 'X'\n",
    "\n",
    "    At last,alter all the 'N' to 'O'\n"
   ]
  },
  {
   "cell_type": "code",
   "execution_count": 98,
   "id": "pressing-stadium",
   "metadata": {
    "code_folding": [
     0
    ]
   },
   "outputs": [],
   "source": [
    "def solve_dfs(board):\n",
    "    if not board:\n",
    "        return \n",
    "    m, n = len(board), len(board[0])\n",
    "    \n",
    "    # KEY, DFS 是用來將跟邊緣連接的 O 換成 N\n",
    "    def dfs(r,c):\n",
    "        if 0 <= r< m and 0 <= c < n and board[r][c] == \"O\":\n",
    "            board[r][c] = \"N\"\n",
    "            # for all four direction\n",
    "            [dfs(r-1, c),dfs(r+1, c),dfs(r, c-1),dfs(r, c+1)]\n",
    "    \n",
    "    # solve first, last row\n",
    "    for c in range(n):\n",
    "        dfs(0, c)\n",
    "        dfs(m-1, c)\n",
    "    # solve  firs, last column\n",
    "    for r in range(m):\n",
    "        dfs(r, 0)\n",
    "        dfs(r, n-1)\n",
    "\n",
    "\n",
    "    # 做完這步驟的在 board 剩下的 O 全部換成 X \n",
    "    for r in range(m):\n",
    "        for c in range(n):\n",
    "            if board[r][c] == \"N\":\n",
    "                board[r][c] = \"O\"\n",
    "            elif board[r][c] == \"O\":\n",
    "                board[r][c] = 'X'\n",
    "    return board\n",
    "\n",
    "                "
   ]
  },
  {
   "cell_type": "code",
   "execution_count": 99,
   "id": "operating-bridal",
   "metadata": {},
   "outputs": [],
   "source": [
    "def solve_bfs(board):\n",
    "    if not board:\n",
    "        return\n",
    "    m,n = len(board), len(board[0])\n",
    "    queue = []\n",
    "    for r in range(m):\n",
    "        for c in range(n):\n",
    "            # solve the \"O\" on edge\n",
    "            if (r in [0, m-1] or c in [0, n-1]) and board[r][c] == \"O\":\n",
    "                queue.append((r,c))\n",
    "    \n",
    "    while queue:\n",
    "        r,c = queue.pop(0)\n",
    "        if 0 <= r < m and 0 <= c < n and board[r][c] == \"O\":\n",
    "            board[r][c] = 'N'\n",
    "            queue.extend([(r-1,c), (r+1,c), (r,c-1), (r,c+1)])\n",
    "    \n",
    "    for r in range(m):\n",
    "        for c in range(n):\n",
    "            if board[r][c] == 'N':\n",
    "                board[r][c] = 'O'\n",
    "            elif board[r][c] == 'O':\n",
    "                board[r][c] = 'X'\n",
    "    return board\n",
    "                "
   ]
  },
  {
   "cell_type": "code",
   "execution_count": 104,
   "id": "incorporate-wrestling",
   "metadata": {},
   "outputs": [],
   "source": [
    "board = [\n",
    "    [\"X\",\"X\",\"X\",\"X\"],\n",
    "    [\"X\",\"O\",\"O\",\"X\"],\n",
    "    [\"X\",\"X\",\"O\",\"X\"],\n",
    "    [\"X\",\"O\",\"X\",\"X\"]\n",
    "]\n",
    "# board = [\n",
    "#     [\"O\",\"O\",\"O\"],\n",
    "#     [\"O\",\"O\",\"O\"],\n",
    "#     [\"O\",\"O\",\"O\"]\n",
    "# ]"
   ]
  },
  {
   "cell_type": "code",
   "execution_count": 105,
   "id": "caring-american",
   "metadata": {},
   "outputs": [
    {
     "data": {
      "text/plain": [
       "[['X', 'X', 'X', 'X'],\n",
       " ['X', 'X', 'X', 'X'],\n",
       " ['X', 'X', 'X', 'X'],\n",
       " ['X', 'O', 'X', 'X']]"
      ]
     },
     "execution_count": 105,
     "metadata": {},
     "output_type": "execute_result"
    }
   ],
   "source": [
    "solve_dfs(board)\n",
    "solve_bfs(board)\n"
   ]
  },
  {
   "cell_type": "markdown",
   "id": "greek-crawford",
   "metadata": {},
   "source": [
    "# <a href=\"https://www.youtube.com/watch?v=vWPCm69MSfs&ab_channel=HuaHua\">127 Word Ladder </a>"
   ]
  },
  {
   "cell_type": "code",
   "execution_count": 113,
   "id": "scenic-magazine",
   "metadata": {},
   "outputs": [],
   "source": [
    "# NOTE, Unoptimized solution will time expire when submitting\n",
    "def ladderLength_un(beginWord, endWord, wordList):\n",
    "    queue = [(beginWord, 1)]\n",
    "    # KEY, each word can be used only once\n",
    "    visited = set()\n",
    "    \n",
    "    while queue:\n",
    "        word, dist = queue.pop(0)\n",
    "        if word == endWord:\n",
    "            return dist\n",
    "        # iterate through each char in word\n",
    "        for i in range(len(word)):\n",
    "            for j in 'abcdefghijklmnopqrstuvwxyz':\n",
    "                tmp  = word[:i] + j + word[i+1:]\n",
    "                # check tmp only used once\n",
    "                if tmp not in visited and tmp in wordList:\n",
    "                    queue.append((tmp,dist+1))\n",
    "                    visited.add(tmp)\n",
    "    return 0\n",
    "        "
   ]
  },
  {
   "cell_type": "code",
   "execution_count": 155,
   "id": "tight-longitude",
   "metadata": {},
   "outputs": [],
   "source": [
    "import string\n",
    "def ladderLength(beginWord, endWord, wordList):\n",
    "    words = set(wordList)\n",
    "    if endWord not in words:\n",
    "        return 0\n",
    "    \n",
    "    forward, backward, visited, r = {beginWord}, {endWord}, {beginWord}, 1\n",
    "    \n",
    "    def nei_gen_word(word):\n",
    "        for i in range(len(word)):\n",
    "            for j in string.ascii_lowercase:\n",
    "                if j != word[i]: # 原本自身傳進來的word 就不用在算一次\n",
    "                    yield word[:i] + j + word[i+1:]\n",
    "                \n",
    "                \n",
    "    \n",
    "    while forward and backward:\n",
    "        if len(forward) > len(backward):\n",
    "            forward, backward = backward, forward\n",
    "        \n",
    "        next_begin = set()\n",
    "        for word in forward:\n",
    "            for nei_word in nei_gen_word(word):\n",
    "                if nei_word in backward:\n",
    "                    return r+1\n",
    "                if nei_word in words:\n",
    "                    next_begin.add(nei_word)\n",
    "                    visited.add(nei_word)\n",
    "            r += 1\n",
    "            forward = next_begin\n",
    "    return 0\n",
    "        \n"
   ]
  },
  {
   "cell_type": "code",
   "execution_count": 156,
   "id": "flying-compilation",
   "metadata": {},
   "outputs": [],
   "source": [
    "beginWord = \"hit\"\n",
    "endWord = \"cog\"\n",
    "wordList = [\"hot\",\"dot\",\"dog\",\"lot\",\"log\",\"cog\"]"
   ]
  },
  {
   "cell_type": "code",
   "execution_count": 157,
   "id": "prospective-constraint",
   "metadata": {},
   "outputs": [
    {
     "data": {
      "text/plain": [
       "5"
      ]
     },
     "execution_count": 157,
     "metadata": {},
     "output_type": "execute_result"
    }
   ],
   "source": [
    "ladderLength(beginWord,endWord,wordList)"
   ]
  },
  {
   "cell_type": "code",
   "execution_count": 116,
   "id": "unlimited-seeking",
   "metadata": {},
   "outputs": [
    {
     "name": "stdout",
     "output_type": "stream",
     "text": [
      "0 h\n",
      "1 i\n",
      "2 t\n"
     ]
    }
   ],
   "source": [
    "for i, char in enumerate(beginWord):\n",
    "    print(i, char)\n"
   ]
  },
  {
   "cell_type": "code",
   "execution_count": 139,
   "id": "middle-consolidation",
   "metadata": {},
   "outputs": [
    {
     "data": {
      "text/plain": [
       "'abcdefghijklmnopqrstuvwxyz'"
      ]
     },
     "execution_count": 139,
     "metadata": {},
     "output_type": "execute_result"
    }
   ],
   "source": [
    "string.ascii_lowercase"
   ]
  },
  {
   "cell_type": "code",
   "execution_count": 145,
   "id": "abstract-establishment",
   "metadata": {},
   "outputs": [],
   "source": [
    "s = set(wordList)"
   ]
  },
  {
   "cell_type": "code",
   "execution_count": 151,
   "id": "understanding-samoa",
   "metadata": {},
   "outputs": [
    {
     "name": "stdout",
     "output_type": "stream",
     "text": [
      "hot\n",
      "log\n",
      "lot\n",
      "dot\n",
      "cog\n",
      "dog\n"
     ]
    }
   ],
   "source": [
    "for ss in s:\n",
    "    print(ss)"
   ]
  },
  {
   "cell_type": "code",
   "execution_count": 150,
   "id": "improving-detroit",
   "metadata": {},
   "outputs": [
    {
     "data": {
      "text/plain": [
       "True"
      ]
     },
     "execution_count": 150,
     "metadata": {},
     "output_type": "execute_result"
    }
   ],
   "source": [
    "'cog' in s"
   ]
  },
  {
   "cell_type": "markdown",
   "id": "controlling-columbia",
   "metadata": {},
   "source": [
    "# 126 Word Ladder(return all set)"
   ]
  },
  {
   "cell_type": "code",
   "execution_count": 9,
   "id": "mathematical-lover",
   "metadata": {},
   "outputs": [],
   "source": [
    "import string\n",
    "import collections"
   ]
  },
  {
   "cell_type": "code",
   "execution_count": 44,
   "id": "responsible-stupid",
   "metadata": {},
   "outputs": [],
   "source": [
    "def findLadders_oneway(beginWord, endWord, wordList):\n",
    "    if endWord not in wordList:\n",
    "        return []\n",
    "    \n",
    "    tree, words, n = collections.defaultdict(set), set(wordList), len(beginWord) # tree is a BFS trace for each word considered in words.\n",
    "    found, q, nq = False, {beginWord}, set()# BFS uses q(queue), and nq(next queue) stores words in next level.\n",
    "    \n",
    "    def gen_nei_word(word):\n",
    "        for i in range(len(word)):\n",
    "            for c in string.ascii_lowercase:\n",
    "                if c != word[i]:\n",
    "                    yield word[:i] + c + word[i+1:]\n",
    "        \n",
    "    \n",
    "    while q and not found:# BFS uses q(queue), and nq(next queue) stores words in next level.\n",
    "        words -= set(q) #subtract words in current level so that they won't be used again.\n",
    "        for word in q: # for each word in current level\n",
    "            for nei_word in gen_nei_word(word):\n",
    "                if nei_word in words:\n",
    "                    if nei_word == endWord: # if found (reach the shortest solution level), we won't do next level.\n",
    "                        found = True\n",
    "                    else: # if not found\n",
    "                        nq.add(nei_word) # prepare next queue\n",
    "#                     tree[word] = nei_word\n",
    "                    tree[word].add(nei_word)\n",
    "        q, nq = nq, set()\n",
    "#     return tree\n",
    "    def bt(x):\n",
    "        return [[x]] if x == endWord else [[x] + rest for y in tree[x] for rest in bt(y)]\n",
    "    return bt(beginWord)\n",
    "        \n"
   ]
  },
  {
   "cell_type": "code",
   "execution_count": 45,
   "id": "tight-mustang",
   "metadata": {},
   "outputs": [],
   "source": [
    "beginWord = \"hit\"\n",
    "endWord = \"cog\"\n",
    "wordList = [\"hot\",\"dot\",\"dog\",\"lot\",\"log\",\"cog\"]\n"
   ]
  },
  {
   "cell_type": "code",
   "execution_count": 42,
   "id": "awful-fence",
   "metadata": {},
   "outputs": [
    {
     "data": {
      "text/plain": [
       "[['hit', 'hot', 'dot', 'dog', 'cog'], ['hit', 'hot', 'lot', 'log', 'cog']]"
      ]
     },
     "execution_count": 42,
     "metadata": {},
     "output_type": "execute_result"
    }
   ],
   "source": [
    "findLadders(beginWord,endWord, wordList)"
   ]
  },
  {
   "cell_type": "code",
   "execution_count": 52,
   "id": "complex-perfume",
   "metadata": {},
   "outputs": [],
   "source": [
    "def findLadders(beginWord, endWord, wordList):\n",
    "    tree, words, n = collections.defaultdict(set), set(wordList), len(beginWord)\n",
    "    if endWord not in wordList: return []\n",
    "    found, bq, eq, nq, rev = False, {beginWord}, {endWord}, set(), False\n",
    "    \n",
    "    def gen_nei_word(word):\n",
    "        for i in range(len(word)):\n",
    "            for c in string.ascii_lowercase:\n",
    "                if c != word[i]:\n",
    "                    yield word[:i] + c + word[i+1:]\n",
    "    \n",
    "    while bq and not found:\n",
    "        words -= set(bq)\n",
    "        for word in bq:\n",
    "            for y in gen_nei_word(word):\n",
    "                if y in words:\n",
    "                    if y in eq: \n",
    "                        found = True\n",
    "                    else: \n",
    "                        nq.add(y)\n",
    "                    tree[y].add(word) if rev else tree[word].add(y)\n",
    "        bq, nq = nq, set()\n",
    "        if len(bq) > len(eq): \n",
    "            bq, eq, rev = eq, bq, not rev\n",
    "    def bt(x): \n",
    "        return [[x]] if x == endWord else [[x] + rest for y in tree[x] for rest in bt(y)]\n",
    "    return bt(beginWord)"
   ]
  },
  {
   "cell_type": "code",
   "execution_count": 54,
   "id": "allied-penalty",
   "metadata": {},
   "outputs": [
    {
     "data": {
      "text/plain": [
       "[['hit', 'hot', 'dot', 'dog', 'cog'], ['hit', 'hot', 'lot', 'log', 'cog']]"
      ]
     },
     "execution_count": 54,
     "metadata": {},
     "output_type": "execute_result"
    }
   ],
   "source": [
    "findLadders(beginWord,endWord,wordList)"
   ]
  },
  {
   "cell_type": "markdown",
   "id": "federal-thursday",
   "metadata": {},
   "source": [
    "# 51 N-Queens"
   ]
  },
  {
   "cell_type": "code",
   "execution_count": 70,
   "id": "acoustic-terrace",
   "metadata": {},
   "outputs": [],
   "source": [
    "def solveNQueens(n):\n",
    "    # KEY: In this problem, whenever a location (x, y) is occupied, any other locations (p, q ) where p + q == x + y or p - q == x - y would be invalid. We can use this information to keep track of the indicators (xy_dif and xy_sum ) \n",
    "    #of the invalid positions and then call DFS recursively with valid positions only.\n",
    "    \n",
    "    #So p is a row number, and q is a column number. And as you can see we choose p as:\n",
    "    # p = len(queens)\n",
    "    # So it is always new one.\n",
    "\n",
    "    # P.S. We check vertical line (same column) by q not in queens.\n",
    "\n",
    "    def DFS(queens, xy_diff, xy_sum):\n",
    "        p = len(queens) # KEY 一開始會是0, 而會遞增, 每次都會址到下一個row\n",
    "        \n",
    "        # base case:\n",
    "        if p == n:\n",
    "            res.append(queens)\n",
    "            return None\n",
    "        # Column\n",
    "        for q in range(n):\n",
    "            # KEY, queens裡面是擺, 在每個row, 第幾個column的位置\n",
    "            if q not in queens and p-q not in xy_diff and p+q not in xy_sum:\n",
    "                DFS(queens + [q], xy_diff + [p-q], xy_sum + [p+q])\n",
    "    res = []\n",
    "    DFS([],[],[])\n",
    "#     return res\n",
    "    return [['.'*col + \"Q\" + '.'*(n-col-1) for col in sol] for sol in res]\n",
    "            \n",
    "        \n",
    "        "
   ]
  },
  {
   "cell_type": "code",
   "execution_count": 71,
   "id": "fundamental-alfred",
   "metadata": {},
   "outputs": [],
   "source": [
    "n = 4"
   ]
  },
  {
   "cell_type": "code",
   "execution_count": 72,
   "id": "opening-stock",
   "metadata": {},
   "outputs": [
    {
     "data": {
      "text/plain": [
       "[['.Q..', '...Q', 'Q...', '..Q.'], ['..Q.', 'Q...', '...Q', '.Q..']]"
      ]
     },
     "execution_count": 72,
     "metadata": {},
     "output_type": "execute_result"
    }
   ],
   "source": [
    "solveNQueens(n)"
   ]
  },
  {
   "cell_type": "markdown",
   "id": "religious-launch",
   "metadata": {},
   "source": [
    "# 206 Reverse Linked list"
   ]
  },
  {
   "cell_type": "code",
   "execution_count": 73,
   "id": "indie-thesis",
   "metadata": {},
   "outputs": [],
   "source": [
    "class ListNode:\n",
    "    def __init__(self, val=0, next=None):\n",
    "        self.val = val\n",
    "        self.next = next"
   ]
  },
  {
   "cell_type": "code",
   "execution_count": null,
   "id": "shaped-audience",
   "metadata": {},
   "outputs": [],
   "source": [
    "def reverseList(head):\n",
    "    # iteritive\n",
    "    prev = None\n",
    "    curr = head\n",
    "    \n",
    "    while curr:\n",
    "        next_n = curr.next\n",
    "        curr.next = prev\n",
    "        \n",
    "        prev = curr\n",
    "        curr = next_n\n",
    "    return prev"
   ]
  },
  {
   "cell_type": "code",
   "execution_count": 74,
   "id": "extraordinary-rapid",
   "metadata": {},
   "outputs": [],
   "source": [
    "def reverseList_recursion(head,prev=None):\n",
    "    # recursion\n",
    "    if not head: # BASE Case, 到最後了\n",
    "        return prev\n",
    "    next_n = head.next\n",
    "    head.next = prev\n",
    "    return reverseList_recursion(next_n, head)\n"
   ]
  },
  {
   "cell_type": "markdown",
   "id": "about-bedroom",
   "metadata": {},
   "source": [
    "# 92 Reverse Linked list 2\n"
   ]
  },
  {
   "cell_type": "code",
   "execution_count": 116,
   "id": "judicial-polls",
   "metadata": {},
   "outputs": [],
   "source": [
    "head = ListNode(1, ListNode(2,ListNode(3,ListNode(4,ListNode(5)))))"
   ]
  },
  {
   "cell_type": "code",
   "execution_count": 117,
   "id": "robust-crest",
   "metadata": {},
   "outputs": [],
   "source": [
    "def reverseBetween(head, left, right):\n",
    "    if left == right:\n",
    "        return head\n",
    "    \n",
    "    pre = dummyNode = ListNode(0,head)\n",
    "    \n",
    "    for _ in range(left -1):\n",
    "        pre = pre.next\n",
    "    \n",
    "    # reverse [m, n]\n",
    "    reverse = None\n",
    "    cur = pre.next\n",
    "    \n",
    "    for _ in range(right - left +1):\n",
    "         cur.next, reverse, cur = reverse, cur, cur.next\n",
    "    # KEY 這時候 pre.next 仍是有連到 reverse的最後一個listnode\n",
    "    pre.next.next = cur\n",
    "    # 把一整段reverse的最後 在家回來原本的\n",
    "    pre.next = reverse\n",
    "    return dummyNode.next\n",
    "\n",
    "#     print(pre.val)\n",
    "#     print(reverse.val)\n",
    "#     print(cur.val)    "
   ]
  },
  {
   "cell_type": "code",
   "execution_count": 118,
   "id": "ultimate-australian",
   "metadata": {},
   "outputs": [
    {
     "data": {
      "text/plain": [
       "<__main__.ListNode at 0x7fbb4a84a220>"
      ]
     },
     "execution_count": 118,
     "metadata": {},
     "output_type": "execute_result"
    }
   ],
   "source": [
    "reverseBetween(head, 2,4)"
   ]
  },
  {
   "cell_type": "code",
   "execution_count": 90,
   "id": "accomplished-creation",
   "metadata": {},
   "outputs": [
    {
     "name": "stdout",
     "output_type": "stream",
     "text": [
      "0\n",
      "1\n",
      "2\n"
     ]
    }
   ],
   "source": [
    "for i in range(4 -2 +1):\n",
    "    print(i)\n"
   ]
  },
  {
   "cell_type": "markdown",
   "id": "judicial-board",
   "metadata": {},
   "source": [
    "# 25 ReverseNode in K-group"
   ]
  },
  {
   "cell_type": "code",
   "execution_count": null,
   "id": "electric-deputy",
   "metadata": {},
   "outputs": [],
   "source": [
    "def reverseKGroup(head, k):\n",
    "    dummy = ListNode(0, head)\n",
    "    groupPrev = dummy\n",
    "\n",
    "    def getKth(curr, k):\n",
    "        while curr and k> 0 :\n",
    "            curr = curr.next\n",
    "            k-=1\n",
    "        return curr\n",
    "\n",
    "    while True:\n",
    "        kth = getKth(groupPrev, k)\n",
    "        # Find the last group\n",
    "        if not kth:\n",
    "            break\n",
    "        # Store one node after current group\n",
    "        groupNext = kth.next\n",
    "\n",
    "        # reverse group\n",
    "        prev, curr = kth.next, groupPrev.next # KEY, groupPrev.next is the first node in group\n",
    "\n",
    "        #\n",
    "        while curr != groupNext:\n",
    "            curr.next, prev, curr = prev, curr, curr.next\n",
    "\n",
    "        # kth is the last node in current group, now should be beginning \n",
    "        # tmp store the original first node, now become the last node \n",
    "        tmp = groupPrev.next\n",
    "        groupPrev.next = kth\n",
    "        groupPrev = tmp\n",
    "\n",
    "    return dummy.next"
   ]
  },
  {
   "cell_type": "markdown",
   "id": "nervous-korea",
   "metadata": {},
   "source": [
    "# 1813 Sentences Similarity III\n",
    "**KEY NOTE:**\n",
    "Let's break it down:\n",
    "\n",
    "* If sentances are the same - they are similiar\n",
    "* If sentences dont have common prefix or dont have common suffix - they are not similiar\n",
    "* If they have common prefix and common suffix, and one of the sentances can be build by the common_prefix+common_suffix then they are similiar!**"
   ]
  },
  {
   "cell_type": "code",
   "execution_count": 1,
   "id": "regular-merchandise",
   "metadata": {},
   "outputs": [],
   "source": [
    "sentence1 = \"My name is Haley\"\n",
    "sentence2 = \"My Haley\""
   ]
  },
  {
   "cell_type": "code",
   "execution_count": 2,
   "id": "global-devices",
   "metadata": {},
   "outputs": [],
   "source": [
    "def areSentencesSimilar(sentence1, sentence2):\n",
    "    s1 = sentence1.split()\n",
    "    s2 = sentence2.split()\n",
    "    if len(s1) > len(s2): # let s1 be smaller, s2 be greater\n",
    "        s1, s2 = s2, s1\n",
    "    \n",
    "    while s1:\n",
    "        if s2[0] == s1[0]:\n",
    "            # check whether has the same prefix\n",
    "            s2.pop(0)\n",
    "            s1.pop(0)\n",
    "        elif s2[-1] == s1[-1]:\n",
    "            # check whether has the same suffix\n",
    "            s2.pop()\n",
    "            s1.pop()\n",
    "        else:\n",
    "            return False\n",
    "    \n",
    "    # Because let s1 be the smaller sentences, If after while loop withouht return False\n",
    "    # means one of the sentances can be build by the common_prefix+common_suffix \n",
    "    return True\n",
    "    "
   ]
  },
  {
   "cell_type": "code",
   "execution_count": 3,
   "id": "architectural-giving",
   "metadata": {},
   "outputs": [
    {
     "data": {
      "text/plain": [
       "True"
      ]
     },
     "execution_count": 3,
     "metadata": {},
     "output_type": "execute_result"
    }
   ],
   "source": [
    "areSentencesSimilar(sentence1, sentence2)"
   ]
  },
  {
   "cell_type": "markdown",
   "id": "freelance-certificate",
   "metadata": {},
   "source": [
    "# 1814 Nice Pairs in Array"
   ]
  },
  {
   "cell_type": "markdown",
   "id": "italic-voluntary",
   "metadata": {},
   "source": [
    "* Original formula nums[i] + rev(nums[j]) == nums[j] + rev(nums[i]) can be change to:\n",
    " * nums[i] - rev(nums[i]) == nums[j] - rev(nums[j])\n",
    "*The problem reduces to:\n",
    "\n",
    "    * Count the number of occurences of diffrent values for m-rev(m).\n",
    "    * Find the number of options to pair them (假如有N個數字, nums[i] - rev(nums[i]) 一樣, C n 取 2 可算出total 有幾種pairs)\n",
    " \n",
    " Make a rev_nums list simply resolve the issue\n",
    "Time Complexity: O(N)\n",
    "Space Complexity: O(N)"
   ]
  },
  {
   "cell_type": "code",
   "execution_count": 20,
   "id": "located-alloy",
   "metadata": {},
   "outputs": [],
   "source": [
    "nums = [42,11,1,97]"
   ]
  },
  {
   "cell_type": "code",
   "execution_count": 23,
   "id": "opening-monroe",
   "metadata": {},
   "outputs": [],
   "source": [
    "import collections\n",
    "def countNicePairs(nums):\n",
    "    rev_nums = [int(str(num)[::-1]) for num in nums]\n",
    "    c = collections.Counter([i-j for i,j in zip(nums, rev_nums)])\n",
    "    return sum([freq * freq // 2 for _, freq in c.items() if freq >1]) % int(1e9 +7)\n"
   ]
  },
  {
   "cell_type": "code",
   "execution_count": 24,
   "id": "lonely-loading",
   "metadata": {},
   "outputs": [
    {
     "data": {
      "text/plain": [
       "4"
      ]
     },
     "execution_count": 24,
     "metadata": {},
     "output_type": "execute_result"
    }
   ],
   "source": [
    "countNicePairs(nums)"
   ]
  },
  {
   "cell_type": "code",
   "execution_count": 25,
   "id": "cognitive-empty",
   "metadata": {},
   "outputs": [],
   "source": [
    "#  TEST\n",
    "rev_nums = [int(str(num)[::-1]) for num in nums]\n"
   ]
  },
  {
   "cell_type": "code",
   "execution_count": 9,
   "id": "certain-cartoon",
   "metadata": {},
   "outputs": [
    {
     "data": {
      "text/plain": [
       "[24, 11, 1, 79]"
      ]
     },
     "execution_count": 9,
     "metadata": {},
     "output_type": "execute_result"
    }
   ],
   "source": [
    "rev_nums"
   ]
  },
  {
   "cell_type": "code",
   "execution_count": 11,
   "id": "spiritual-midnight",
   "metadata": {},
   "outputs": [
    {
     "data": {
      "text/plain": [
       "[(42, 24), (11, 11), (1, 1), (97, 79)]"
      ]
     },
     "execution_count": 11,
     "metadata": {},
     "output_type": "execute_result"
    }
   ],
   "source": [
    "list(zip(nums, rev_nums))"
   ]
  },
  {
   "cell_type": "code",
   "execution_count": 12,
   "id": "civil-bankruptcy",
   "metadata": {},
   "outputs": [
    {
     "data": {
      "text/plain": [
       "[18, 0, 0, 18]"
      ]
     },
     "execution_count": 12,
     "metadata": {},
     "output_type": "execute_result"
    }
   ],
   "source": [
    "[i-j for i,j in zip(nums, rev_nums)]"
   ]
  },
  {
   "cell_type": "code",
   "execution_count": 14,
   "id": "sticky-albert",
   "metadata": {},
   "outputs": [
    {
     "data": {
      "text/plain": [
       "dict_items([(18, 2), (0, 2)])"
      ]
     },
     "execution_count": 14,
     "metadata": {},
     "output_type": "execute_result"
    }
   ],
   "source": [
    "C.items()"
   ]
  },
  {
   "cell_type": "code",
   "execution_count": 16,
   "id": "located-vienna",
   "metadata": {},
   "outputs": [
    {
     "data": {
      "text/plain": [
       "[1, 1]"
      ]
     },
     "execution_count": 16,
     "metadata": {},
     "output_type": "execute_result"
    }
   ],
   "source": [
    "[freq * (freq-1) // 2 for _, freq in C.items() if freq > 1]"
   ]
  },
  {
   "cell_type": "code",
   "execution_count": 18,
   "id": "studied-opinion",
   "metadata": {},
   "outputs": [
    {
     "data": {
      "text/plain": [
       "5"
      ]
     },
     "execution_count": 18,
     "metadata": {},
     "output_type": "execute_result"
    }
   ],
   "source": [
    "10//2"
   ]
  },
  {
   "cell_type": "code",
   "execution_count": 19,
   "id": "infrared-castle",
   "metadata": {},
   "outputs": [
    {
     "data": {
      "text/plain": [
       "1000000007.0"
      ]
     },
     "execution_count": 19,
     "metadata": {},
     "output_type": "execute_result"
    }
   ],
   "source": []
  },
  {
   "cell_type": "markdown",
   "id": "painted-stable",
   "metadata": {},
   "source": [
    "# 24 Swap node in pairs"
   ]
  },
  {
   "cell_type": "code",
   "execution_count": 1,
   "id": "varied-hungary",
   "metadata": {},
   "outputs": [],
   "source": [
    "class ListNode:\n",
    "    def __init__(self, val=0, next=None):\n",
    "        self.val = val\n",
    "        self.next = next"
   ]
  },
  {
   "cell_type": "code",
   "execution_count": 2,
   "id": "linear-canadian",
   "metadata": {},
   "outputs": [],
   "source": [
    "class Solution:\n",
    "    def swapPairs(self, head: ListNode) -> ListNode:\n",
    "        # pre -> a -> b -> b.next\n",
    "        # to \n",
    "        # pre -> b -> a -> b.next\n",
    "        \n",
    "        dummy = pre = ListNode(0)\n",
    "        # link the original listNode\n",
    "        pre.next = head\n",
    "        \n",
    "        while pre.next and pre.next.next: # need to ensure there are two elements left to swap\n",
    "            a = pre.next\n",
    "            b = a.next\n",
    "            pre.next, a.next, b.next = b, b.next, a\n",
    "            \n",
    "            # key: pre 這邊直接換成a, 所以已經越過b了\n",
    "            pre = a\n",
    "        \n",
    "        return dummy.next\n",
    "        "
   ]
  },
  {
   "cell_type": "markdown",
   "id": "sophisticated-particular",
   "metadata": {},
   "source": [
    "# 328 Odd Even Linked List"
   ]
  },
  {
   "cell_type": "code",
   "execution_count": 3,
   "id": "verbal-trust",
   "metadata": {},
   "outputs": [],
   "source": [
    "def oddEvenList(self, head: ListNode) -> ListNode:\n",
    "    dummy1 = odd = ListNode(0)\n",
    "    dummy2 = even = ListNode(0)\n",
    "\n",
    "    # KEY: First node consider odd\n",
    "    while head:\n",
    "        odd.next = head\n",
    "        even.next = head.next\n",
    "        odd = odd.next\n",
    "        even = even.next\n",
    "        head = head.next.next if even else None\n",
    "    # At last need to connect two list\n",
    "    odd.next = dummy2.next\n",
    "\n",
    "    return dummy1.next"
   ]
  },
  {
   "cell_type": "markdown",
   "id": "numerical-platinum",
   "metadata": {},
   "source": [
    "# 83 Remove Duplicate in LinkedLIst"
   ]
  },
  {
   "cell_type": "code",
   "execution_count": 6,
   "id": "distributed-lotus",
   "metadata": {},
   "outputs": [],
   "source": [
    "class ListNode:\n",
    "    def __init__(self, val=0, next=None):\n",
    "        self.val = val\n",
    "        self.next = next"
   ]
  },
  {
   "cell_type": "code",
   "execution_count": 11,
   "id": "regular-nylon",
   "metadata": {},
   "outputs": [],
   "source": [
    "def deleteDuplicates( head: ListNode) -> ListNode:\n",
    "    curr = head\n",
    "\n",
    "    while curr and curr.next:\n",
    "        if curr.val == curr.next.val:\n",
    "            curr.next = curr.next.next\n",
    "        else:\n",
    "            curr = curr.next\n",
    "    return head"
   ]
  },
  {
   "cell_type": "code",
   "execution_count": 26,
   "id": "cloudy-tomato",
   "metadata": {},
   "outputs": [],
   "source": [
    "Test_list = ListNode(1,ListNode(1,ListNode(1,ListNode(2,(ListNode(2,(ListNode(3))))))))"
   ]
  },
  {
   "cell_type": "code",
   "execution_count": 27,
   "id": "seven-ordinance",
   "metadata": {},
   "outputs": [],
   "source": [
    "# ans = deleteDuplicates(Test_list)\n",
    "ans = Test_list"
   ]
  },
  {
   "cell_type": "code",
   "execution_count": 24,
   "id": "accepted-korean",
   "metadata": {},
   "outputs": [
    {
     "name": "stdout",
     "output_type": "stream",
     "text": [
      "1\n",
      "1\n",
      "1\n",
      "2\n",
      "2\n",
      "3\n"
     ]
    }
   ],
   "source": [
    "while ans:\n",
    "    print(ans.val)\n",
    "    ans = ans.next"
   ]
  },
  {
   "cell_type": "markdown",
   "id": "devoted-history",
   "metadata": {},
   "source": [
    "# 82 Remove ALL Duplicate in LinkedLIst"
   ]
  },
  {
   "cell_type": "code",
   "execution_count": 21,
   "id": "intimate-birth",
   "metadata": {},
   "outputs": [],
   "source": [
    "def deleteDuplicates_2( head: ListNode) -> ListNode:\n",
    "    # KEY, Need to start another list, because if the duplicare at the beginning \n",
    "    # Need to wipe out the original list info, so need to start a new list\n",
    "    dummy = pre = ListNode(0)\n",
    "    dummy.next = head\n",
    "    \n",
    "    while head and head.next:\n",
    "        if head.val == head.next.val:\n",
    "            while head.next and head.val == head.next.val:\n",
    "                 # loop until head point to the last duplicates\n",
    "                head = head.next\n",
    "            # KEY, now head point to the different value\n",
    "            head = head.next\n",
    "            # Because all duplicate num need to remove so, need extra next\n",
    "            pre.next = head\n",
    "        else:\n",
    "            pre = pre.next\n",
    "            head= head.next\n",
    "    return dummy.next"
   ]
  },
  {
   "cell_type": "code",
   "execution_count": 29,
   "id": "twenty-bulletin",
   "metadata": {},
   "outputs": [],
   "source": [
    "ans = deleteDuplicates_2(Test_list)"
   ]
  },
  {
   "cell_type": "code",
   "execution_count": 30,
   "id": "qualified-kidney",
   "metadata": {},
   "outputs": [
    {
     "name": "stdout",
     "output_type": "stream",
     "text": [
      "3\n"
     ]
    }
   ],
   "source": [
    "while ans:\n",
    "    print(ans.val)\n",
    "    ans = ans.next"
   ]
  },
  {
   "cell_type": "markdown",
   "id": "valid-mapping",
   "metadata": {},
   "source": [
    "# 62 Unique Paths"
   ]
  },
  {
   "cell_type": "markdown",
   "id": "southeast-terminal",
   "metadata": {},
   "source": [
    "## KEY to DP, WHAT IS THE SUB PROBLEM"
   ]
  },
  {
   "attachments": {
    "image.png": {
     "image/png": "[encoded data removed]"
    }
   },
   "cell_type": "markdown",
   "id": "environmental-threshold",
   "metadata": {},
   "source": [
    "KEY IDEA: 因為只能往右或往下走一步, 所以![image.png](attachment:image.png) 每個點的直衣錠是從上或左而來的 所以 previous grids is dp[i-1][j] + dp[i][j-1]"
   ]
  },
  {
   "cell_type": "code",
   "execution_count": 32,
   "id": "competent-horizontal",
   "metadata": {},
   "outputs": [],
   "source": [
    "def uniquePaths_mn(m, n):\n",
    "    dp = [[1]*n for _ in range(m)]\n",
    "    # KEY, 起始位置是1, 所以 loop 要從 (1, m)\n",
    "    # SPACE O(m*n)\n",
    "    for i in range(1,m):\n",
    "        for j in range(1,n):\n",
    "            dp[i][j] = dp[i-1][j] + dp[i][j-1]  # i-1 --> 上, j-1 --> 左\n",
    "#     return dp[m-1][n-1]\n",
    "    return dp[-1][-1]"
   ]
  },
  {
   "cell_type": "code",
   "execution_count": 44,
   "id": "undefined-spoke",
   "metadata": {},
   "outputs": [],
   "source": [
    "def uniquePaths(m, n):\n",
    "    #SPACE O(n)\n",
    "    # https://www.youtube.com/watch?v=fEcyKrdIkho&ab_channel=KhushbooGoel\n",
    "    # 沒有必要把整個 m*n 的資料都存起來, 可以每次在存的時候只要存colum的資料\n",
    "    # 下一個iteration 只要把左邊的質加起來就可以\n",
    "    dp = [1] * n\n",
    "    for i in range(1,m):\n",
    "        for j in range(1,n):\n",
    "            dp[j] += dp[j-1]\n",
    "    return dp[-1]\n"
   ]
  },
  {
   "cell_type": "code",
   "execution_count": 45,
   "id": "elementary-siemens",
   "metadata": {},
   "outputs": [],
   "source": [
    "m = 3\n",
    "n = 7"
   ]
  },
  {
   "cell_type": "code",
   "execution_count": 46,
   "id": "animal-reaction",
   "metadata": {},
   "outputs": [],
   "source": [
    "l = [[1] * n for _ in range(m)]"
   ]
  },
  {
   "cell_type": "code",
   "execution_count": 47,
   "id": "empty-river",
   "metadata": {},
   "outputs": [
    {
     "data": {
      "text/plain": [
       "[1, 3, 6, 10, 15, 21, 28]"
      ]
     },
     "execution_count": 47,
     "metadata": {},
     "output_type": "execute_result"
    }
   ],
   "source": [
    "uniquePaths(m,n)"
   ]
  },
  {
   "cell_type": "markdown",
   "id": "featured-finland",
   "metadata": {},
   "source": [
    "# 63 Unique Paths II (with obstacles)"
   ]
  },
  {
   "cell_type": "code",
   "execution_count": 72,
   "id": "exclusive-jenny",
   "metadata": {},
   "outputs": [],
   "source": [
    "# obstacleGrid = [[0,0,0],[0,1,0],[0,0,0]]\n",
    "# obstacleGrid = [[1,0],[0,0]]\n",
    "obstacleGrid = [[0,0],[1,1],[0,0]]"
   ]
  },
  {
   "cell_type": "code",
   "execution_count": 53,
   "id": "potential-index",
   "metadata": {},
   "outputs": [],
   "source": [
    "dp = [[1 if c ==0 else -9  for c in row] for row in obstacleGrid]"
   ]
  },
  {
   "cell_type": "code",
   "execution_count": 75,
   "id": "weighted-midnight",
   "metadata": {},
   "outputs": [],
   "source": [
    "def uniquePathsWithObstacles(obstacleGrid):\n",
    "    m = obstacleGrid\n",
    "    if not m or m == [[]] or len(m)==0 or m[0][0] == 1:\n",
    "        return 0\n",
    "    \n",
    "    m[0][0] = 1\n",
    "\n",
    "    #KEY, 不能單純把所有0 -> 1, 要考慮到 石頭把路都封死的狀況, \n",
    "    # 所以 top row, 跟 left most col 需要另外處理\n",
    "    # dp = [[1 if c == 0 else 0  for c in row] for row in obstacleGrid]    \n",
    "    \n",
    "    # top row\n",
    "    for i in range(1, len(m[0])):\n",
    "        if m[0][i] == 1: # rock\n",
    "            m[0][i] = 0\n",
    "        else:\n",
    "            m[0][i] = m[0][i-1]\n",
    "    \n",
    "    # left most col\n",
    "    for i in range(1, len(m)):\n",
    "        if m[i][0] == 1:\n",
    "            m[i][0] = 0\n",
    "        else:\n",
    "            m[i][0] = m[i-1][0]\n",
    "    \n",
    "    # rest of the grid\n",
    "    \n",
    "    for i in range(1,len(m)):\n",
    "        for j in range(1,len(n)):\n",
    "            if m[i][j] == 1:\n",
    "                m[i][j] = 0\n",
    "            else:\n",
    "                m[i][j] = m[i-1][j] + m[i][j-1]\n",
    "    return m[-1][-1]"
   ]
  },
  {
   "cell_type": "code",
   "execution_count": 76,
   "id": "introductory-marker",
   "metadata": {},
   "outputs": [
    {
     "data": {
      "text/plain": [
       "0"
      ]
     },
     "execution_count": 76,
     "metadata": {},
     "output_type": "execute_result"
    }
   ],
   "source": [
    "uniquePathsWithObstacles(obstacleGrid)"
   ]
  },
  {
   "cell_type": "markdown",
   "id": "compatible-stable",
   "metadata": {},
   "source": [
    "# <a href='https://www.youtube.com/watch?v=2MmGzdiKR9Y&ab_channel=BackToBackSWE'>53 Maximum Subarray</a>"
   ]
  },
  {
   "cell_type": "code",
   "execution_count": 137,
   "id": "western-participation",
   "metadata": {},
   "outputs": [],
   "source": [
    "nums = [-2,1,-3,4,-1,2,1,-5,4]\n",
    "# nums = [5,4,-1,7,8]\n",
    "# nums = [-2,1]"
   ]
  },
  {
   "cell_type": "code",
   "execution_count": 141,
   "id": "express-warehouse",
   "metadata": {},
   "outputs": [],
   "source": [
    "def maxSubArray_nonDP(nums):\n",
    "    # O(n*2)\n",
    "    max_value = float('-inf')\n",
    "    for i in range(len(nums)):\n",
    "        tmp = nums[i]\n",
    "#         l= []\n",
    "        for j in range(i, len(nums)):\n",
    "            if j != i:\n",
    "                tmp += nums[j]\n",
    "#             l.append(tmp)\n",
    "#             print(tmp, max_value)\n",
    "            if tmp > max_value:\n",
    "                max_value = tmp\n",
    "#         print(l)\n",
    "    return max_value\n",
    "            "
   ]
  },
  {
   "cell_type": "code",
   "execution_count": 142,
   "id": "coupled-richmond",
   "metadata": {},
   "outputs": [
    {
     "data": {
      "text/plain": [
       "6"
      ]
     },
     "execution_count": 142,
     "metadata": {},
     "output_type": "execute_result"
    }
   ],
   "source": [
    "maxSubArray_nonDP(nums)"
   ]
  },
  {
   "cell_type": "markdown",
   "id": "academic-ocean",
   "metadata": {},
   "source": [
    "KEY: 在每個node 都要決定是要從自己新開始, 還是要延續前面的array 也就是 max(i ,subarray[i-1])\n",
    "再往前一步延伸, 其實只要之前的sub"
   ]
  },
  {
   "cell_type": "code",
   "execution_count": 157,
   "id": "tropical-therapist",
   "metadata": {},
   "outputs": [],
   "source": [
    "def maxSubArray(nums):\n",
    "    # Time O(n)\n",
    "    # SPACE O(n)\n",
    "#     sub = [0]*len(nums)\n",
    "#     sub[0] = nums[0]\n",
    "#     # sub 代表的是 subarray 在 每個位置結束的時候, 最大的值\n",
    "#     for i in range(1,len(nums)):\n",
    "#         sub[i] = max(nums[i], sub[i-1] + nums[i])\n",
    "        \n",
    "#     # 再從所有位置中 取最大的\n",
    "#     return max(sub)\n",
    "\n",
    "    #Time O(n)\n",
    "    #SPACE O(1)\n",
    "    newNum= maxTotal = nums[0]\n",
    "    # 每次只存一個位置, 跟overall max 比較\n",
    "    for i in range(1,len(nums)):\n",
    "        newNum = max(nums[i], nums[i] + newNum)\n",
    "        maxTotal = max(newNum, maxTotal)\n",
    "    return maxTotal\n",
    "    \n",
    "    \n",
    "        \n",
    "    \n",
    "    "
   ]
  },
  {
   "cell_type": "code",
   "execution_count": 158,
   "id": "attractive-anderson",
   "metadata": {},
   "outputs": [
    {
     "data": {
      "text/plain": [
       "6"
      ]
     },
     "execution_count": 158,
     "metadata": {},
     "output_type": "execute_result"
    }
   ],
   "source": [
    "maxSubArray(nums)"
   ]
  },
  {
   "cell_type": "markdown",
   "id": "systematic-booth",
   "metadata": {},
   "source": [
    "# 203 Remove Linked List Elements"
   ]
  },
  {
   "cell_type": "code",
   "execution_count": 1,
   "id": "stretch-findings",
   "metadata": {},
   "outputs": [],
   "source": [
    "class ListNode:\n",
    "    def __init__(self, val=0, next=None):\n",
    "        self.val = val\n",
    "        self.next = next"
   ]
  },
  {
   "cell_type": "code",
   "execution_count": 122,
   "id": "express-frost",
   "metadata": {},
   "outputs": [],
   "source": [
    "# Test_list = ListNode(1,ListNode(2,ListNode(3,ListNode(6,(ListNode(7,(ListNode(4))))))))\n",
    "Test_list = ListNode(7,ListNode(7,ListNode(7,ListNode(6,(ListNode(7,(ListNode(7))))))))"
   ]
  },
  {
   "cell_type": "code",
   "execution_count": 123,
   "id": "surprised-oxygen",
   "metadata": {},
   "outputs": [],
   "source": [
    "def removeElements_Original_V(head, val):\n",
    "    dummy = d_head =ListNode(0)\n",
    "    node = head\n",
    "    while node :\n",
    "        while node and node.val == val:\n",
    "            node = node.next\n",
    "        d_head.next = node\n",
    "        d_head = d_head.next\n",
    "        if node:\n",
    "            node = node.next\n",
    "\n",
    "    return dummy.next\n",
    "    "
   ]
  },
  {
   "cell_type": "code",
   "execution_count": 124,
   "id": "invalid-niger",
   "metadata": {},
   "outputs": [],
   "source": [
    "def removeElements(head, val):\n",
    "    dummy = dummy_head = ListNode(0)\n",
    "    # Linked to original head\n",
    "    dummy_head.next = head\n",
    "    \n",
    "    while dummy_head.next:\n",
    "        if dummy_head.next.val == val:\n",
    "            # KEY only change dummy_head.next\n",
    "            # dummy_head still remain\n",
    "            dummy_head.next = dummy_head.next.next\n",
    "        else:\n",
    "            # now dummy_head.next is pointed to non-traget value\n",
    "            # change dummy_head to its next\n",
    "            dummy_head = dummy_head.next\n",
    "    return dummy.next\n"
   ]
  },
  {
   "cell_type": "code",
   "execution_count": 125,
   "id": "introductory-assessment",
   "metadata": {},
   "outputs": [],
   "source": [
    "ans = removeElements(Test_list, 7)"
   ]
  },
  {
   "cell_type": "code",
   "execution_count": 126,
   "id": "desperate-array",
   "metadata": {},
   "outputs": [
    {
     "name": "stdout",
     "output_type": "stream",
     "text": [
      "6\n"
     ]
    }
   ],
   "source": [
    "while ans:\n",
    "    print(ans.val)\n",
    "    ans = ans.next"
   ]
  },
  {
   "cell_type": "markdown",
   "id": "indoor-founder",
   "metadata": {},
   "source": [
    "# <a href =\"https://www.youtube.com/watch?v=OM1MTokvxs4&ab_channel=NeetCode\">120 Triangle</a>"
   ]
  },
  {
   "cell_type": "code",
   "execution_count": 19,
   "id": "bacterial-lounge",
   "metadata": {},
   "outputs": [],
   "source": [
    "triangle = [[2],[3,4],[6,5,7],[4,1,8,3]]"
   ]
  },
  {
   "cell_type": "code",
   "execution_count": 20,
   "id": "great-modem",
   "metadata": {},
   "outputs": [],
   "source": [
    "def minimumTotal(triangle):\n",
    "    # Bottom up, DP solution\n",
    "    r = len(triangle) -2\n",
    "\n",
    "    for row in range(r,-1,-1):\n",
    "#         print(triangle[row])\n",
    "        for i in range(len(triangle[row])):\n",
    "            triangle[row][i] =  triangle[row][i] + min(triangle[row+1][i], triangle[row+1][i+1])\n",
    "    print(triangle)\n",
    "    return triangle[0][0]\n",
    "\n",
    "    \n",
    "    \n",
    "    \n",
    "    "
   ]
  },
  {
   "cell_type": "code",
   "execution_count": 21,
   "id": "artistic-macintosh",
   "metadata": {},
   "outputs": [
    {
     "name": "stdout",
     "output_type": "stream",
     "text": [
      "[6, 5, 7]\n",
      "[3, 4]\n",
      "[2]\n",
      "[[11], [9, 10], [7, 6, 10], [4, 1, 8, 3]]\n"
     ]
    }
   ],
   "source": [
    "minimumTotal(triangle)"
   ]
  },
  {
   "cell_type": "markdown",
   "id": "productive-monitor",
   "metadata": {},
   "source": [
    "# 279 Perfect Squares"
   ]
  },
  {
   "cell_type": "code",
   "execution_count": 24,
   "id": "senior-novelty",
   "metadata": {},
   "outputs": [],
   "source": [
    "def numSquare(n):\n",
    "    # initialize dp array\n",
    "    # dp 是存 在 i 這個數字, 有幾個square可相加得到這個值(i)\n",
    "    dp = [i for i in range(n+1)]\n",
    "    \n",
    "    for i in range(2, n+1):\n",
    "        for j in range(1, int(i**0.5)+1):\n",
    "            # KEY, 在每個數字i, 都要去試到所有自己開根號小的數字\n",
    "            # 去比 如果減掉這個 j*j, dp[i- j*j] +1 (加一步是多j 這部)\n",
    "            dp[i] = min(dp[i], dp[i-j*j]+1)\n",
    "    print(dp)\n",
    "    return dp[-1]\n",
    "        "
   ]
  },
  {
   "cell_type": "code",
   "execution_count": 26,
   "id": "billion-telling",
   "metadata": {},
   "outputs": [
    {
     "name": "stdout",
     "output_type": "stream",
     "text": [
      "[0, 1, 2, 3, 1, 2, 3, 4, 2, 1, 2, 3, 3, 2, 3, 4, 1, 2, 2, 3, 2, 3, 3, 4, 3, 1, 2, 3, 4, 2, 3, 4, 2, 3, 2, 3, 1, 2, 3, 4, 2, 2, 3, 3, 3, 2, 3, 4, 3, 1, 2, 3, 2, 2, 3, 4, 3, 3, 2, 3, 4, 2, 3, 4, 1, 2, 3, 3, 2, 3, 3, 4, 2, 2, 2, 3, 3, 3, 3, 4, 2, 1, 2, 3, 3, 2, 3, 4, 3, 2, 2, 3, 4, 3, 3, 4, 3, 2, 2, 3, 1]\n"
     ]
    },
    {
     "data": {
      "text/plain": [
       "1"
      ]
     },
     "execution_count": 26,
     "metadata": {},
     "output_type": "execute_result"
    }
   ],
   "source": [
    "numSquare(100)"
   ]
  },
  {
   "cell_type": "markdown",
   "id": "final-reply",
   "metadata": {},
   "source": [
    "# 16 3Sum Closest"
   ]
  },
  {
   "cell_type": "code",
   "execution_count": 29,
   "id": "gorgeous-duration",
   "metadata": {},
   "outputs": [],
   "source": [
    " def threeSumClosest(nums, target):\n",
    "        if not nums:\n",
    "            return None\n",
    "        \n",
    "        nums = sorted(nums)\n",
    "        diff = float('inf')\n",
    "        \n",
    "        for i in range(len(nums)-2):\n",
    "            p1= i+1\n",
    "            p2= len(nums)-1\n",
    "            \n",
    "            while p1<p2:\n",
    "                s = nums[i] + nums[p1] + nums[p2]\n",
    "                if abs(s-target) < diff:\n",
    "                    diff = abs(s-target)\n",
    "                    output = s\n",
    "                \n",
    "                if s<target:\n",
    "                    p1+=1\n",
    "                elif s>target:\n",
    "                    p2-=1\n",
    "                else:\n",
    "                    return target\n",
    "        return output\n",
    "            \n",
    "    "
   ]
  },
  {
   "cell_type": "code",
   "execution_count": 30,
   "id": "fiscal-undergraduate",
   "metadata": {},
   "outputs": [
    {
     "data": {
      "text/plain": [
       "2"
      ]
     },
     "execution_count": 30,
     "metadata": {},
     "output_type": "execute_result"
    }
   ],
   "source": [
    "threeSumClosest(nums = [-1,2,1,-4], target = 1)"
   ]
  },
  {
   "cell_type": "markdown",
   "id": "framed-yield",
   "metadata": {},
   "source": [
    "# <a href=\"https://www.youtube.com/watch?v=jgiZlGzXMBw&ab_channel=BackToBackSWE\">322  Coin Change </a>"
   ]
  },
  {
   "cell_type": "code",
   "execution_count": 72,
   "id": "round-milan",
   "metadata": {},
   "outputs": [],
   "source": [
    "coins = [186,419,83,408]\n",
    "amount = 6249\n",
    "# coins = [1,2,5]\n",
    "# amount = 11"
   ]
  },
  {
   "cell_type": "markdown",
   "id": "identical-meeting",
   "metadata": {},
   "source": [
    "DP 的關鍵在找到subproblem, 要如何跟target產生關聯, (大部分都要有array,dict,來存之前之值)  \n",
    "假如 今天的amount 是 11,coins 有 1,2,5  \n",
    "如果今天知道amount 是 9的時候, 可以直接+2 來得到答案  \n",
    "同理, amount = 6 (+5), amount = 10 (+1)  \n",
    "當今天剩餘的值可以由coin 來組成時, 就要記錄可能的最小值是多少  \n"
   ]
  },
  {
   "cell_type": "code",
   "execution_count": 73,
   "id": "small-bishop",
   "metadata": {},
   "outputs": [],
   "source": [
    "def coinChange(coins, amount):\n",
    "    # Create place holder for amount +1(including 0)\n",
    "    dp = [amount +1] * (amount+1)\n",
    "    dp[0] = 0\n",
    "    \n",
    "    # iterate through each slot in dp\n",
    "    # Each slot represent the min coinst to add up to this value\n",
    "    for i in range(len(dp)):\n",
    "#         print(i)\n",
    "        for c in coins:\n",
    "            # IF the remaining value is less than coin, than try to compare\n",
    "            if i>=c:\n",
    "                # Compare, whether form last step is more optimal\n",
    "                dp[i] = min(dp[i-c]+1, dp[i])\n",
    "    # If last slot equal amount +1, means such value cannot be composed of these coins\n",
    "    if dp[-1] == amount +1:\n",
    "        return -1\n",
    "    return dp[-1]\n",
    "                \n",
    "    \n",
    "    "
   ]
  },
  {
   "cell_type": "code",
   "execution_count": 74,
   "id": "grave-graph",
   "metadata": {},
   "outputs": [
    {
     "data": {
      "text/plain": [
       "20"
      ]
     },
     "execution_count": 74,
     "metadata": {},
     "output_type": "execute_result"
    }
   ],
   "source": [
    "coinChange(coins, amount)"
   ]
  },
  {
   "cell_type": "code",
   "execution_count": 79,
   "id": "vocal-turning",
   "metadata": {
    "code_folding": [
     0
    ]
   },
   "outputs": [],
   "source": [
    "def coinChange_WRONG(coins, amount):\n",
    "    # 這個寫法錯在, 不能確定每次都選最大的值\n",
    "    if amount == 0 :\n",
    "        return 0\n",
    "    count = 0\n",
    "    \n",
    "    while amount > 0:\n",
    "        print(coins, amount)\n",
    "        coins = [c if c <= amount else -1 for c in coins]\n",
    "        print(coins)\n",
    "        if max(coins)<0:\n",
    "            break\n",
    "        amount -= max(coins)\n",
    "        count +=1\n",
    "    \n",
    "    if amount == 0:\n",
    "        return count\n",
    "    else:\n",
    "        return -1\n",
    "        \n",
    "    \n",
    "#     print()"
   ]
  },
  {
   "cell_type": "code",
   "execution_count": 99,
   "id": "alien-cinema",
   "metadata": {},
   "outputs": [],
   "source": [
    "# coinChange(coins, amount)"
   ]
  },
  {
   "cell_type": "markdown",
   "id": "clear-official",
   "metadata": {},
   "source": [
    "# 377  Combination Sum IV  \n",
    "Given an array of distinct integers nums and a target integer target, return the number of possible combinations that add up to target.**Note that different sequences are counted as different combinations.**  \n",
    "target = 11, nums = [1,2,5]:  \n",
    "target(10) + target(9) + target(6)\n"
   ]
  },
  {
   "cell_type": "code",
   "execution_count": 102,
   "id": "iraqi-august",
   "metadata": {},
   "outputs": [],
   "source": [
    "nums = [1,2,3]\n",
    "target = 4"
   ]
  },
  {
   "cell_type": "code",
   "execution_count": 105,
   "id": "current-jones",
   "metadata": {},
   "outputs": [],
   "source": [
    "def combinationSum4(nums, target):\n",
    "    dp = [0] * (target +1 )\n",
    "    \n",
    "    # iterate through each slot\n",
    "    for i in range(len(dp)):\n",
    "        for num in nums:\n",
    "            if i == num:\n",
    "                # When slot 2, happens has coin 2, \n",
    "                # 這邊加的1 是代表 直接一個coin 到位的值\n",
    "                dp[i] +=1 \n",
    "            \n",
    "            if num < i :\n",
    "                # KEY, 這邊要是 另外一個if\n",
    "                # 上述的例子, T(11) 要把 T(9),T(10),T(6)的值 加起來\n",
    "                # 如果根本走不到 就會是+=0\n",
    "                dp[i] += dp[i-num]\n",
    "    # default =0, 走不到就是0\n",
    "    return dp\n",
    "        \n",
    "    \n",
    "    \n",
    "    "
   ]
  },
  {
   "cell_type": "code",
   "execution_count": 106,
   "id": "demanding-adventure",
   "metadata": {},
   "outputs": [
    {
     "data": {
      "text/plain": [
       "[0, 1, 2, 4, 7]"
      ]
     },
     "execution_count": 106,
     "metadata": {},
     "output_type": "execute_result"
    }
   ],
   "source": [
    "combinationSum4(nums, target)"
   ]
  },
  {
   "attachments": {
    "image.png": {
     "image/png": "[encoded data removed]"
    }
   },
   "cell_type": "markdown",
   "id": "opposite-prompt",
   "metadata": {},
   "source": [
    "# <a href=\"https://www.youtube.com/watch?v=PCC6Tshwxbo&ab_channel=%E5%B1%B1%E6%99%AF%E5%9F%8E%E4%B8%80%E5%A7%90\">256 Paint House</a>\n",
    "ONLY 3 COLORS  \n",
    "Have to paint all the houses that **no two adjacent houses have the same color**  \n",
    "Also need to find the min cost to paint all houses\n",
    "![image.png](attachment:image.png)\n"
   ]
  },
  {
   "cell_type": "code",
   "execution_count": 150,
   "id": "later-business",
   "metadata": {},
   "outputs": [],
   "source": [
    "cost = [[17,2,7] , [16,16,5], [14,3,9]]"
   ]
  },
  {
   "cell_type": "code",
   "execution_count": 151,
   "id": "aerial-antenna",
   "metadata": {},
   "outputs": [],
   "source": [
    "def minCost(cost):\n",
    "    if not cost:\n",
    "        return 0\n",
    "    \n",
    "    for i in range(1,len(cost)):\n",
    "        # 把每一個slot 的值, 都更新成, 如果選了其中一個顏色 **加上** 前一個row 的optimal值\n",
    "        # i row, 選綠色, i-1 row 就要挑紅或藍 哪個可以 min cost\n",
    "        cost[i][0] += min(cost[i-1][1], cost[i-1][2])\n",
    "        # 選紅\n",
    "        cost[i][1] += min(cost[i-1][0], cost[i-1][2])        \n",
    "        # 選藍\n",
    "        cost[i][2] += min(cost[i-1][1], cost[i-1][0])\n",
    "        \n",
    "    return cost\n",
    "    return min(cost[-1])"
   ]
  },
  {
   "cell_type": "code",
   "execution_count": 152,
   "id": "happy-taiwan",
   "metadata": {},
   "outputs": [
    {
     "data": {
      "text/plain": [
       "[[17, 2, 7], [18, 23, 7], [21, 10, 27]]"
      ]
     },
     "execution_count": 152,
     "metadata": {},
     "output_type": "execute_result"
    }
   ],
   "source": [
    "minCost(cost)"
   ]
  },
  {
   "cell_type": "markdown",
   "id": "laden-colombia",
   "metadata": {},
   "source": [
    "# <a href=\"https://www.youtube.com/watch?v=KVfQmGiwEMU&ab_channel=HuifengGuan\">265 Paint House II</a>\n",
    "**HAS K COLORS**  \n",
    "No TWO adjacent houses has the same color  \n",
    "find minum cost  \n",
    "\n"
   ]
  },
  {
   "cell_type": "code",
   "execution_count": 153,
   "id": "hungarian-middle",
   "metadata": {},
   "outputs": [],
   "source": [
    "cost = [[17,2,7] , [16,16,5], [14,3,9]]"
   ]
  },
  {
   "cell_type": "code",
   "execution_count": 154,
   "id": "vanilla-performer",
   "metadata": {},
   "outputs": [],
   "source": [
    "def minCost_II(cost):\n",
    "    if not cost:\n",
    "        return 0\n",
    "\n",
    "    for i in range(1,len(cost)):\n",
    "#         print(i,' row')\n",
    "        for j in range(len(cost[i])):\n",
    "#             print(cost[i-1][:j] + cost[i-1][j+1:])\n",
    "#             print(min(cost[i-1][:j] + cost[i-1][j+1:]))\n",
    "            cost[i][j] += min(cost[i-1][:j] + cost[i-1][j+1:])\n",
    "    return cost\n",
    "    return min(cost[-1])\n"
   ]
  },
  {
   "cell_type": "code",
   "execution_count": 155,
   "id": "exact-meditation",
   "metadata": {},
   "outputs": [
    {
     "data": {
      "text/plain": [
       "[[17, 2, 7], [18, 23, 7], [21, 10, 27]]"
      ]
     },
     "execution_count": 155,
     "metadata": {},
     "output_type": "execute_result"
    }
   ],
   "source": [
    "minCost_II(cost)"
   ]
  },
  {
   "cell_type": "markdown",
   "id": "documented-activity",
   "metadata": {},
   "source": [
    "# <a href='https://www.youtube.com/watch?v=7TnjypshYNU&t=118s&ab_channel=HappyCoding'>375 Guess higher or lower</a>  \n",
    "<a href=\"https://leetcode.com/problems/guess-number-higher-or-lower-ii/discuss/699749/Python-Very-detailed-explanation-with-examples\">SOL</a>\n",
    "Still little confuesd"
   ]
  },
  {
   "cell_type": "code",
   "execution_count": 168,
   "id": "extraordinary-procedure",
   "metadata": {},
   "outputs": [],
   "source": [
    "def getMoneyAmount(n):\n",
    "    dp = [[float('inf')] * (n+1) for _ in range(n+1) ]\n",
    "    \n",
    "    for i in range(n, 0, -1):\n",
    "        # i 代表, 答案是第i的時候\n",
    "#         print(i)\n",
    "        for j in range(i, n+1):\n",
    "            # 猜j 會需要多少 cost\n",
    "#             print('*',j)            \n",
    "            if i == j:\n",
    "                # i == j, means guess correct, so, cost 0\n",
    "                dp[i][j] = 0\n",
    "            if j - i == 1:\n",
    "                # 假設 i = 5, j =6\n",
    "                dp[i][j] = i\n",
    "            for k in range(i+1, j):\n",
    "#                 print('--',k)\n",
    "#                 dp[i][j] = min( dp[i][j], max(dp[i][k-1]+k, dp[k+1][j]+k))\n",
    "                dp[i][j] = min( dp[i][j], max( dp[i][k-1] + k, dp[k+1][j] + k ) )\n",
    "#     return dp\n",
    "    return dp[1][-1]\n"
   ]
  },
  {
   "cell_type": "code",
   "execution_count": 169,
   "id": "universal-facility",
   "metadata": {},
   "outputs": [
    {
     "data": {
      "text/plain": [
       "16"
      ]
     },
     "execution_count": 169,
     "metadata": {},
     "output_type": "execute_result"
    }
   ],
   "source": [
    "getMoneyAmount(10)"
   ]
  },
  {
   "cell_type": "markdown",
   "id": "august-survivor",
   "metadata": {},
   "source": [
    "# 64 Minimum Path Sum"
   ]
  },
  {
   "cell_type": "code",
   "execution_count": 211,
   "id": "crude-cedar",
   "metadata": {},
   "outputs": [],
   "source": [
    "# grid = [[1,3,1],[1,5,1],[4,2,1]]\n",
    "grid = [[1,2,3],[4,5,6]]"
   ]
  },
  {
   "cell_type": "code",
   "execution_count": 212,
   "id": "computational-genius",
   "metadata": {},
   "outputs": [],
   "source": [
    "def minPathSum(grid):\n",
    "    #deal edge case\n",
    "    # 1st row\n",
    "    for col in range(1,len(grid[0])):\n",
    "        grid[0][col] += grid[0][col-1]\n",
    "    # 1st col\n",
    "    for row in range(1,len(grid)):\n",
    "        grid[row][0] += grid[row-1][0]\n",
    "    \n",
    "    # row\n",
    "    for i in range(1,len(grid)):\n",
    "        # col\n",
    "        for j in range(1,len(grid[0])):\n",
    "            l_row = grid[i-1][j] if i-1 >=0 else 0\n",
    "            l_col = grid[i][j-1] if j-1 >=0 else 0\n",
    "            \n",
    "#             print('*',grid[i][j])\n",
    "#             print(l_row, l_col)\n",
    "            grid[i][j] += min(l_row , l_col) \n",
    "#             print('-',grid[i][j])\n",
    "            \n",
    "            \n",
    "            \n",
    "            \n",
    "    return grid"
   ]
  },
  {
   "cell_type": "code",
   "execution_count": 213,
   "id": "liquid-shade",
   "metadata": {},
   "outputs": [
    {
     "data": {
      "text/plain": [
       "[[1, 3, 6], [5, 8, 12]]"
      ]
     },
     "execution_count": 213,
     "metadata": {},
     "output_type": "execute_result"
    }
   ],
   "source": [
    "minPathSum(grid)"
   ]
  },
  {
   "cell_type": "markdown",
   "id": "primary-musician",
   "metadata": {},
   "source": [
    "# 15 3SUM"
   ]
  },
  {
   "cell_type": "code",
   "execution_count": 1,
   "id": "perceived-identity",
   "metadata": {},
   "outputs": [],
   "source": [
    "nums = [-1,0,1,2,-1,-4]"
   ]
  },
  {
   "cell_type": "code",
   "execution_count": 38,
   "id": "tender-wound",
   "metadata": {},
   "outputs": [],
   "source": [
    "def threeSum(nums):\n",
    "    res = []\n",
    "    nums = sorted(nums)\n",
    "    \n",
    "    # because choose 3sum, the last can access is len(nums-2)\n",
    "    for i in range(len(nums)-2):\n",
    "        if i>0 and nums[i] == nums[i-1]:\n",
    "            # NO duplicate can be used\n",
    "            continue\n",
    "        left_pointer, right_pointer = i+1, len(nums)-1\n",
    "#         print(nums)\n",
    "        while left_pointer < right_pointer:\n",
    "            s = nums[i] + nums[left_pointer] + nums[right_pointer]\n",
    "#             print(nums[i] , nums[left_pointer] , nums[right_pointer])\n",
    "            if s<0:\n",
    "                left_pointer +=1\n",
    "            elif s>0:\n",
    "                right_pointer -=1\n",
    "            else:\n",
    "                # s == 0, means find the sol\n",
    "                res.append([nums[i], nums[left_pointer], nums[right_pointer]])\n",
    "#                 print([nums[i], nums[left_pointer], nums[right_pointer]])\n",
    "                \n",
    "                \n",
    "                # KEY, 要把所有的可能都 try 完\n",
    "                # [-4, -1, -1, 0, 1, 2]\n",
    "                # -1,-1,2 . -1,0,1. Start 都是從-1開始, 所以不能直接break 要試到不一樣的職\n",
    "                while left_pointer < right_pointer and nums[left_pointer] == nums[left_pointer+1]:\n",
    "                    left_pointer +=1\n",
    "                while left_pointer < right_pointer and nums[right_pointer] == nums[right_pointer-1]:\n",
    "                    right_pointer -=1\n",
    "                left_pointer += 1\n",
    "                right_pointer -= 1\n",
    "#                 print('**',[nums[i], nums[left_pointer], nums[right_pointer]])\n",
    "                \n",
    "    return res\n",
    "        "
   ]
  },
  {
   "cell_type": "code",
   "execution_count": 39,
   "id": "demanding-scope",
   "metadata": {},
   "outputs": [
    {
     "data": {
      "text/plain": [
       "[[-1, -1, 2], [-1, 0, 1]]"
      ]
     },
     "execution_count": 39,
     "metadata": {},
     "output_type": "execute_result"
    }
   ],
   "source": [
    "threeSum(nums)"
   ]
  },
  {
   "cell_type": "code",
   "execution_count": 31,
   "id": "demonstrated-tongue",
   "metadata": {},
   "outputs": [],
   "source": [
    "l=[]"
   ]
  },
  {
   "cell_type": "code",
   "execution_count": 34,
   "id": "lightweight-mouth",
   "metadata": {},
   "outputs": [],
   "source": [
    "l.append((1,2,3))"
   ]
  },
  {
   "cell_type": "code",
   "execution_count": 35,
   "id": "interesting-ceramic",
   "metadata": {},
   "outputs": [
    {
     "data": {
      "text/plain": [
       "[(1, 2, 3), (1, 2, 3)]"
      ]
     },
     "execution_count": 35,
     "metadata": {},
     "output_type": "execute_result"
    }
   ],
   "source": [
    "l"
   ]
  },
  {
   "cell_type": "markdown",
   "id": "dress-disclosure",
   "metadata": {},
   "source": [
    "# <a href='https://leetcode.com/problems/dungeon-game/discuss/698961/Python-Simple-in-place-DP-solution-O(1)-space'>174 Dungeon</a>  \n",
    "屌解法:\n",
    "跟之前題目不同, 直接從最右下, 看最後需要多少hp, 才回推    \n",
    "The first step is to calculate how much hp is required to save the princess upon reaching dungeon[m-1][n-1]:  \n",
    "dungeon[i][j] = min(dungeon[i][j], 0) * -1 + 1  \n",
    "For example:  \n",
    "If dungeon[m-1][n-1] == -5, then we need 6 hp.  \n",
    "If dungeon[m-1][n-1] >= 0 then we only need 1 hp.  \n",
    "\n",
    "  We subtract this minimum hp from the current cell's value to find how much hp would be needed to reach the princess from the current cell.\n",
    "If this value is <=0, we change it to 1 because that means there is an abundance of hp in this cell and our minimum hp can never be <=0."
   ]
  },
  {
   "cell_type": "code",
   "execution_count": 45,
   "id": "possible-verification",
   "metadata": {},
   "outputs": [],
   "source": [
    "dungeon = [[-2,-3,3],[-5,-10,1],[10,30,-5]]"
   ]
  },
  {
   "cell_type": "code",
   "execution_count": 46,
   "id": "sharp-lotus",
   "metadata": {},
   "outputs": [],
   "source": [
    "def calculateMinimumHp(dungeon):\n",
    "    m, n = len(dungeon), len(dungeon[0])\n",
    "    \n",
    "#     dungeon[m-1][n-1] = min(dungeon[m-1][n-1], 0) * -1 + 1\n",
    "    for i in range(m-1, -1, -1):\n",
    "        for j in range(n-1, -1 ,-1):\n",
    "            if i == (m-1) and j == (n-1):\n",
    "                dungeon[i][j] = min(dungeon[i][j], 0) * -1 + 1\n",
    "            elif i == m-1:\n",
    "                # deal with last row:\n",
    "                # KEY, 這邊[i][j+1] 會先做過 已經是 '剩餘所需HP', [i][j] 會是這個所需的HP\n",
    "                # 如果 [i][j] < 0, 減去之後會使 '剩餘所需HP' 上升, vice versa\n",
    "                # 減掉 [i][j]後 ('每部所消耗'), 如果<0, 代表 '走完這步剩餘所需的HP 小於0', 代表還有餘裕, 因此直接設1 即可\n",
    "                dungeon[i][j] = max(dungeon[i][j+1] - dungeon[i][j], 1)\n",
    "            elif j == n-1:\n",
    "                # deal with last col:\n",
    "                dungeon[i][j] = max(dungeon[i+1][j] - dungeon[i][j], 1)\n",
    "            else:\n",
    "                # deal with the rest\n",
    "                # 這裡外層的 max 邏輯一樣, 如果所需剩餘的HP <0 ,直接給1\n",
    "                # 裡面 min的作用, 是 \"選取 所需HP 較少的道路\"s\n",
    "                dungeon[i][j] = max(min(dungeon[i+1][j],dungeon[i][j+1])-dungeon[i][j] ,1)\n",
    "    # After processing dungeon 存的值變成, 從這個點, 走道 bottom right 所需的 HP是多少\n",
    "    return dungeon\n",
    "                \n",
    "    \n",
    "    "
   ]
  },
  {
   "cell_type": "code",
   "execution_count": 47,
   "id": "neural-triple",
   "metadata": {},
   "outputs": [
    {
     "data": {
      "text/plain": [
       "[[7, 5, 2], [6, 11, 5], [1, 1, 6]]"
      ]
     },
     "execution_count": 47,
     "metadata": {},
     "output_type": "execute_result"
    }
   ],
   "source": [
    "calculateMinimumHp(dungeon)"
   ]
  },
  {
   "cell_type": "markdown",
   "id": "handed-sensitivity",
   "metadata": {},
   "source": [
    "# <a href=\"https://leetcode.com/problems/maximal-square/discuss/600149/Python-Thinking-Process-Diagrams-DP-Approach\">221 Maximal Square  </a>\n",
    "Given an m x n binary matrix filled with 0's and 1's, find the largest square containing only 1's and return its area.\n"
   ]
  },
  {
   "cell_type": "code",
   "execution_count": 60,
   "id": "spatial-above",
   "metadata": {},
   "outputs": [],
   "source": [
    "matrix = [[\"1\",\"0\",\"1\",\"0\",\"0\"],[\"1\",\"0\",\"1\",\"1\",\"1\"],[\"1\",\"1\",\"1\",\"1\",\"1\"],[\"1\",\"0\",\"0\",\"1\",\"0\"]]\n"
   ]
  },
  {
   "cell_type": "code",
   "execution_count": 63,
   "id": "visible-gravity",
   "metadata": {},
   "outputs": [],
   "source": [
    "def maximalSquare(matrix):\n",
    "    if not matrix or len(matrix) < 1:\n",
    "        return 0\n",
    "    rows = len(matrix)\n",
    "    cols = len(matrix[0])\n",
    "    max_side = 0\n",
    "    # extra space\n",
    "    dp = [[0] * (cols+1) for _ in range(rows+1)]\n",
    "#     for l in matrix:\n",
    "#         print(l)\n",
    "    for r in range(rows):\n",
    "        for c in range(cols):\n",
    "            if matrix[r][c] == '1':\n",
    "                dp[r+1][c+1] = min(dp[r][c],dp[r+1][c],dp[r][c+1]) + 1\n",
    "#                 matrix[r+1][c+1] = min(int(matrix[r][c]),int(matrix[r+1][c]),int(matrix[r][c+1])) +1\n",
    "#                 max_side = max(max_side, matrix[r+1][c+1])\n",
    "                max_side = max(max_side, dp[r+1][c+1])\n",
    "#     print(\" \")\n",
    "#     for l in dp:\n",
    "#         print(l)\n",
    "    return max_side * max_side\n",
    "\n"
   ]
  },
  {
   "cell_type": "code",
   "execution_count": 64,
   "id": "respiratory-european",
   "metadata": {},
   "outputs": [
    {
     "name": "stdout",
     "output_type": "stream",
     "text": [
      "['1', '0', '1', '0', '0']\n",
      "['1', '0', '1', '1', '1']\n",
      "['1', '1', '1', '1', '1']\n",
      "['1', '0', '0', '1', '0']\n",
      " \n",
      "[0, 0, 0, 0, 0, 0]\n",
      "[0, 1, 0, 1, 0, 0]\n",
      "[0, 1, 0, 1, 1, 1]\n",
      "[0, 1, 1, 1, 2, 2]\n",
      "[0, 1, 0, 0, 1, 0]\n"
     ]
    },
    {
     "data": {
      "text/plain": [
       "4"
      ]
     },
     "execution_count": 64,
     "metadata": {},
     "output_type": "execute_result"
    }
   ],
   "source": [
    "maximalSquare(matrix)\n"
   ]
  },
  {
   "cell_type": "markdown",
   "id": "operating-particle",
   "metadata": {},
   "source": [
    "# 887 Super Egg Drop"
   ]
  },
  {
   "cell_type": "code",
   "execution_count": 66,
   "id": "returning-essence",
   "metadata": {},
   "outputs": [],
   "source": [
    "k = 3; n=14"
   ]
  },
  {
   "cell_type": "code",
   "execution_count": 69,
   "id": "local-cliff",
   "metadata": {},
   "outputs": [],
   "source": [
    "def superEggDrop_NON_BINARY(k, n):\n",
    "\n",
    "    memo = dict()\n",
    "\n",
    "    def dp(k, n):\n",
    "        # base case\n",
    "        if k == 1: return n\n",
    "        if n == 0: return 0\n",
    "\n",
    "        if (k,n) in memo:\n",
    "            return memo[(k,n)]\n",
    "\n",
    "        res = float('inf')\n",
    "\n",
    "        # i 是測試第幾層樓\n",
    "        for i in range(1, n+1):\n",
    "            res = min(res,\n",
    "                      max(\n",
    "                          dp(k, n-i), # 沒碎\n",
    "                          dp(k-1, i-1) # 碎\n",
    "                      ) +1 \n",
    "                     )\n",
    "        memo[(k,n)] = res\n",
    "        return res\n",
    "    return dp(k,n)\n"
   ]
  },
  {
   "cell_type": "code",
   "execution_count": 70,
   "id": "divided-pepper",
   "metadata": {},
   "outputs": [],
   "source": [
    "def superEggDrop_BIN(k, n):\n",
    "    memo = dict()\n",
    "    def dp(K, N):\n",
    "        if K == 1: return N\n",
    "        if N == 0: return 0\n",
    "        if (K, N) in memo:\n",
    "            return memo[(K, N)]\n",
    "        \n",
    "        res = float('inf')\n",
    "        lo, hi = 1, N\n",
    "        while lo <= hi:\n",
    "            mid = (lo + hi) //2\n",
    "            broken = dp(K-1, mid -1)\n",
    "            not_broken = dp(K, N - mid)\n",
    "            if broken > not_broken:\n",
    "                hi = mid - 1\n",
    "                res = min(res, broken + 1)\n",
    "            else:\n",
    "                lo = mid + 1\n",
    "                res = min(res, not_broken + 1)\n",
    "\n",
    "        memo[(K, N)] = res\n",
    "        return res\n",
    "    return dp(k,n)\n",
    "            "
   ]
  },
  {
   "cell_type": "code",
   "execution_count": 71,
   "id": "formal-polls",
   "metadata": {},
   "outputs": [
    {
     "data": {
      "text/plain": [
       "4"
      ]
     },
     "execution_count": 71,
     "metadata": {},
     "output_type": "execute_result"
    }
   ],
   "source": [
    "superEggDrop(k,n)"
   ]
  },
  {
   "cell_type": "markdown",
   "id": "latest-pantyhose",
   "metadata": {},
   "source": [
    "# <a href=\"https://github.com/labuladong/fucking-algorithm/blob/master/%E5%8A%A8%E6%80%81%E8%A7%84%E5%88%92%E7%B3%BB%E5%88%97/%E5%9B%A2%E7%81%AD%E8%82%A1%E7%A5%A8%E9%97%AE%E9%A2%98.md\"> Stock Series Poblem</a>"
   ]
  },
  {
   "cell_type": "markdown",
   "id": "played-comparison",
   "metadata": {},
   "source": [
    "## 121 Best Time to Buy and Sell Stock\n",
    "You want to maximize your profit by choosing a single day to buy one stock and choosing a different day in the future to sell that stock."
   ]
  },
  {
   "cell_type": "code",
   "execution_count": 3,
   "id": "identical-isolation",
   "metadata": {},
   "outputs": [],
   "source": [
    " prices = [7,1,5,3,6,4]"
   ]
  },
  {
   "cell_type": "code",
   "execution_count": 4,
   "id": "third-suspect",
   "metadata": {},
   "outputs": [],
   "source": [
    "def maxProfit(prices):\n",
    "    max_profit, min_price = 0, float('inf')\n",
    "\n",
    "    for price in prices:\n",
    "        min_price = min(min_price, price)\n",
    "        max_profit = max(max_profit, price - min_price)\n",
    "    return max_profit"
   ]
  },
  {
   "cell_type": "code",
   "execution_count": 11,
   "id": "hydraulic-fashion",
   "metadata": {},
   "outputs": [],
   "source": [
    "def maxProfit(prices):\n",
    "    dp = [[0] * 2 for _ in range(len(prices))]\n",
    "    \n",
    "    # dp 存的是每天 每種狀態下的利潤\n",
    "    dp[0][0] = 0\n",
    "    # 第0天 就買 股票, 所以需要付錢\n",
    "    dp[0][1] = -prices[0]\n",
    "    for i in range(1, len(prices)):\n",
    "                        # 昨天就沒股票, or, 昨天有今天賣\n",
    "        dp[i][0] = max(dp[i-1][0], dp[i-1][1] + prices[i])\n",
    "                        # KEY, 因為此題只能買賣各一次, 身上有股票的狀態, 除了從昨天就擁有之外\n",
    "                        # 一定是要用 0 去買今天股票的錢, 不能是昨天沒有買股票的狀態\n",
    "        dp[i][1] = max(dp[i-1][1], 0 - prices[i])\n",
    "    \n",
    "#     # Space (1)\n",
    "#     dp_i_0 = 0\n",
    "#     dp_i-1 = -prices[0]\n",
    "#     for i in range(1, len(prices)):\n",
    "#         dp_i_0 = max(dp_i_0, dp_i_1 + prices[i])\n",
    "#         dP_i_1 = max(dp_i_1, 0 - prices[i])\n",
    "#     return dp_i_0\n",
    "    \n",
    "    # 最後一天, 股票賣掉的最大利潤\n",
    "    return dp[-1][0]\n",
    "        "
   ]
  },
  {
   "cell_type": "code",
   "execution_count": 12,
   "id": "forced-listing",
   "metadata": {},
   "outputs": [
    {
     "data": {
      "text/plain": [
       "[[0, -7], [0, -1], [4, -1], [4, -1], [5, -1], [5, -1]]"
      ]
     },
     "execution_count": 12,
     "metadata": {},
     "output_type": "execute_result"
    }
   ],
   "source": [
    " maxProfit(prices)"
   ]
  },
  {
   "cell_type": "markdown",
   "id": "developed-gnome",
   "metadata": {},
   "source": [
    "## 122 Best Time to Buy and Sell Stock II\n",
    "Find the maximum profit you can achieve. **You may complete as many transactions as you like**"
   ]
  },
  {
   "cell_type": "code",
   "execution_count": 28,
   "id": "described-family",
   "metadata": {},
   "outputs": [],
   "source": [
    "prices = [7,1,5,3,6,4]"
   ]
  },
  {
   "cell_type": "code",
   "execution_count": 29,
   "id": "formed-enemy",
   "metadata": {},
   "outputs": [],
   "source": [
    "def maxProfit(prices):\n",
    "    dp = [[0] * 2 for _ in range(len(prices))]\n",
    "    dp[0][0] = 0\n",
    "    dp[0][1] = -prices[0]\n",
    "    \n",
    "    for i in range(1, len(prices)):\n",
    "#         tmp = dp[i-1][0]\n",
    "        dp[i][0] = max(dp[i-1][0], dp[i-1][1] + prices[i])\n",
    "                                # Because, can make infinite transaction, need to consider,\n",
    "                                # if earn fome profit in previous day\n",
    "        dp[i][1] = max(dp[i-1][1], dp[i-1][0] - prices[i])\n",
    "        \n",
    "#    # Space (1)\n",
    "#     dp_i_0 = 0; dp_i_1= -prices[0]\n",
    "    \n",
    "#     for i in range(1,len(prices)):\n",
    "#         # use tmp to remember the profit before today's transaction\n",
    "#         tmp = dp_i_0\n",
    "#                     # rest,  sell\n",
    "#         dp_i_0 = max(dp_i_0, dp_i_1 + prices[i])\n",
    "#                     # rest, buy\n",
    "#         dp_i_1 = max(dp_i_1, tmp - prices[i])\n",
    "#     return dp_i_0\n",
    "        \n",
    "    # 最後一天, 股票賣掉的最大利潤\n",
    "    return dp[-1][0]\n",
    "    "
   ]
  },
  {
   "cell_type": "code",
   "execution_count": 30,
   "id": "growing-coffee",
   "metadata": {},
   "outputs": [
    {
     "data": {
      "text/plain": [
       "[[0, -7], [0, -1], [4, -1], [4, 1], [7, 1], [7, 3]]"
      ]
     },
     "execution_count": 30,
     "metadata": {},
     "output_type": "execute_result"
    }
   ],
   "source": [
    "maxProfit(prices)"
   ]
  },
  {
   "cell_type": "markdown",
   "id": "determined-interface",
   "metadata": {},
   "source": [
    "## 309 Best Time to Buy and Sell Stock with Cooldown\n",
    "You may complete as many transactions as you like   \n",
    "After you sell your stock, **you cannot buy stock on the next day (i.e., cooldown one day).**\n",
    "上述這句話的意思, 也就是說在買的時候, 是要回到兩天前的狀態去看(隔天不能買)"
   ]
  },
  {
   "cell_type": "code",
   "execution_count": 37,
   "id": "invalid-robinson",
   "metadata": {},
   "outputs": [],
   "source": [
    "prices = [1,2,3,0,2]\n",
    "# prices= [1]"
   ]
  },
  {
   "cell_type": "code",
   "execution_count": 38,
   "id": "conceptual-china",
   "metadata": {},
   "outputs": [],
   "source": [
    "def maxProfit(prices):\n",
    "    dp = [[0]*2 for _ in range(len(prices))]\n",
    "    dp[0][0] = 0\n",
    "    dp[0][1] = -prices[0]\n",
    "    \n",
    "    for i in range(1, len(prices)):\n",
    "                        # rest, sell\n",
    "        dp[i][0] = max(dp[i-1][0], dp[i-1][1] + prices[i])\n",
    "        if i == 1:\n",
    "            dp[i][1] = max(dp[i-1][1], - prices[i])\n",
    "                        # rest, buy form two days ago\n",
    "        dp[i][1] = max(dp[i-1][1], dp[i-2][0] - prices[i])\n",
    "    return dp[-1][0]\n",
    "        "
   ]
  },
  {
   "cell_type": "code",
   "execution_count": 39,
   "id": "removed-attempt",
   "metadata": {},
   "outputs": [
    {
     "data": {
      "text/plain": [
       "0"
      ]
     },
     "execution_count": 39,
     "metadata": {},
     "output_type": "execute_result"
    }
   ],
   "source": [
    "maxProfit(prices)"
   ]
  },
  {
   "cell_type": "markdown",
   "id": "arabic-inspector",
   "metadata": {},
   "source": [
    "## k = +infinity with fee"
   ]
  },
  {
   "cell_type": "code",
   "execution_count": 40,
   "id": "fourth-minute",
   "metadata": {},
   "outputs": [],
   "source": [
    "def maxProfit(prices, fee):\n",
    "    dp = [[0]*2 for _ in range(len(prices))]\n",
    "    dp[0][0] = 0\n",
    "    dp[0][1] = -prices[0]\n",
    "    \n",
    "    for i in range(1, len(prices)):\n",
    "                        # rest, sell\n",
    "        dp[i][0] = max(dp[i-1][0], dp[i-1][1] + prices[i])\n",
    "                        # rest, buy\n",
    "        dp[i][1] = max(dp[i-1][1], dp[i-1][0] - prices[i]- fee)\n",
    "    return dp[-1][0]"
   ]
  },
  {
   "cell_type": "markdown",
   "id": "immediate-supervisor",
   "metadata": {},
   "source": [
    "## 123  Best Time to Buy and Sell Stock III\n",
    "Max Can make two transaction"
   ]
  },
  {
   "cell_type": "code",
   "execution_count": 114,
   "id": "amended-guatemala",
   "metadata": {},
   "outputs": [],
   "source": [
    "# prices = [3,3,5,0,0,3,1,4]\n",
    "prices = [1,2,3,4,5]"
   ]
  },
  {
   "cell_type": "code",
   "execution_count": 123,
   "id": "solar-organizer",
   "metadata": {},
   "outputs": [],
   "source": [
    "def maxProfit(prices):\n",
    "    max_k = 2\n",
    "    # k means how many transaction are allowed\n",
    "    dp = [[[0]* 2 for _ in range(max_k+1)] for _ in range(len(prices))]\n",
    "    for k in range(max_k, -1, -1):\n",
    "        dp[0][k][0] = 0\n",
    "        dp[0][k][1] = -prices[0]\n",
    "#     return dp\n",
    "\n",
    "    for i in range(1,len(prices)):\n",
    "        for k in range(max_k, 0, -1):\n",
    "#             if i - 1 == -1:\n",
    "#                 dp[i][k][0] = 0\n",
    "#                 dp[i][k][1] = float('-inf') \n",
    "                                # rest, buy(buy won't reduce the transaction time)\n",
    "            print('i:',prices[i])\n",
    "            dp[i][k][0] = max(dp[i-1][k][0], dp[i-1][k][1] + prices[i] )\n",
    "            dp[i][k][1] = max(dp[i-1][k][1], dp[i-1][k-1][0] - prices[i])\n",
    "        \n",
    "#     return dp[-1][-1][0]\n",
    "    return dp"
   ]
  },
  {
   "cell_type": "code",
   "execution_count": 124,
   "id": "prescribed-writing",
   "metadata": {},
   "outputs": [
    {
     "name": "stdout",
     "output_type": "stream",
     "text": [
      "i: 2\n",
      "i: 2\n",
      "i: 3\n",
      "i: 3\n",
      "i: 4\n",
      "i: 4\n",
      "i: 5\n",
      "i: 5\n"
     ]
    },
    {
     "data": {
      "text/plain": [
       "[[[0, -1], [0, -1], [0, -1]],\n",
       " [[0, 0], [1, -1], [1, -1]],\n",
       " [[0, 0], [2, -1], [2, -1]],\n",
       " [[0, 0], [3, -1], [3, -1]],\n",
       " [[0, 0], [4, -1], [4, -1]]]"
      ]
     },
     "execution_count": 124,
     "metadata": {},
     "output_type": "execute_result"
    }
   ],
   "source": [
    "maxProfit(prices)"
   ]
  },
  {
   "cell_type": "markdown",
   "id": "clean-disease",
   "metadata": {},
   "source": [
    "## 188 Best Time to Buy and Sell Stock IV\n",
    "Max Can make k transaction"
   ]
  },
  {
   "cell_type": "code",
   "execution_count": null,
   "id": "coated-linux",
   "metadata": {},
   "outputs": [],
   "source": [
    "def maxProfit(prices, k):\n",
    "    max_k = k\n",
    "    # k means how many transaction are allowed\n",
    "    dp = [[[0]* 2 for _ in range(max_k+1)] for _ in range(len(prices))]\n",
    "    for k in range(max_k, -1, -1):\n",
    "        dp[0][k][0] = 0\n",
    "        dp[0][k][1] = -prices[0]\n",
    "#     return dp\n",
    "\n",
    "    for i in range(1,len(prices)):\n",
    "        for k in range(max_k, 0, -1):\n",
    "#             if i - 1 == -1:\n",
    "#                 dp[i][k][0] = 0\n",
    "#                 dp[i][k][1] = float('-inf') \n",
    "                                # rest, buy(buy won't reduce the transaction time)\n",
    "            print('i:',prices[i])\n",
    "            dp[i][k][0] = max(dp[i-1][k][0], dp[i-1][k][1] + prices[i] )\n",
    "            dp[i][k][1] = max(dp[i-1][k][1], dp[i-1][k-1][0] - prices[i])\n",
    "        \n",
    "#     return dp[-1][-1][0]\n",
    "    return dp"
   ]
  },
  {
   "cell_type": "markdown",
   "id": "incident-diesel",
   "metadata": {},
   "source": [
    "# <a href =\"https://github.com/labuladong/fucking-algorithm/blob/master/%E5%8A%A8%E6%80%81%E8%A7%84%E5%88%92%E7%B3%BB%E5%88%97/%E5%8A%A8%E6%80%81%E8%A7%84%E5%88%92%E8%AE%BE%E8%AE%A1%EF%BC%9A%E6%9C%80%E9%95%BF%E9%80%92%E5%A2%9E%E5%AD%90%E5%BA%8F%E5%88%97.md\">300 Longest Increasing Subsequence</a>\n",
    "A subsequence is a sequence that can be derived from an array by deleting some or no elements without changing the order of the remaining elements. For example, [3,6,2,7] is a subsequence of the array [0,3,1,6,2,2,7].  \n",
    "**定義: dp[i] 表示以 nums[i] 这个数结尾的最长递增子序列的长度。**"
   ]
  },
  {
   "cell_type": "code",
   "execution_count": 10,
   "id": "crazy-cologne",
   "metadata": {},
   "outputs": [],
   "source": [
    "# nums = [10,9,2,5,3,7,101,18]\n",
    "nums = [7,7,7,7,7]    "
   ]
  },
  {
   "cell_type": "code",
   "execution_count": 11,
   "id": "active-episode",
   "metadata": {},
   "outputs": [],
   "source": [
    "def lengthofLIS(nums):\n",
    "    # let dp be the array store, the LIS when each value end\n",
    "    dp = [1] * len(nums)\n",
    "    # each element at least must contain 1(themselves)\n",
    "\n",
    "    for i in range(len(nums)):\n",
    "        for j in range(i):\n",
    "            if nums[i] > nums[j]:\n",
    "                dp[i] = max(dp[i], dp[j]+1)\n",
    "    return dp\n",
    "                \n",
    "                   "
   ]
  },
  {
   "cell_type": "code",
   "execution_count": 12,
   "id": "arbitrary-orleans",
   "metadata": {},
   "outputs": [
    {
     "data": {
      "text/plain": [
       "[1, 1, 1, 1, 1]"
      ]
     },
     "execution_count": 12,
     "metadata": {},
     "output_type": "execute_result"
    }
   ],
   "source": [
    "lengthofLIS(nums)"
   ]
  },
  {
   "cell_type": "markdown",
   "id": "bacterial-congress",
   "metadata": {},
   "source": [
    "# <a href='https://github.com/labuladong/fucking-algorithm/blob/master/%E5%8A%A8%E6%80%81%E8%A7%84%E5%88%92%E7%B3%BB%E5%88%97/%E5%AD%90%E5%BA%8F%E5%88%97%E9%97%AE%E9%A2%98%E6%A8%A1%E6%9D%BF.md'>516 Longest Palindromic Subsequence</a>\n",
    "**找状态转移需要归纳思维，说白了就是如何从已知的结果推出未知的部分**  \n",
    "A subsequence is a sequence that can be derived from another sequence **by deleting some or no elements without changing the order of the remaining elements.**\n"
   ]
  },
  {
   "cell_type": "code",
   "execution_count": 13,
   "id": "answering-combat",
   "metadata": {},
   "outputs": [],
   "source": [
    "s = \"bbbab\""
   ]
  },
  {
   "cell_type": "code",
   "execution_count": 18,
   "id": "alternative-dodge",
   "metadata": {},
   "outputs": [],
   "source": [
    "def longestPalindromeSubseq(s):\n",
    "    # KEY in this question\n",
    "    # 对 dp 数组的定义是：在子串 s[i..j] 中，最长回文子序列的长度为 dp[i][j]\n",
    "    n = len(s)\n",
    "    dp = [[0] * n for _ in range(n)]\n",
    "    \n",
    "    # initial base case, only one character, min lenght is 1\n",
    "    for i in range(n):\n",
    "        dp[i][i] = 1\n",
    "    # 因为 i 肯定小于等于 j，所以对于那些 i > j 的位置，根本不存在什么子序列，应该初始化为 0。\n",
    "    \n",
    "    for i in range(n-1, -1, -1):\n",
    "        for j in range(i+1, n):\n",
    "            if s[i] == s[j]:\n",
    "                dp[i][j] = dp[i+1][j-1] + 2\n",
    "            else:\n",
    "                dp[i][j] = max(dp[i][j-1], dp[i+1][j])\n",
    "                \n",
    "\n",
    "    for l in dp:\n",
    "        print(l)\n",
    "    return dp[0][-1]"
   ]
  },
  {
   "cell_type": "code",
   "execution_count": 19,
   "id": "chronic-referral",
   "metadata": {},
   "outputs": [
    {
     "name": "stdout",
     "output_type": "stream",
     "text": [
      "[1, 2, 3, 3, 4]\n",
      "[0, 1, 2, 2, 3]\n",
      "[0, 0, 1, 1, 3]\n",
      "[0, 0, 0, 1, 1]\n",
      "[0, 0, 0, 0, 1]\n"
     ]
    },
    {
     "data": {
      "text/plain": [
       "4"
      ]
     },
     "execution_count": 19,
     "metadata": {},
     "output_type": "execute_result"
    }
   ],
   "source": [
    "longestPalindromeSubseq(s)"
   ]
  },
  {
   "cell_type": "markdown",
   "id": "important-tours",
   "metadata": {},
   "source": [
    "# <a href=\"https://github.com/labuladong/fucking-algorithm/blob/master/%E5%8A%A8%E6%80%81%E8%A7%84%E5%88%92%E7%B3%BB%E5%88%97/%E7%BC%96%E8%BE%91%E8%B7%9D%E7%A6%BB.md\">72 Edit Distance</a>\n",
    "You have the following three operations permitted on a word:\n",
    "\n",
    "    Insert a character\n",
    "    Delete a character\n",
    "    Replace a character\n",
    " \n",
    "DP def: dp[i][j] 存储 s1[0..i] 和 s2[0..j] 的最小编辑距离"
   ]
  },
  {
   "cell_type": "code",
   "execution_count": 20,
   "id": "modified-agreement",
   "metadata": {},
   "outputs": [],
   "source": [
    "word1 = \"horse\"; word2 = \"ros\""
   ]
  },
  {
   "cell_type": "code",
   "execution_count": null,
   "id": "auburn-foundation",
   "metadata": {},
   "outputs": [],
   "source": [
    "def minDistance_Recursive(word1, word2):\n",
    "    memo = dict()\n",
    "    def dp(i, j):\n",
    "        # base case\n",
    "        if (i, j) in memo:\n",
    "            return memo[(i,j)]\n",
    "        if i == -1: return j + 1\n",
    "        if j == -1: return i + 1\n",
    "\n",
    "        if word1[i] == word2[j]:\n",
    "            memo[(i, j)] = dp(i-1, j-1)\n",
    "            #             return dp(i - 1, j - 1)  # 啥都不做\n",
    "        else:\n",
    "            memo[(i, j)] = min(\n",
    "                                dp(i, j - 1) + 1,    # 插入\n",
    "                                dp(i - 1, j) + 1,    # 删除\n",
    "                                dp(i - 1, j - 1) + 1 # 替换\n",
    "                            )\n",
    "            #             return min(\n",
    "            #                 dp(i, j - 1) + 1,    # 插入\n",
    "            #                 dp(i - 1, j) + 1,    # 删除\n",
    "            #                 dp(i - 1, j - 1) + 1 # 替换\n",
    "            #             )\n",
    "        return memo[(i,j)]\n",
    "\n",
    "    # i，j 初始化指向最后一个索引\n",
    "\n",
    "    return dp(len(word1) - 1, len(word2) - 1)\n"
   ]
  },
  {
   "cell_type": "code",
   "execution_count": 27,
   "id": "meaning-christian",
   "metadata": {},
   "outputs": [],
   "source": [
    "def minDistance(word1, word2):\n",
    "    m = len(word1)\n",
    "    n = len(word2)    \n",
    "    dp = [[0]* (n+1) for _ in range(m+1)]\n",
    "    \n",
    "    # base case\n",
    "    for i in range(m+1):\n",
    "        dp[i][0]=i\n",
    "    for i in range(n+1):\n",
    "        dp[0][i]=i\n",
    "    \n",
    "    # Bottom up\n",
    "    for i in range(1, m+1):\n",
    "        for j in range(1, n+1):\n",
    "            if word1[i-1] == word2[j-1]:\n",
    "                dp[i][j] = dp[i-1][j-1]\n",
    "            else:\n",
    "                dp[i][j] = min(\n",
    "                            dp[i-1][j] +1, # delete\n",
    "                            dp[i][j-1] +1, # insert\n",
    "                            dp[i-1][j-1] +1 # replace\n",
    "                            )\n",
    "    for r in dp:\n",
    "        print(r)\n",
    "    return dp[-1][-1]\n",
    "             \n",
    "        "
   ]
  },
  {
   "cell_type": "code",
   "execution_count": 28,
   "id": "rough-pipeline",
   "metadata": {},
   "outputs": [
    {
     "name": "stdout",
     "output_type": "stream",
     "text": [
      "[0, 1, 2, 3]\n",
      "[1, 1, 2, 3]\n",
      "[2, 2, 1, 2]\n",
      "[3, 2, 2, 2]\n",
      "[4, 3, 3, 2]\n",
      "[5, 4, 4, 3]\n"
     ]
    },
    {
     "data": {
      "text/plain": [
       "3"
      ]
     },
     "execution_count": 28,
     "metadata": {},
     "output_type": "execute_result"
    }
   ],
   "source": [
    "minDistance(word1, word2)"
   ]
  },
  {
   "cell_type": "markdown",
   "id": "athletic-brick",
   "metadata": {},
   "source": [
    "# <a href='https://leetcode.com/problems/integer-break/discuss/383679/Python-DP-solution-with-detailed-explanation.-Avoids-confusion-about-factors-of-2-or-3.'>343. Integer Break</a>\n"
   ]
  },
  {
   "cell_type": "code",
   "execution_count": 40,
   "id": "elementary-connecticut",
   "metadata": {},
   "outputs": [],
   "source": [
    "def integetBreak(n):\n",
    "    dp = [None ,1]\n",
    "    \n",
    "    # for each m, add another element in dp\n",
    "    # started from 2\n",
    "    record = []\n",
    "    for m in range(2 , n+1):\n",
    "        record.append(m)\n",
    "        j = m-1\n",
    "        i = 1\n",
    "        max_product = 0\n",
    "        while i <= j:\n",
    "            record.append((i,j))\n",
    "            \n",
    "            max_product = max(max_product, max(i,dp[i]) * max(j, dp[j]))\n",
    "            j-=1\n",
    "            i+=1\n",
    "            \n",
    "        dp.append(max_product)\n",
    "    print(dp)\n",
    "    print(record)\n",
    "    return dp[-1]\n",
    "        "
   ]
  },
  {
   "cell_type": "code",
   "execution_count": 41,
   "id": "medical-berry",
   "metadata": {},
   "outputs": [
    {
     "name": "stdout",
     "output_type": "stream",
     "text": [
      "[None, 1, 1, 2, 4, 6, 9, 12, 18, 27, 36]\n",
      "[2, (1, 1), 3, (1, 2), 4, (1, 3), (2, 2), 5, (1, 4), (2, 3), 6, (1, 5), (2, 4), (3, 3), 7, (1, 6), (2, 5), (3, 4), 8, (1, 7), (2, 6), (3, 5), (4, 4), 9, (1, 8), (2, 7), (3, 6), (4, 5), 10, (1, 9), (2, 8), (3, 7), (4, 6), (5, 5)]\n"
     ]
    },
    {
     "data": {
      "text/plain": [
       "36"
      ]
     },
     "execution_count": 41,
     "metadata": {},
     "output_type": "execute_result"
    }
   ],
   "source": [
    "integetBreak(10)"
   ]
  },
  {
   "cell_type": "markdown",
   "id": "ignored-directive",
   "metadata": {},
   "source": [
    "# <a href='https://leetcode.com/problems/intersection-of-two-linked-lists/discuss/49924/Python-AC-solution-with-clear-explanation'>160 Intersection of Two Linked Lists</a>  \n",
    "<a href='https://leetcode.com/problems/intersection-of-two-linked-lists/discuss/49798/Concise-python-code-with-comments'>Actual code</a>"
   ]
  },
  {
   "cell_type": "code",
   "execution_count": 1,
   "id": "living-classification",
   "metadata": {},
   "outputs": [],
   "source": [
    "class ListNode:\n",
    "    def __init__(self, x):\n",
    "        self.val = x\n",
    "        self.next = None"
   ]
  },
  {
   "cell_type": "code",
   "execution_count": null,
   "id": "loving-seating",
   "metadata": {},
   "outputs": [],
   "source": [
    "class Solution:\n",
    "    def getIntersectionNode(self, headA: ListNode, headB: ListNode) -> ListNode:\n",
    "        if headA is None or headB is None:\n",
    "            return None\n",
    "\n",
    "        pa = headA # 2 pointers\n",
    "        pb = headB\n",
    "\n",
    "        while pa is not pb:\n",
    "            # if either pointer hits the end, switch head and continue the second traversal, \n",
    "            # if not hit the end, just move on to next\n",
    "            pa = headB if pa is None else pa.next\n",
    "            pb = headA if pb is None else pb.next\n",
    "\n",
    "        return pa # only 2 ways to get out of the loop, they meet or the both hit the end=None\n",
    "#         BIG O(N^2) time expire\n",
    "#         pointer_B = headB\n",
    "        \n",
    "#         while pointer_B:\n",
    "#             # print(pointer_B.val)\n",
    "#             pointer_A = headA\n",
    "#             while pointer_A:\n",
    "#                 # print('**',pointer_A.val)\n",
    "#                 if pointer_A == pointer_B :\n",
    "#                     return pointer_A\n",
    "#                 pointer_A = pointer_A.next if pointer_A.next else None\n",
    "#             pointer_B = pointer_B.next if pointer_B.next else None\n",
    "#         return None\n",
    "        \n"
   ]
  },
  {
   "cell_type": "markdown",
   "id": "billion-encyclopedia",
   "metadata": {},
   "source": [
    "# <a href = \"https://leetcode.com/problems/burst-balloons/discuss/930945/DFS-greater-DP-Progression-with-Explanation-O(n3)O(n2)\">312 Burst Ballons  </a>\n",
    "<a href = 'https://www.youtube.com/watch?v=KWPat-qNAGI&ab_channel=jayatitiwari'>Explanation Video</a>\n",
    "\n",
    "    Input: nums = [3,1,5,8]\n",
    "    Output: 167\n",
    "    Explanation:\n",
    "    nums = [3,1,5,8] --> [3,5,8] --> [3,8] --> [8] --> []\n",
    "    coins =  3*1*5    +   3*5*8   +  1*3*8  + 1*8*1 = 167\n",
    "Return the maximum coins you can collect by bursting the balloons wisely."
   ]
  },
  {
   "cell_type": "markdown",
   "id": "devoted-patio",
   "metadata": {},
   "source": [
    "condition: \n",
    "transition: "
   ]
  },
  {
   "cell_type": "code",
   "execution_count": 69,
   "id": "classical-refrigerator",
   "metadata": {},
   "outputs": [],
   "source": [
    "# nums = [3,1,5,8]\n",
    "nums = [8,3,4,3,5,0,5,6,6,2,8,5,6,2,3,8,3,5,1,0,2]\n",
    "\n",
    "# nums= [9]"
   ]
  },
  {
   "cell_type": "code",
   "execution_count": 70,
   "id": "solid-therapy",
   "metadata": {},
   "outputs": [],
   "source": [
    "def maxCoins(nums):\n",
    "    dp = [[0] * len(nums) for _ in range(len(nums))]\n",
    "    # KEY, dp[i][j] 是用來存,從 i ~ j, 能得到最大的score \n",
    "#     for i in range(len(nums) -1, -1, -1):\n",
    "#         for j in range(i, len(nums)):\n",
    "#             for k in range(i, j + 1):\n",
    "                \n",
    "        \n",
    "    # top down\n",
    "    # n means the gaps size\n",
    "    for n in range(len(nums)):\n",
    "        # i means the left pointer\n",
    "        for i in range(len(nums)-n):\n",
    "            j = i+n\n",
    "            for k in range(i, j+1):\n",
    "                leftnum = 1 if i==0 else nums[i-1]\n",
    "                rightnum = 1 if j==len(nums)-1 else nums[j+1]\n",
    "                \n",
    "                left = 0 if k==i else dp[i][k-1]\n",
    "                right = 0 if k==j else dp[k+1][j]\n",
    "                \n",
    "                dp[i][j]= max(dp[i][j], leftnum*nums[k]*rightnum + left + right)\n",
    "    return dp[0][-1]\n",
    "        "
   ]
  },
  {
   "cell_type": "code",
   "execution_count": 71,
   "id": "worse-local",
   "metadata": {},
   "outputs": [
    {
     "data": {
      "text/plain": [
       "3394"
      ]
     },
     "execution_count": 71,
     "metadata": {},
     "output_type": "execute_result"
    }
   ],
   "source": [
    "maxCoins(nums)\n",
    "# maxCoins_DFS(nums)\n"
   ]
  },
  {
   "cell_type": "code",
   "execution_count": 58,
   "id": "dutch-heath",
   "metadata": {
    "code_folding": []
   },
   "outputs": [],
   "source": [
    "def maxCoins_DFS(nums):\n",
    "    \n",
    "    score = 0\n",
    "    memo = dict()\n",
    "    \n",
    "    def dfs(nums):\n",
    "        if tuple(nums) in memo:\n",
    "            print('save time')\n",
    "            return memo[tuple(nums)]\n",
    "        if not nums:\n",
    "            return 0\n",
    "        if len(nums) == 1:\n",
    "            return nums[0]\n",
    "        \n",
    "        score = 0\n",
    "        for i in range(len(nums)):\n",
    "            curr = nums[i]\n",
    "            if i - 1 >=0:\n",
    "                curr *= nums[i-1]\n",
    "            if i+1 <len(nums):\n",
    "                curr *= nums[i+1]\n",
    "            curr += dfs(nums[:i] + nums[i+1 :])\n",
    "            score = max(curr, score)\n",
    "            memo[tuple(nums)] = score\n",
    "        return memo[tuple(nums)]\n",
    "#     return dfs(nums)\n",
    "    dfs(nums)\n",
    "    return memo\n",
    "#     return memo[tuple(nums)]\n"
   ]
  },
  {
   "cell_type": "markdown",
   "id": "exterior-christopher",
   "metadata": {},
   "source": [
    "# 198 House Robber  \n",
    "Each house has a certain amount of money stashed, the only constraint stopping you from robbing each of them is that adjacent houses have security systems connected and **it will automatically contact the police if two adjacent houses were broken into on the same night.**  \n",
    "Given an integer array nums representing the amount of money of each house, return the maximum amount of money you can rob tonight without alerting the police.  \n",
    "\n",
    "    NOTE:  \n",
    "    * if we don't rob this house, the maximum amount of money is the bigger one between to rob and not to rob the previous house;\n",
    "    * if we rob this house, the maximum amount of money is the amount of money that we don't rob the previous house plus the money in the current house."
   ]
  },
  {
   "cell_type": "code",
   "execution_count": 109,
   "id": "traditional-dispute",
   "metadata": {},
   "outputs": [],
   "source": [
    "# nums = [1,2,3,1]\n",
    "nums = [2,7,9,3,1]\n",
    "# nums = [1,1]"
   ]
  },
  {
   "cell_type": "code",
   "execution_count": 112,
   "id": "distant-jesus",
   "metadata": {},
   "outputs": [],
   "source": [
    "def rob(nums):\n",
    "    Rob = non_Rob = 0\n",
    "    \n",
    "    for n in nums:\n",
    "        # key, = 右邊會先執行, 所以右邊的 non_Rob, Rob 會是前一個位置\n",
    "        non_Rob, Rob = max(non_Rob, Rob), non_Rob + n\n",
    "    return max(Rob, non_Rob)\n",
    "    \n",
    "    # Space O(n)\n",
    "#     dp = [[0] * 2 for _ in range(len(nums))]\n",
    "#     # dp 是用來儲存, 每一天, 決定rob this house or not 的最大值\n",
    "    \n",
    "#     dp[0][0] = 0\n",
    "#     dp[0][1] = nums[0]\n",
    "#     for i in range(1,len(nums)):\n",
    "#         # dp[i][0]表示, 第i日, not rob i-th house, [i][1] 第i日, rob i-th house\n",
    "        \n",
    "#         dp[i][0] = max(dp[i-1][0], dp[i-1][1]) \n",
    "#         dp[i][1] = dp[i-1][0] + nums[i] \n",
    "# #     return max(dp[-1])\n",
    "#     return dp"
   ]
  },
  {
   "cell_type": "code",
   "execution_count": 113,
   "id": "cardiovascular-associate",
   "metadata": {},
   "outputs": [
    {
     "data": {
      "text/plain": [
       "12"
      ]
     },
     "execution_count": 113,
     "metadata": {},
     "output_type": "execute_result"
    }
   ],
   "source": [
    "rob(nums)"
   ]
  },
  {
   "cell_type": "code",
   "execution_count": 114,
   "id": "official-barcelona",
   "metadata": {
    "code_folding": [
     0
    ]
   },
   "outputs": [],
   "source": [
    "def rob_memo(nums):\n",
    "    memo = dict()\n",
    "\n",
    "    def dp(nums):\n",
    "        if tuple(nums) in memo:\n",
    "            return memo[tuple(nums)]        \n",
    "        if not nums:\n",
    "            return 0\n",
    "        if len(nums) ==1:\n",
    "            return nums[0]\n",
    "        \n",
    "        max_score= 0\n",
    "        for i in range(len(nums)):\n",
    "            left = right = 0\n",
    "            if i-2 >=0:\n",
    "                left = dp(nums[:i-2])\n",
    "            if i+2 <= len(nums): \n",
    "                right = dp(nums[i+2:])\n",
    "            tmp = left + nums[i] + right\n",
    "            max_score = max(max_score, tmp)\n",
    "            memo[tuple(nums)] = max_score\n",
    "#         return max_score\n",
    "        return memo[tuple(nums)]\n",
    "    return dp(nums)\n",
    "            \n"
   ]
  },
  {
   "cell_type": "code",
   "execution_count": 96,
   "id": "opponent-benchmark",
   "metadata": {},
   "outputs": [
    {
     "data": {
      "text/plain": [
       "12"
      ]
     },
     "execution_count": 96,
     "metadata": {},
     "output_type": "execute_result"
    }
   ],
   "source": [
    "rob_memo(nums)"
   ]
  },
  {
   "cell_type": "markdown",
   "id": "cognitive-distance",
   "metadata": {},
   "source": [
    "# <a href ='https://leetcode.com/problems/house-robber-ii/discuss/299071/Python-O(n)-time-O(1)-space'>213 House Robber II</a>\n",
    "**All houses at this place are arranged in a circle. That means the first house is the neighbor of the last one.**  \n",
    "Meanwhile, adjacent houses have a security system connected, and it will automatically contact the police if two adjacent houses were broken into on the same night.\n"
   ]
  },
  {
   "cell_type": "code",
   "execution_count": 130,
   "id": "constant-nudist",
   "metadata": {},
   "outputs": [],
   "source": [
    "nums = [1,2,3,1]"
   ]
  },
  {
   "cell_type": "code",
   "execution_count": 131,
   "id": "burning-grant",
   "metadata": {},
   "outputs": [],
   "source": [
    "def rob_II(nums):\n",
    "    \n",
    "    def simple_rob(nums, i, j):\n",
    "        non_Rob, Rob = 0, 0\n",
    "        for n in nums[i:j]:\n",
    "            non_Rob, Rob = max(non_Rob, Rob), non_Rob + n\n",
    "        return max(non_Rob,Rob)\n",
    "    if not nums:\n",
    "        return 0\n",
    "    elif len(nums) ==1:\n",
    "        return nums[0]\n",
    "    \n",
    "    n = len(nums)\n",
    "    # Uing function can reduce space complexity\n",
    "    return max(simple_rob(nums,0,n), simple_rob(nums, 1,n-1))\n",
    "    \n",
    "\n",
    "        "
   ]
  },
  {
   "cell_type": "code",
   "execution_count": 132,
   "id": "wrapped-sunglasses",
   "metadata": {},
   "outputs": [
    {
     "data": {
      "text/plain": [
       "47"
      ]
     },
     "execution_count": 132,
     "metadata": {},
     "output_type": "execute_result"
    }
   ],
   "source": [
    "rob_II(nums)"
   ]
  },
  {
   "cell_type": "markdown",
   "id": "nearby-choir",
   "metadata": {},
   "source": [
    "# 1582 Special Positions in a Binary Matrix"
   ]
  },
  {
   "cell_type": "code",
   "execution_count": 143,
   "id": "accessory-glucose",
   "metadata": {},
   "outputs": [],
   "source": [
    "mat = [[0,0,0,1],\n",
    "       [1,0,0,0],\n",
    "       [0,1,1,0],\n",
    "       [0,0,0,0]]\n"
   ]
  },
  {
   "cell_type": "code",
   "execution_count": 211,
   "id": "placed-locking",
   "metadata": {},
   "outputs": [],
   "source": [
    "def numSpecial(mat):\n",
    "    ans =0\n",
    "    row = len(mat)\n",
    "    col = len(mat[0])\n",
    "\n",
    "    for i in range(row):\n",
    "        for j in range(col):\n",
    "            if mat[i][j] == 1:\n",
    "#                 print(i,j)\n",
    "                mat[i][j] = -9\n",
    "                if not 1 in mat[i][:] and not 1 in [row[j] for row in mat]:\n",
    "                    ans +=1 \n",
    "                mat[i][j] = 1\n",
    "    return ans\n",
    "\n"
   ]
  },
  {
   "cell_type": "code",
   "execution_count": 212,
   "id": "clean-royal",
   "metadata": {},
   "outputs": [
    {
     "data": {
      "text/plain": [
       "2"
      ]
     },
     "execution_count": 212,
     "metadata": {},
     "output_type": "execute_result"
    }
   ],
   "source": [
    "numSpecial(mat)"
   ]
  },
  {
   "cell_type": "code",
   "execution_count": 136,
   "id": "continued-refrigerator",
   "metadata": {},
   "outputs": [
    {
     "data": {
      "text/plain": [
       "True"
      ]
     },
     "execution_count": 136,
     "metadata": {},
     "output_type": "execute_result"
    }
   ],
   "source": [
    "1 in mat[0][:]"
   ]
  },
  {
   "cell_type": "code",
   "execution_count": 156,
   "id": "bored-salad",
   "metadata": {},
   "outputs": [],
   "source": [
    "matt = [[i for i in range(5)] for _ in range(5)]"
   ]
  },
  {
   "cell_type": "code",
   "execution_count": 202,
   "id": "peaceful-battle",
   "metadata": {},
   "outputs": [],
   "source": [
    "matt= []\n",
    "l = []\n",
    "for i in range(1,26):\n",
    "    l.append(i)\n",
    "    if i % 5 == 0:\n",
    "        matt.append(l)\n",
    "        l=[]"
   ]
  },
  {
   "cell_type": "code",
   "execution_count": 203,
   "id": "promising-cyprus",
   "metadata": {},
   "outputs": [
    {
     "data": {
      "text/plain": [
       "[[1, 2, 3, 4, 5],\n",
       " [6, 7, 8, 9, 10],\n",
       " [11, 12, 13, 14, 15],\n",
       " [16, 17, 18, 19, 20],\n",
       " [21, 22, 23, 24, 25]]"
      ]
     },
     "execution_count": 203,
     "metadata": {},
     "output_type": "execute_result"
    }
   ],
   "source": [
    "matt"
   ]
  },
  {
   "cell_type": "code",
   "execution_count": 213,
   "id": "twenty-injection",
   "metadata": {},
   "outputs": [
    {
     "data": {
      "text/plain": [
       "[4, 9, 14, 19, 24]"
      ]
     },
     "execution_count": 213,
     "metadata": {},
     "output_type": "execute_result"
    }
   ],
   "source": [
    "# KEY matt[:][0] 是代表第 0 row \n",
    "[row[3] for row in matt]"
   ]
  },
  {
   "cell_type": "code",
   "execution_count": 216,
   "id": "protecting-apollo",
   "metadata": {},
   "outputs": [
    {
     "data": {
      "text/plain": [
       "[6, 7, 8, 9, 10]"
      ]
     },
     "execution_count": 216,
     "metadata": {},
     "output_type": "execute_result"
    }
   ],
   "source": [
    "matt[:][1]"
   ]
  },
  {
   "cell_type": "markdown",
   "id": "damaged-combat",
   "metadata": {},
   "source": [
    "# 1583. Count Unhappy Friends\n",
    "However, this pairing may cause some of the friends to be unhappy. A friend x is unhappy if x is paired with y and there exists a friend u who is paired with v but:\n",
    "\n",
    "    x prefers u over y, and\n",
    "    u prefers x over v.\n"
   ]
  },
  {
   "cell_type": "markdown",
   "id": "timely-wales",
   "metadata": {},
   "source": [
    "find x prefer who over y, (a,b,c)\n",
    "\n",
    "check whether (a,b,c) also prefer x over (e,f,g)"
   ]
  },
  {
   "cell_type": "code",
   "execution_count": 285,
   "id": "manufactured-spread",
   "metadata": {},
   "outputs": [],
   "source": [
    "# n = 4\n",
    "# preferences = [[1, 2, 3], [3, 2, 0], [3, 1, 0], [1, 2, 0]]\n",
    "# pairs = [[0, 1], [2, 3]]\n",
    "\n",
    "n = 4\n",
    "preferences = [[1,3,2],[2,3,0],[1,3,0],[0,2,1]]\n",
    "pairs = [[1,3],[0,2]]\n"
   ]
  },
  {
   "cell_type": "code",
   "execution_count": 286,
   "id": "revolutionary-magnet",
   "metadata": {},
   "outputs": [
    {
     "data": {
      "text/plain": [
       "[1, 3]"
      ]
     },
     "execution_count": 286,
     "metadata": {},
     "output_type": "execute_result"
    }
   ],
   "source": [
    "# [3 in pair for pair in pairs]\n",
    "[pair for pair in pairs if 3 in pair][0]"
   ]
  },
  {
   "cell_type": "code",
   "execution_count": 292,
   "id": "protective-limitation",
   "metadata": {},
   "outputs": [],
   "source": [
    "def unhappyFrinds(n, preferences, pairs):\n",
    "    ans = 0\n",
    "    memo = dict()\n",
    "    unhappy = []\n",
    "    def find_inverse_pair(candidates, curr):\n",
    "#         print('now',curr)\n",
    "        for candidate in candidates:\n",
    "            if (candidate, curr) in memo:\n",
    "                continue\n",
    "#             print('can',candidate)\n",
    "            pair = [pair for pair in pairs if candidate in pair][0]\n",
    "            \n",
    "            opponent = pair[1] if pair.index(candidate) == 0 else pair[0]\n",
    "#             print('opp',opponent)\n",
    "            \n",
    "            curr_index = preferences[candidate].index(curr)\n",
    "            opp_index = preferences[candidate].index(opponent)\n",
    "            \n",
    "#             print(curr_index)/\n",
    "#             print(opp_index)\n",
    "            if curr_index < opp_index:\n",
    "#                 print('now:{} can:{} opp:{}'.format(curr, candidate, opponent))\n",
    "                print('{} prefer {} over {}'.format(curr, candidate, opponent))\n",
    "                print('{} prefer {} over {} as well'.format(candidate, curr, opponent))\n",
    "                print(curr_index)\n",
    "                print(opp_index)\n",
    "                nonlocal ans\n",
    "                \n",
    "                if curr not in unhappy:\n",
    "                    ans+=1\n",
    "                    unhappy.append(curr)\n",
    "                if candidate not in unhappy:\n",
    "                    ans+=1\n",
    "                    unhappy.append(candidate)\n",
    "                    \n",
    "                memo[(curr,candidate)] = 1\n",
    "#                 ans += 2\n",
    "#             for pair in pairs:\n",
    "#                 if can\n",
    "    for pair in pairs:\n",
    "        x = pair[0]\n",
    "        y = pair[1]\n",
    "        x_prefer_idx = preferences[x].index(y)\n",
    "        y_prefer_idx = preferences[y].index(x)\n",
    "\n",
    "#         print(preferences[x][:x_prefer_idx])\n",
    "#         print(preferences[y][:y_prefer_idx])\n",
    "        \n",
    "        if x_prefer_idx > 0:\n",
    "            find_inverse_pair(preferences[x][:x_prefer_idx], x)\n",
    "        if y_prefer_idx > 0:\n",
    "            find_inverse_pair(preferences[y][:y_prefer_idx], y)\n",
    "    return ans\n",
    "        "
   ]
  },
  {
   "cell_type": "code",
   "execution_count": 294,
   "id": "mighty-sellers",
   "metadata": {},
   "outputs": [
    {
     "name": "stdout",
     "output_type": "stream",
     "text": [
      "1 prefer 2 over 0\n",
      "2 prefer 1 over 0 as well\n",
      "0\n",
      "2\n",
      "3 prefer 0 over 2\n",
      "0 prefer 3 over 2 as well\n",
      "1\n",
      "2\n",
      "3 prefer 2 over 0\n",
      "2 prefer 3 over 0 as well\n",
      "1\n",
      "2\n"
     ]
    },
    {
     "data": {
      "text/plain": [
       "4"
      ]
     },
     "execution_count": 294,
     "metadata": {},
     "output_type": "execute_result"
    }
   ],
   "source": [
    "unhappyFrinds(n ,preferences, pairs)"
   ]
  },
  {
   "cell_type": "code",
   "execution_count": 291,
   "id": "gorgeous-account",
   "metadata": {},
   "outputs": [
    {
     "name": "stdout",
     "output_type": "stream",
     "text": [
      "0 [1, 3, 2]\n",
      "1 [2, 3, 0]\n",
      "2 [1, 3, 0]\n",
      "3 [0, 2, 1]\n"
     ]
    }
   ],
   "source": [
    "for idx,pre in enumerate(preferences):\n",
    "    print(idx,pre)"
   ]
  },
  {
   "cell_type": "markdown",
   "id": "collective-store",
   "metadata": {},
   "source": [
    "# 1775 . Equal Sum Arrays With Minimum Number of Operations"
   ]
  },
  {
   "cell_type": "code",
   "execution_count": 128,
   "id": "prescribed-attraction",
   "metadata": {},
   "outputs": [],
   "source": [
    "# nums1 = [1,2,3,4,5,6]; nums2 = [1,1,2,2,2,2]\n",
    "# nums1 = [1,1,1,1,1,1,1]; nums2 = [6]\n",
    "# nums1 = [6,6]; nums2 = [1]\n",
    "nums1 = [5,6,4,3,1,2]; nums2 = [6,3,3,1,4,5,3,4,1,3,4]"
   ]
  },
  {
   "cell_type": "markdown",
   "id": "seasonal-wound",
   "metadata": {},
   "source": [
    "Cannot achieve case:  \n",
    "1, The mininum sum of nums1 cannot be reduced from nums2  \n",
    "2, The maxinum sum of nums1 cannot be added up from nums2  \n",
    "<br>\n",
    "find the upper bound lower bound of each array  \n",
    "upper : 6 * len(nums1). lower 1 * len(numse1)\n",
    "\n",
    "NOTE:\n",
    "1 or 0 and 0 ==> (1 or (0 and 0))  \n",
    "0 and 0 or 1 ==> ((0 and 0) or 1)"
   ]
  },
  {
   "cell_type": "code",
   "execution_count": 129,
   "id": "bronze-reply",
   "metadata": {},
   "outputs": [],
   "source": [
    "def minOperations(nums1, nums2):\n",
    "    # make sure nums1 is always smaller one\n",
    "    # Doable but will time expire\n",
    "    if sum(nums1) > sum(nums2):\n",
    "        nums1, nums2 = nums2, nums1 \n",
    "    \n",
    "#     print(nums1, nums2)\n",
    "    lo_1, high_1 = len(nums1), len(nums1) * 6\n",
    "    lo_2, high_2 = len(nums2), len(nums2) * 6\n",
    "    count = 0\n",
    "    if lo_2 > high_1:\n",
    "        return -1\n",
    "    \n",
    "    nums1 = sorted(nums1)\n",
    "    nums2 = sorted(nums2)\n",
    "    s1 = sum(nums1)\n",
    "    s2 = sum(nums2)\n",
    "    \n",
    "    forward = 0\n",
    "    back = len(nums2)-1\n",
    "\n",
    "    while s2 > s1 :\n",
    "        print(nums1, nums2)\n",
    "        print('*',s1, s2)\n",
    "        # smaller array hit upper bound\n",
    "        if forward >=len(nums1) or back >=0  and (nums2[back] - 1>6 - nums1[forward]) :\n",
    "#         KEY: 'and' has higher prioirty than 'or'\n",
    "#         if (forward >=len(nums1) or (back >=0  and (nums2[back] - 1>6 - nums1[forward]))) :\n",
    "            s2 += 1 -nums2[back]\n",
    "            nums2[back] = 1\n",
    "            back -=1            \n",
    "        else:\n",
    "            s1 += 6 -nums1[forward]\n",
    "            nums1[forward] = 6\n",
    "            # key if only one element in nums1, need to let forward not overobund\n",
    "            forward= forward + 1 if forward <len(nums1) -1 else forward\n",
    "            \n",
    "        count +=1\n",
    "    print(count)\n",
    "        "
   ]
  },
  {
   "cell_type": "code",
   "execution_count": 130,
   "id": "advisory-selling",
   "metadata": {},
   "outputs": [
    {
     "name": "stdout",
     "output_type": "stream",
     "text": [
      "[1, 2, 3, 4, 5, 6] [1, 1, 3, 3, 3, 3, 4, 4, 4, 5, 6]\n",
      "* 21 37\n",
      "0 10\n",
      "6\n",
      "1\n",
      "[6, 2, 3, 4, 5, 6] [1, 1, 3, 3, 3, 3, 4, 4, 4, 5, 6]\n",
      "* 26 37\n",
      "1 10\n",
      "6\n",
      "2\n",
      "[6, 2, 3, 4, 5, 6] [1, 1, 3, 3, 3, 3, 4, 4, 4, 5, 1]\n",
      "* 26 32\n",
      "1 9\n",
      "5\n",
      "2\n",
      "[6, 6, 3, 4, 5, 6] [1, 1, 3, 3, 3, 3, 4, 4, 4, 5, 1]\n",
      "* 30 32\n",
      "2 9\n",
      "5\n",
      "3\n",
      "4\n"
     ]
    }
   ],
   "source": [
    "minOperations(nums1, nums2)"
   ]
  },
  {
   "cell_type": "markdown",
   "id": "textile-hunger",
   "metadata": {},
   "source": [
    "# 91 Decode Ways"
   ]
  },
  {
   "cell_type": "markdown",
   "id": "empty-distance",
   "metadata": {},
   "source": [
    "KEY, dp[i] 是用來存, 在 s[0:i] 有幾種方式來decode. extra 用extra base offset. dp[0] = 1  \n",
    "dp[3] \n",
    "EX\n",
    "s = \"226\"\n",
    "dp->0123 \n"
   ]
  },
  {
   "cell_type": "code",
   "execution_count": 188,
   "id": "great-aruba",
   "metadata": {},
   "outputs": [],
   "source": [
    "# s = \"226\"\n",
    "# s = '03'\n",
    "# s = '12'\n",
    "s=\"1\""
   ]
  },
  {
   "cell_type": "code",
   "execution_count": 191,
   "id": "organized-cause",
   "metadata": {},
   "outputs": [],
   "source": [
    "def numDecodings(s):\n",
    "    \n",
    "    if not s:\n",
    "        return 0\n",
    "    pre_pre = 1\n",
    "    pre = 0 if s[0]=='0' else 1\n",
    "    if len(s) == 1:\n",
    "        return pre\n",
    "    curr = 0\n",
    "              \n",
    "    for i in range(2, len(s)+1):\n",
    "        curr = 0\n",
    "        \n",
    "        if 0 < int(s[i-1:i]) <=9:\n",
    "            #從 i 往前一個bit 來decode\n",
    "            #那此時decode ways 就是 dp[i-1]\n",
    "            curr += pre\n",
    "        if 10 <= int(s[i-2:i]) <=26:\n",
    "            # 從 i 往前兩個bit來做 decode\n",
    "            #那此時decode ways 就是 dp[i-2]\n",
    "            curr += pre_pre\n",
    "        print(pre_pre,pre,curr)\n",
    "        pre_pre, pre = pre, curr\n",
    "        \n",
    "    return curr\n",
    "          \n",
    "    \n",
    "    \n",
    "    # Space O(n)\n",
    "    \n",
    "#     dp = [0 for _ in range(len(s)+1)]\n",
    "#     #Base case\n",
    "#     # Ex, s = 12. at first, dp[2] += dp[1] or dp[2] += dp[0]\n",
    "#     # at this time, dp[0] should be 1, so that '12' can be counted as one\n",
    "#     # decode way\n",
    "#     dp[0] = 1\n",
    "#     # s[0] 如果不適0 就至少有一種解讀\n",
    "#     dp[1] = 0 if s[0]=='0' else 1\n",
    "          \n",
    "#     for i in range(2, len(s)+1):\n",
    "#         if 0 < int(s[i-1:i]) <=9:\n",
    "#             #從 i 往前一個bit 來decode\n",
    "#             #那此時decode ways 就是 dp[i-1]\n",
    "#             dp[i] += dp[i-1]\n",
    "#         if 10 <= int(s[i-2:i]) <=26:\n",
    "#             # 從 i 往前兩個bit來做 decode\n",
    "#             #那此時decode ways 就是 dp[i-2]\n",
    "#             print(i,'*',s[i-2:i])\n",
    "#             dp[i] += dp[i-2]\n",
    "#     return dp[len(s)]\n",
    "          "
   ]
  },
  {
   "cell_type": "code",
   "execution_count": 192,
   "id": "challenging-desire",
   "metadata": {},
   "outputs": [
    {
     "data": {
      "text/plain": [
       "0"
      ]
     },
     "execution_count": 192,
     "metadata": {},
     "output_type": "execute_result"
    }
   ],
   "source": [
    "numDecodings(s)"
   ]
  },
  {
   "attachments": {
    "image.png": {
     "image/png": "[encoded data removed]"
    }
   },
   "cell_type": "markdown",
   "id": "advisory-outdoors",
   "metadata": {},
   "source": [
    "# 21 Merge Two Sorted List\n",
    "![image.png](attachment:image.png)"
   ]
  },
  {
   "cell_type": "code",
   "execution_count": 195,
   "id": "central-mason",
   "metadata": {},
   "outputs": [],
   "source": [
    "class ListNode:\n",
    "    def __init__(self, val=0, next=None):\n",
    "        self.val = val\n",
    "        self.next = next"
   ]
  },
  {
   "cell_type": "code",
   "execution_count": null,
   "id": "animal-macintosh",
   "metadata": {},
   "outputs": [],
   "source": [
    "def mergeTwoLists(l1, l2):\n",
    "    \n",
    "    dummy = curr = ListNode(0)\n",
    "\n",
    "    # Only when l1, l2 are both left, need to compare and extend\n",
    "    while l1 and l2:\n",
    "        if l1.val < l2.val:\n",
    "            curr.next = l1\n",
    "            l1, curr = l1.next, curr.next\n",
    "        else:\n",
    "            curr.next = l2\n",
    "            l2, curr = l2.next, curr.next\n",
    "\n",
    "    # if one list is over but another list not yet\n",
    "    # just link up the rest of the list\n",
    "    curr.next = l1 or l2\n",
    "    return dummy.next\n",
    "    "
   ]
  },
  {
   "cell_type": "markdown",
   "id": "hybrid-vampire",
   "metadata": {},
   "source": [
    "# 23 Merge k sorted lists"
   ]
  },
  {
   "cell_type": "code",
   "execution_count": 293,
   "id": "occupational-probability",
   "metadata": {},
   "outputs": [],
   "source": [
    "l1 =ListNode(1,ListNode(4,ListNode(5)))\n",
    "l2 =ListNode(1,ListNode(3,ListNode(4)))\n",
    "l3 =ListNode(2,ListNode(6))\n",
    "lists = [l1,l2,l3]"
   ]
  },
  {
   "cell_type": "code",
   "execution_count": 286,
   "id": "excess-principle",
   "metadata": {
    "code_folding": []
   },
   "outputs": [],
   "source": [
    "def mergeKLists(lists):\n",
    "    dummy = curr =ListNode(0)\n",
    "    #from list pool, select the min val\n",
    "    # how to record the nums and which list to extend\n",
    "    \n",
    "    # while still has list node in lists\n",
    "#     print(dummy.val)\n",
    "    while lists:\n",
    "        # each around\n",
    "        tmp_min = float(\"inf\")\n",
    "        record = 0\n",
    "        for i in range(len(lists)):\n",
    "            # If such list node hasn't come to end\n",
    "            if lists[i]:\n",
    "                if lists[i].val < tmp_min:\n",
    "                    tmp_min = lists[i].val\n",
    "                    record = i\n",
    "        if tmp_min == float('inf'):\n",
    "            break\n",
    "        curr.next = lists[record]\n",
    "        curr, lists[record] = curr.next ,lists[record].next\n",
    "    return dummy.next\n",
    "        "
   ]
  },
  {
   "cell_type": "code",
   "execution_count": 298,
   "id": "multiple-quest",
   "metadata": {
    "code_folding": []
   },
   "outputs": [],
   "source": [
    "from operator import attrgetter\n",
    "\n",
    "def mergeKLists_use_operator(lists):\n",
    "    \n",
    "    sorted_list = []\n",
    "    # store all nodes into sorted_list\n",
    "    for head in lists:\n",
    "        curr = head\n",
    "        while curr is not None:\n",
    "            sorted_list.append(curr)\n",
    "            curr = curr.next\n",
    "    # use buiult library to sort the list\n",
    "    sorted_list = sorted(sorted_list, key=attrgetter('val'))\n",
    "    \n",
    "    # link the already sorted list\n",
    "    for i, node in enumerate(sorted_list):\n",
    "        try:\n",
    "            node.next = sorted_list[i+1]\n",
    "        except:\n",
    "            node.next = None\n",
    "            \n",
    "    if sorted_list:\n",
    "        return sorted_list[0]\n",
    "    else:\n",
    "        return None\n"
   ]
  },
  {
   "cell_type": "code",
   "execution_count": 1,
   "id": "rental-butter",
   "metadata": {},
   "outputs": [],
   "source": [
    "# l = mergeKLists_use_operator(lists)\n",
    "# l = mergeKLists(lists)\n",
    "# l = mergeKLists_Python3(lists)"
   ]
  },
  {
   "cell_type": "markdown",
   "id": "express-david",
   "metadata": {},
   "source": [
    "# <a href = \"https://www.youtube.com/watch?v=vbM41Zql228&ab_channel=NickWhite\">402 Remove K Digits</a>  \n",
    "Algo started from 5:42\n",
    "\n",
    "KEY idea: use stack, greedy, when ecncounter a decreasing number, pop the stack and replace\n",
    "\n",
    "1 4 3 2 2 1 9:  \n",
    "1  \n",
    "1 4  \n",
    "1 4 3  \n",
    "Note: 4 >3 ,so replace 4 to 3   \n",
    "1 3  \n",
    "1 3 2  \n",
    "Note 3 > 2, replace 3 to 2  \n",
    "1 2 2  \n",
    "1 2 2 1  \n",
    "Note 2 >1, replace 2 to 1  \n",
    "1 2 1 9  "
   ]
  },
  {
   "cell_type": "code",
   "execution_count": 58,
   "id": "swiss-confidence",
   "metadata": {},
   "outputs": [],
   "source": [
    "num = \"1432219\";k = 3\n",
    "# num = \"10200\";k = 1\n",
    "# num = \"10001\";k = 4\n",
    "# num = \"4321\"; k = 2"
   ]
  },
  {
   "cell_type": "code",
   "execution_count": 59,
   "id": "peripheral-bloom",
   "metadata": {
    "code_folding": [
     0
    ]
   },
   "outputs": [],
   "source": [
    "def removeKdigits_brute(num, k):\n",
    "    # Brute Force, doable, time expire\n",
    "    # O(n*k)\n",
    "    if k >= len(num):\n",
    "        return \"0\"\n",
    "    \n",
    "    while k > 0:\n",
    "        tmp_min = float('inf')\n",
    "        for i in range(len(num)):\n",
    "            curr = num[:i] + num[i+1 :]\n",
    "            if curr == '':\n",
    "                return \"0\"\n",
    "            else:\n",
    "                curr = int(curr)\n",
    "            if curr < tmp_min:\n",
    "                tmp_min = curr\n",
    "        num = str(tmp_min)\n",
    "        k -=1 \n",
    "    print(num)\n",
    "    "
   ]
  },
  {
   "cell_type": "code",
   "execution_count": 62,
   "id": "coral-phase",
   "metadata": {},
   "outputs": [],
   "source": [
    "def removeKdigits(num, k):\n",
    "    if k >= len(num):\n",
    "        return '0'\n",
    "    stack = []\n",
    "    for n in num:\n",
    "        # KEY, this while implement algo,\n",
    "        # 1, if stack not empty\n",
    "        # 2, if the last element in stack(previous stored) > n\n",
    "        # means find the decreasing element, need to replace(first pop, then append)\n",
    "        # 3, if k > 0\n",
    "        stack = []\n",
    "        \n",
    "        for n in num:\n",
    "            while(stack and int(stack[-1]) > int(n) and k):\n",
    "                # each find an decreasing element need to replace\n",
    "                stack.pop()\n",
    "                k -=1\n",
    "            stack.append(n)\n",
    "        \n",
    "        # If no elements are removed, pop last elements, (increasing order)\n",
    "        while k:\n",
    "            stack.pop()\n",
    "            k-=1\n",
    "        \n",
    "        # remove leading zeros\n",
    "        i = 0\n",
    "        while i < len(stack) and stack[i]=='0':\n",
    "            i +=1\n",
    "            \n",
    "        return ''.join(stack[i:]) if (len(stack[i:]) > 0) else \"0\" \n",
    "        \n",
    "\n",
    "    "
   ]
  },
  {
   "cell_type": "code",
   "execution_count": 63,
   "id": "scientific-lafayette",
   "metadata": {},
   "outputs": [
    {
     "data": {
      "text/plain": [
       "'1219'"
      ]
     },
     "execution_count": 63,
     "metadata": {},
     "output_type": "execute_result"
    }
   ],
   "source": [
    "removeKdigits(num, k)"
   ]
  },
  {
   "cell_type": "markdown",
   "id": "valued-hawaiian",
   "metadata": {},
   "source": [
    "idea: each round try each digit, than compare, than store it to next round.\n",
    "than move on to next ditgit"
   ]
  },
  {
   "cell_type": "code",
   "execution_count": 54,
   "id": "several-playback",
   "metadata": {},
   "outputs": [
    {
     "data": {
      "text/plain": [
       "'21'"
      ]
     },
     "execution_count": 54,
     "metadata": {},
     "output_type": "execute_result"
    }
   ],
   "source": [
    "''.join(stack)"
   ]
  },
  {
   "cell_type": "code",
   "execution_count": 28,
   "id": "capable-herald",
   "metadata": {},
   "outputs": [
    {
     "name": "stdout",
     "output_type": "stream",
     "text": [
      "True\n"
     ]
    }
   ],
   "source": [
    "num = \"1\"\n",
    "for i in range(len(num)):\n",
    "    curr = num[:i] + num[i+1:] \n",
    "    print(curr == '')"
   ]
  },
  {
   "attachments": {
    "image.png": {
     "image/png": "[encoded data removed]"
    }
   },
   "cell_type": "markdown",
   "id": "looking-founder",
   "metadata": {},
   "source": [
    "# <a href='https://www.youtube.com/watch?v=3ZDZ-N0EPV0&ab_channel=TusharRoy-CodingMadeSimple'> 44,  Wildcard Matching</a>  \n",
    "![image.png](attachment:image.png)"
   ]
  },
  {
   "cell_type": "markdown",
   "id": "hidden-technique",
   "metadata": {},
   "source": [
    "Recursive, i --> index in string, j --> index in pattern\n",
    "i,j \n",
    "if p[j] == '*'\n"
   ]
  },
  {
   "cell_type": "markdown",
   "id": "whole-library",
   "metadata": {},
   "source": [
    "dp[i][j] 表示 在s[:i] 裡面的字串有沒有 符合 p[:j] 的pattern  \n",
    "<br>\n",
    "\n",
    "    dp[i][j] == 1, dp[i-1][j-1] if s[i] == p[j] or p[j] =='?'\n",
    "                2, dp[i-1][j] or dp[i][j-1] of p[j] == '*'\n",
    "                3, else false\n",
    "\n",
    "First case --> if p[j] = '?', 表示下一個s的下一個是誰都可以, 所以T[i-1][j-1]\n",
    "\n",
    "Second case --> if p[j] = '*', dp[i][j-1] 這裡的 * 是對應到 0 sequence string, dp[i-1][j] 這裡的 * 是對應 s[i]  \n",
    "KEY: 現在是以DP來思考, 只要看前一步\n",
    "\n",
    "else dp[i][j] == False"
   ]
  },
  {
   "cell_type": "code",
   "execution_count": 62,
   "id": "brief-deposit",
   "metadata": {},
   "outputs": [],
   "source": [
    "s = \"xaylmsadfz\"; p = \"x?y*z\""
   ]
  },
  {
   "cell_type": "code",
   "execution_count": 63,
   "id": "applicable-pressing",
   "metadata": {},
   "outputs": [],
   "source": [
    "def isMatch(s, p):\n",
    "    p_len = len(p)\n",
    "    s_len = len(s)\n",
    "    dp = [[False] * (p_len+1) for _ in range(s_len+1)]\n",
    "    \n",
    "    # Handle base case\n",
    "    dp[0][0] = True # empty patter match empty string so true\n",
    "    \n",
    "    # Empty string  match all pattern\n",
    "    for i in range(1, p_len+1):\n",
    "        dp[0][i]= dp[0][i-1] if p[i-1] == '*' else False\n",
    "#         print(i, p[i-1])\n",
    "    \n",
    "    # Empty pattern match string\n",
    "    for i in range(1, s_len+1):\n",
    "        dp[i][0] = False\n",
    "        \n",
    "#     for l in dp:\n",
    "#         print(l)\n",
    "    for i in range(1, s_len +1):\n",
    "        for j in range(1, p_len+1):\n",
    "            # since our matrix has extra row/col,\n",
    "            # the i,j index won't match original index\n",
    "            p_index = j-1\n",
    "            s_index = i-1\n",
    "            if p[p_index] == '?' or p[p_index] == s[s_index]:\n",
    "                dp[i][j] = dp[i-1][j-1]\n",
    "            elif p[p_index] =='*':\n",
    "                dp[i][j] = dp[i-1][j] or dp[i][j-1]\n",
    "            else:\n",
    "                dp[i][j] = False\n",
    "                \n",
    "    for l in dp:\n",
    "        print(l)\n",
    "        \n",
    "    return dp[-1][-1]\n",
    "                \n",
    "            \n",
    "    \n",
    "\n",
    "    "
   ]
  },
  {
   "cell_type": "code",
   "execution_count": 64,
   "id": "characteristic-pontiac",
   "metadata": {},
   "outputs": [
    {
     "name": "stdout",
     "output_type": "stream",
     "text": [
      "[True, False, False, False, False, False]\n",
      "[False, True, False, False, False, False]\n",
      "[False, False, True, False, False, False]\n",
      "[False, False, False, True, True, False]\n",
      "[False, False, False, False, True, False]\n",
      "[False, False, False, False, True, False]\n",
      "[False, False, False, False, True, False]\n",
      "[False, False, False, False, True, False]\n",
      "[False, False, False, False, True, False]\n",
      "[False, False, False, False, True, False]\n",
      "[False, False, False, False, True, True]\n"
     ]
    },
    {
     "data": {
      "text/plain": [
       "True"
      ]
     },
     "execution_count": 64,
     "metadata": {},
     "output_type": "execute_result"
    }
   ],
   "source": [
    "isMatch(s,p)"
   ]
  },
  {
   "cell_type": "markdown",
   "id": "dated-building",
   "metadata": {},
   "source": [
    "# 10 Regular Expression Matching"
   ]
  },
  {
   "cell_type": "code",
   "execution_count": 118,
   "id": "substantial-teach",
   "metadata": {},
   "outputs": [],
   "source": [
    "def isMatch(s, p):\n",
    "    \n",
    "    p_len = len(p)\n",
    "    s_len = len(s)\n",
    "    dp = [[False] * (p_len+1) for _ in range(s_len+1)]\n",
    "    \n",
    "    # Handle base case\n",
    "    dp[0][0] = True # empty patter match empty string so true\n",
    "#     for l in dp:\n",
    "#         print(l)\n",
    "    # Empty string  match all pattern\n",
    "    for i in range(1, p_len+1):\n",
    "#         print(dp[0][i])\n",
    "#         print(p[i-1])\n",
    "        if p[i-1] =='*':\n",
    "            dp[0][i] = dp[0][i-2]\n",
    "#             print('sdf')\n",
    "#     for l in dp:\n",
    "#         print(l)\n",
    "#     Empty pattern match string\n",
    "    for i in range(1, s_len+1):\n",
    "        dp[i][0] = False\n",
    "        \n",
    "\n",
    "    for i in range(1, s_len +1):\n",
    "        for j in range(1, p_len+1):\n",
    "            # since our matrix has extra row/col,\n",
    "            # the i,j index won't match original index\n",
    "            p_index = j-1\n",
    "            s_index = i-1\n",
    "            if p[p_index] == '.' or p[p_index] == s[s_index]:\n",
    "                dp[i][j] = dp[i-1][j-1]\n",
    "            elif p[p_index] =='*':\n",
    "                tmp = False\n",
    "                # dp[i-1][j] 表示 可以抵銷掉一個 string 的 bit\n",
    "                # dp[i][j-2] 則表示 這個* 根本沒有抵銷到 string bit, key 也要掠過前一個 pattern bit\n",
    "                # 要可以抵銷一個string bit  就要看 * 前一個 是不適跟 string bit依樣\n",
    "                if p[p_index -1] == s[s_index] or p[p_index -1 ]=='.':\n",
    "                    tmp = dp[i-1][j]\n",
    "                dp[i][j] = tmp or dp[i][j-2]\n",
    "            else:\n",
    "                dp[i][j] = False\n",
    "                \n",
    "    for l in dp:\n",
    "        print(l)\n",
    "        \n",
    "    return dp[-1][-1]\n",
    "                \n",
    "    "
   ]
  },
  {
   "cell_type": "code",
   "execution_count": 119,
   "id": "compatible-recipe",
   "metadata": {},
   "outputs": [],
   "source": [
    "# s = \"xaylmz\"; p = \"x.y*z\"\n",
    "# s = \"xayyz\"; p = \"x.y*z\"\n",
    "s= \"mississippi\"; p = \"mis*is*p*.\"\n",
    "# s = 'aab'; p = 'c*a*b'\n",
    "# s = 'aaa'; p = 'ab*ac*a'\n",
    "\n"
   ]
  },
  {
   "cell_type": "code",
   "execution_count": 120,
   "id": "confident-background",
   "metadata": {},
   "outputs": [
    {
     "name": "stdout",
     "output_type": "stream",
     "text": [
      "[True, False, False, False, False, False, False, False, False, False, False]\n",
      "[False, True, False, False, False, False, False, False, False, False, False]\n",
      "[False, False, True, False, True, False, False, False, False, False, False]\n",
      "[False, False, False, True, True, False, False, False, False, False, False]\n",
      "[False, False, False, False, True, False, False, False, False, False, False]\n",
      "[False, False, False, False, False, True, False, True, False, True, False]\n",
      "[False, False, False, False, False, False, True, True, False, True, True]\n",
      "[False, False, False, False, False, False, False, True, False, True, True]\n",
      "[False, False, False, False, False, False, False, False, False, False, True]\n",
      "[False, False, False, False, False, False, False, False, False, False, False]\n",
      "[False, False, False, False, False, False, False, False, False, False, False]\n",
      "[False, False, False, False, False, False, False, False, False, False, False]\n"
     ]
    },
    {
     "data": {
      "text/plain": [
       "False"
      ]
     },
     "execution_count": 120,
     "metadata": {},
     "output_type": "execute_result"
    }
   ],
   "source": [
    "isMatch(s, p)"
   ]
  },
  {
   "cell_type": "markdown",
   "id": "meaningful-exhibition",
   "metadata": {},
   "source": [
    "# 1305. All Elements in Two Binary Search Trees\n"
   ]
  },
  {
   "cell_type": "code",
   "execution_count": null,
   "id": "demonstrated-jurisdiction",
   "metadata": {},
   "outputs": [],
   "source": [
    "def getAllElements(root1, root2):\n",
    "    l1,l2 = [], []\n",
    "    res = []\n",
    "    def dfs(node, tree):\n",
    "        if node:\n",
    "            dfs(node.left,tree)\n",
    "            # print(node.val)\n",
    "            if tree == 1:\n",
    "                l1.append(node.val)\n",
    "            else:\n",
    "                l2.append(node.val)\n",
    "            dfs(node.right,tree)\n",
    "\n",
    "    dfs(root1,1)\n",
    "    dfs(root2,2)\n",
    "\n",
    "    while l1 or l2:\n",
    "        if not l1:\n",
    "            res.append(l2.pop(0))\n",
    "        elif not l2:\n",
    "            res.append(l1.pop(0))\n",
    "        else:\n",
    "            res.append(l1.pop(0) if l2[0]>l1[0] else l2.pop(0))\n",
    "    return res\n",
    "\n"
   ]
  },
  {
   "cell_type": "code",
   "execution_count": null,
   "id": "coupled-process",
   "metadata": {},
   "outputs": [],
   "source": [
    "def getAllElements(root1, root2):\n",
    "    l = []\n",
    "    def dfs(node):\n",
    "        if node:\n",
    "            dfs(node.left)\n",
    "            # print(node.val)\n",
    "            l.append(node.val)\n",
    "            dfs(node.right)\n",
    "\n",
    "    dfs(root1)\n",
    "    dfs(root2)\n",
    "\n",
    "    return sorted(l)"
   ]
  },
  {
   "cell_type": "code",
   "execution_count": null,
   "id": "portable-alias",
   "metadata": {},
   "outputs": [],
   "source": []
  },
  {
   "cell_type": "markdown",
   "id": "handmade-edinburgh",
   "metadata": {},
   "source": [
    "# 1464 Maximum Product of Two Elements in an Array"
   ]
  },
  {
   "cell_type": "code",
   "execution_count": 20,
   "id": "moving-motel",
   "metadata": {},
   "outputs": [],
   "source": [
    "# nums = [3,4,5,2,5]\n",
    "nums = [1,1]"
   ]
  },
  {
   "cell_type": "code",
   "execution_count": 21,
   "id": "smoking-alignment",
   "metadata": {},
   "outputs": [],
   "source": [
    "def maxProduct(nums):\n",
    "    f_max = max(nums)\n",
    "    f_index = nums.index(f_max)\n",
    "    print(f_max)\n",
    "    print(f_index)\n",
    "    s_max = max(nums[:f_index] + nums[f_index+1:])\n",
    "    print(s_max)\n",
    "    return (f_max -1) * (s_max-1)"
   ]
  },
  {
   "cell_type": "code",
   "execution_count": 22,
   "id": "brave-cooler",
   "metadata": {},
   "outputs": [
    {
     "name": "stdout",
     "output_type": "stream",
     "text": [
      "1\n",
      "0\n",
      "1\n"
     ]
    },
    {
     "data": {
      "text/plain": [
       "0"
      ]
     },
     "execution_count": 22,
     "metadata": {},
     "output_type": "execute_result"
    }
   ],
   "source": [
    "maxProduct(nums)"
   ]
  },
  {
   "cell_type": "markdown",
   "id": "pharmaceutical-matter",
   "metadata": {},
   "source": [
    "# <a href='https://leetcode.com/problems/palindrome-linked-list/discuss/64500/11-lines-12-with-restore-O(n)-time-O(1)-space'>234. Palindrome Linked List</a>\n"
   ]
  },
  {
   "cell_type": "code",
   "execution_count": 23,
   "id": "exterior-banana",
   "metadata": {},
   "outputs": [],
   "source": [
    "class ListNode:\n",
    "    def __init__(self, val=0, next=None):\n",
    "        self.val = val\n",
    "        self.next = next\n"
   ]
  },
  {
   "cell_type": "code",
   "execution_count": 143,
   "id": "rolled-nomination",
   "metadata": {},
   "outputs": [],
   "source": [
    "head = ListNode(1, ListNode(2,ListNode(3,ListNode(1))))"
   ]
  },
  {
   "cell_type": "code",
   "execution_count": 144,
   "id": "anticipated-novel",
   "metadata": {},
   "outputs": [],
   "source": [
    "def isPalindrome(head):\n",
    "    # how to store the last element\n",
    "    # NOTE: KEY, since fast pointer is twice as faster as sloe\n",
    "    # when fast pointer reach end means, slow is at the middle\n",
    "    \n",
    "    # rev records the first half, need to set the same structure as fast, slow, hence later we have rev.next\n",
    "    rev = None\n",
    "    slow = fast = head\n",
    "    \n",
    "    while fast and fast.next:\n",
    "        # KEY, 這樣的設計, when break if fast  is not None, means only odds number element\n",
    "        # if even number , fast will be None\n",
    "        fast = fast.next.next\n",
    "        # 到最後 rev 會是 revers_list 的 head \n",
    "        rev, rev.next, slow = slow, rev, slow.next\n",
    "\n",
    "    # means odd number element list\n",
    "    if fast:\n",
    "        slow = slow.next\n",
    "        \n",
    "    # key need to pay attention when one of them become null \n",
    "    while rev and slow.val == rev.val:\n",
    "        slow = slow.next\n",
    "        rev = rev.next\n",
    "        \n",
    "    # if equivalent then rev become None, return True; otherwise return False \n",
    "    return not rev\n",
    "\n",
    "        \n",
    "        "
   ]
  },
  {
   "cell_type": "code",
   "execution_count": 145,
   "id": "classified-coral",
   "metadata": {
    "code_folding": [
     0
    ]
   },
   "outputs": [],
   "source": [
    "def isPalindrome_list(head):\n",
    "    # Use list (May not legal)\n",
    "    e_list = []\n",
    "    while head:\n",
    "        e_list.append(head.val)\n",
    "        head = head.next\n",
    "    print(e_list)\n",
    "    r_list = list(reversed(e_list)) \n",
    "    print(r_list)\n",
    "    \n",
    "    return e_list == r_list\n",
    "    \n",
    "\n",
    "    "
   ]
  },
  {
   "cell_type": "code",
   "execution_count": 146,
   "id": "protective-university",
   "metadata": {},
   "outputs": [
    {
     "name": "stdout",
     "output_type": "stream",
     "text": [
      "1\n"
     ]
    },
    {
     "data": {
      "text/plain": [
       "False"
      ]
     },
     "execution_count": 146,
     "metadata": {},
     "output_type": "execute_result"
    }
   ],
   "source": [
    "isPalindrome(head)"
   ]
  },
  {
   "cell_type": "markdown",
   "id": "entertaining-forth",
   "metadata": {},
   "source": [
    "# <a href='https://www.https//media.geeksforgeeks.org/wp-content/cdn-uploads/RGIF2.gifyoutube.com/watch?v=3wa9fa4IhOU&ab_channel=%E5%82%85%E7%A0%81%E7%88%B7'>143. Reorder List</a>\n",
    "KEY 解題邏輯:  \n",
    "1, 找到中間點  \n",
    "2, 找到中間點後, 將list 分成兩部分, 將後半部分的linked list reverse  \n",
    "3, 將前半部分的list 跟 反轉的list merge  \n",
    "\n"
   ]
  },
  {
   "cell_type": "markdown",
   "id": "middle-textbook",
   "metadata": {},
   "source": [
    "## reverse linked_list:\n",
    "![Alt Text](https://media.geeksforgeeks.org/wp-content/cdn-uploads/RGIF2.gif)"
   ]
  },
  {
   "cell_type": "code",
   "execution_count": 251,
   "id": "metallic-protest",
   "metadata": {},
   "outputs": [],
   "source": [
    "def reverse_list(head):\n",
    "    prev_node = None\n",
    "    while head:\n",
    "        nxt = head.next\n",
    "        head.next = prev_node\n",
    "        prev_node = head\n",
    "        head = nxt\n",
    "    return prev_node\n",
    "\n",
    "head = ListNode(1, ListNode(2,ListNode(3,ListNode(4,ListNode(5)))))\n",
    "l = reverse_list(head)\n",
    "while l:\n",
    "    print(l.val)\n",
    "    l = l.next"
   ]
  },
  {
   "cell_type": "markdown",
   "id": "dress-alpha",
   "metadata": {},
   "source": [
    "## Alternative_Merge_lists"
   ]
  },
  {
   "cell_type": "code",
   "execution_count": 285,
   "id": "tender-organ",
   "metadata": {},
   "outputs": [],
   "source": [
    "def cross_merge_two_list(head1, head2):\n",
    "    # head2 must shorter\n",
    "    dummy = head1\n",
    "    while head2 and head1:\n",
    "        # store the head2.next\n",
    "        tmp = head2.next\n",
    "        # 注意, 最後head2 會是 tmp, 所以需要地方存原本的 head1\n",
    "        head2.next = head1.next\n",
    "        # linke the other\n",
    "        head1.next = head2\n",
    "        head1 = head1.next.next\n",
    "        # 注意, 最後head2 會是 tmp\n",
    "        head2 = tmp\n",
    "\n",
    "    return dummy, head2\n",
    "    "
   ]
  },
  {
   "cell_type": "code",
   "execution_count": 287,
   "id": "contrary-adobe",
   "metadata": {},
   "outputs": [
    {
     "name": "stdout",
     "output_type": "stream",
     "text": [
      "1\n",
      "6\n",
      "2\n",
      "5\n",
      "*\n",
      "4\n",
      "3\n"
     ]
    }
   ],
   "source": [
    "head2 = ListNode(6, ListNode(5,ListNode(4,ListNode(3))))\n",
    "head1 = ListNode(1, ListNode(2))\n",
    "l, remaining = cross_merge_two_list(head1, head2)\n",
    "while l:\n",
    "    print(l.val)\n",
    "    l = l.next\n",
    "\n",
    "print('*')\n",
    "while remaining:\n",
    "    print(remaining.val)\n",
    "    remaining = remaining.next\n"
   ]
  },
  {
   "cell_type": "code",
   "execution_count": 272,
   "id": "historical-corpus",
   "metadata": {
    "code_folding": []
   },
   "outputs": [],
   "source": [
    "def reorderList(head):\n",
    "    if not head:\n",
    "        return\n",
    "    ## Find the middle point\n",
    "    fast ,slow = head.next ,head\n",
    "    while fast and fast.next:\n",
    "        fast = fast.next.next\n",
    "        slow = slow.next\n",
    "        \n",
    "    ## reverse second half\n",
    "    #  print(slow.val)\n",
    "    p = slow.next\n",
    "    # 切斷原本的linked list\n",
    "    # KEY 要切斷, 不然會有loop\n",
    "\n",
    "    slow.next = None\n",
    "    prev_node = None \n",
    "    \n",
    "    while p:\n",
    "        #先記錄下原本的 next\n",
    "        nxt = p.next\n",
    "        # 把原本往後的往前指\n",
    "        p.next = prev_node\n",
    "        # 更新prev_node(往右走) \n",
    "        prev_node = p\n",
    "        # 更新 p\n",
    "        p = nxt\n",
    "    # KEY, now p is None, and prev_node is the head of reversed list\n",
    "    \n",
    "    ## Merge the head part and prev_node part\n",
    "    while prev_node:\n",
    "        # 先將prev_node.next 存起來\n",
    "        tmp = prev_node.next\n",
    "        prev_node.next = head.next\n",
    "        # 連起head的下一個要是 reverse\n",
    "        head.next = prev_node\n",
    "        head = head.next.next # 往後走兩格, 代表已經做完\n",
    "        prev_node = tmp\n",
    "        \n",
    "\n",
    "    \n"
   ]
  },
  {
   "cell_type": "code",
   "execution_count": 273,
   "id": "scientific-hours",
   "metadata": {},
   "outputs": [],
   "source": [
    "head = ListNode(1, ListNode(2,ListNode(3,ListNode(4,ListNode(5)))))"
   ]
  },
  {
   "cell_type": "markdown",
   "id": "incomplete-fence",
   "metadata": {},
   "source": [
    "# 392 Is Subsequence"
   ]
  },
  {
   "cell_type": "code",
   "execution_count": 27,
   "id": "clean-extraction",
   "metadata": {},
   "outputs": [],
   "source": [
    "# s= \"abc\"; t=\"ahbgdc\"\n",
    "\n",
    "# s= \"acb\"; t=\"ahbgdc\"\n",
    "# s= \"aaaaaa\"; t =\"bbaaaa\"\n",
    "\n",
    "# s = 'b'; t='abc'\n",
    "s= \"twn\"; t= \"xxxxxxxxxxxxxxxxxxxxxxxxxxxxxxtxxxxxxxxxxxxxxxxxxxxwxxxxxxxxxxxxxxxxxxxxxxxxxn\""
   ]
  },
  {
   "cell_type": "code",
   "execution_count": 28,
   "id": "elder-majority",
   "metadata": {},
   "outputs": [
    {
     "data": {
      "text/plain": [
       "False"
      ]
     },
     "execution_count": 28,
     "metadata": {},
     "output_type": "execute_result"
    }
   ],
   "source": [
    "s in t"
   ]
  },
  {
   "cell_type": "code",
   "execution_count": 29,
   "id": "divine-circumstances",
   "metadata": {},
   "outputs": [],
   "source": [
    "def isSubsequence(s, t):\n",
    "    if not s or s in t:\n",
    "        return True\n",
    "    if s[0] not in t:\n",
    "        return False\n",
    "    \n",
    "    idx = 0\n",
    "    \n",
    "    for char in s:\n",
    "        print(char, t[idx:])\n",
    "        if char in t[idx:]:\n",
    "            idx += t[idx:].index(char)+1\n",
    "        else:\n",
    "            return False\n",
    "    return True\n",
    "            \n",
    "        \n",
    "\n",
    "        \n",
    "    \n",
    "    \n",
    "        "
   ]
  },
  {
   "cell_type": "code",
   "execution_count": 30,
   "id": "happy-suspension",
   "metadata": {},
   "outputs": [
    {
     "name": "stdout",
     "output_type": "stream",
     "text": [
      "t xxxxxxxxxxxxxxxxxxxxxxxxxxxxxxtxxxxxxxxxxxxxxxxxxxxwxxxxxxxxxxxxxxxxxxxxxxxxxn\n",
      "w xxxxxxxxxxxxxxxxxxxxwxxxxxxxxxxxxxxxxxxxxxxxxxn\n",
      "n xxxxxxxxxxxxxxxxxxxxxxxxxn\n"
     ]
    },
    {
     "data": {
      "text/plain": [
       "True"
      ]
     },
     "execution_count": 30,
     "metadata": {},
     "output_type": "execute_result"
    }
   ],
   "source": [
    "isSubsequence(s,t)"
   ]
  },
  {
   "cell_type": "code",
   "execution_count": 388,
   "id": "amateur-venice",
   "metadata": {},
   "outputs": [
    {
     "data": {
      "text/plain": [
       "False"
      ]
     },
     "execution_count": 388,
     "metadata": {},
     "output_type": "execute_result"
    }
   ],
   "source": [
    "'b' in 'sdfg'[5:]"
   ]
  },
  {
   "cell_type": "markdown",
   "id": "announced-sandwich",
   "metadata": {},
   "source": [
    "# 746. Min Cost Climbing Stairs"
   ]
  },
  {
   "cell_type": "code",
   "execution_count": 44,
   "id": "continuous-basement",
   "metadata": {},
   "outputs": [],
   "source": [
    "# cost = [1,100,1,1,1,100,1,1,100,1]\n",
    "cost = [10,15,20]"
   ]
  },
  {
   "cell_type": "code",
   "execution_count": 45,
   "id": "viral-arctic",
   "metadata": {},
   "outputs": [],
   "source": [
    "def minCostClimbingStairs(cost):\n",
    "    dp = [cost[i] for i in range(len(cost))]\n",
    "    dp[0] = cost[0]\n",
    "    dp[1] = cost[1]\n",
    "    \n",
    "    for i in range(2, len(cost)):\n",
    "        dp[i] += min(dp[i-1], dp[i-2])\n",
    "    \n",
    "    print(min(dp[-1], dp[-2]))\n",
    "    return dp"
   ]
  },
  {
   "cell_type": "code",
   "execution_count": 46,
   "id": "inappropriate-treasury",
   "metadata": {},
   "outputs": [
    {
     "name": "stdout",
     "output_type": "stream",
     "text": [
      "15\n"
     ]
    },
    {
     "data": {
      "text/plain": [
       "[10, 15, 30]"
      ]
     },
     "execution_count": 46,
     "metadata": {},
     "output_type": "execute_result"
    }
   ],
   "source": [
    "minCostClimbingStairs(cost)"
   ]
  },
  {
   "cell_type": "markdown",
   "id": "alternative-engineering",
   "metadata": {},
   "source": [
    "# 148 Sort list\n",
    "**KEY NOTE: 解題方法**  \n",
    "先找到list的中間點, 分為前半跟後半段,  然後recursive 對前進行 sortlist, \n",
    "split 到最後再 對每個 element merge, 最後會取的兩個 sorted的list, 最後在merge two sorted list\n",
    "Ex, -1,5,3,4,0\n",
    "head = -1,5\n",
    "slow = 3,4,0\n",
    "m(split(head), split(slow))\n",
    "1:\n",
    "split(head);\n",
    "head = -1\n",
    "slow = 5\n",
    "<!-- -1 跟 5進去後會回傳 base case, merge -1 跟 5 -->\n",
    "m(split(head), split(slow))\n",
    "return -1,5\n",
    "\n",
    "2:\n",
    "split(slow);\n",
    "head = 3\n",
    "slow = 4,0\n",
    "m(split(head), split(slow))\n",
    "\n",
    "2-1:\n",
    "split(head) ==>3\n",
    "\n",
    "split(slow):\n",
    "head = 4\n",
    "slow = 0\n",
    "m(split(head), split(slow))\n",
    "return 0,4\n",
    "\n",
    "2-2\n",
    "m(3, 0,4)\n",
    "return 0,3,4\n",
    "\n",
    "\n",
    "\n",
    "\n"
   ]
  },
  {
   "cell_type": "code",
   "execution_count": 1,
   "id": "naughty-roulette",
   "metadata": {},
   "outputs": [],
   "source": [
    "class ListNode:\n",
    "    def __init__(self, val=0, next=None):\n",
    "        self.val = val\n",
    "        self.next = next"
   ]
  },
  {
   "cell_type": "code",
   "execution_count": 83,
   "id": "applied-stocks",
   "metadata": {},
   "outputs": [],
   "source": [
    "head = ListNode(-1, ListNode(5,ListNode(3,ListNode(4,ListNode(0)))))\n"
   ]
  },
  {
   "cell_type": "code",
   "execution_count": 84,
   "id": "shaped-toddler",
   "metadata": {},
   "outputs": [],
   "source": [
    "def sortList(head):\n",
    "\n",
    "    def split_merge(head):\n",
    "        if not head or not head.next:\n",
    "            return head\n",
    "        \n",
    "        p, fast, slow = None, head, head\n",
    "        while fast and fast.next:\n",
    "            p = slow\n",
    "            fast = fast.next.next\n",
    "            slow = slow.next\n",
    "        # p is one node before mid point\n",
    "        # Need to cut the linked list\n",
    "        p.next = None\n",
    "        \n",
    "#         print(head.val)\n",
    "#         print(slow.val)\n",
    "#         print('**')\n",
    "        return merge(split_merge(head), split_merge(slow))\n",
    "        \n",
    "    def merge(h1, h2):\n",
    "        dummy = ListNode(0)\n",
    "        curr = dummy\n",
    "        while h1 and h2:\n",
    "            if h1.val < h2.val:\n",
    "                curr.next = h1\n",
    "                h1 = h1.next\n",
    "            else:\n",
    "                curr.next = h2\n",
    "                h2 = h2.next\n",
    "            curr = curr.next\n",
    "        curr.next = h1 or h2\n",
    "        return dummy.next\n",
    "    \n",
    "    return split_merge(head)"
   ]
  },
  {
   "cell_type": "code",
   "execution_count": 85,
   "id": "turkish-mississippi",
   "metadata": {},
   "outputs": [
    {
     "name": "stdout",
     "output_type": "stream",
     "text": [
      "-1\n",
      "0\n",
      "3\n",
      "4\n",
      "5\n"
     ]
    }
   ],
   "source": [
    "h1 = sortList(head)\n",
    "while h1:\n",
    "    print(h1.val)\n",
    "    h1 = h1.next\n"
   ]
  },
  {
   "cell_type": "code",
   "execution_count": null,
   "id": "geological-liberia",
   "metadata": {
    "code_folding": [
     0
    ]
   },
   "outputs": [],
   "source": [
    "def sortList_List(head):\n",
    "    l = []\n",
    "\n",
    "    while head:\n",
    "        l.append(head.val)\n",
    "        head = head.next\n",
    "\n",
    "    l = sorted(l)\n",
    "    print(l)\n",
    "\n",
    "    dummy = node = ListNode(0)\n",
    "    for i in range(len(l)):\n",
    "        # print(l[i])\n",
    "        node.next = ListNode(l[i])\n",
    "        node = node.next\n",
    "\n",
    "    return dummy.next"
   ]
  },
  {
   "cell_type": "markdown",
   "id": "heated-score",
   "metadata": {},
   "source": [
    "# <a hraf='https://leetcode.com/problems/rotate-list/discuss/348197/96-faster-Simple-python-solution-with-explanation'>61. Rotate List</a>\n"
   ]
  },
  {
   "cell_type": "code",
   "execution_count": 190,
   "id": "supreme-account",
   "metadata": {},
   "outputs": [],
   "source": [
    "def rotateRight(head, k):\n",
    "    if k ==0:\n",
    "        return head\n",
    "    curr = head\n",
    "    count = 0\n",
    "    while curr and curr.next:\n",
    "        count +=1\n",
    "        curr = curr.next\n",
    "    curr.next = head\n",
    "    length = count +1\n",
    "#     count +=1\n",
    "    k = k % length\n",
    "    \n",
    "    print('step',length - k -1)\n",
    "    for _ in range(length - k -1):\n",
    "        head = head.next\n",
    "    p = head.next\n",
    "    head.next = None\n",
    "    return p\n",
    "    \n",
    "    \n"
   ]
  },
  {
   "cell_type": "code",
   "execution_count": 192,
   "id": "twenty-scholarship",
   "metadata": {},
   "outputs": [
    {
     "name": "stdout",
     "output_type": "stream",
     "text": [
      "step 2\n",
      "0\n",
      "1\n",
      "2\n"
     ]
    }
   ],
   "source": [
    "# head = ListNode(1, ListNode(2,ListNode(3,ListNode(4,ListNode(5)))))\n",
    "head = ListNode(0, ListNode(1,ListNode(2)))\n",
    "h1 = rotateRight(head,3)\n",
    "while h1:\n",
    "    print(h1.val)\n",
    "    h1 = h1.next"
   ]
  },
  {
   "cell_type": "markdown",
   "id": "accepting-tomato",
   "metadata": {},
   "source": [
    "# 86. Partition List\n",
    "**解題邏輯**  \n",
    "\n",
    "當遇到每個node, 判斷有沒有大於 x, 若是小於x, 擇要記錄當前位置, 並且等之後有遇到小於x的node要將其接起來"
   ]
  },
  {
   "cell_type": "code",
   "execution_count": 214,
   "id": "suburban-gentleman",
   "metadata": {},
   "outputs": [],
   "source": [
    "def partition(head, x):\n",
    "    dummy = ListNode(0)\n",
    "    prev = left = dummy \n",
    "    dummy.next = curr = head\n",
    "    while curr:\n",
    "        # KEY if left == prev,11:10,代表只要單純移動curr跟 prev\n",
    "        # 不用作插入node的動作\n",
    "        if prev == left:\n",
    "            if curr.val < x:\n",
    "                left = left.next\n",
    "            prev = curr\n",
    "            curr = curr.next\n",
    "        else:\n",
    "            if curr.val < x:\n",
    "                prev.next = curr.next\n",
    "                curr.next = left.next\n",
    "                left.next = curr\n",
    "                left = left.next\n",
    "                curr = prev.next\n",
    "            else:\n",
    "                prev = curr\n",
    "                curr = curr.next\n",
    "    \n",
    "    return head"
   ]
  },
  {
   "cell_type": "code",
   "execution_count": 215,
   "id": "variable-cattle",
   "metadata": {},
   "outputs": [
    {
     "name": "stdout",
     "output_type": "stream",
     "text": [
      "1\n",
      "2\n",
      "2\n",
      "4\n",
      "3\n",
      "5\n"
     ]
    }
   ],
   "source": [
    "head = ListNode(1, ListNode(2,ListNode(4,ListNode(3,ListNode(2,ListNode(5))))))\n",
    "h1 = partition(head,3)\n",
    "while h1:\n",
    "    print(h1.val)\n",
    "    h1 = h1.next"
   ]
  },
  {
   "cell_type": "markdown",
   "id": "lightweight-stewart",
   "metadata": {},
   "source": [
    "## 147. Insertion Sort List O(n^2)\n",
    "<a href=\"https://leetcode.com/problems/insertion-sort-list/discuss/46432/AC-Python-192ms-solution\">Implementation faster veresion</a>\n"
   ]
  },
  {
   "cell_type": "code",
   "execution_count": 4,
   "id": "arabic-snake",
   "metadata": {},
   "outputs": [],
   "source": [
    "head_test = ListNode(-1)\n"
   ]
  },
  {
   "cell_type": "code",
   "execution_count": 35,
   "id": "perceived-viking",
   "metadata": {},
   "outputs": [],
   "source": [
    "def insertionSortList(head):\n",
    "    if not head:\n",
    "        return \n",
    "    \n",
    "    if not head.next:\n",
    "        return head\n",
    "    \n",
    "    dummy = ListNode(0)\n",
    "    dummy.next = sorted_p = unsorted_prev = head\n",
    "    unsorted_p = head.next\n",
    "    \n",
    "    while unsorted_p:\n",
    "        # each iterate is for another unsorted_p\n",
    "        print('*',unsorted_p.val)\n",
    "        sorted_prev = dummy\n",
    "        sorted_p = dummy.next\n",
    "        while sorted_p != unsorted_p:\n",
    "            print('-',sorted_p.val)\n",
    "            # find the correct position for the unsrted element\n",
    "            if unsorted_p.val >= sorted_p.val and unsorted_p.val < sorted_p.next.val:\n",
    "                tmp = sorted_p.next\n",
    "                unsorted_prev.next = unsorted_p.next\n",
    "                sorted_p.next = unsorted_p\n",
    "                unsorted_p.next = tmp\n",
    "                \n",
    "                unsorted_p = unsorted_prev.next\n",
    "                break\n",
    "\n",
    "            elif unsorted_p.val < sorted_p.val:\n",
    "                unsorted_prev.next = unsorted_p.next\n",
    "                unsorted_p.next = sorted_p\n",
    "                sorted_prev.next = unsorted_p\n",
    "                \n",
    "                unsorted_p = unsorted_prev.next\n",
    "                break\n",
    "            # mean unsorted >= sorted , also > sorted.next\n",
    "            else:\n",
    "                sorted_prev = sorted_p\n",
    "                sorted_p = sorted_p.next        \n",
    "        if sorted_p == unsorted_p:\n",
    "            unsorted_prev = unsorted_p\n",
    "            unsorted_p = unsorted_p.next\n",
    "            \n",
    "    return dummy.next\n",
    "    \n"
   ]
  },
  {
   "cell_type": "code",
   "execution_count": 37,
   "id": "bigger-pilot",
   "metadata": {},
   "outputs": [
    {
     "name": "stdout",
     "output_type": "stream",
     "text": [
      "* 5\n",
      "- -1\n",
      "* 3\n",
      "- -1\n",
      "* 4\n",
      "- -1\n",
      "- 3\n",
      "* 0\n",
      "- -1\n",
      "* 2\n",
      "- -1\n",
      "- 0\n",
      "-1\n",
      "0\n",
      "2\n",
      "3\n",
      "4\n",
      "5\n"
     ]
    }
   ],
   "source": [
    "head = ListNode(-1, ListNode(5,ListNode(3,ListNode(4,ListNode(0,ListNode(2))))))\n",
    "# head = ListNode(4, ListNode(2,ListNode(1,ListNode(3,ListNode(0,ListNode(2))))))\n",
    "\n",
    "h = insertionSortList(head)\n",
    "while h:\n",
    "    print(h.val)\n",
    "    h = h.next"
   ]
  },
  {
   "cell_type": "code",
   "execution_count": null,
   "id": "contained-belle",
   "metadata": {},
   "outputs": [],
   "source": []
  }
 ],
 "metadata": {
  "kernelspec": {
   "display_name": "Python 3",
   "language": "python",
   "name": "python3"
  },
  "language_info": {
   "codemirror_mode": {
    "name": "ipython",
    "version": 3
   },
   "file_extension": ".py",
   "mimetype": "text/x-python",
   "name": "python",
   "nbconvert_exporter": "python",
   "pygments_lexer": "ipython3",
   "version": "3.8.5"
  },
  "toc": {
   "base_numbering": 1,
   "nav_menu": {},
   "number_sections": true,
   "sideBar": true,
   "skip_h1_title": false,
   "title_cell": "Table of Contents",
   "title_sidebar": "Contents",
   "toc_cell": false,
   "toc_position": {
    "height": "calc(100% - 180px)",
    "left": "10px",
    "top": "150px",
    "width": "191.587px"
   },
   "toc_section_display": true,
   "toc_window_display": false
  },
  "varInspector": {
   "cols": {
    "lenName": 16,
    "lenType": 16,
    "lenVar": 40
   },
   "kernels_config": {
    "python": {
     "delete_cmd_postfix": "",
     "delete_cmd_prefix": "del ",
     "library": "var_list.py",
     "varRefreshCmd": "print(var_dic_list())"
    },
    "r": {
     "delete_cmd_postfix": ") ",
     "delete_cmd_prefix": "rm(",
     "library": "var_list.r",
     "varRefreshCmd": "cat(var_dic_list()) "
    }
   },
   "types_to_exclude": [
    "module",
    "function",
    "builtin_function_or_method",
    "instance",
    "_Feature"
   ],
   "window_display": false
  }
 },
 "nbformat": 4,
 "nbformat_minor": 5
}
