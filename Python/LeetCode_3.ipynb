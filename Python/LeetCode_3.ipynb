{
 "cells": [
  {
   "cell_type": "markdown",
   "id": "dominican-consultation",
   "metadata": {},
   "source": [
    "# 155. Min Stack\n",
    "Design a stack that supports push, pop, top, and retrieving the minimum element in constant time.\n",
    "\n",
    "Implement the MinStack class:\n",
    "\n",
    "    MinStack() initializes the stack object.\n",
    "    void push(val) pushes the element val onto the stack.\n",
    "    void pop() removes the element on the top of the stack.\n",
    "    int top() gets the top element of the stack.\n",
    "    int getMin() retrieves the minimum element in the stack.\n"
   ]
  },
  {
   "cell_type": "code",
   "execution_count": 1,
   "id": "failing-argument",
   "metadata": {
    "code_folding": [
     0
    ]
   },
   "outputs": [],
   "source": [
    "class MinStack:\n",
    "\n",
    "    def __init__(self):\n",
    "        \"\"\"\n",
    "        initialize your data structure here.\n",
    "        \"\"\"\n",
    "        self.stack  =[]\n",
    "        self.min = []\n",
    "\n",
    "    def push(self, val: int) -> None:\n",
    "        self.stack.append(val)\n",
    "        \n",
    "        if self.min:\n",
    "            if val <= self.min[-1]:\n",
    "                self.min.append(val)\n",
    "        else:\n",
    "            self.min.append(val)\n",
    "            \n",
    "        \n",
    "\n",
    "    def pop(self) -> None:\n",
    "        if self.stack:\n",
    "            check = self.stack.pop()\n",
    "            if check == self.min[-1]:\n",
    "                self.min.pop()\n",
    "        \n",
    "    def top(self) -> int:\n",
    "        if self.stack:\n",
    "            return self.stack[-1]\n",
    "        \n",
    "\n",
    "    def getMin(self) -> int:\n",
    "        return self.min[-1]"
   ]
  },
  {
   "cell_type": "code",
   "execution_count": 2,
   "id": "widespread-aquarium",
   "metadata": {},
   "outputs": [],
   "source": [
    "l = []"
   ]
  },
  {
   "cell_type": "code",
   "execution_count": 4,
   "id": "aggregate-stanley",
   "metadata": {},
   "outputs": [
    {
     "name": "stdout",
     "output_type": "stream",
     "text": [
      "x\n"
     ]
    }
   ],
   "source": [
    "if l:\n",
    "    print('s')\n",
    "else:\n",
    "    print('x')"
   ]
  },
  {
   "cell_type": "code",
   "execution_count": 6,
   "id": "legal-certificate",
   "metadata": {},
   "outputs": [
    {
     "name": "stdout",
     "output_type": "stream",
     "text": [
      "[]\n"
     ]
    }
   ],
   "source": [
    "print(l)"
   ]
  },
  {
   "cell_type": "markdown",
   "id": "running-designation",
   "metadata": {},
   "source": [
    "# 232. Implement Queue using Stacks\n",
    "Implement a first in first out (FIFO) queue using only two stacks. The implemented queue should support all the functions of a normal queue (push, peek, pop, and empty).\n",
    "\n",
    "Implement the MyQueue class:\n",
    "\n",
    "    void push(int x) Pushes element x to the back of the queue.\n",
    "    int pop() Removes the element from the front of the queue and returns it.\n",
    "    int peek() Returns the element at the front of the queue.\n",
    "    boolean empty() Returns true if the queue is empty, false otherwise"
   ]
  },
  {
   "cell_type": "code",
   "execution_count": 7,
   "id": "italic-dancing",
   "metadata": {},
   "outputs": [],
   "source": [
    "class MyQueue:\n",
    "\n",
    "    def __init__(self):\n",
    "        \"\"\"\n",
    "        Initialize your data structure here.\n",
    "        \"\"\"\n",
    "        self.stack = []\n",
    "\n",
    "    def push(self, x: int) -> None:\n",
    "        \"\"\"\n",
    "        Push element x to the back of queue.\n",
    "        \"\"\"\n",
    "        self.stack.append(x)\n",
    "        \n",
    "\n",
    "    def pop(self) -> int:\n",
    "        \"\"\"\n",
    "        Removes the element from in front of queue and returns that element.\n",
    "        \"\"\"\n",
    "        if self.stack:\n",
    "            return self.stack.pop(0)\n",
    "        \n",
    "\n",
    "    def peek(self) -> int:\n",
    "        \"\"\"\n",
    "        Get the front element.\n",
    "        \"\"\"\n",
    "        if self.stack:\n",
    "            return self.stack[0]\n",
    "        \n",
    "\n",
    "    def empty(self) -> bool:\n",
    "        \"\"\"\n",
    "        Returns whether the queue is empty.\n",
    "        \"\"\"\n",
    "        empty = False if self.stack else True\n",
    "        return empty\n"
   ]
  },
  {
   "cell_type": "markdown",
   "id": "conscious-creature",
   "metadata": {},
   "source": [
    "# 150. Evaluate Reverse Polish Notation\n",
    "Evaluate the value of an arithmetic expression in Reverse Polish Notation.\n",
    "\n",
    "Valid operators are +, -, *, and /. Each operand may be an integer or another expression.\n",
    "\n",
    "Note that division between two integers should truncate toward zero.\n",
    "\n",
    "It is guaranteed that the given RPN expression is always valid. That means the expression would always evaluate to a result, and there will not be any division by zero operation.\n",
    "\n",
    "**Example 1:**\n",
    "\n",
    "Input: tokens = [\"2\",\"1\",\"+\",\"3\",\"*\"]  \n",
    "Output: 9  \n",
    "Explanation: ((2 + 1) * 3) = 9  \n",
    "**Example 2:**\n",
    "\n",
    "Input: tokens = [\"4\",\"13\",\"5\",\"/\",\"+\"]  \n",
    "Output: 6  \n",
    "Explanation: (4 + (13 / 5)) = 6  \n"
   ]
  },
  {
   "cell_type": "markdown",
   "id": "primary-candle",
   "metadata": {},
   "source": [
    "Solution Idea: Use recursive to solve.\n",
    "1. pop from token,  take the last element.\n",
    "2. Check whether it is integer or operator\n",
    "3. If integer then return and stored. If not send the tokens to continue recursion(KEY, tokens already pop, just send whole tokens)\n",
    "4. Return computed value"
   ]
  },
  {
   "cell_type": "code",
   "execution_count": 45,
   "id": "stunning-context",
   "metadata": {},
   "outputs": [],
   "source": [
    " def evalRPN(tokens):\n",
    "        def is_digit(n):\n",
    "            try:\n",
    "                int(n)\n",
    "                return True\n",
    "            except ValueError:\n",
    "                return False\n",
    "        \n",
    "        def recursion(tokens):\n",
    "            operator = tokens.pop()\n",
    "            if is_digit(operator) == True:\n",
    "                return int(operator)\n",
    "            \n",
    "            right = recursion(tokens)\n",
    "            left = recursion(tokens)\n",
    "            print(left, right, operator)\n",
    "            if operator == '*':\n",
    "                return left * right\n",
    "            elif operator =='/':\n",
    "                return int(left / right)\n",
    "            elif operator =='+':\n",
    "                return left + right\n",
    "            elif operator == '-':\n",
    "                return left - right\n",
    "            \n",
    "        return recursion(tokens)\n",
    "        \n"
   ]
  },
  {
   "cell_type": "code",
   "execution_count": 47,
   "id": "included-friendly",
   "metadata": {},
   "outputs": [
    {
     "name": "stdout",
     "output_type": "stream",
     "text": [
      "13 5 /\n",
      "4 2 +\n"
     ]
    },
    {
     "data": {
      "text/plain": [
       "6"
      ]
     },
     "execution_count": 47,
     "metadata": {},
     "output_type": "execute_result"
    }
   ],
   "source": [
    "# tokens = [\"2\",\"1\",\"+\",\"3\",\"*\"]\n",
    "tokens = [\"4\",\"13\",\"5\",\"/\",\"+\"]\n",
    "# tokens = [\"10\",\"6\",\"9\",\"3\",\"+\",\"-11\",\"*\",\"/\",\"*\",\"17\",\"+\",\"5\",\"+\"]\n",
    "evalRPN(tokens)"
   ]
  },
  {
   "cell_type": "markdown",
   "id": "spectacular-retention",
   "metadata": {},
   "source": [
    "# 71. Simplify Path\n",
    "Given a string path, which is an absolute path (starting with a slash '/') to a file or directory in a Unix-style file system, convert it to the simplified canonical path.  \n",
    " \n",
    "In a Unix-style file system, a period '.' refers to the current directory, a double period '..' refers to the directory up a level, and any multiple consecutive slashes (i.e. '//') are treated as a single slash '/'. For this problem, any other format of periods such as '...' are treated as file/directory names"
   ]
  },
  {
   "cell_type": "markdown",
   "id": "known-annotation",
   "metadata": {},
   "source": [
    "Solution Idea: Use stack to store the path  \n",
    "\n",
    "        1. split string by '/', **preserve order**, process element one by one  \n",
    "        2. if not '.' or '..' then append to the stack  \n",
    "        3. if '..' then pop the stack, elif '.' remain  "
   ]
  },
  {
   "cell_type": "code",
   "execution_count": 75,
   "id": "genuine-kennedy",
   "metadata": {},
   "outputs": [],
   "source": [
    "def simplifyPath(path):\n",
    "    path_stack = []\n",
    "    paths = path.split('/')\n",
    "    \n",
    "    for item in paths:\n",
    "        if item:\n",
    "            if item == '..':\n",
    "                if path_stack:\n",
    "                    path_stack.pop()\n",
    "            elif item != '.':\n",
    "                path_stack.append(item)\n",
    "        \n",
    "    return '/'+('/').join(path_stack)\n"
   ]
  },
  {
   "cell_type": "code",
   "execution_count": 79,
   "id": "casual-mapping",
   "metadata": {},
   "outputs": [
    {
     "data": {
      "text/plain": [
       "'/home'"
      ]
     },
     "execution_count": 79,
     "metadata": {},
     "output_type": "execute_result"
    }
   ],
   "source": [
    "# path = \"/home//foo/\"\n",
    "path  = '/a/./b/../../c/'\n",
    "# path = \"/../\"\n",
    "path = \"/home//\"\n",
    "\n",
    "simplifyPath(path)"
   ]
  },
  {
   "cell_type": "code",
   "execution_count": 57,
   "id": "understood-essence",
   "metadata": {},
   "outputs": [
    {
     "data": {
      "text/plain": [
       "['', 'a', '.', 'b', '..', '..', 'c', '']"
      ]
     },
     "execution_count": 57,
     "metadata": {},
     "output_type": "execute_result"
    }
   ],
   "source": [
    "path.split('/')"
   ]
  },
  {
   "cell_type": "markdown",
   "id": "comprehensive-borough",
   "metadata": {},
   "source": [
    "#  394. Decode String\n",
    "Given an encoded string, return its decoded string.  \n",
    "  \n",
    "The encoding rule is: k[encoded_string], where the encoded_string inside the square brackets is being repeated exactly k times. Note that k is guaranteed to be a positive integer.  \n",
    "\n",
    "**You may assume that the input string is always valid; No extra white spaces, square brackets are well-formed, etc. For example, there won't be input like 3a or 2[4].**\n"
   ]
  },
  {
   "cell_type": "code",
   "execution_count": 104,
   "id": "certain-earthquake",
   "metadata": {},
   "outputs": [],
   "source": [
    "def decodeString(s):\n",
    "    nums = []\n",
    "    prev_strings =[]\n",
    "    num = ''\n",
    "    res = ''\n",
    "    for c in s:\n",
    "        if c.isdigit():\n",
    "            num += c\n",
    "        elif c =='[':\n",
    "            nums.append(int(num))\n",
    "            num = ''\n",
    "            # num 以string來存是要預防 100 這種數字\n",
    "            \n",
    "            # KEY, 每一次遇到 [, 就把要repeat的數字記錄下來\n",
    "            # 並且把目前為止遇到要repeat的string 也記錄下來\n",
    "            prev_strings.append(res)\n",
    "            # 空出位直給下一層需要repeat的字串\n",
    "            res = ''\n",
    "\n",
    "        elif c ==']':\n",
    "            # KEY, 這裡的prev 是代表上一層要repeat的, 跟 num 同一層的會是 res\n",
    "            prev = prev_strings.pop()\n",
    "            repeat_num = nums.pop()\n",
    "            \n",
    "            # 更新res的值\n",
    "            res = prev + repeat_num * res\n",
    "        else:\n",
    "            res += c\n",
    "    return res"
   ]
  },
  {
   "cell_type": "code",
   "execution_count": 105,
   "id": "administrative-federation",
   "metadata": {},
   "outputs": [
    {
     "data": {
      "text/plain": [
       "'leetcodeleetcodeleetcodeleetcodeleetcodeleetcodeleetcodeleetcodeleetcodeleetcodeleetcodeleetcodeleetcodeleetcodeleetcodeleetcodeleetcodeleetcodeleetcodeleetcodeleetcodeleetcodeleetcodeleetcodeleetcodeleetcodeleetcodeleetcodeleetcodeleetcodeleetcodeleetcodeleetcodeleetcodeleetcodeleetcodeleetcodeleetcodeleetcodeleetcodeleetcodeleetcodeleetcodeleetcodeleetcodeleetcodeleetcodeleetcodeleetcodeleetcodeleetcodeleetcodeleetcodeleetcodeleetcodeleetcodeleetcodeleetcodeleetcodeleetcodeleetcodeleetcodeleetcodeleetcodeleetcodeleetcodeleetcodeleetcodeleetcodeleetcodeleetcodeleetcodeleetcodeleetcodeleetcodeleetcodeleetcodeleetcodeleetcodeleetcodeleetcodeleetcodeleetcodeleetcodeleetcodeleetcodeleetcodeleetcodeleetcodeleetcodeleetcodeleetcodeleetcodeleetcodeleetcodeleetcodeleetcodeleetcodeleetcodeleetcode'"
      ]
     },
     "execution_count": 105,
     "metadata": {},
     "output_type": "execute_result"
    }
   ],
   "source": [
    "s = \"3[a]2[bc]\"\n",
    "# s = \"3[ab2[c]]\"\n",
    "s = \"2[abc]3[cd]ef\"\n",
    "s = \"100[leetcode]\"\n",
    "decodeString(s)"
   ]
  },
  {
   "cell_type": "code",
   "execution_count": 91,
   "id": "needed-attraction",
   "metadata": {},
   "outputs": [],
   "source": [
    "sd= ''"
   ]
  },
  {
   "cell_type": "code",
   "execution_count": 92,
   "id": "dramatic-diamond",
   "metadata": {},
   "outputs": [],
   "source": [
    "sd += 3*'dsada'"
   ]
  },
  {
   "cell_type": "code",
   "execution_count": 93,
   "id": "handled-tribune",
   "metadata": {},
   "outputs": [
    {
     "data": {
      "text/plain": [
       "'dsadadsadadsada'"
      ]
     },
     "execution_count": 93,
     "metadata": {},
     "output_type": "execute_result"
    }
   ],
   "source": [
    "sd"
   ]
  },
  {
   "cell_type": "code",
   "execution_count": null,
   "id": "enormous-wiring",
   "metadata": {},
   "outputs": [],
   "source": []
  }
 ],
 "metadata": {
  "kernelspec": {
   "display_name": "Python 3",
   "language": "python",
   "name": "python3"
  },
  "language_info": {
   "codemirror_mode": {
    "name": "ipython",
    "version": 3
   },
   "file_extension": ".py",
   "mimetype": "text/x-python",
   "name": "python",
   "nbconvert_exporter": "python",
   "pygments_lexer": "ipython3",
   "version": "3.8.5"
  },
  "toc": {
   "base_numbering": 1,
   "nav_menu": {},
   "number_sections": true,
   "sideBar": true,
   "skip_h1_title": false,
   "title_cell": "Table of Contents",
   "title_sidebar": "Contents",
   "toc_cell": false,
   "toc_position": {},
   "toc_section_display": true,
   "toc_window_display": false
  },
  "varInspector": {
   "cols": {
    "lenName": 16,
    "lenType": 16,
    "lenVar": 40
   },
   "kernels_config": {
    "python": {
     "delete_cmd_postfix": "",
     "delete_cmd_prefix": "del ",
     "library": "var_list.py",
     "varRefreshCmd": "print(var_dic_list())"
    },
    "r": {
     "delete_cmd_postfix": ") ",
     "delete_cmd_prefix": "rm(",
     "library": "var_list.r",
     "varRefreshCmd": "cat(var_dic_list()) "
    }
   },
   "types_to_exclude": [
    "module",
    "function",
    "builtin_function_or_method",
    "instance",
    "_Feature"
   ],
   "window_display": false
  }
 },
 "nbformat": 4,
 "nbformat_minor": 5
}
