{
 "cells": [
  {
   "cell_type": "markdown",
   "id": "dominican-consultation",
   "metadata": {},
   "source": [
    "# 155. Min Stack\n",
    "Design a stack that supports push, pop, top, and retrieving the minimum element in constant time.\n",
    "\n",
    "Implement the MinStack class:\n",
    "\n",
    "    MinStack() initializes the stack object.\n",
    "    void push(val) pushes the element val onto the stack.\n",
    "    void pop() removes the element on the top of the stack.\n",
    "    int top() gets the top element of the stack.\n",
    "    int getMin() retrieves the minimum element in the stack.\n"
   ]
  },
  {
   "cell_type": "code",
   "execution_count": 1,
   "id": "failing-argument",
   "metadata": {
    "code_folding": [
     0
    ]
   },
   "outputs": [],
   "source": [
    "class MinStack:\n",
    "\n",
    "    def __init__(self):\n",
    "        \"\"\"\n",
    "        initialize your data structure here.\n",
    "        \"\"\"\n",
    "        self.stack  =[]\n",
    "        self.min = []\n",
    "\n",
    "    def push(self, val: int) -> None:\n",
    "        self.stack.append(val)\n",
    "        \n",
    "        if self.min:\n",
    "            if val <= self.min[-1]:\n",
    "                self.min.append(val)\n",
    "        else:\n",
    "            self.min.append(val)\n",
    "            \n",
    "        \n",
    "\n",
    "    def pop(self) -> None:\n",
    "        if self.stack:\n",
    "            check = self.stack.pop()\n",
    "            if check == self.min[-1]:\n",
    "                self.min.pop()\n",
    "        \n",
    "    def top(self) -> int:\n",
    "        if self.stack:\n",
    "            return self.stack[-1]\n",
    "        \n",
    "\n",
    "    def getMin(self) -> int:\n",
    "        return self.min[-1]"
   ]
  },
  {
   "cell_type": "code",
   "execution_count": 2,
   "id": "widespread-aquarium",
   "metadata": {},
   "outputs": [],
   "source": [
    "l = []"
   ]
  },
  {
   "cell_type": "code",
   "execution_count": 4,
   "id": "aggregate-stanley",
   "metadata": {},
   "outputs": [
    {
     "name": "stdout",
     "output_type": "stream",
     "text": [
      "x\n"
     ]
    }
   ],
   "source": [
    "if l:\n",
    "    print('s')\n",
    "else:\n",
    "    print('x')"
   ]
  },
  {
   "cell_type": "code",
   "execution_count": 6,
   "id": "legal-certificate",
   "metadata": {},
   "outputs": [
    {
     "name": "stdout",
     "output_type": "stream",
     "text": [
      "[]\n"
     ]
    }
   ],
   "source": [
    "print(l)"
   ]
  },
  {
   "cell_type": "markdown",
   "id": "running-designation",
   "metadata": {},
   "source": [
    "# 232. Implement Queue using Stacks\n",
    "Implement a first in first out (FIFO) queue using only two stacks. The implemented queue should support all the functions of a normal queue (push, peek, pop, and empty).\n",
    "\n",
    "Implement the MyQueue class:\n",
    "\n",
    "    void push(int x) Pushes element x to the back of the queue.\n",
    "    int pop() Removes the element from the front of the queue and returns it.\n",
    "    int peek() Returns the element at the front of the queue.\n",
    "    boolean empty() Returns true if the queue is empty, false otherwise"
   ]
  },
  {
   "cell_type": "code",
   "execution_count": 7,
   "id": "italic-dancing",
   "metadata": {},
   "outputs": [],
   "source": [
    "class MyQueue:\n",
    "\n",
    "    def __init__(self):\n",
    "        \"\"\"\n",
    "        Initialize your data structure here.\n",
    "        \"\"\"\n",
    "        self.stack = []\n",
    "\n",
    "    def push(self, x: int) -> None:\n",
    "        \"\"\"\n",
    "        Push element x to the back of queue.\n",
    "        \"\"\"\n",
    "        self.stack.append(x)\n",
    "        \n",
    "\n",
    "    def pop(self) -> int:\n",
    "        \"\"\"\n",
    "        Removes the element from in front of queue and returns that element.\n",
    "        \"\"\"\n",
    "        if self.stack:\n",
    "            return self.stack.pop(0)\n",
    "        \n",
    "\n",
    "    def peek(self) -> int:\n",
    "        \"\"\"\n",
    "        Get the front element.\n",
    "        \"\"\"\n",
    "        if self.stack:\n",
    "            return self.stack[0]\n",
    "        \n",
    "\n",
    "    def empty(self) -> bool:\n",
    "        \"\"\"\n",
    "        Returns whether the queue is empty.\n",
    "        \"\"\"\n",
    "        empty = False if self.stack else True\n",
    "        return empty\n"
   ]
  },
  {
   "cell_type": "markdown",
   "id": "conscious-creature",
   "metadata": {},
   "source": [
    "# 150. Evaluate Reverse Polish Notation\n",
    "Evaluate the value of an arithmetic expression in Reverse Polish Notation.\n",
    "\n",
    "Valid operators are +, -, *, and /. Each operand may be an integer or another expression.\n",
    "\n",
    "Note that division between two integers should truncate toward zero.\n",
    "\n",
    "It is guaranteed that the given RPN expression is always valid. That means the expression would always evaluate to a result, and there will not be any division by zero operation.\n",
    "\n",
    "**Example 1:**\n",
    "\n",
    "Input: tokens = [\"2\",\"1\",\"+\",\"3\",\"*\"]  \n",
    "Output: 9  \n",
    "Explanation: ((2 + 1) * 3) = 9  \n",
    "**Example 2:**\n",
    "\n",
    "Input: tokens = [\"4\",\"13\",\"5\",\"/\",\"+\"]  \n",
    "Output: 6  \n",
    "Explanation: (4 + (13 / 5)) = 6  \n"
   ]
  },
  {
   "cell_type": "markdown",
   "id": "primary-candle",
   "metadata": {},
   "source": [
    "Solution Idea: Use recursive to solve.\n",
    "1. pop from token,  take the last element.\n",
    "2. Check whether it is integer or operator\n",
    "3. If integer then return and stored. If not send the tokens to continue recursion(KEY, tokens already pop, just send whole tokens)\n",
    "4. Return computed value"
   ]
  },
  {
   "cell_type": "code",
   "execution_count": 45,
   "id": "stunning-context",
   "metadata": {},
   "outputs": [],
   "source": [
    " def evalRPN(tokens):\n",
    "        def is_digit(n):\n",
    "            try:\n",
    "                int(n)\n",
    "                return True\n",
    "            except ValueError:\n",
    "                return False\n",
    "        \n",
    "        def recursion(tokens):\n",
    "            operator = tokens.pop()\n",
    "            if is_digit(operator) == True:\n",
    "                return int(operator)\n",
    "            \n",
    "            right = recursion(tokens)\n",
    "            left = recursion(tokens)\n",
    "            print(left, right, operator)\n",
    "            if operator == '*':\n",
    "                return left * right\n",
    "            elif operator =='/':\n",
    "                return int(left / right)\n",
    "            elif operator =='+':\n",
    "                return left + right\n",
    "            elif operator == '-':\n",
    "                return left - right\n",
    "            \n",
    "        return recursion(tokens)\n",
    "        \n"
   ]
  },
  {
   "cell_type": "code",
   "execution_count": 47,
   "id": "included-friendly",
   "metadata": {},
   "outputs": [
    {
     "name": "stdout",
     "output_type": "stream",
     "text": [
      "13 5 /\n",
      "4 2 +\n"
     ]
    },
    {
     "data": {
      "text/plain": [
       "6"
      ]
     },
     "execution_count": 47,
     "metadata": {},
     "output_type": "execute_result"
    }
   ],
   "source": [
    "# tokens = [\"2\",\"1\",\"+\",\"3\",\"*\"]\n",
    "tokens = [\"4\",\"13\",\"5\",\"/\",\"+\"]\n",
    "# tokens = [\"10\",\"6\",\"9\",\"3\",\"+\",\"-11\",\"*\",\"/\",\"*\",\"17\",\"+\",\"5\",\"+\"]\n",
    "evalRPN(tokens)"
   ]
  },
  {
   "cell_type": "markdown",
   "id": "spectacular-retention",
   "metadata": {},
   "source": [
    "# 71. Simplify Path\n",
    "Given a string path, which is an absolute path (starting with a slash '/') to a file or directory in a Unix-style file system, convert it to the simplified canonical path.  \n",
    " \n",
    "In a Unix-style file system, a period '.' refers to the current directory, a double period '..' refers to the directory up a level, and any multiple consecutive slashes (i.e. '//') are treated as a single slash '/'. For this problem, any other format of periods such as '...' are treated as file/directory names"
   ]
  },
  {
   "cell_type": "markdown",
   "id": "known-annotation",
   "metadata": {},
   "source": [
    "Solution Idea: Use stack to store the path  \n",
    "\n",
    "        1. split string by '/', **preserve order**, process element one by one  \n",
    "        2. if not '.' or '..' then append to the stack  \n",
    "        3. if '..' then pop the stack, elif '.' remain  "
   ]
  },
  {
   "cell_type": "code",
   "execution_count": 75,
   "id": "genuine-kennedy",
   "metadata": {},
   "outputs": [],
   "source": [
    "def simplifyPath(path):\n",
    "    path_stack = []\n",
    "    paths = path.split('/')\n",
    "    \n",
    "    for item in paths:\n",
    "        if item:\n",
    "            if item == '..':\n",
    "                if path_stack:\n",
    "                    path_stack.pop()\n",
    "            elif item != '.':\n",
    "                path_stack.append(item)\n",
    "        \n",
    "    return '/'+('/').join(path_stack)\n"
   ]
  },
  {
   "cell_type": "code",
   "execution_count": 79,
   "id": "casual-mapping",
   "metadata": {},
   "outputs": [
    {
     "data": {
      "text/plain": [
       "'/home'"
      ]
     },
     "execution_count": 79,
     "metadata": {},
     "output_type": "execute_result"
    }
   ],
   "source": [
    "# path = \"/home//foo/\"\n",
    "path  = '/a/./b/../../c/'\n",
    "# path = \"/../\"\n",
    "path = \"/home//\"\n",
    "\n",
    "simplifyPath(path)"
   ]
  },
  {
   "cell_type": "code",
   "execution_count": 57,
   "id": "understood-essence",
   "metadata": {},
   "outputs": [
    {
     "data": {
      "text/plain": [
       "['', 'a', '.', 'b', '..', '..', 'c', '']"
      ]
     },
     "execution_count": 57,
     "metadata": {},
     "output_type": "execute_result"
    }
   ],
   "source": [
    "path.split('/')"
   ]
  },
  {
   "cell_type": "markdown",
   "id": "comprehensive-borough",
   "metadata": {},
   "source": [
    "#  394. Decode String\n",
    "Given an encoded string, return its decoded string.  \n",
    "  \n",
    "The encoding rule is: k[encoded_string], where the encoded_string inside the square brackets is being repeated exactly k times. Note that k is guaranteed to be a positive integer.  \n",
    "\n",
    "**You may assume that the input string is always valid; No extra white spaces, square brackets are well-formed, etc. For example, there won't be input like 3a or 2[4].**\n"
   ]
  },
  {
   "cell_type": "code",
   "execution_count": 104,
   "id": "certain-earthquake",
   "metadata": {},
   "outputs": [],
   "source": [
    "def decodeString(s):\n",
    "    nums = []\n",
    "    prev_strings =[]\n",
    "    num = ''\n",
    "    res = ''\n",
    "    for c in s:\n",
    "        if c.isdigit():\n",
    "            num += c\n",
    "        elif c =='[':\n",
    "            nums.append(int(num))\n",
    "            num = ''\n",
    "            # num 以string來存是要預防 100 這種數字\n",
    "            \n",
    "            # KEY, 每一次遇到 [, 就把要repeat的數字記錄下來\n",
    "            # 並且把目前為止遇到要repeat的string 也記錄下來\n",
    "            prev_strings.append(res)\n",
    "            # 空出位直給下一層需要repeat的字串\n",
    "            res = ''\n",
    "\n",
    "        elif c ==']':\n",
    "            # KEY, 這裡的prev 是代表上一層要repeat的, 跟 num 同一層的會是 res\n",
    "            prev = prev_strings.pop()\n",
    "            repeat_num = nums.pop()\n",
    "            \n",
    "            # 更新res的值\n",
    "            res = prev + repeat_num * res\n",
    "        else:\n",
    "            res += c\n",
    "    return res"
   ]
  },
  {
   "cell_type": "code",
   "execution_count": 105,
   "id": "administrative-federation",
   "metadata": {},
   "outputs": [
    {
     "data": {
      "text/plain": [
       "'leetcodeleetcodeleetcodeleetcodeleetcodeleetcodeleetcodeleetcodeleetcodeleetcodeleetcodeleetcodeleetcodeleetcodeleetcodeleetcodeleetcodeleetcodeleetcodeleetcodeleetcodeleetcodeleetcodeleetcodeleetcodeleetcodeleetcodeleetcodeleetcodeleetcodeleetcodeleetcodeleetcodeleetcodeleetcodeleetcodeleetcodeleetcodeleetcodeleetcodeleetcodeleetcodeleetcodeleetcodeleetcodeleetcodeleetcodeleetcodeleetcodeleetcodeleetcodeleetcodeleetcodeleetcodeleetcodeleetcodeleetcodeleetcodeleetcodeleetcodeleetcodeleetcodeleetcodeleetcodeleetcodeleetcodeleetcodeleetcodeleetcodeleetcodeleetcodeleetcodeleetcodeleetcodeleetcodeleetcodeleetcodeleetcodeleetcodeleetcodeleetcodeleetcodeleetcodeleetcodeleetcodeleetcodeleetcodeleetcodeleetcodeleetcodeleetcodeleetcodeleetcodeleetcodeleetcodeleetcodeleetcodeleetcodeleetcodeleetcode'"
      ]
     },
     "execution_count": 105,
     "metadata": {},
     "output_type": "execute_result"
    }
   ],
   "source": [
    "s = \"3[a]2[bc]\"\n",
    "# s = \"3[ab2[c]]\"\n",
    "s = \"2[abc]3[cd]ef\"\n",
    "s = \"100[leetcode]\"\n",
    "decodeString(s)"
   ]
  },
  {
   "cell_type": "code",
   "execution_count": 91,
   "id": "needed-attraction",
   "metadata": {},
   "outputs": [],
   "source": [
    "sd= ''"
   ]
  },
  {
   "cell_type": "code",
   "execution_count": 92,
   "id": "dramatic-diamond",
   "metadata": {},
   "outputs": [],
   "source": [
    "sd += 3*'dsada'"
   ]
  },
  {
   "cell_type": "markdown",
   "id": "western-piece",
   "metadata": {},
   "source": [
    "# 231. Power of Two\n",
    "[solution](https://leetcode.com/problems/power-of-two/discuss/1293868/Python3-one-liner-without-for-cycle-explained)\n",
    "Given an integer n, return true if it is a power of two. Otherwise, return false.  \n",
    "  \n",
    "An integer n is a power of two, if there exists an integer x such that n == 2x.\n",
    " "
   ]
  },
  {
   "cell_type": "code",
   "execution_count": 19,
   "id": "quantitative-potato",
   "metadata": {},
   "outputs": [],
   "source": [
    "def isPowerOfTwo(n: int) :\n",
    "    if n ==0 or n < 0:\n",
    "        return False\n",
    "    if n == 1:\n",
    "        return True\n",
    "    \n",
    "    divided = n /2\n",
    "    while divided>1:\n",
    "        if divided % 2!=0:\n",
    "            return False\n",
    "        divided /=2\n",
    "    return True\n"
   ]
  },
  {
   "cell_type": "markdown",
   "id": "fancy-zoning",
   "metadata": {},
   "source": [
    "Remember that all power of 2 in binary is something like \"10..0\", 2 = 10, 4 = 100, ecc..  \n",
    "so you only **have to check if there is only one \"1\".**  \n",
    "str(bin(n))[2:].count(\"1\") == 1  \n",
    "The [2:] is there because binary number in python start with \"0b\".  \n",
    "  \n",
    "Input can be less than 0 so all negative number have to return false because there isn't negative power of two."
   ]
  },
  {
   "cell_type": "code",
   "execution_count": 29,
   "id": "herbal-amsterdam",
   "metadata": {},
   "outputs": [],
   "source": [
    "def isPowerOfTwo(n: int) :\n",
    "#     print(bin(n))\n",
    "#     print(bin(n)[2] =='1')\n",
    "    # \n",
    "    return bin(n)[2:].count(\"1\") == 1 and n >0"
   ]
  },
  {
   "cell_type": "code",
   "execution_count": 30,
   "id": "computational-holder",
   "metadata": {},
   "outputs": [
    {
     "name": "stdout",
     "output_type": "stream",
     "text": [
      "True\n"
     ]
    }
   ],
   "source": [
    "isPowerOfTwo(3)"
   ]
  },
  {
   "cell_type": "markdown",
   "id": "growing-lobby",
   "metadata": {},
   "source": [
    "#  1465. Maximum Area of a Piece of Cake After Horizontal and Vertical Cuts\n",
    "You are given a rectangular cake of size h x w and two arrays of integers horizontalCuts and verticalCuts where:  \n",
    "\n",
    "horizontalCuts[i] is the distance from the top of the rectangular cake to the ith horizontal cut and similarly, and  \n",
    "   \n",
    "\n",
    "\n",
    "verticalCuts[j] is the distance from the left of the rectangular cake to the jth vertical cut.  \n",
    "\n",
    "\n",
    "\n",
    "Return the maximum area of a piece of cake after you cut at each horizontal and vertical position provided in the arrays horizontalCuts and verticalCuts. Since the answer can be a large number, return this modulo 109 + 7."
   ]
  },
  {
   "cell_type": "code",
   "execution_count": 59,
   "id": "whole-mixer",
   "metadata": {},
   "outputs": [],
   "source": [
    "def maxArea(h, w, horizontalCuts,verticalCuts):\n",
    "    horizontalCuts.insert(0, 0)\n",
    "    verticalCuts.insert(0, 0)\n",
    "    horizontalCuts.append(h)\n",
    "    verticalCuts.append(w)\n",
    "    horizontalCuts = sorted(horizontalCuts)\n",
    "    verticalCuts = sorted(verticalCuts)\n",
    "    \n",
    "    h_diff = []\n",
    "    v_diff = []\n",
    "    # Use too much space, can find the maximum diff along the way\n",
    "    for i,n in enumerate(horizontalCuts):\n",
    "        h_diff.append(n-horizontalCuts[i-1])\n",
    "    for i,n in enumerate(verticalCuts):\n",
    "        v_diff.append(n-verticalCuts[i-1])\n",
    "#     print(horizontalCuts)\n",
    "#     print(verticalCuts)\n",
    "        \n",
    "#     print(h_diff)\n",
    "#     print(v_diff)\n",
    "    \n",
    "    return max(h_diff) * max(v_diff)\n"
   ]
  },
  {
   "cell_type": "code",
   "execution_count": 64,
   "id": "surprised-reset",
   "metadata": {},
   "outputs": [],
   "source": [
    "def maxArea(h, w, horizontalCuts,verticalCuts):\n",
    "    horizontalCuts.insert(0, 0)\n",
    "    verticalCuts.insert(0, 0)\n",
    "    horizontalCuts.append(h)\n",
    "    verticalCuts.append(w)\n",
    "    horizontalCuts = sorted(horizontalCuts)\n",
    "    verticalCuts = sorted(verticalCuts)\n",
    "    \n",
    "    max_h_diff = horizontalCuts[0]\n",
    "    max_v_diff = verticalCuts[0]\n",
    "    \n",
    "    for i in range(1, len(horizontalCuts)):\n",
    "        max_h_diff = max(max_h_diff, horizontalCuts[i] - horizontalCuts[i-1])\n",
    "    \n",
    "    for i in range(1, len(verticalCuts)):\n",
    "        max_v_diff = max(max_v_diff, verticalCuts[i] - verticalCuts[i-1])\n",
    "    \n",
    "    return (max_h_diff * max_v_diff) %(10**9 +7)\n",
    "    \n"
   ]
  },
  {
   "cell_type": "code",
   "execution_count": 65,
   "id": "comparable-brooklyn",
   "metadata": {},
   "outputs": [
    {
     "data": {
      "text/plain": [
       "4"
      ]
     },
     "execution_count": 65,
     "metadata": {},
     "output_type": "execute_result"
    }
   ],
   "source": [
    "h = 5; w = 4; horizontalCuts = [1,2,4]; verticalCuts = [1,3]\n",
    "# h = 5; w = 4; horizontalCuts = [3]; verticalCuts = [3]\n",
    "# h = 8; w = 5; horizontalCuts = [5,2,6,3]; verticalCuts = [1,4]\n",
    "\n",
    "maxArea(h,w, horizontalCuts, verticalCuts)"
   ]
  },
  {
   "cell_type": "markdown",
   "id": "satellite-plymouth",
   "metadata": {},
   "source": [
    "#  Reshape the Matrix (UNSOLVED)\n",
    "In MATLAB, there is a handy function called reshape which can reshape an m x n matrix into a new one with a different size r x c keeping its original data.  \n",
    "\n",
    "\n",
    "You are given an m x n matrix mat and two integers r and c representing the row number and column number of the wanted reshaped matrix.  \n",
    "\n",
    "The reshaped matrix should be filled with all the elements of the original matrix in the same row-traversing order as they were.  \n",
    "\n",
    "If the reshape operation with given parameters is possible and legal, output the new reshaped matrix; Otherwise, output the original matrix.  \n",
    "\n",
    " "
   ]
  },
  {
   "cell_type": "code",
   "execution_count": 112,
   "id": "young-trauma",
   "metadata": {},
   "outputs": [],
   "source": [
    "def matrixReshape(mat, r,c):\n",
    "    ori_r = len(mat)\n",
    "    ori_c = len(mat[0])\n",
    "    \n",
    "    if ori_r * ori_c != r *c:\n",
    "        return mat\n",
    "    \n",
    "    needed_rows = abs((c - ori_c)//ori_c) +1 \n",
    "    print('*',needed_rows)\n",
    "    \n",
    "    new_mat = []\n",
    "    for i in range(0, ori_r, needed_rows):\n",
    "        print(i)\n",
    "        new_row = []\n",
    "        for j in range(min(ori_r - i,needed_rows)):\n",
    "            for c in range(ori_c):\n",
    "                print(i,j, i+j)\n",
    "                new_row.append(mat[i+j][c])\n",
    "                \n",
    "        new_mat.append(new_row)\n",
    "    print(new_mat)\n",
    "            \n",
    "        \n",
    "    \n",
    "    \n",
    "#     print(mat[:][:])"
   ]
  },
  {
   "cell_type": "code",
   "execution_count": 113,
   "id": "cheap-regular",
   "metadata": {},
   "outputs": [
    {
     "name": "stdout",
     "output_type": "stream",
     "text": [
      "* 1\n",
      "0\n",
      "0 0 0\n",
      "0 0 0\n",
      "1\n",
      "1 0 1\n",
      "1 0 1\n",
      "2\n",
      "2 0 2\n",
      "2 0 2\n",
      "[[1, 2], [3, 4], [5, 6]]\n"
     ]
    }
   ],
   "source": [
    "# mat = [[1,2],[3,4],[5,6]]; r = 1; c = 6\n",
    "mat = [[1,2],[3,4]]; r = 2; c = 4\n",
    "mat = [[1,2],[3,4],[5,6]]; r = 3; c = 2\n",
    "\n",
    "matrixReshape(mat,r,c)"
   ]
  },
  {
   "cell_type": "markdown",
   "id": "defensive-arrest",
   "metadata": {},
   "source": [
    "# 278. First Bad Version\n",
    "You are a product manager and currently leading a team to develop a new product. Unfortunately, the latest version of your product fails the quality check. Since each version is developed based on the previous version, all the versions after a bad version are also bad.  \n",
    "\n",
    "Suppose you have n versions [1, 2, ..., n] and you want to find out the first bad one, which causes all the following ones to be bad.  \n",
    "\n",
    "  \n",
    "You are given an API bool isBadVersion(version) which returns whether version is bad. Implement a function to find the first bad version. You should minimize the number of calls to the API.\n",
    "\n",
    " \n"
   ]
  },
  {
   "cell_type": "code",
   "execution_count": null,
   "id": "medium-basin",
   "metadata": {},
   "outputs": [],
   "source": [
    "# The isBadVersion API is already defined for you.\n",
    "# @param version, an integer\n",
    "# @return an integer\n",
    "# def isBadVersion(version):\n",
    "\n",
    "def firstBadVersion(n):\n",
    "    \"\"\"\n",
    "    :type n: int\n",
    "    :rtype: int\n",
    "    \"\"\"\n",
    "    lo = 1\n",
    "    hi = n\n",
    "    while lo < hi:\n",
    "        mid = (lo + hi) //2\n",
    "        if isBadVersion(mid) == False:\n",
    "            lo = mid +1\n",
    "        else:\n",
    "            hi = mid\n",
    "    return hi        \n",
    "        \n",
    "## lo, hi ==> ver in this range potential has bad\n",
    "\n",
    "## mid is FALSE(good ver), lo = mid ...\n",
    "## mid is True(bad ver), hi = mid....\n",
    "# break condition: lo surpass hi"
   ]
  },
  {
   "cell_type": "markdown",
   "id": "formed-graphic",
   "metadata": {},
   "source": [
    "# 35. Search Insert Position\n",
    "Given a sorted array of distinct integers and a target value,   \n",
    "**return the index if the target is found.**   \n",
    "**If not, return the index where it would be if it were inserted in order.**    \n",
    "\n",
    "\n",
    "You must write an algorithm with O(log n) runtime complexity."
   ]
  },
  {
   "cell_type": "code",
   "execution_count": 146,
   "id": "mathematical-south",
   "metadata": {},
   "outputs": [],
   "source": [
    " def searchInsert(nums, target):\n",
    "        if target < nums[0]:\n",
    "            return 0\n",
    "        lo = 0\n",
    "        hi = len(nums)\n",
    "        while lo < hi:\n",
    "            mid = (lo + hi) //2\n",
    "#             print(lo, hi ,mid)\n",
    "            if nums[mid] == target:\n",
    "                return mid\n",
    "            elif nums[mid] < target:\n",
    "                lo = mid +1\n",
    "            else:\n",
    "                hi = mid\n",
    "        # KEY, 這種寫法(hi 沒有 mid -1), 最後 lo == hi == mid\n",
    "        print(lo, hi,mid)\n",
    "        return mid if target < nums[mid] else mid+1"
   ]
  },
  {
   "cell_type": "code",
   "execution_count": 147,
   "id": "backed-plenty",
   "metadata": {},
   "outputs": [
    {
     "name": "stdout",
     "output_type": "stream",
     "text": [
      "2 2 2\n"
     ]
    },
    {
     "data": {
      "text/plain": [
       "2"
      ]
     },
     "execution_count": 147,
     "metadata": {},
     "output_type": "execute_result"
    }
   ],
   "source": [
    "nums = [1]; target = 2\n",
    "nums = [1,3,5]; target = 4\n",
    "\n",
    "searchInsert(nums,target)"
   ]
  },
  {
   "cell_type": "markdown",
   "id": "brief-activity",
   "metadata": {},
   "source": [
    "# 33. Search in Rotated Sorted Array\n",
    "There is an integer array nums sorted in ascending order (with distinct values).  \n",
    "\n",
    "Prior to being passed to your function, **nums is rotated at an unknown pivot index k** (0 <= k < nums.length) such that the resulting array is [nums[k], nums[k+1], ..., nums[n-1], nums[0], nums[1], ..., nums[k-1]] (0-indexed).   \n",
    "For example, [0,1,2,4,5,6,7] might be rotated at **pivot index 3** and become [4,5,6,7,0,1,2].\n",
    "\n",
    "Given the array nums `after the rotation` and an integer target, return the index of target if it is in nums, or -1 if it is not in nums.\n",
    "\n",
    "You must write an algorithm with O(log n) runtime complexity."
   ]
  },
  {
   "cell_type": "code",
   "execution_count": 202,
   "id": "solid-barrier",
   "metadata": {},
   "outputs": [],
   "source": [
    "def search(nums, target):\n",
    "    \n",
    "    def find_pivot_idx(nums):\n",
    "        # After rotation, \n",
    "        # The First element < nums[0] will be the pivot idx\n",
    "        lo, hi = 0, len(nums)\n",
    "        while lo < hi:\n",
    "            mid = (lo + hi) //2\n",
    "            # Such condition will find the first element that is > nums[0] ==> pivot idx\n",
    "            if nums[mid] >= nums[0]:\n",
    "                lo = mid +1\n",
    "            else:\n",
    "                hi = mid\n",
    "        return lo\n",
    "        \n",
    "    # Firstly find the pivot index\n",
    "    def binarySearch(arr, target):\n",
    "        lo, hi = 0, len(arr)\n",
    "        print(arr, len(arr))\n",
    "        \n",
    "        while lo < hi:\n",
    "            mid = (lo + hi) //2\n",
    "            if arr[mid] == target:\n",
    "                return mid\n",
    "            elif arr[mid] < target:\n",
    "                lo = mid +1\n",
    "            else:\n",
    "                hi = mid\n",
    "        return -1\n",
    "    \n",
    "    pivot_idx = find_pivot_idx(nums)\n",
    "    print(pivot_idx)\n",
    "    # Find left part sorted array\n",
    "    x = binarySearch(nums[:pivot_idx], target)\n",
    "    if x != -1: return x\n",
    "    \n",
    "    # Find right part sorted array\n",
    "    x = binarySearch(nums[pivot_idx:], target)\n",
    "    if x != -1: return x+pivot_idx\n",
    "    \n",
    "    # Both Fail, return -1\n",
    "    return -1\n",
    "        \n",
    "        \n"
   ]
  },
  {
   "cell_type": "code",
   "execution_count": 204,
   "id": "civil-banana",
   "metadata": {},
   "outputs": [
    {
     "name": "stdout",
     "output_type": "stream",
     "text": [
      "1\n",
      "[3] 1\n"
     ]
    },
    {
     "data": {
      "text/plain": [
       "0"
      ]
     },
     "execution_count": 204,
     "metadata": {},
     "output_type": "execute_result"
    }
   ],
   "source": [
    "nums = [4,5,6,7,0,1,2]; target = 0\n",
    "nums = [3,1]; target = 3\n",
    "\n",
    "search(nums, target)"
   ]
  },
  {
   "cell_type": "markdown",
   "id": "identified-mention",
   "metadata": {},
   "source": [
    "#  81. Search in Rotated Sorted Array II\n",
    "There is an integer array nums sorted in non-decreasing order (not necessarily with distinct values).  \n",
    "Before being passed to your function, nums is rotated at an unknown pivot index k (0 <= k < nums.length) such that the resulting array is [nums[k], nums[k+1], ..., nums[n-1], nums[0], nums[1], ..., nums[k-1]] (0-indexed). For example, [0,1,2,4,4,4,5,6,6,7] might be rotated at pivot index 5 and become [4,5,6,6,7,0,1,2,4,4].  \n",
    "\n",
    "Given the array nums after the rotation and an integer target, return true if target is in nums, or false if it is not in nums.  \n",
    "\n",
    "You must decrease the overall operation steps as much as possible.  \n",
    "\n",
    "\n",
    " "
   ]
  },
  {
   "cell_type": "code",
   "execution_count": 55,
   "id": "compliant-design",
   "metadata": {},
   "outputs": [],
   "source": [
    "def search(nums, target):\n",
    "    \n",
    "    def find_pivot(arry):\n",
    "        prev = arry[0]\n",
    "        for i in range(1, len(arry)):\n",
    "            if arry[i] < prev:\n",
    "                return i\n",
    "            prev = arry[i]\n",
    "        '''\n",
    "        KEY, 要用下面這種寫法找到pivot, 有個前提是要 pivot 值不能 == arry[0]\n",
    "        不然就會永遠找到最後的值\n",
    "        lo, hi = 0, len(nums)\n",
    "        while lo < hi:\n",
    "            mid = (lo + hi) //2\n",
    "            # Such condition will find the first element that is > nums[0] ==> pivot idx\n",
    "            if nums[mid] >= nums[0]:\n",
    "                lo = mid +1\n",
    "            else:\n",
    "                hi = mid\n",
    "        return lo\n",
    "        '''\n",
    "\n",
    "\n",
    "    \n",
    "    def binary_search(arry, target):\n",
    "        print(arry,target)\n",
    "        lo, hi = 0, len(arry)\n",
    "        while lo <hi:\n",
    "            mid = (lo + hi) //2\n",
    "            if arry[mid] > target:\n",
    "                hi = mid\n",
    "            elif arry[mid] < target:\n",
    "                lo = mid+1\n",
    "            else:\n",
    "                return mid\n",
    "        return -1\n",
    "    \n",
    "    pivot = find_pivot(nums)\n",
    "    print(pivot)\n",
    "    \n",
    "    x = binary_search(nums[:pivot], target)\n",
    "    if x != -1:\n",
    "        return True\n",
    "    x = binary_search(nums[pivot:], target)\n",
    "    if x != -1:\n",
    "        return True\n",
    "        \n"
   ]
  },
  {
   "cell_type": "code",
   "execution_count": 56,
   "id": "applied-blocking",
   "metadata": {},
   "outputs": [
    {
     "name": "stdout",
     "output_type": "stream",
     "text": [
      "14\n",
      "[1, 1, 1, 1, 1, 1, 1, 1, 1, 1, 1, 1, 1, 2] 2\n"
     ]
    },
    {
     "data": {
      "text/plain": [
       "True"
      ]
     },
     "execution_count": 56,
     "metadata": {},
     "output_type": "execute_result"
    }
   ],
   "source": [
    "# nums = [2,5,6,0,0,1,2]; target = 0\n",
    "\n",
    "nums = [2,2,2,3,2,2,2]; target = 3\n",
    "nums = [1,1,1,1,1,1,1,1,1,1,1,1,1,2,1,1,1,1,1]; target = 2\n",
    "search(nums, target)\n"
   ]
  },
  {
   "cell_type": "code",
   "execution_count": 54,
   "id": "patent-distinction",
   "metadata": {},
   "outputs": [
    {
     "name": "stdout",
     "output_type": "stream",
     "text": [
      "2\n"
     ]
    }
   ],
   "source": [
    "print(nums[13])"
   ]
  },
  {
   "cell_type": "markdown",
   "id": "greenhouse-international",
   "metadata": {},
   "source": [
    "# 153. Find Minimum in Rotated Sorted Array\n",
    "Suppose an array of length n sorted in ascending order is rotated between 1 and n times. For example, the array nums = [0,1,2,4,5,6,7] might become:  \n",
    "\n",
    "[4,5,6,7,0,1,2] if it was rotated 4 times.  \n",
    "[0,1,2,4,5,6,7] if it was rotated 7 times.  \n",
    "Notice that rotating an array [a[0], a[1], a[2], ..., a[n-1]] 1 time results in the array [a[n-1], a[0], a[1], a[2], ..., a[n-2]].  \n",
    "\n",
    "Given the sorted rotated array nums of unique elements, `return the minimum element of this array.  `\n",
    "\n",
    "You must write an algorithm that runs in O(log n) time.  "
   ]
  },
  {
   "cell_type": "code",
   "execution_count": 87,
   "id": "expanded-fighter",
   "metadata": {},
   "outputs": [],
   "source": [
    "def findMin(nums):\n",
    "    # find the smallest element < nums[0]\n",
    "    lo, hi = 0, len(nums)\n",
    "    while lo < hi:\n",
    "        mid = (lo + hi) //2\n",
    "        \n",
    "        if nums[mid] >= nums[0]:\n",
    "            lo = mid+1\n",
    "        else:\n",
    "            hi = mid\n",
    "    #KEY, if 最後發現 lo == len(nums), 代表0 就是最小值, 根本沒有超過\n",
    "    return nums[0] if lo ==len(nums) else nums[lo]\n",
    "    print(lo,hi)\n"
   ]
  },
  {
   "cell_type": "code",
   "execution_count": 90,
   "id": "failing-edward",
   "metadata": {},
   "outputs": [
    {
     "data": {
      "text/plain": [
       "11"
      ]
     },
     "execution_count": 90,
     "metadata": {},
     "output_type": "execute_result"
    }
   ],
   "source": [
    "nums = [1,3,3,3,3,7,1,2]\n",
    "# nums = [0,1,2]\n",
    "nums = [13,15,17, 11]\n",
    "findMin(nums)"
   ]
  },
  {
   "cell_type": "code",
   "execution_count": 82,
   "id": "caroline-asbestos",
   "metadata": {},
   "outputs": [
    {
     "name": "stdout",
     "output_type": "stream",
     "text": [
      "8\n"
     ]
    }
   ],
   "source": [
    "# print(nums[8])\n",
    "print(len(nums))"
   ]
  },
  {
   "cell_type": "markdown",
   "id": "enhanced-westminster",
   "metadata": {},
   "source": [
    "# 154. Find Minimum in Rotated Sorted Array II\n",
    "Suppose an array of length n sorted in ascending order is rotated between 1 and n times. For example, the array nums = [0,1,4,4,5,6,7] might become:  \n",
    "\n",
    "[4,5,6,7,0,1,4] if it was rotated 4 times.  \n",
    "[0,1,4,4,5,6,7] if it was rotated 7 times.  \n",
    "Notice that rotating an array [a[0], a[1], a[2], ..., a[n-1]] 1 time results in the array [a[n-1], a[0], a[1], a[2], ..., a[n-2]].  \n",
    "\n",
    "Given the sorted rotated array nums that may contain duplicates, return the minimum element of this array.  \n",
    "`KEY: This may contain duplicates number`\n",
    "\n",
    "You must decrease the overall operation steps as much as possible.  "
   ]
  },
  {
   "cell_type": "markdown",
   "id": "adverse-broadcasting",
   "metadata": {},
   "source": [
    "[sol](https://leetcode.com/problems/find-minimum-in-rotated-sorted-array-ii/discuss/1189250/Python-binary-search-99.91-time-(36ms)-with-explanation)\n",
    "\n",
    "```\n",
    "The idea is to do a binary search with the last element T. For any middle element X, it would be either of the three situations:\n",
    "\n",
    "1,X is greater than T: Go right since it's a rotated element.\n",
    "2,X is smaller than T: Can be either of the two:\n",
    "    2a. X is smaller than the element left of X: X is the starting point.\n",
    "    2b. X is greater than the element left of X: Go left since X is not a rotated element.\n",
    "3,X is equal to T: Both sides and even X could be the answer.\n",
    "```"
   ]
  },
  {
   "cell_type": "code",
   "execution_count": 100,
   "id": "hawaiian-relationship",
   "metadata": {},
   "outputs": [],
   "source": [
    "def findMin(nums):\n",
    "    if nums[0] < nums[-1]:\n",
    "        return nums[0]\n",
    "    last_val = nums[-1]\n",
    "    def binary_search(lo, hi):\n",
    "        while lo < hi:\n",
    "            mid = (lo + hi) //2\n",
    "            if nums[mid] > last_val: # Situation 1 go right,since this is rotated\n",
    "                lo = mid +1\n",
    "            elif nums[mid] < last_val: # Sitaution 2\n",
    "                if nums[mid] < nums[mid -1]:\n",
    "                    return nums[mid]\n",
    "                else:\n",
    "                    hi = mid -1\n",
    "            elif nums[mid] == last_val: # Situation3, both side is posibble\n",
    "                return min(last_val, binary_search(mid+1, hi), binary_search(lo, mid-1))\n",
    "        return nums[lo]\n",
    "    return binary_search(0, len(nums) -1 )"
   ]
  },
  {
   "cell_type": "code",
   "execution_count": 101,
   "id": "remarkable-alabama",
   "metadata": {},
   "outputs": [
    {
     "data": {
      "text/plain": [
       "1"
      ]
     },
     "execution_count": 101,
     "metadata": {},
     "output_type": "execute_result"
    }
   ],
   "source": [
    "nums = [2,2,2,0,1]\n",
    "nums = [1,1,1,1,1,1,1,1,1,1,1,1,1,2,1,1,1,1,1]\n",
    "nums = [3,1]\n",
    "\n",
    "findMin(nums)"
   ]
  },
  {
   "cell_type": "markdown",
   "id": "obvious-consequence",
   "metadata": {},
   "source": [
    "# 162. Find Peak Element\n",
    "A peak element is an element that is strictly greater than its neighbors.  \n",
    "\n",
    "Given an integer array nums, find a peak element, and return its index. If the array contains multiple peaks, return the index to any of the peaks.  \n",
    "\n",
    "You may imagine that nums[-1] = nums[n] = -∞.  \n",
    " \n",
    "You must write an algorithm that runs in O(log n) time.  "
   ]
  },
  {
   "cell_type": "code",
   "execution_count": 113,
   "id": "mobile-passport",
   "metadata": {},
   "outputs": [],
   "source": [
    "def findPeakElement(nums):\n",
    "    lo, hi = 0, len(nums)\n",
    "    while lo < hi:\n",
    "        mid = (lo + hi) //2\n",
    "        print(lo, mid, hi)\n",
    "        # KEY:因為 只要隨機的一個位置 一定可以往左或往右走找到一個peak\n",
    "        # 1, mid 比右邊的大, 就往左邊走, 找更大的peak\n",
    "        # 2, mid <= mid +1, 就往右走, 直到找到peak\n",
    "        if nums[mid] > nums[mid+1]:\n",
    "            hi = mid\n",
    "        else:\n",
    "            lo = mid +1\n",
    "    return lo \n",
    "    "
   ]
  },
  {
   "cell_type": "code",
   "execution_count": 114,
   "id": "julian-packet",
   "metadata": {},
   "outputs": [
    {
     "name": "stdout",
     "output_type": "stream",
     "text": [
      "0 3 7\n",
      "3 5 7\n",
      "5 6 7\n",
      "5 5 6\n"
     ]
    }
   ],
   "source": [
    "nums = [1,2,1,3,5,6,4]\n",
    "findPeakElement(nums)"
   ]
  },
  {
   "cell_type": "code",
   "execution_count": 105,
   "id": "emotional-contest",
   "metadata": {},
   "outputs": [
    {
     "data": {
      "text/plain": [
       "6"
      ]
     },
     "execution_count": 105,
     "metadata": {},
     "output_type": "execute_result"
    }
   ],
   "source": [
    "nums[5]"
   ]
  },
  {
   "cell_type": "markdown",
   "id": "vital-storm",
   "metadata": {},
   "source": [
    "#  Find First and Last Position of Element in Sorted Array\n",
    "Given an array of integers nums sorted in ascending order, find the starting and ending position of a given target value.  \n",
    "\n",
    "If target is not found in the array, return [-1, -1].  \n",
    "\n",
    "You must write an algorithm with O(log n) runtime complexity.\n",
    "```\n",
    "Example 1:\n",
    "\n",
    "Input: nums = [5,7,7,8,8,10], target = 8\n",
    "Output: [3,4]\n",
    "```"
   ]
  },
  {
   "cell_type": "code",
   "execution_count": 37,
   "id": "incorporated-establishment",
   "metadata": {},
   "outputs": [],
   "source": [
    "def searchRange(nums, target):\n",
    "    if not nums:\n",
    "        return [-1,-1]\n",
    "    lo, hi = 0, len(nums)\n",
    "    loc = -1\n",
    "    while lo < hi:\n",
    "        mid = (lo + hi) //2\n",
    "        if nums[mid] == target:\n",
    "            loc = mid\n",
    "            break\n",
    "        elif nums[mid] > target:\n",
    "            hi = mid\n",
    "        else:\n",
    "            lo = mid +1\n",
    "    if loc == -1: return [-1,-1]\n",
    "    lower_bound = higher_bound = loc\n",
    "    while lower_bound >= 0 and nums[lower_bound] == target:\n",
    "        lower_bound -=1\n",
    "    while higher_bound != len(nums) and nums[higher_bound] == target:\n",
    "        higher_bound +=1\n",
    "    return [lower_bound+1, higher_bound-1]\n"
   ]
  },
  {
   "cell_type": "code",
   "execution_count": 38,
   "id": "strange-drive",
   "metadata": {},
   "outputs": [
    {
     "data": {
      "text/plain": [
       "[-1, -1]"
      ]
     },
     "execution_count": 38,
     "metadata": {},
     "output_type": "execute_result"
    }
   ],
   "source": [
    "nums = [5,7,7,8,8,8,8,8,10,10]; target = 10\n",
    "nums = [5,7,7,8,8,10,10]; target = 10\n",
    "nums = []; target = 10\n",
    "\n",
    "searchRange(nums, target)"
   ]
  },
  {
   "cell_type": "code",
   "execution_count": 16,
   "id": "double-resolution",
   "metadata": {},
   "outputs": [
    {
     "data": {
      "text/plain": [
       "10"
      ]
     },
     "execution_count": 16,
     "metadata": {},
     "output_type": "execute_result"
    }
   ],
   "source": [
    "nums[8]"
   ]
  },
  {
   "cell_type": "markdown",
   "id": "union-railway",
   "metadata": {},
   "source": [
    "# 349. Intersection of Two Arrays\n",
    "Given two integer arrays nums1 and nums2, return an array of their intersection. Each element in the result must be unique and you may return the result in any order.\n",
    "\n",
    " "
   ]
  },
  {
   "cell_type": "code",
   "execution_count": 42,
   "id": "conditional-disclaimer",
   "metadata": {},
   "outputs": [],
   "source": [
    "def intersection(nums1, nums2):\n",
    "    s1, s2 = set(nums1), set(nums2)\n",
    "    return list(s1.intersection(s2))\n",
    "    pass"
   ]
  },
  {
   "cell_type": "code",
   "execution_count": 43,
   "id": "thousand-engineer",
   "metadata": {},
   "outputs": [
    {
     "data": {
      "text/plain": [
       "[2]"
      ]
     },
     "execution_count": 43,
     "metadata": {},
     "output_type": "execute_result"
    }
   ],
   "source": [
    "nums1 = [1,2,2,1]; nums2 = [2,2]\n",
    "intersection(nums1,nums2)"
   ]
  },
  {
   "cell_type": "markdown",
   "id": "about-hierarchy",
   "metadata": {},
   "source": [
    "# 350. Intersection of Two Arrays II\n",
    "Given two integer arrays nums1 and nums2, return an array of their intersection. Each element in the result `must appear as many times as` it shows in both arrays and you may return the result in any order.\n",
    "\n",
    "```\n",
    "Example 1:\n",
    "\n",
    "Input: nums1 = [1,2,2,1], nums2 = [2,2]\n",
    "Output: [2,2]\n",
    "```"
   ]
  },
  {
   "cell_type": "code",
   "execution_count": 77,
   "id": "third-soldier",
   "metadata": {},
   "outputs": [],
   "source": [
    "def intersection(nums1, nums2):\n",
    "    arry_1, arry_2 = sorted(nums1), sorted(nums2)\n",
    "    arry_1, arry_2 = (arry_2, arry_1) if len(arry_1) > len(arry_2) else (arry_1, arry_2)\n",
    "    # make suer arry_1 is the shorter one\n",
    "    res = []\n",
    "    \n",
    "    def bin_search(arry, target):\n",
    "        lo, hi = 0, len(arry)\n",
    "        loc = -1\n",
    "        while lo < hi:\n",
    "            mid = (lo + hi) //2\n",
    "            if arry[mid] > target:\n",
    "                hi = mid\n",
    "            elif arry[mid] < target:\n",
    "                lo = mid +1\n",
    "            else:\n",
    "                res.append(arry.pop(mid))\n",
    "                \n",
    "                # KEY,這邊可以直接pop arry 是因為 array 本質是reference 到 arry_2, \n",
    "                # res.append(arry_2.pop(mid)) 意思依樣\n",
    "                \n",
    "                return \n",
    "    for n in arry_1:\n",
    "        bin_search(arry_2, n)\n",
    "    return res\n",
    "    \n"
   ]
  },
  {
   "cell_type": "code",
   "execution_count": 79,
   "id": "sapphire-corps",
   "metadata": {},
   "outputs": [
    {
     "data": {
      "text/plain": [
       "[4, 9]"
      ]
     },
     "execution_count": 79,
     "metadata": {},
     "output_type": "execute_result"
    }
   ],
   "source": [
    "nums1 = [1,2,2,1]; nums2 = [2,2]\n",
    "nums1 = [4,9,5]; nums2 = [9,4,9,8,4]\n",
    "intersection(nums1,nums2)"
   ]
  },
  {
   "cell_type": "code",
   "execution_count": 80,
   "id": "static-bones",
   "metadata": {},
   "outputs": [
    {
     "data": {
      "text/plain": [
       "5"
      ]
     },
     "execution_count": 80,
     "metadata": {},
     "output_type": "execute_result"
    }
   ],
   "source": [
    "nums1.pop(2)"
   ]
  },
  {
   "cell_type": "markdown",
   "id": "dress-invite",
   "metadata": {},
   "source": [
    "# 315. Count of Smaller Numbers After Self\n",
    "You are given an integer array nums and you have to return a new counts array. The counts array has the property where counts[i] is the number of smaller elements to the right of nums[i].\n",
    "\n",
    " ```\n",
    " Example 1:\n",
    "\n",
    "Input: nums = [5,2,6,1]\n",
    "Output: [2,1,1,0]\n",
    "Explanation:\n",
    "To the right of 5 there are 2 smaller elements (2 and 1).\n",
    "To the right of 2 there is only 1 smaller element (1).\n",
    "To the right of 6 there is 1 smaller element (1).\n",
    "To the right of 1 there is 0 smaller element.\n",
    " ```"
   ]
  },
  {
   "cell_type": "code",
   "execution_count": 86,
   "id": "cheap-associate",
   "metadata": {},
   "outputs": [],
   "source": [
    "# Brute-Force NOTE TIMEOUT\n",
    "def countSmaller(nums: list) -> list:\n",
    "    res = []\n",
    "    for idx, value in enumerate(nums):\n",
    "        right_smaller = sum(1 for n in nums[idx+1:] if n < value)\n",
    "        res.append(right_smaller)\n",
    "    return res\n"
   ]
  },
  {
   "cell_type": "markdown",
   "id": "junior-combine",
   "metadata": {},
   "source": [
    "[SOL](https://leetcode.com/problems/count-of-smaller-numbers-after-self/discuss/1045763/Merge-sort-solution)  \n",
    "\n",
    "This method is based on the way we sort an array descendingly with the merge sort method. The difference is: when we merge two `descendingly` sorted arrays,   \n",
    "\n",
    "For the element in the left array, if it's larger than the first number in the right array, it means this left-array element is larger than the every element of the right array(since the right array is sorted).   \n",
    "\n",
    "Then, we should update our smaller number after self counts for this left array element by add the length of the right array.  \n",
    "<br>\n",
    "However for the number in the right array, if it's larger than the first element in the left array, we don't need update our counting, since the left array originally appears before the right array, so they are not numbers after left array numbers, as the questions asekd."
   ]
  },
  {
   "cell_type": "code",
   "execution_count": 92,
   "id": "bright-africa",
   "metadata": {},
   "outputs": [],
   "source": [
    "def countSmaller(nums: list) -> list:\n",
    "    def mergeWithCount(nums, counts):\n",
    "        if len(nums) == 1:\n",
    "            return nums, counts\n",
    "        \n",
    "        cur_stack = []\n",
    "        left_arry, counts = mergeWithCount(nums[: len(nums)//2], counts)\n",
    "        right_arry, counts = mergeWithCount(nums[len(nums)//2 :], counts)\n",
    "        \n",
    "        while left_arry and right_arry:\n",
    "            if left_arry[0][1] > right_arry[0][1]:  #each element is a tuple, 0 store index, 1 store value\n",
    "                counts[left_arry[0][0]] += len(right_arry)\n",
    "                cur_stack.append(left_arry.pop(0))\n",
    "            else: #Even if right array element is larger, but we only consider smaller right element, stiil don't count\n",
    "                cur_stack.append(right_arry.pop(0))\n",
    "        \n",
    "        cur_stack.extend(left_arry or right_arry)\n",
    "        \n",
    "        return cur_stack, counts\n",
    "                \n",
    "        \n",
    "    \n",
    "    counts = [0] * len(nums)\n",
    "    indexed_num = [(key, value) for key, value in enumerate(nums)]\n",
    "    desc_nums, counts = mergeWithCount(indexed_num, counts)\n",
    "#     print(desc_nums, counts)\n",
    "    return counts\n",
    "\n",
    "        \n"
   ]
  },
  {
   "cell_type": "code",
   "execution_count": 94,
   "id": "lesbian-generation",
   "metadata": {},
   "outputs": [
    {
     "name": "stdout",
     "output_type": "stream",
     "text": [
      "[(2, 6), (0, 5), (1, 2), (3, 1)] [2, 1, 1, 0]\n"
     ]
    }
   ],
   "source": [
    "nums = [5,2,6,1]\n",
    "\n",
    "countSmaller(nums)"
   ]
  },
  {
   "cell_type": "markdown",
   "id": "stuck-signal",
   "metadata": {},
   "source": [
    "#  1086. High Five\n",
    "Given a list of the scores of different students, items, where items[i] = [IDi, scorei] represents one score from a student with IDi, calculate each student's top five average.\n",
    "\n",
    "Return the answer as an array of pairs result, where result[j] = [IDj, topFiveAveragej] represents the student with IDj and their top five average. Sort result by IDj in increasing order.\n",
    "\n",
    "A student's top five average is calculated by taking the sum of their top five scores and dividing it by 5 using integer division."
   ]
  },
  {
   "cell_type": "code",
   "execution_count": 33,
   "id": "refined-joint",
   "metadata": {},
   "outputs": [],
   "source": [
    "from collections import defaultdict\n",
    "def highFive(items):\n",
    "    items = sorted(items,key = lambda x: x[1], reverse = True)\n",
    "    def zero_tuple():\n",
    "        return [0,0]\n",
    "    tmp_dict = defaultdict(zero_tuple)\n",
    "    for item in items:\n",
    "        idx = item[0]\n",
    "        \n",
    "        if tmp_dict[idx][1] <5:\n",
    "            tmp_dict[idx][0] += item[1]\n",
    "            tmp_dict[idx][1] +=1\n",
    "            \n",
    "    res = [[key, value[0]//5] for key, value in tmp_dict.items()]\n",
    "    return res\n",
    "            \n",
    "    \n"
   ]
  },
  {
   "cell_type": "code",
   "execution_count": 35,
   "id": "tropical-match",
   "metadata": {},
   "outputs": [
    {
     "name": "stdout",
     "output_type": "stream",
     "text": [
      "defaultdict(<function highFive.<locals>.zero_tuple at 0x7f694b543dc0>, {1: [500, 5], 7: [500, 5]})\n",
      "[[1, 100], [7, 100]]\n"
     ]
    }
   ],
   "source": [
    "items = [[1,91],[1,92],[2,93],[2,97],[1,60],[2,77],[1,65],[1,87],[1,100],[2,100],[2,76]]\n",
    "items = [[1,100],[7,100],[1,100],[7,100],[1,100],[7,100],[1,100],[7,100],[1,100],[7,100]]\n",
    "highFive(items)"
   ]
  },
  {
   "cell_type": "markdown",
   "id": "fundamental-rocket",
   "metadata": {},
   "source": [
    "#  1041. Robot Bounded In Circle\n",
    "On an infinite plane, a robot initially stands at (0, 0) and faces north. The robot can receive one of three instructions:\n",
    "\n",
    "\"G\": go straight 1 unit;\n",
    "\"L\": turn 90 degrees to the left;\n",
    "\"R\": turn 90 degrees to the right.\n",
    "The robot performs the instructions given in order, and `repeats them forever.`\n",
    "\n",
    "`Return true if and only if there exists a circle in the plane such that the robot never leaves the circle.`\n",
    "\n",
    " "
   ]
  },
  {
   "cell_type": "code",
   "execution_count": 55,
   "id": "about-character",
   "metadata": {},
   "outputs": [],
   "source": [
    "from collections import Counter\n",
    "def isRobotBounded(instructions):\n",
    "    # KEY:\n",
    "    # Either direction IS NOT north, or after whole instruction will return to the same point\n",
    "    # directions: 0-North, 1-East, 2-South, 3-West\n",
    "    x = y = d = 0\n",
    "    for i in instructions:\n",
    "        if i == \"L\":\n",
    "            d = (d - 1) % 4\n",
    "        elif i == \"R\":\n",
    "            d = (d + 1) % 4\n",
    "        elif i == \"G\":\n",
    "            if d == 0:\n",
    "                y += 1\n",
    "            elif d == 1:\n",
    "                x += 1\n",
    "            elif d == 2:\n",
    "                y -= 1\n",
    "            elif d == 3:\n",
    "                x -= 1\n",
    "    print(x,y,d)\n",
    "    return x == y == 0 or d != 0\n"
   ]
  },
  {
   "cell_type": "code",
   "execution_count": 56,
   "id": "metric-spiritual",
   "metadata": {},
   "outputs": [
    {
     "name": "stdout",
     "output_type": "stream",
     "text": [
      "0 0 0\n"
     ]
    },
    {
     "data": {
      "text/plain": [
       "True"
      ]
     },
     "execution_count": 56,
     "metadata": {},
     "output_type": "execute_result"
    }
   ],
   "source": [
    "instructions = \"LGLGR\"\n",
    "instructions = \"GG\"\n",
    "instructions = \"GGLLGG\"\n",
    "\n",
    "instructions = \"GLRLLGLL\"\n",
    "isRobotBounded(instructions)"
   ]
  },
  {
   "cell_type": "markdown",
   "id": "hourly-nirvana",
   "metadata": {},
   "source": [
    "# 284. Peeking Iterator\n",
    "Design an iterator that supports the peek operation on a list in addition to the hasNext and the next operations.\n",
    "\n",
    "Implement the PeekingIterator class:\n",
    "\n",
    "* PeekingIterator(int[] nums) Initializes the object with the given integer array nums.\n",
    "* int next() Returns the next element in the array and moves the pointer to the next element.\n",
    "* bool hasNext() Returns true if there are still elements in the array.\n",
    "* int peek() Returns the next element in the array without moving the pointer.\n",
    " "
   ]
  },
  {
   "cell_type": "code",
   "execution_count": null,
   "id": "floating-commercial",
   "metadata": {},
   "outputs": [],
   "source": [
    "# Below is the interface for Iterator, which is already defined for you.\n",
    "#\n",
    "# class Iterator:\n",
    "#     def __init__(self, nums):\n",
    "#         \"\"\"\n",
    "#         Initializes an iterator object to the beginning of a list.\n",
    "#         :type nums: List[int]\n",
    "#         \"\"\"\n",
    "#\n",
    "#     def hasNext(self):\n",
    "#         \"\"\"\n",
    "#         Returns true if the iteration has more elements.\n",
    "#         :rtype: bool\n",
    "#         \"\"\"\n",
    "#\n",
    "#     def next(self):\n",
    "#         \"\"\"\n",
    "#         Returns the next element in the iteration.\n",
    "#         :rtype: int\n",
    "#         \"\"\"\n",
    "\n",
    "class PeekingIterator:\n",
    "    def __init__(self, iterator):\n",
    "        \"\"\"\n",
    "        Initialize your data structure here.\n",
    "        :type iterator: Iterator\n",
    "        \"\"\"\n",
    "        self._iterator = iterator\n",
    "        self._current = None\n",
    "        self._has_next = True\n",
    "        self.next()\n",
    "\n",
    "    def peek(self):\n",
    "        \"\"\"\n",
    "        Returns the next element in the iteration without advancing the iterator.\n",
    "        :rtype: int\n",
    "        \"\"\"\n",
    "        return self._current\n",
    "\n",
    "    def next(self):\n",
    "        \"\"\"\n",
    "        :rtype: int\n",
    "        \"\"\"\n",
    "        current = self._current\n",
    "        if self._iterator.hasNext():\n",
    "            self._current = self._iterator.next()\n",
    "        else:\n",
    "            self._has_next = False\n",
    "        return current\n",
    "\n",
    "\n",
    "    def hasNext(self):\n",
    "        \"\"\"\n",
    "        :rtype: bool\n",
    "        \"\"\"\n",
    "        return self._has_next\n",
    "  "
   ]
  },
  {
   "cell_type": "markdown",
   "id": "following-hundred",
   "metadata": {},
   "source": [
    "# 359. Logger Rate Limiter\n",
    "Design a logger system that receives a stream of messages along with their timestamps. Each unique message should only be printed at most every 10 seconds (i.e. a message printed at timestamp t will prevent other identical messages from being printed until timestamp t + 10).\n",
    "\n",
    "All messages will come in chronological order. Several messages may arrive at the same timestamp.\n",
    "\n",
    "Implement the Logger class:\n",
    "\n",
    "Logger() Initializes the logger object.\n",
    "bool shouldPrintMessage(int timestamp, string message) Returns true if the message should be printed in the given timestamp, otherwise returns false."
   ]
  },
  {
   "cell_type": "code",
   "execution_count": 1,
   "id": "crucial-respondent",
   "metadata": {},
   "outputs": [],
   "source": [
    "class Logger:\n",
    "\n",
    "    def __init__(self):\n",
    "        \"\"\"\n",
    "        Initialize your data structure here.\n",
    "        \"\"\"\n",
    "        self.message_dict = {}\n",
    "\n",
    "    def shouldPrintMessage(self, timestamp: int, message: str) -> bool:\n",
    "        \"\"\"\n",
    "        Returns true if the message should be printed in the given timestamp, otherwise returns false.\n",
    "        If this method returns false, the message will not be printed.\n",
    "        The timestamp is in seconds granularity.\n",
    "        \"\"\"\n",
    "        last_time = self.message_dict.get(message, -1)\n",
    "        if last_time == -1 or timestamp - last_time >= 10:\n",
    "            self.message_dict[message] = timestamp\n",
    "            return True\n",
    "        else:\n",
    "            return False\n",
    "        "
   ]
  },
  {
   "cell_type": "markdown",
   "id": "developmental-termination",
   "metadata": {},
   "source": [
    "# 300. Longest Increasing Subsequence\n",
    "Given an integer array nums, return the length of the longest strictly increasing subsequence.\n",
    "\n",
    "A subsequence is a sequence that can be derived from an array by deleting some or no elements without changing the order of the remaining elements. For example, [3,6,2,7] is a subsequence of the array [0,3,1,6,2,2,7].\n",
    "\n",
    "```\n",
    "NOTE:\n",
    "LIS has two solution\n",
    "O(N^2) \n",
    "and O(nlogn)\n",
    "```\n",
    "[O(N^2)](https://www.youtube.com/watch?v=7DKFpWnaxLI&ab_channel=HuaHua)  \n",
    "\n",
    "[O(NlogN)](https://www.youtube.com/watch?v=l2rCz7skAlk&ab_channel=HuaHua)\n"
   ]
  },
  {
   "cell_type": "code",
   "execution_count": 8,
   "id": "pregnant-allowance",
   "metadata": {},
   "outputs": [],
   "source": [
    "def lengthOfLIS(nums: list):\n",
    "    # dp solutionm hint find the \"longest\" \n",
    "    # let dp be the array store, the LIS end and this index\n",
    "    # KEY: O(N^2)\n",
    "    dp = [1] * len(nums)\n",
    "    \n",
    "    for i in range(len(nums)):\n",
    "        for j in range(i):\n",
    "            if nums[i] > nums[j]:\n",
    "                dp[i] = max(dp[i], dp[j]+1) # choose or not choose this index j \n",
    "    return max(dp)\n",
    "    \n"
   ]
  },
  {
   "cell_type": "code",
   "execution_count": 52,
   "id": "chubby-conservative",
   "metadata": {},
   "outputs": [],
   "source": [
    "import bisect\n",
    "def lengthOfLIS(nums: list):\n",
    "    dp = [] # the smallest ending number of a subsequence that has length i+1\n",
    "    # KEY dp is NOT the \"actual\"optimal array\n",
    "    # if dp = [3, 4] 表示 如果長度是1的subsequence 是以3結尾, 長度是2的 以4結尾\n",
    "    for x in nums:\n",
    "        i = bisect.bisect_left(dp, x)\n",
    "        if i == len(dp): #if \n",
    "            dp.append(x)\n",
    "        else:\n",
    "            dp[i] = x\n",
    "        print(i,dp)\n",
    "    return len(dp)"
   ]
  },
  {
   "cell_type": "code",
   "execution_count": 53,
   "id": "stuffed-response",
   "metadata": {},
   "outputs": [
    {
     "name": "stdout",
     "output_type": "stream",
     "text": [
      "0 [3]\n",
      "1 [3, 4]\n",
      "0 [1, 4]\n",
      "1 [1, 2]\n",
      "2 [1, 2, 8]\n",
      "2 [1, 2, 5]\n",
      "3 [1, 2, 5, 6]\n"
     ]
    },
    {
     "data": {
      "text/plain": [
       "4"
      ]
     },
     "execution_count": 53,
     "metadata": {},
     "output_type": "execute_result"
    }
   ],
   "source": [
    "nums = [0,3,1,6,2,2,7]\n",
    "nums = [3,4,1,2,8,5,6]\n",
    "lengthOfLIS(nums)"
   ]
  },
  {
   "cell_type": "code",
   "execution_count": 41,
   "id": "imperial-reference",
   "metadata": {},
   "outputs": [],
   "source": [
    "a = [2, 4, 6]\n",
    "# bisect.bisect_left(a, 9)\n",
    "b = bisect.bisect(a, 9)"
   ]
  },
  {
   "cell_type": "code",
   "execution_count": 43,
   "id": "domestic-footage",
   "metadata": {},
   "outputs": [
    {
     "data": {
      "text/plain": [
       "3"
      ]
     },
     "execution_count": 43,
     "metadata": {},
     "output_type": "execute_result"
    }
   ],
   "source": [
    "b"
   ]
  },
  {
   "cell_type": "markdown",
   "id": "accepted-millennium",
   "metadata": {},
   "source": [
    "# 354. Russian Doll Envelopes\n",
    "You are given a 2D array of integers envelopes where envelopes[i] = [wi, hi] represents the width and the height of an envelope.\n",
    "\n",
    "One envelope can fit into another if and only if both the width and height of one envelope are greater than the other envelope's width and height.\n",
    "\n",
    "Return the maximum number of envelopes you can Russian doll (i.e., put one inside the other).\n",
    "\n",
    "Note: You cannot rotate an envelope.\n",
    "```\n",
    "Input: envelopes = [[5,4],[6,4],[6,7],[2,3]]\n",
    "Output: 3\n",
    "Explanation: The maximum number of envelopes you can Russian doll is 3 ([2,3] => [5,4] => [6,7]).\n",
    "\n",
    "```\n",
    "[solution](https://www.youtube.com/watch?v=B1d2wV6mfzA&t=105s&ab_channel=HuifengGuan)"
   ]
  },
  {
   "cell_type": "code",
   "execution_count": 34,
   "id": "steady-wallet",
   "metadata": {},
   "outputs": [],
   "source": [
    "# O(N^2)\n",
    "def maxEnvelopes(envelopes):\n",
    "    # dp[i]: the maximum length of Russian doll sequence if i-th envelope is the largest one\n",
    "    # Basically is to try all combination     \n",
    "    # NOTE: such method is valid but on leetcode will timeout\n",
    "    dp = [1] * len(envelopes)\n",
    "    envelopes = sorted(envelopes, key = lambda x: x[0])\n",
    "    \n",
    "    for i in range(len(envelopes)):\n",
    "        for j in range(i):\n",
    "            if envelopes[j][0] < envelopes[i][0] and envelopes[j][1] < envelopes[i][1] :\n",
    "                dp[i] = max(dp[i], dp[j]+1)\n",
    "    return max(dp)\n",
    "    \n"
   ]
  },
  {
   "cell_type": "code",
   "execution_count": 74,
   "id": "interesting-stuff",
   "metadata": {},
   "outputs": [],
   "source": [
    "# O(NlogN)\n",
    "# solution :https://leetcode.com/problems/russian-doll-envelopes/discuss/1225635/Python-solution-using-bisect-with-explanation\n",
    "import bisect\n",
    "def maxEnvelopes(envelopes):\n",
    "    dp = []\n",
    "    # KEY, beside using width ascending also ues height descending     \n",
    "    envelopes = sorted(envelopes, key = lambda x: (x[0], -x[1]))\n",
    "    for x in envelopes:\n",
    "        # if not a element in dp, just append it\n",
    "        if not dp or x[1] > dp[-1]: #largest than last one in dp, then replace it\n",
    "            dp.append(x[1])\n",
    "        else:\n",
    "            index = bisect.bisect_left(dp, x[1])\n",
    "            dp[index] = x[1]\n",
    "\n",
    "    return len(dp)\n",
    "        \n",
    "    \n",
    "    "
   ]
  },
  {
   "cell_type": "code",
   "execution_count": 75,
   "id": "simple-celtic",
   "metadata": {},
   "outputs": [
    {
     "data": {
      "text/plain": [
       "3"
      ]
     },
     "execution_count": 75,
     "metadata": {},
     "output_type": "execute_result"
    }
   ],
   "source": [
    "envelopes = [[5,4],[6,4],[6,7],[2,3]]\n",
    "maxEnvelopes(envelopes)"
   ]
  },
  {
   "cell_type": "code",
   "execution_count": 57,
   "id": "color-italic",
   "metadata": {},
   "outputs": [
    {
     "name": "stdout",
     "output_type": "stream",
     "text": [
      "[[5, 4], [6, 4], [6, 7], [2, 3]]\n",
      "[[2, 3], [5, 4], [6, 7], [6, 4]]\n",
      "[[2, 3], [5, 4], [6, 4], [6, 7]]\n"
     ]
    }
   ],
   "source": [
    "# KEY, sorted usage: use x[0] ascending, and THEN x[1] descending\n",
    "print(envelopes)\n",
    "print(sorted(envelopes, key= lambda x: (x[0])))\n",
    "print(sorted(envelopes, key= lambda x: (x[0], -x[1])))\n"
   ]
  },
  {
   "cell_type": "code",
   "execution_count": null,
   "id": "objective-launch",
   "metadata": {},
   "outputs": [],
   "source": []
  }
 ],
 "metadata": {
  "kernelspec": {
   "display_name": "Python 3",
   "language": "python",
   "name": "python3"
  },
  "language_info": {
   "codemirror_mode": {
    "name": "ipython",
    "version": 3
   },
   "file_extension": ".py",
   "mimetype": "text/x-python",
   "name": "python",
   "nbconvert_exporter": "python",
   "pygments_lexer": "ipython3",
   "version": "3.8.5"
  },
  "toc": {
   "base_numbering": 1,
   "nav_menu": {},
   "number_sections": true,
   "sideBar": true,
   "skip_h1_title": false,
   "title_cell": "Table of Contents",
   "title_sidebar": "Contents",
   "toc_cell": false,
   "toc_position": {
    "height": "calc(100% - 180px)",
    "left": "10px",
    "top": "150px",
    "width": "191.594px"
   },
   "toc_section_display": true,
   "toc_window_display": false
  },
  "varInspector": {
   "cols": {
    "lenName": 16,
    "lenType": 16,
    "lenVar": 40
   },
   "kernels_config": {
    "python": {
     "delete_cmd_postfix": "",
     "delete_cmd_prefix": "del ",
     "library": "var_list.py",
     "varRefreshCmd": "print(var_dic_list())"
    },
    "r": {
     "delete_cmd_postfix": ") ",
     "delete_cmd_prefix": "rm(",
     "library": "var_list.r",
     "varRefreshCmd": "cat(var_dic_list()) "
    }
   },
   "types_to_exclude": [
    "module",
    "function",
    "builtin_function_or_method",
    "instance",
    "_Feature"
   ],
   "window_display": false
  }
 },
 "nbformat": 4,
 "nbformat_minor": 5
}
