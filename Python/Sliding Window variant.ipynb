{
 "cells": [
  {
   "cell_type": "markdown",
   "source": [
    "# 239. Sliding Window Maximum\n",
    "You are given an array of integers nums, there is a sliding window of size k which is moving from the very left of the array to the very right. You can only see the k numbers in the window. Each time the sliding window moves right by one position.\n",
    "\n",
    "Return the max sliding window.\n",
    "\n",
    "```\n",
    "Example 1:\n",
    "\n",
    "Input: nums = [1,3,-1,-3,5,3,6,7], k = 3  \n",
    "Output: [3,3,5,5,6,7]  \n",
    "Explanation:   \n",
    "Window position                Max  \n",
    "---------------               -----  \n",
    "[1  3  -1] -3  5  3  6  7       3  \n",
    " 1 [3  -1  -3] 5  3  6  7       3  \n",
    " 1  3 [-1  -3  5] 3  6  7       5  \n",
    " 1  3  -1 [-3  5  3] 6  7       5  \n",
    " 1  3  -1  -3 [5  3  6] 7       6  \n",
    " 1  3  -1  -3  5 [3  6  7]      7  \n",
    "```"
   ],
   "metadata": {}
  },
  {
   "cell_type": "code",
   "execution_count": 24,
   "source": [
    "def maxSlidingWindow(nums, k):\n",
    "    # Brute Force O(N^2), time expire\n",
    "    Max = []\n",
    "    for i in range(len(nums)-k+1):\n",
    "        Max.append(max(nums[i:i+k]))\n",
    "    return Max"
   ],
   "outputs": [],
   "metadata": {}
  },
  {
   "cell_type": "markdown",
   "source": [
    "## Algorithm\n",
    "\n",
    "The algorithm is quite straigthforward :\n",
    "\n",
    "* Process the first k elements separately to initiate the deque.\n",
    "\n",
    "* Iterate over the array. At each step :\n",
    "\n",
    "    * Clean the deque :\n",
    "\n",
    "        * Keep only the indexes of elements from the current sliding window.\n",
    "\n",
    "        * Remove indexes of all elements smaller than the current one, since they will not be the maximum ones.\n",
    "\n",
    "    * Append the current element to the deque.\n",
    "\n",
    "    * Append deque[0] to the output.\n",
    "\n",
    "Return the output array."
   ],
   "metadata": {}
  },
  {
   "cell_type": "markdown",
   "source": [
    "Complexity Analysis\n",
    "\n",
    "Time complexity : $\\mathcal{O}(N)$, since each element is processed exactly twice - it's index added and then removed from the deque.\n",
    "\n",
    "Space complexity : $\\mathcal{O}(N)$, since $\\mathcal{O}(N - k + 1)$) is used for an output array and $\\mathcal{O}(k)$ for a deque."
   ],
   "metadata": {}
  },
  {
   "cell_type": "code",
   "execution_count": 9,
   "source": [
    "from collections import deque\n",
    "def maxSlidingWindow(nums, k):\n",
    "    # Using deque\n",
    "    n = len(nums)\n",
    "    if n * k == 0:\n",
    "        return []\n",
    "    if k == 1:\n",
    "        return nums\n",
    "\n",
    "    def clean_deque(i):\n",
    "        print(deq)\n",
    "        if deq and deq[0] == i-k: # the first element is out of the window\n",
    "            deq.popleft() \n",
    "\n",
    "        while deq and nums[i] > nums[deq[-1]]:\n",
    "            # remove from deq indexes of all elements \n",
    "            # which are smaller than current element nums[i]\n",
    "            deq.pop()\n",
    "\n",
    "\n",
    "    deq = deque() # KEY deq stores the index of iteratited elements\n",
    "    # init deque and output\n",
    "    first_max_idx = 0\n",
    "    for i in range(k):\n",
    "        clean_deque(i)\n",
    "        deq.append(i)\n",
    "        # find the first max in first window\n",
    "        if nums[i] > nums[first_max_idx]:\n",
    "            first_max_idx = i\n",
    "    output = [nums[first_max_idx]]\n",
    "\n",
    "    for i in range(k, n):\n",
    "        clean_deque(i)\n",
    "        deq.append(i)\n",
    "        output.append(nums[deq[0]])\n",
    "\n",
    "    return output\n",
    "\n"
   ],
   "outputs": [],
   "metadata": {}
  },
  {
   "cell_type": "code",
   "execution_count": 10,
   "source": [
    "nums = [1,3,-1,-3,5,3,6,7]\n",
    "k = 3\n",
    "maxSlidingWindow(nums, k)"
   ],
   "outputs": [
    {
     "output_type": "stream",
     "name": "stdout",
     "text": [
      "deque([])\n",
      "deque([0])\n",
      "deque([1])\n",
      "deque([1, 2])\n",
      "deque([1, 2, 3])\n",
      "deque([4])\n",
      "deque([4, 5])\n",
      "deque([6])\n"
     ]
    },
    {
     "output_type": "execute_result",
     "data": {
      "text/plain": [
       "[3, 3, 5, 5, 6, 7]"
      ]
     },
     "metadata": {},
     "execution_count": 10
    }
   ],
   "metadata": {}
  },
  {
   "cell_type": "markdown",
   "source": [
    "Intuition\n",
    "\n",
    "Here is another $\\mathcal{O}(N)$ solution\n",
    "\n",
    "The idea is to split an input array into blocks of k elements. The last block could contain less elements if n % k != 0.\n",
    "\n",
    "\n",
    "The situation 1 is simple. Let's use an array left,   \n",
    "where left[j] is a maximum element from the beginning of the block to index j, direction left->right.\n",
    "\n",
    "To work with more complex situation 2, let's introduce array right,  \n",
    "where right[j] is a maximum element from the end of the block to index j, direction right->left. right is basically the same as left, but in the other direction.\n",
    "\n",
    "These two arrays together give all the information about window elements in both blocks. Let's consider a sliding window from **index i to index j**. By definition, element **right[i] is a maximum element for window elements in the leftside block, and element left[j] is a maximum element for window elements in the rightside block.**  \n",
    "Hence the maximum element in the sliding window is **max(right[i], left[j]).**\n",
    "### Note: We limit the max comparison to O(1)\n",
    "\n",
    "\n",
    "## Algorithm\n",
    "1. Iterate along the array in the direction left->right and build an array left.\n",
    "\n",
    "2. Iterate along the array in the direction right->left and build an array right.\n",
    "\n",
    "3. Build an output array as max(right[i], left[i + k - 1]) for i in range (0, n - k + 1)."
   ],
   "metadata": {}
  },
  {
   "cell_type": "code",
   "execution_count": 27,
   "source": [
    "def maxSlidingWindow(nums,k):\n",
    "    # DP\n",
    "    n = len(nums)\n",
    "    if n * k == 0:\n",
    "        return\n",
    "    if k == 1:\n",
    "        return nums\n",
    "    left, right = [0] * n , [0] * n\n",
    "    # left[j] store the max(nums[block starting to j])  left -> right\n",
    "    # right[j] store the max(nums[j to block ending])  right -> left\n",
    "    left[0] = nums[0]\n",
    "    right[n-1] = nums[n-1]\n",
    "\n",
    "    for i in range(1, n):\n",
    "        # from left to right\n",
    "        if i % k == 0:\n",
    "            # the start of block\n",
    "            left[i] = nums[i]\n",
    "        else:\n",
    "            # Note, only need to compare the former one in the left, \n",
    "            # since the former in left is the by far maximal. Only need \n",
    "            # to check whether new element is larger\n",
    "            left[i] = max(left[i-1], nums[i])\n",
    "        \n",
    "        # from right to left\n",
    "        j = n - i -1\n",
    "        if (j + 1) % k == 0:\n",
    "            # block end\n",
    "            right[j] = nums[j]\n",
    "        else:\n",
    "            right[j] = max(right[j+1], nums[j])\n",
    "\n",
    "    output = []\n",
    "    for i in range(n- k +1):\n",
    "        # max(left[j], right[i])\n",
    "        output.append(max(left[i + k -1], right[i]))\n",
    "\n"
   ],
   "outputs": [],
   "metadata": {}
  },
  {
   "cell_type": "code",
   "execution_count": 28,
   "source": [
    "nums = [1,3,-1,-3,5,3,6,7]\n",
    "k = 3\n",
    "nums = [5,3,4]\n",
    "k = 1\n",
    "maxSlidingWindow(nums, k)"
   ],
   "outputs": [
    {
     "output_type": "execute_result",
     "data": {
      "text/plain": [
       "[5, 3, 4]"
      ]
     },
     "metadata": {},
     "execution_count": 28
    }
   ],
   "metadata": {}
  },
  {
   "cell_type": "code",
   "execution_count": null,
   "source": [],
   "outputs": [],
   "metadata": {}
  }
 ],
 "metadata": {
  "orig_nbformat": 4,
  "language_info": {
   "name": "python",
   "version": "3.8.5",
   "mimetype": "text/x-python",
   "codemirror_mode": {
    "name": "ipython",
    "version": 3
   },
   "pygments_lexer": "ipython3",
   "nbconvert_exporter": "python",
   "file_extension": ".py"
  },
  "kernelspec": {
   "name": "python3",
   "display_name": "Python 3.8.5 64-bit ('base': conda)"
  },
  "interpreter": {
   "hash": "38d61402e3d8411fb0c3e7094d5ffdb923be3d218d13c3ac762fa769b2ec6624"
  }
 },
 "nbformat": 4,
 "nbformat_minor": 2
}