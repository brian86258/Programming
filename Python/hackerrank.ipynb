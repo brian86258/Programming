{
 "cells": [
  {
   "cell_type": "code",
   "execution_count": 7,
   "source": [
    "ar = [10, 20, 20,10,10,30,50,10,20]\n",
    "tmp = {}\n",
    "for a in ar:\n",
    "    tmp[a] = tmp.get(a,0) +1\n",
    "\n",
    "for n in tmp.values():\n",
    "    print(n)\n",
    "\n"
   ],
   "outputs": [
    {
     "output_type": "stream",
     "name": "stdout",
     "text": [
      "4\n",
      "3\n",
      "1\n",
      "1\n"
     ]
    }
   ],
   "metadata": {}
  },
  {
   "cell_type": "code",
   "execution_count": null,
   "source": [],
   "outputs": [],
   "metadata": {}
  }
 ],
 "metadata": {
  "orig_nbformat": 4,
  "language_info": {
   "name": "python",
   "version": "3.8.5",
   "mimetype": "text/x-python",
   "codemirror_mode": {
    "name": "ipython",
    "version": 3
   },
   "pygments_lexer": "ipython3",
   "nbconvert_exporter": "python",
   "file_extension": ".py"
  },
  "kernelspec": {
   "name": "python3",
   "display_name": "Python 3.8.5 64-bit ('base': conda)"
  },
  "interpreter": {
   "hash": "38d61402e3d8411fb0c3e7094d5ffdb923be3d218d13c3ac762fa769b2ec6624"
  }
 },
 "nbformat": 4,
 "nbformat_minor": 2
}