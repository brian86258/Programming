{
 "cells": [
  {
   "cell_type": "markdown",
   "source": [
    "# Smallest string divisible by two given strings\n",
    "Given two strings S and T of length N and M respectively, the task is to find the smallest string that is divisible by both the two strings. If no such string exists, then print -1.\n",
    "\n",
    "For any two strings A and B, B divides A if and only if A is the concatenation of B at least once.\n",
    "\n",
    "## Examples:\n",
    "\n",
    "Input: S = “abab”, T = “ab”\n",
    "Output: abab\n",
    "Explanation: The string “abab” is the same as S and twice the concatenation of string T (“abab” = “ab” + “ab” = T + T)\n",
    "\n",
    "Input: S = “ccc”, T = “cc”\n",
    "Output: cccccc\n",
    "Explanation: The string “cccccc” is a concatenation of S and T twice and thrice respectively.\n",
    "(“cccccc” = “ccc” + “ccc” = S + S)\n",
    "(“cccccc” = “cc” + “cc” + “cc” = T + T + T)\n"
   ],
   "metadata": {}
  },
  {
   "cell_type": "markdown",
   "source": [
    "## SOl:\n",
    "1. Store the Least Common Multiple of N and M in a variable, say L.\n",
    "2. Concatenate the string, S1 with string, S, (L/N) number of times.\n",
    "3. Concatenate the string, T1 with string, T, (L/M) number of times.\n",
    "4. If the strings S1 and T1 are equal, then print S1 as the result. Otherwise, print -1."
   ],
   "metadata": {}
  },
  {
   "cell_type": "markdown",
   "source": [],
   "metadata": {}
  },
  {
   "cell_type": "code",
   "execution_count": 21,
   "source": [
    "## KEY to this problem is to find the lcm\n",
    "## To find LCM --> Firstly find gcd, then\n",
    "def gcd(a,b):\n",
    "    # print(a, b)\n",
    "    if b == 0:\n",
    "        return a\n",
    "    return gcd(b, a%b)\n",
    "\n",
    "# lcm(a, b) = ab/gcd(a,b)\n",
    "def lcm(a,b):\n",
    "    return a*b // (gcd(a,b))\n",
    "\n",
    "def findSmallestString(s,t):\n",
    "    num_lcm = lcm(len(s), len(t))\n",
    "    s_r, t_r= '' , ''\n",
    "    for _ in range(num_lcm//len(s)):\n",
    "        s_r += s\n",
    "    for _ in range(num_lcm//len(t)):\n",
    "        t_r += t\n",
    "\n",
    "    return s_r == t_r\n",
    "\n",
    "    # print(s_r, t_r)\n"
   ],
   "outputs": [],
   "metadata": {}
  },
  {
   "cell_type": "code",
   "execution_count": 24,
   "source": [
    "s = \"aaa\"\n",
    "t = \"aaa\"\n",
    "findSmallestString(s,t)"
   ],
   "outputs": [
    {
     "output_type": "execute_result",
     "data": {
      "text/plain": [
       "True"
      ]
     },
     "metadata": {},
     "execution_count": 24
    }
   ],
   "metadata": {}
  },
  {
   "cell_type": "markdown",
   "source": [
    "# Minimum adjacent swaps required to Sort Binary array\n",
    "Given a binary array, task is to sort this binary array using minimum swaps. We are allowed to swap only adjacent elements\n",
    "\n",
    "Examples: \n",
    "\n",
    "Input : [0, 0, 1, 0, 1, 0, 1, 1]  \n",
    "Output : 3  \n",
    "1st swap : [0, 0, 1, 0, 0, 1, 1, 1]  \n",
    "2nd swap : [0, 0, 0, 1, 0, 1, 1, 1]  \n",
    "3rd swap : [0, 0, 0, 0, 1, 1, 1, 1]  \n",
    "\n",
    "Input : Array = [0, 1, 0, 1, 0]  \n",
    "Output : 3  "
   ],
   "metadata": {}
  },
  {
   "cell_type": "code",
   "execution_count": 35,
   "source": [
    "def findMinSwaps(arr,n): # n == len(arr)\n",
    "    # return swap num\n",
    "    last_idex = n-1\n",
    "    swap = 0\n",
    "    for i in range(last_idex, -1, -1):\n",
    "        # If there are extra 1 in previous series\n",
    "        if arr[i] == 0 and 1 in arr[:i]:\n",
    "                # find the 1 location, and swap\n",
    "                j = i-1\n",
    "                while j >= 0:\n",
    "                    if arr[j] == 1:\n",
    "                        swap += (i - j)\n",
    "                        arr[j], arr[i] = 0, 1\n",
    "                        break\n",
    "                    j -= 1 \n",
    "    return swap"
   ],
   "outputs": [],
   "metadata": {}
  },
  {
   "cell_type": "code",
   "execution_count": 39,
   "source": [
    "arr =  [0, 0, 1, 0, 1, 0, 1, 1]\n",
    "arr =  [1, 0, 0]\n",
    "\n",
    "findMinSwaps(arr, len(arr))"
   ],
   "outputs": [
    {
     "output_type": "execute_result",
     "data": {
      "text/plain": [
       "2"
      ]
     },
     "metadata": {},
     "execution_count": 39
    }
   ],
   "metadata": {}
  },
  {
   "cell_type": "markdown",
   "source": [],
   "metadata": {}
  }
 ],
 "metadata": {
  "orig_nbformat": 4,
  "language_info": {
   "name": "python",
   "version": "3.8.5",
   "mimetype": "text/x-python",
   "codemirror_mode": {
    "name": "ipython",
    "version": 3
   },
   "pygments_lexer": "ipython3",
   "nbconvert_exporter": "python",
   "file_extension": ".py"
  },
  "kernelspec": {
   "name": "python3",
   "display_name": "Python 3.8.5 64-bit ('base': conda)"
  },
  "interpreter": {
   "hash": "38d61402e3d8411fb0c3e7094d5ffdb923be3d218d13c3ac762fa769b2ec6624"
  }
 },
 "nbformat": 4,
 "nbformat_minor": 2
}