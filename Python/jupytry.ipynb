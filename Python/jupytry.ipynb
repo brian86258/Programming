{
 "cells": [
  {
   "cell_type": "markdown",
   "source": [
    "## 1678 Goal Parser Interpretation\n",
    "You own a Goal Parser that can interpret a string command. The command consists of an alphabet of \"G\", \"()\" and/or \"(al)\" in some order. The Goal Parser will interpret \"G\" as the string \"G\", \"()\" as the string \"o\", and \"(al)\" as the string \"al\". The interpreted strings are then concatenated in the original order.\n",
    "\n",
    "Given the string command, return the Goal Parser's interpretation of command.\n",
    "\n",
    " \n"
   ],
   "metadata": {}
  },
  {
   "cell_type": "code",
   "execution_count": 20,
   "source": [
    "def interpret(command: str)->str:\n",
    "    command = command.replace('()',\"o\")\n",
    "    command = command.replace('(al)',\"al\")\n",
    "    return command\n",
    "\n"
   ],
   "outputs": [],
   "metadata": {}
  },
  {
   "cell_type": "code",
   "execution_count": 22,
   "source": [
    "# command = \"G()(al)\"\n",
    "command = \"(al)G(al)()()G\"\n",
    "interpret(command)"
   ],
   "outputs": [
    {
     "output_type": "execute_result",
     "data": {
      "text/plain": [
       "'alGalooG'"
      ]
     },
     "metadata": {},
     "execution_count": 22
    }
   ],
   "metadata": {}
  },
  {
   "cell_type": "code",
   "execution_count": null,
   "source": [],
   "outputs": [],
   "metadata": {}
  }
 ],
 "metadata": {
  "orig_nbformat": 4,
  "language_info": {
   "name": "python",
   "version": "3.8.5",
   "mimetype": "text/x-python",
   "codemirror_mode": {
    "name": "ipython",
    "version": 3
   },
   "pygments_lexer": "ipython3",
   "nbconvert_exporter": "python",
   "file_extension": ".py"
  },
  "kernelspec": {
   "name": "python3",
   "display_name": "Python 3.8.5 64-bit ('base': conda)"
  },
  "interpreter": {
   "hash": "38d61402e3d8411fb0c3e7094d5ffdb923be3d218d13c3ac762fa769b2ec6624"
  }
 },
 "nbformat": 4,
 "nbformat_minor": 2
}