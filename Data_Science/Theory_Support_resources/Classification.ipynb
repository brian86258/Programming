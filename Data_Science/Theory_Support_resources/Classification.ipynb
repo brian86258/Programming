{
 "cells": [
  {
   "cell_type": "markdown",
   "id": "sapphire-harvest",
   "metadata": {},
   "source": [
    "# Classification\n",
    "\n",
    "## What is classification? Which models would you use to solve a classification problem?   \n",
    "Classification problems are problems in which our prediction space is discrete, i.e. there is a finite number of values the output variable can be.  \n",
    "Models that can be used to solve classification problems: **logistic regression, decision tree, random forest, Neural Network,...**\n",
    "\n",
    "## Logistic regression? When do we need to use it?\n",
    "Logistic regression is a Machine Learning algorithm that is used for **binary classification.** You should use **logistic regression when your Y variable takes only two values**, e.g. True and False, \"spam\" and \"not spam\", \"churn\" and \"not churn\" and so on. The variable is said to be a \"binary\" or \"dichotomous\".\n",
    "\n",
    "## Is logistic regression a linear model? Why? \n",
    "Yes, Logistic Regression is considered a **generalized linear model** because the **outcome** always **depends on the sum of the inputs and parameters**. Or in other words, the output cannot depend on the product (or quotient, etc.) of its parameters.\n",
    "\n",
    "---\n",
    "[Logistic regression Explanation](https://www.youtube.com/watch?v=yIYKR4sgzI8&ab_channel=StatQuestwithJoshStarmer)\n",
    "\n",
    "---\n",
    "## What is sigmoid? What does it do? \n",
    "A sigmoid function is a type of activation function, and more specifically defined as squashing function. Squashing functions limit the output to a range between 0 and 1, making these functions useful in the prediction of probabilities.  \n",
    "$Sigmoid(x) = \\frac{1}{(1+e^{-x})}$\n",
    "\n",
    "----\n",
    "## How do we evaluate classification models?\n",
    "Depending on the classification problem, we can use the following evaluation metrics:\n",
    "\n",
    "1. Accuracy\n",
    "1. Precision\n",
    "1. Recall\n",
    "1. F1 Score\n",
    "1. Logistic loss (also known as Cross-entropy loss)\n",
    "1. Jaccard similarity coefficient score\n",
    "\n",
    "\n",
    "\n",
    "\n",
    "\n",
    "\n",
    "\n",
    "\n",
    "\n",
    "\n",
    "## Terminology:\n",
    "* Cost function = Loss function = Error function: A cost function is a **measure of error** between what value your model **predicts** and what the **value actually is**\n",
    "\n",
    "Cost functions for Regression problems:\n",
    "Mean Error (ME), Mean Squared Error (MSE), Mean Absolute Error (MAE), Root Mean Squared Error (RMSE), Categorical Cross Entropy Cost Function, Binary Cross Entropy Cost Function.\n",
    "* Activation function(Threshold function): Used to find the discrete and non-linear output. \n",
    "\n",
    "Common activation function: ReLu, sigmoid, Hyperbolic tangent function\n"
   ]
  },
  {
   "cell_type": "code",
   "execution_count": null,
   "id": "theoretical-binding",
   "metadata": {},
   "outputs": [],
   "source": []
  }
 ],
 "metadata": {
  "kernelspec": {
   "display_name": "Python 3",
   "language": "python",
   "name": "python3"
  },
  "language_info": {
   "codemirror_mode": {
    "name": "ipython",
    "version": 3
   },
   "file_extension": ".py",
   "mimetype": "text/x-python",
   "name": "python",
   "nbconvert_exporter": "python",
   "pygments_lexer": "ipython3",
   "version": "3.8.5"
  },
  "toc": {
   "base_numbering": 1,
   "nav_menu": {},
   "number_sections": true,
   "sideBar": true,
   "skip_h1_title": false,
   "title_cell": "Table of Contents",
   "title_sidebar": "Contents",
   "toc_cell": false,
   "toc_position": {},
   "toc_section_display": true,
   "toc_window_display": false
  },
  "varInspector": {
   "cols": {
    "lenName": 16,
    "lenType": 16,
    "lenVar": 40
   },
   "kernels_config": {
    "python": {
     "delete_cmd_postfix": "",
     "delete_cmd_prefix": "del ",
     "library": "var_list.py",
     "varRefreshCmd": "print(var_dic_list())"
    },
    "r": {
     "delete_cmd_postfix": ") ",
     "delete_cmd_prefix": "rm(",
     "library": "var_list.r",
     "varRefreshCmd": "cat(var_dic_list()) "
    }
   },
   "types_to_exclude": [
    "module",
    "function",
    "builtin_function_or_method",
    "instance",
    "_Feature"
   ],
   "window_display": false
  }
 },
 "nbformat": 4,
 "nbformat_minor": 5
}
